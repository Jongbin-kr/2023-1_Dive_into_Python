{
 "cells": [
  {
   "attachments": {},
   "cell_type": "markdown",
   "metadata": {},
   "source": [
    "#### Q1. 반복가능하나 순서는 없는 데이터타입\n",
    "+ 해당 분류에 해당하는 데이터타입에는 어떤 것이 있는가?\n",
    "+ 그리고 해당 데이터타입들에는 왜 `.count()` 메소드를 사용할 수 없을까?"
   ]
  },
  {
   "attachments": {},
   "cell_type": "markdown",
   "metadata": {},
   "source": [
    "---텍스트 셀이므로 여기에 답을 기술하시오.---\n",
    "\n",
    "<br>\n",
    "\n"
   ]
  },
  {
   "attachments": {},
   "cell_type": "markdown",
   "metadata": {},
   "source": [
    "#### Q2. 사전을 배울 때 배웠던 `.clear()` 메소드\n",
    "+ 본 메소드는 다른 데이터타입에도 사용할 수 있는가?\n",
    "  + 만약 그렇다면, 어떠한 유형(반복, 순서)의 데이터타입에 사용할 수 있는지 서술하시요."
   ]
  },
  {
   "attachments": {},
   "cell_type": "markdown",
   "metadata": {},
   "source": [
    "---텍스트 셀이므로 여기에 답을 기술하시오.---\n",
    "\n",
    "<br>\n",
    "\n"
   ]
  },
  {
   "attachments": {},
   "cell_type": "markdown",
   "metadata": {},
   "source": [
    "#### Q3. 사전 데이터타입의 활용"
   ]
  },
  {
   "attachments": {},
   "cell_type": "markdown",
   "metadata": {},
   "source": [
    "##### Q3-1 문자열 다루기\n",
    "\n",
    "+ 영화 제목을 키로 하고, 감독 이름을 값으로 하는 사전 데이터타입에 대하여 다음 과정들을 수행하시오.\n",
    "  + 감독들의 이름만 추출하여 **리스트**에 담으시오.\n",
    "    + 단, 중복되는 감독의 이름은 제거하시오.\n",
    "    + 감독의 이름에 공백이 들어갈 경우, 공백 앞의 이름만 추출하시오.\n",
    "      + 예: 미야자키 하야오 -> 미야자키"
   ]
  },
  {
   "cell_type": "code",
   "execution_count": null,
   "metadata": {},
   "outputs": [],
   "source": [
    "d = {\n",
    "    '시': '이창동',\n",
    "    '중경삼림':'왕가위', \n",
    "    '디태치먼트':'토니 케이', \n",
    "    '8월의 크리스마스':'허진호',\n",
    "    '쇼생크 탈출':'프랭크 다라본트',\n",
    "    '인사이드 르윈': '코엔 형제',\n",
    "    '봄날은 간다': '허진호',\n",
    "    '파고': '코엔 형제',\n",
    "    '마더': '봉준호',\n",
    "    '노인을 위한 나라는 없다':'코엔형제',\n",
    "    '이터널 선샤인': '미쉘 공드리',\n",
    "    '겟 아웃': '조동필',\n",
    "    '해피 투게더':'왕가위',\n",
    "    '붉은 돼지': '미야자키 하야오'\n",
    "}"
   ]
  },
  {
   "cell_type": "code",
   "execution_count": null,
   "metadata": {},
   "outputs": [],
   "source": [
    "## 여기에 정답을 추출하는 코드를 작성하시오\n"
   ]
  },
  {
   "attachments": {},
   "cell_type": "markdown",
   "metadata": {},
   "source": [
    "##### Q3-2. 정렬하기\n",
    "+ QS 아시아 대학순위를 키로 하고, 대학명을 값으로 하는 다음  사전에 대하여\n",
    "  + 순위 **내림차순**으로 정렬한 뒤,\n",
    "  + 대학 이름만을 담는 튜플을 만드시오."
   ]
  },
  {
   "cell_type": "code",
   "execution_count": null,
   "metadata": {},
   "outputs": [],
   "source": [
    "d = {\n",
    "    13: 'Korea Univ.',\n",
    "    16: 'Yonsei Univ.',\n",
    "    14: 'KAIST',\n",
    "    1: 'National Univ. of Singapore',\n",
    "    18: 'Seoul National Univ.',\n",
    "    15: 'Kyoto Univ.',\n",
    "    17: 'Sungkyunkwan Univ.',\n",
    "    11: 'The Univ. of Tokyo',\n",
    "    2: 'Peking Univ.',\n",
    "    7: 'Fudan Univ.',\n",
    "}"
   ]
  },
  {
   "cell_type": "code",
   "execution_count": null,
   "metadata": {},
   "outputs": [],
   "source": [
    "## 여기에 정답을 추출하는 코드를 작성하시오\n"
   ]
  },
  {
   "attachments": {},
   "cell_type": "markdown",
   "metadata": {},
   "source": [
    "#### Q4. 텍스트 데이터로부터 빈도수 추출해내기\n",
    "+ 아래 텍스트를 다음과 같이 처리하라.\n",
    "  + 단어 좌우의 문장부호를 제거하고,\n",
    "  + 공백문자(띄어쓰기, 개행)를 기준으로 텍스트를 나누어,\n",
    "  + 단어의 길이가 2 이하인 단어에 대해서만 빈도수를 계산해,\n",
    "  + 이를 담은 사전을 제작하라.\n",
    "\n",
    "<br>\n",
    "최종 결과물은 다음과 같다. (순서는 무관)\n",
    "\n",
    "```\n",
    "{'it': 5, 'is': 5, 'a': 6, 'in': 3, 'of': 6, 'be': 2, 'or': 2, 'on': 1, 'so': 1, 'he': 2, 'as': 1, 'my': 1, 'mr': 4, 'to': 4, 'at': 1, 'me': 2, 'no': 2, 'do': 1, 'i': 1}\n",
    "```"
   ]
  },
  {
   "cell_type": "code",
   "execution_count": null,
   "metadata": {},
   "outputs": [],
   "source": [
    "text = \"\"\"It is a truth universally acknowledged, that a single man in possession of a good fortune must be in want of a wife.\n",
    "\n",
    "However little known the feelings or views of such a man may be on his first entering a neighbourhood, this truth is so well fixed in the minds of the surrounding families, that he is considered as the rightful property of some one or other of their daughters.\n",
    "\n",
    "My dear Mr. Bennet, said his lady to him one day, have you heard that Netherfield Park is let at last?\n",
    "\n",
    "Mr. Bennet replied that he had not.\n",
    "\n",
    "But it is, returned she, for Mr. Long has just been here, and she told me all about it.\n",
    "\n",
    "Mr. Bennet made no answer.\n",
    "\n",
    "Do not you want to know who has taken it. His wife cried, impatiently.\n",
    "\n",
    "You want to tell me, and I have no objection to hearing it.\"\"\""
   ]
  },
  {
   "cell_type": "code",
   "execution_count": null,
   "metadata": {},
   "outputs": [],
   "source": [
    "## 여기에 정답을 추출하는 코드를 작성하시오\n"
   ]
  },
  {
   "attachments": {},
   "cell_type": "markdown",
   "metadata": {},
   "source": [
    "#### Q5. 데이터 전처리\n",
    "+ 주어진 예술가들의 목록에 대하여,\n",
    "  + 예술가들의 이름은 첫 글자만 대문자가 되도록 정규화하고,\n",
    "  + `이름(직업)`을 키로 가지고, (예를 들어, `Claude_Debussy(Composer)`)\n",
    "  + 활동연도를 값으로 가지는 \n",
    "  + 사전을 만들어라.\n",
    "    + 예를 들어,`Sir Edward Elgar`의 경우, 사전에 다음과 같이 포함되어 있을 것이다.\n",
    "      + `{'Sir_Edward_Elgar(Composer)': '1857-1934')}`"
   ]
  },
  {
   "cell_type": "code",
   "execution_count": null,
   "metadata": {},
   "outputs": [],
   "source": [
    "l = [\n",
    "    ['claude_debussy', '1862-1918', 'Composer'],\n",
    "    ['RemBranDT_haRMenszoon_riJN', '1606-1669', 'Artist'],\n",
    "    ['SIR_edwARD_elGar', '1857-1934', 'Composer'],\n",
    "    ['Peter_Paul_Rubens', '1577-1640', 'Artist'],\n",
    "    ['VINCENT_VAN_GOGH', '1853-1890', 'Artist'],\n",
    "]\n",
    "\n"
   ]
  },
  {
   "cell_type": "code",
   "execution_count": null,
   "metadata": {},
   "outputs": [],
   "source": [
    "## 여기에 정답을 추출하는 코드를 작성하시오\n"
   ]
  },
  {
   "attachments": {},
   "cell_type": "markdown",
   "metadata": {},
   "source": [
    "#### Q5-1.\n",
    "+ 앞서 만든 사전에 대하여, \n",
    "+ **출생연도**를 기준으로 **내림차순 정렬**된 튜플을 담은 리스트를 만들어라.\n",
    "  + 이때, 각 튜플은 `(출생연도, 이름(직업))` 형태로 구성되어 있다.\n",
    "    + 예를 들어, `(1577, Peter_Paul_Rubens(Artist))`"
   ]
  },
  {
   "cell_type": "code",
   "execution_count": null,
   "metadata": {},
   "outputs": [],
   "source": [
    "## 여기에 정답을 추출하는 코드를 작성하시오\n"
   ]
  }
 ],
 "metadata": {
  "kernelspec": {
   "display_name": "Python 3",
   "language": "python",
   "name": "python3"
  },
  "language_info": {
   "codemirror_mode": {
    "name": "ipython",
    "version": 3
   },
   "file_extension": ".py",
   "mimetype": "text/x-python",
   "name": "python",
   "nbconvert_exporter": "python",
   "pygments_lexer": "ipython3",
   "version": "3.11.0"
  },
  "orig_nbformat": 4,
  "vscode": {
   "interpreter": {
    "hash": "7cba0d1a42559d80c1785ea75de96ff2e6fe2ecdb092afa9b1831b12c16563fe"
   }
  }
 },
 "nbformat": 4,
 "nbformat_minor": 2
}
