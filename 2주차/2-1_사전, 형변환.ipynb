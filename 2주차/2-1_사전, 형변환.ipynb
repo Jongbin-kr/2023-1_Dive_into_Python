{
 "cells": [
  {
   "attachments": {},
   "cell_type": "markdown",
   "metadata": {},
   "source": [
    "# II. 파이썬의 핵심 데이터 타입들\n",
    "\n",
    "+ 반복불가능\n",
    "  + 숫자, 불값\n",
    "+ 반복가능\n",
    "  + 순서없음\n",
    "    + 집합, <u>***사전***</u>\n",
    "  + 순서있음\n",
    "    + 문자열, <u>***리스트, 튜플***</u>\n",
    "\n",
    "<br>\n",
    "\n",
    "+ `반복가능`한 데이터 타입들 공통의 함수/메소드들\n",
    "  + `x in iterable -> bool`(포함되어있는지 아닌지)\n",
    "  + `len(iterable) -> int`(원소의 총 개수)\n",
    "  + `sorted(sequence) -> list`\n",
    "  + `sum(iterable) -> int`(합계)\n",
    "\n",
    "<br>\n",
    "\n",
    "+ `반복가능`하고, `순서있는` 데이터 타입들 공통의 함수/메소드들\n",
    "  + 인덱싱: `sequence[index] -> value`\n",
    "  + 슬라이싱: `sequence[index:index] -> sequence`\n",
    "  + `sequence.index(value) -> int`(값의 인덱스)\n",
    "  + `sequence.count(value) -> int`(값의 개수)"
   ]
  },
  {
   "attachments": {},
   "cell_type": "markdown",
   "metadata": {},
   "source": [
    "<br>\n",
    "<br>\n",
    "\n",
    "### 2-1.`반복`가능하나, `순서`가 없는 데이터타입(`non-sequence`)\n",
    "\n",
    "+ ***`반복`가능, `순서`없음: 집합, 사전***      \n",
    "  + (사전은 다른 특징들이 많아서 다음 시간에 다루자)\n",
    "+ `반복`가능, `순서`있음: 문자열, 리스트, 튜플\n",
    "+ `반복`불가, `순서`없음: 숫자, 불값\n",
    "+ ~~`반복`불가, `순서`있음~~"
   ]
  },
  {
   "attachments": {},
   "cell_type": "markdown",
   "metadata": {},
   "source": [
    "#### 1)집합(`set`, `반복`가능, `순서`없음)\n",
    "\n",
    "+ ***`반복`가능, `순서`없음: 집합, 사전***\n",
    "+ `반복`가능, `순서`있음: 문자열, 리스트, 튜플\n",
    "+ `반복`불가, `순서`없음: 숫자, 불값\n",
    "+ ~~`반복`불가, `순서`있음~~\n",
    "\n",
    "<br>\n",
    "\n",
    "+ **순서가 없기에, 중복된 원소를 허용하지 않는다!!**\n",
    "+ 반복가능하기에 `in`, `len()`, `sorted()`, `sum()` 사용가능하겠지\n",
    "+ 집합연산이 가능하다. (합집합, 차집합, 교집합...)"
   ]
  },
  {
   "attachments": {},
   "cell_type": "markdown",
   "metadata": {},
   "source": [
    "#### 2) 사전(`dictionary`, `반복`가능, `순서`없음)\n",
    "+ 순서있는 데이터타입들(`문자열, 리스트, 튜플`)이 인덱스로 값을 호출했다면, 딕셔너리는 키로 값을 호출한다.\n",
    "+ **원칙적으로 사전은 순서없는 데이터 타입이다.**\n",
    "  + <u>그러나, `파이썬 3.7+ 버전`부터는 사전의 요소가 변경되지 않는 한 요소의 순서는 유지된다.</u>\n",
    "  + 그렇다고 순서가 있는 데이터타입처럼 인덱싱/슬라이싱 등은 불가능하다.\n"
   ]
  },
  {
   "cell_type": "code",
   "execution_count": null,
   "metadata": {},
   "outputs": [],
   "source": [
    "d = {}  ## ❓ 이건 집합인가 사전인가?\n",
    "print(d, type(d))"
   ]
  },
  {
   "cell_type": "code",
   "execution_count": null,
   "metadata": {},
   "outputs": [],
   "source": [
    "d['key'] = 'value'\n",
    "print(d)\n",
    "\n",
    "d[1] = 'a'\n",
    "print(d)\n",
    "\n",
    "d['1'] = [1,2,3]\n",
    "print(d)\n",
    "\n",
    "d[(1,2,3)] = '1'\n",
    "print(d)\n",
    "\n",
    "d[[1,2,3]] = '1'    # ❓❓ 딕셔너리의 key값이 될 수 있는 조건은 뭘까?\n",
    "print(d)"
   ]
  },
  {
   "cell_type": "code",
   "execution_count": null,
   "metadata": {},
   "outputs": [],
   "source": [
    "print(d)\n",
    "print(d['key'])"
   ]
  },
  {
   "cell_type": "code",
   "execution_count": null,
   "metadata": {},
   "outputs": [],
   "source": [
    "d['key'] = 'new value'  ## 이렇게 기존 키에 새로운 값을 할당하면?\n",
    "print(d['key'])         ## ✅ 값이 추가되는 것이 아니라, 대체되는구나!\n",
    "print(d)        "
   ]
  },
  {
   "attachments": {},
   "cell_type": "markdown",
   "metadata": {},
   "source": [
    "##### 2-1) 반복가능 공통의 연산"
   ]
  },
  {
   "cell_type": "code",
   "execution_count": null,
   "metadata": {},
   "outputs": [],
   "source": [
    "d = {\n",
    "    '시': '이창동',\n",
    "    '중경삼림':'왕가위', \n",
    "    '디태치먼트':'토니 케이', \n",
    "    '8월의 크리스마스':'허진호',\n",
    "    '쇼생크 탈출':'프랭크 다라본트',\n",
    "    '파고': '코엔 형제',\n",
    "    '마더': '봉준호',\n",
    "    '이터널 선샤인': '미쉘 공드리',\n",
    "}"
   ]
  },
  {
   "cell_type": "code",
   "execution_count": null,
   "metadata": {},
   "outputs": [],
   "source": [
    "print('시' in d)\n",
    "print('이창동' in d)"
   ]
  },
  {
   "cell_type": "code",
   "execution_count": null,
   "metadata": {},
   "outputs": [],
   "source": [
    "len(d)"
   ]
  },
  {
   "cell_type": "code",
   "execution_count": null,
   "metadata": {},
   "outputs": [],
   "source": [
    "sorted(d)"
   ]
  },
  {
   "cell_type": "code",
   "execution_count": null,
   "metadata": {},
   "outputs": [],
   "source": [
    "sum(d)"
   ]
  },
  {
   "cell_type": "code",
   "execution_count": null,
   "metadata": {},
   "outputs": [],
   "source": [
    "d = {1:10, 2:20, 3:30, 4:40}\n",
    "\n",
    "print(sum(d))\n",
    "\n",
    "print(1 in d)\n",
    "print(20 in d)\n",
    "print(len(d))\n",
    "print(sorted(d))"
   ]
  },
  {
   "attachments": {},
   "cell_type": "markdown",
   "metadata": {},
   "source": [
    "##### 2-2) 집합의 키, 값, 아이템 확인하기\n",
    "+ `dict.keys() -> dict_keys`\n",
    "+ `dict.values() -> dict_values`\n",
    "+ `dict.items() -> dict_items`"
   ]
  },
  {
   "cell_type": "code",
   "execution_count": null,
   "metadata": {},
   "outputs": [],
   "source": [
    "d = {\n",
    "    '시': '이창동',\n",
    "    '중경삼림':'왕가위', \n",
    "    '디태치먼트':'토니 케이', \n",
    "    '8월의 크리스마스':'허진호',\n",
    "    '쇼생크 탈출':'프랭크 다라본트',\n",
    "    '파고': '코엔 형제',\n",
    "    '마더': '봉준호',\n",
    "    '이터널 선샤인': '미쉘 공드리',\n",
    "}"
   ]
  },
  {
   "cell_type": "code",
   "execution_count": null,
   "metadata": {},
   "outputs": [],
   "source": [
    "print(d.keys(), type(d.keys()))     ## ❓❓ 타입이 뭐지?\n",
    "\n",
    "print(d.keys)                       ## ❓❓❓ 이건 뭘 한거지???"
   ]
  },
  {
   "cell_type": "code",
   "execution_count": null,
   "metadata": {},
   "outputs": [],
   "source": [
    "print(d.values())\n",
    "print(d.values()[0])"
   ]
  },
  {
   "cell_type": "code",
   "execution_count": null,
   "metadata": {},
   "outputs": [],
   "source": [
    "print(list(d.values())[0])  ## ❓ list() 함수는 무슨 역할을 하는지 예측해보자!\n",
    "                            ## ==> 데이터타입간 형변환에 대해서는 곧 배웁니다."
   ]
  },
  {
   "cell_type": "code",
   "execution_count": null,
   "metadata": {},
   "outputs": [],
   "source": [
    "print(d.items())\n",
    "print(type(d))"
   ]
  },
  {
   "cell_type": "code",
   "execution_count": null,
   "metadata": {},
   "outputs": [],
   "source": [
    "items = list(d.items())\n",
    "\n",
    "print(items[0])     \n",
    "print(items[0:1])\n",
    "print(items[0] == items[0:1]) \n",
    "## ✅ 인덱싱과 슬라이싱의 결과값이 다르다!! 항상 주의하자!!!!"
   ]
  },
  {
   "attachments": {},
   "cell_type": "markdown",
   "metadata": {},
   "source": [
    "##### 2-3) 딕셔너리에 값 추가하기/제거하기"
   ]
  },
  {
   "cell_type": "code",
   "execution_count": null,
   "metadata": {},
   "outputs": [],
   "source": [
    "d = {}\n",
    "\n",
    "d[1] = 100\n",
    "print(d)"
   ]
  },
  {
   "cell_type": "code",
   "execution_count": null,
   "metadata": {},
   "outputs": [],
   "source": [
    "d.update({2:200, 3:300})\n",
    "print(d)"
   ]
  },
  {
   "cell_type": "code",
   "execution_count": null,
   "metadata": {},
   "outputs": [],
   "source": [
    "d.update(100)\n",
    "print(d)"
   ]
  },
  {
   "cell_type": "code",
   "execution_count": null,
   "metadata": {},
   "outputs": [],
   "source": [
    "del d[1]\n",
    "print(d)"
   ]
  },
  {
   "attachments": {},
   "cell_type": "markdown",
   "metadata": {},
   "source": [
    "###### 참고: 사실 del은 **메모리를 직접 다루는 선언문**으로, 좀 더 범용적으로 쓸 수 있다.\n"
   ]
  },
  {
   "cell_type": "code",
   "execution_count": null,
   "metadata": {},
   "outputs": [],
   "source": [
    "l = [1,2,3]\n",
    "del l[0]\n",
    "print(l)\n",
    "\n",
    "del l\n",
    "print(l)"
   ]
  },
  {
   "cell_type": "code",
   "execution_count": null,
   "metadata": {},
   "outputs": [],
   "source": [
    "print(d)\n",
    "\n",
    "d.clear()\n",
    "print(d)        ## ==> 퀴즈 2-3 Q2"
   ]
  },
  {
   "attachments": {},
   "cell_type": "markdown",
   "metadata": {},
   "source": [
    "## 3.데이터타입간의 형변환\n",
    "+ 당연히 반복가능 <-> 반복불가 데이터타입간 형변환은 안되겠지?"
   ]
  },
  {
   "attachments": {},
   "cell_type": "markdown",
   "metadata": {},
   "source": [
    "### 1)문자열\n",
    "+ 리스트: **`list()` vs. `str.split(sep)`**\n",
    "+ 튜플\n",
    "+ 집합\n",
    "+ 사전"
   ]
  },
  {
   "cell_type": "code",
   "execution_count": null,
   "metadata": {},
   "outputs": [],
   "source": [
    "s = '1\\t2\\t3\\t1\\t2\\t3'   ## ❓ \\t의 뜻은??\n",
    "print(s)\n",
    "\n",
    "print(\n",
    "    list(s),\n",
    "    tuple(s),\n",
    "    set(s),\n",
    "    sep = '\\n'\n",
    ")"
   ]
  },
  {
   "cell_type": "code",
   "execution_count": null,
   "metadata": {},
   "outputs": [],
   "source": [
    "print(s.split('t'))\n",
    "print(s.split('\\t'))"
   ]
  },
  {
   "attachments": {},
   "cell_type": "markdown",
   "metadata": {},
   "source": [
    "### 2)리스트\n",
    "+ 집합\n",
    "+ 튜플\n",
    "+ 문자열: **`str()` vs. `list.join(sep)`**\n",
    "+ 사전"
   ]
  },
  {
   "cell_type": "code",
   "execution_count": null,
   "metadata": {},
   "outputs": [],
   "source": [
    "l = ['1', '2', '3']\n",
    "print(l)\n",
    "\n",
    "print(\n",
    "    set(l),\n",
    "    tuple(l),\n",
    ")"
   ]
  },
  {
   "cell_type": "code",
   "execution_count": null,
   "metadata": {},
   "outputs": [],
   "source": [
    "str(l)"
   ]
  },
  {
   "cell_type": "code",
   "execution_count": null,
   "metadata": {},
   "outputs": [],
   "source": [
    "''.join(l)"
   ]
  },
  {
   "cell_type": "code",
   "execution_count": null,
   "metadata": {},
   "outputs": [],
   "source": [
    "'+'.join(l)"
   ]
  },
  {
   "cell_type": "code",
   "execution_count": null,
   "metadata": {},
   "outputs": [],
   "source": [
    "l = [1,2,3]\n",
    "dict(l)"
   ]
  },
  {
   "cell_type": "code",
   "execution_count": null,
   "metadata": {},
   "outputs": [],
   "source": [
    "l = [(1,10), (2,20), (3,30)]\n",
    "dict(l)"
   ]
  },
  {
   "attachments": {},
   "cell_type": "markdown",
   "metadata": {},
   "source": [
    "### 3)튜플\n",
    "+ 문자열\n",
    "+ 리스트\n",
    "+ 집합\n",
    "+ 사전\n",
    "\n",
    "> 그래서 대체 리스트와 튜플은 무슨 차이가 있고, 왜 둘 간의 형변환을 하는가?"
   ]
  },
  {
   "cell_type": "code",
   "execution_count": null,
   "metadata": {},
   "outputs": [],
   "source": [
    "t = ('1',)\n",
    "print(t, type(t))\n",
    "\n",
    "print(\n",
    "    list(t),\n",
    "    set(t),\n",
    "    sep = '\\n'\n",
    ")"
   ]
  },
  {
   "cell_type": "code",
   "execution_count": null,
   "metadata": {},
   "outputs": [],
   "source": [
    "str(t)"
   ]
  },
  {
   "cell_type": "code",
   "execution_count": null,
   "metadata": {},
   "outputs": [],
   "source": [
    "' '.join(t)\n"
   ]
  },
  {
   "cell_type": "code",
   "execution_count": null,
   "metadata": {},
   "outputs": [],
   "source": [
    "t = ((1,2), (3,4), ('a','b'))\n",
    "\n",
    "print(dict(t))"
   ]
  },
  {
   "attachments": {},
   "cell_type": "markdown",
   "metadata": {},
   "source": [
    "### 4)집합"
   ]
  },
  {
   "cell_type": "code",
   "execution_count": null,
   "metadata": {},
   "outputs": [],
   "source": [
    "s = {1,2,3}"
   ]
  },
  {
   "cell_type": "code",
   "execution_count": null,
   "metadata": {},
   "outputs": [],
   "source": [
    "print(\n",
    "    list(s),\n",
    "    tuple(s),\n",
    ")"
   ]
  },
  {
   "cell_type": "code",
   "execution_count": null,
   "metadata": {},
   "outputs": [],
   "source": [
    "s = {(1,2), (3,4), (5,6)}\n",
    "dict(s)"
   ]
  },
  {
   "attachments": {},
   "cell_type": "markdown",
   "metadata": {},
   "source": [
    "### 5)사전 ✅ 유의할 것 ✅"
   ]
  },
  {
   "cell_type": "code",
   "execution_count": null,
   "metadata": {},
   "outputs": [],
   "source": [
    "d = {'korea': 1, 'yonsei':-100}\n",
    "print(d, type(d))\n",
    "\n",
    "print(\n",
    "    list(d),\n",
    "    set(d),\n",
    "    tuple(d),\n",
    "    sep = '\\n'\n",
    ")"
   ]
  },
  {
   "cell_type": "code",
   "execution_count": null,
   "metadata": {},
   "outputs": [],
   "source": [
    "str(d)"
   ]
  },
  {
   "cell_type": "code",
   "execution_count": null,
   "metadata": {},
   "outputs": [],
   "source": [
    "' vs '.join(d)"
   ]
  },
  {
   "attachments": {},
   "cell_type": "markdown",
   "metadata": {},
   "source": [
    "### 집합/사전이 될 수 없는 데이터타입?\n",
    "+ 관련해서는 다음 시간에 더 깊게 배운다!"
   ]
  },
  {
   "cell_type": "code",
   "execution_count": null,
   "metadata": {},
   "outputs": [],
   "source": [
    "print(\n",
    "    set([1,2,3]),\n",
    "    set('123'),\n",
    "    set(['123', '456'])\n",
    ")\n"
   ]
  },
  {
   "cell_type": "code",
   "execution_count": null,
   "metadata": {},
   "outputs": [],
   "source": [
    "print(set([[1,2,3], ['456']]))"
   ]
  },
  {
   "cell_type": "code",
   "execution_count": null,
   "metadata": {},
   "outputs": [],
   "source": [
    "dict([1,2,3,4])"
   ]
  },
  {
   "cell_type": "code",
   "execution_count": null,
   "metadata": {},
   "outputs": [],
   "source": [
    "dict([(1,2), (3,4), (5,6)])"
   ]
  },
  {
   "cell_type": "code",
   "execution_count": null,
   "metadata": {},
   "outputs": [],
   "source": [
    "n = 1\n",
    "s = 'ㄱㄴㄷ'\n",
    "t = (1,2,3,4)\n",
    "\n",
    "\n",
    "dict(\n",
    "    (\n",
    "        (n, 1), (s, len(s)), (t, len(t))\n",
    "    )\n",
    ")"
   ]
  },
  {
   "cell_type": "code",
   "execution_count": null,
   "metadata": {},
   "outputs": [],
   "source": [
    "l = [1,2]\n",
    "t = (1,2,3,4)\n",
    "\n",
    "\n",
    "\n",
    "dict(\n",
    "        (\n",
    "            (l, len(l)), (t, len(t))\n",
    "        )\n",
    "    )"
   ]
  },
  {
   "cell_type": "code",
   "execution_count": null,
   "metadata": {},
   "outputs": [],
   "source": [
    "s = {1,2,3}\n",
    "t = (1,2,3,4)\n",
    "\n",
    "\n",
    "dict(\n",
    "        (\n",
    "            (s, len(s)), (t, len(t))\n",
    "        )\n",
    "    )"
   ]
  }
 ],
 "metadata": {
  "kernelspec": {
   "display_name": "Python 3",
   "language": "python",
   "name": "python3"
  },
  "language_info": {
   "codemirror_mode": {
    "name": "ipython",
    "version": 3
   },
   "file_extension": ".py",
   "mimetype": "text/x-python",
   "name": "python",
   "nbconvert_exporter": "python",
   "pygments_lexer": "ipython3",
   "version": "3.10.7 (tags/v3.10.7:6cc6b13, Sep  5 2022, 14:08:36) [MSC v.1933 64 bit (AMD64)]"
  },
  "orig_nbformat": 4,
  "vscode": {
   "interpreter": {
    "hash": "4afb0e4cf0ccb304fcfd6d7aabde069b35f9fca2102756c46539c1049f0d322d"
   }
  }
 },
 "nbformat": 4,
 "nbformat_minor": 2
}
