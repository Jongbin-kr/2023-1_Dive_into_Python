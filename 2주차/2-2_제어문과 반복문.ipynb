{
 "cells": [
  {
   "attachments": {},
   "cell_type": "markdown",
   "metadata": {},
   "source": [
    "# III. 제어문\n",
    "\n",
    "+ 제어문은 말 그대로 프로그램의 흐름을 제어하는 것.\n",
    "+ 크게 두 종류가 있다.\n",
    "  + 조건문: if\n",
    "  + 반복문: for, while"
   ]
  },
  {
   "attachments": {},
   "cell_type": "markdown",
   "metadata": {},
   "source": [
    "## 1.조건문: `if`문\n",
    "\n",
    "+ 불값과 함께 많이 쓰인다.\n",
    "+ `if` - `elif` - `else`\n",
    "+ 반드시 `:` 찍어야하고, **들여쓰기(공백 4개)**!!!!"
   ]
  },
  {
   "attachments": {},
   "cell_type": "markdown",
   "metadata": {},
   "source": [
    "### if - elif - else"
   ]
  },
  {
   "cell_type": "code",
   "execution_count": null,
   "metadata": {},
   "outputs": [],
   "source": [
    "a = 1\n",
    "b = 2\n",
    "\n",
    "if b > a:\n",
    "    print('b is larger than a!')\n",
    "else:\n",
    "    print('No, a is larger than b!')"
   ]
  },
  {
   "cell_type": "code",
   "execution_count": null,
   "metadata": {},
   "outputs": [],
   "source": [
    "a = 1\n",
    "b = 2\n",
    "c = 3\n",
    "\n",
    "if a > b:\n",
    "    print('a is larger than b!')\n",
    "elif b > c:\n",
    "    print('b is larger than c!')\n",
    "elif c > a:\n",
    "    print('c is larger than a!')"
   ]
  },
  {
   "cell_type": "code",
   "execution_count": null,
   "metadata": {},
   "outputs": [],
   "source": [
    "a = 1\n",
    "b = 1\n",
    "c = 1\n",
    "\n",
    "if a > b:\n",
    "    print('a is larger than b!')\n",
    "elif b > c:\n",
    "    print('b is larger than c!')\n",
    "elif c > a:\n",
    "    print('c is larger than a!')\n",
    "else:\n",
    "    print(\"maybe they're all same?\")"
   ]
  },
  {
   "attachments": {},
   "cell_type": "markdown",
   "metadata": {},
   "source": [
    "### `in`과 함께 쓸 수도 있고"
   ]
  },
  {
   "cell_type": "code",
   "execution_count": null,
   "metadata": {},
   "outputs": [],
   "source": [
    "l = {1,2,3,4, ('1', '2,' '3')}\n",
    "value = '1'\n",
    "\n",
    "if value in l:\n",
    "    print('the value is in list!')\n",
    "else:\n",
    "    print('the value is NOT in list...')\n"
   ]
  },
  {
   "cell_type": "code",
   "execution_count": null,
   "metadata": {},
   "outputs": [],
   "source": [
    "l = {1,2,3,4, ('1', '2,' '3')}\n",
    "value = '1'\n",
    "\n",
    "if  value in l or int(value) in l:\n",
    "    print('the value is in l!')\n",
    "else:\n",
    "    print('the value is NOT in list...')"
   ]
  },
  {
   "attachments": {},
   "cell_type": "markdown",
   "metadata": {},
   "source": [
    "### 비교연산자와도 함께 쓸 수 있겠지?"
   ]
  },
  {
   "cell_type": "code",
   "execution_count": null,
   "metadata": {},
   "outputs": [],
   "source": [
    "job = '고등학생'\n",
    "\n",
    "if job == \"새내기\":\n",
    "    print(\"이제 대학생이니 공부 좀 해라\")\n",
    "elif job == '헌내기':\n",
    "    print(\"이제 새내기도 아니니까 공부해야지?\")\n",
    "elif job == \"고등학생\":\n",
    "    print(\"대학만 가면 다 놀 수 있다. 그때까지만 참고 공부해라.\")\n",
    "else:\n",
    "    print(\"내년이면 중학생인데 이제 공부해야지?\")\n"
   ]
  },
  {
   "attachments": {},
   "cell_type": "markdown",
   "metadata": {},
   "source": [
    "## 2.반복문\n",
    "+ `while`문\n",
    "  + **특정 조건동안만 반복하고 싶을 때 사용**\n",
    "  + 곧, `if`문에 반복을 더한 구조\n",
    "  + bool값을 반환하는 함수/메소드들과 함께 많이 쓰인다. (비교/논리연산자, is~류 함수들)\n",
    "\n",
    "<br>\n",
    "\n",
    "+ `for`문\n",
    "  + 보통의 프로그래밍 언어에서 `for`문은 특정 횟수동안만 반복하고 싶을 때 사용\n",
    "    + **그러나, 파이썬에서 `for`문은 `for each`에 해당한다.**\n",
    "    + **<u>곧, `iterable` 내의 모든 요소들을 한번씩 순회하는 것.</u>**\n",
    "  + **`len()` 함수, `range()`함수, `enumerate()` 함수**와 함께 많이 쓰인다.\n",
    "\n",
    "<br>\n",
    "\n",
    "+ `pass` vs. `continue` vs. `break`"
   ]
  },
  {
   "attachments": {},
   "cell_type": "markdown",
   "metadata": {},
   "source": [
    "### 2-1. `while`문"
   ]
  },
  {
   "cell_type": "code",
   "execution_count": null,
   "metadata": {},
   "outputs": [],
   "source": [
    "ship_cnt = 12\n",
    "\n",
    "while ship_cnt > 0:\n",
    "    print('신에게는 아직 ' + str(ship_cnt) + '척의 배가 남아있사옵니다.')\n",
    "    ship_cnt -= 1\n",
    "    print('\\t배를 한 척 잃었사옵니다...')\n",
    "\n",
    "print('\\n', 'ship_cnt ==', ship_cnt)\n",
    "print('신에게는 이제 배가 없사옵니다.') ## 이게 언제 출력되는지 잘 보자!!!"
   ]
  },
  {
   "cell_type": "code",
   "execution_count": null,
   "metadata": {},
   "outputs": [],
   "source": [
    "l = ['채연', '정아', '유진', '엄빅', '보경', '상민', '민서', '선아', '다회', '종빈']\n",
    "\n",
    "while l != []:\n",
    "    print(l.pop())"
   ]
  },
  {
   "attachments": {},
   "cell_type": "markdown",
   "metadata": {},
   "source": [
    "### 2-2. `for`문"
   ]
  },
  {
   "cell_type": "code",
   "execution_count": null,
   "metadata": {},
   "outputs": [],
   "source": [
    "for x in [1,2,3]:\n",
    "    print(x)\n",
    "\n",
    "print(x)    ## ✅ x의 값을 for문 밖에서도 사용할 수 있구나!"
   ]
  },
  {
   "cell_type": "code",
   "execution_count": null,
   "metadata": {},
   "outputs": [],
   "source": [
    "l = ['재열', '나연', '형우', '동영', '도연', '진영','큰 수민', '작은 수민']\n",
    "\n",
    "for fossil in l:\n",
    "    print(fossil)"
   ]
  },
  {
   "attachments": {},
   "cell_type": "markdown",
   "metadata": {},
   "source": [
    "#### 1)`range()`함수"
   ]
  },
  {
   "cell_type": "code",
   "execution_count": null,
   "metadata": {},
   "outputs": [],
   "source": [
    "print(range)            ## range라는 별도의 데이터타입.\n",
    "                        ## ✅ 함수처럼 보이지만, 원칙적으로는 함수는 아니다!\n",
    "                        \n",
    "print(range(10))\n",
    "print(list(range(10)))"
   ]
  },
  {
   "cell_type": "code",
   "execution_count": null,
   "metadata": {},
   "outputs": [],
   "source": [
    "print(range(1,10))\n",
    "print('\\n')\n",
    "\n",
    "\n",
    "print(range(10,1,-1))\n",
    "print(list(range(10,1,-1)))\n",
    "print('\\n')\n",
    "\n",
    "\n",
    "print(range(1,10)[::-1])\n",
    "print(list(range(1,10)[::-1]))\n",
    "print('\\n')"
   ]
  },
  {
   "cell_type": "code",
   "execution_count": null,
   "metadata": {},
   "outputs": [],
   "source": [
    "print(list(range(1,10,2)))\n",
    "\n",
    "print(list(range(1,10)[::2]))"
   ]
  },
  {
   "cell_type": "code",
   "execution_count": null,
   "metadata": {},
   "outputs": [],
   "source": [
    "s = ('a', 'b', 'c', 'd')\n",
    "\n",
    "for i in range(len(s)):  ## ❓ 그냥 range(s)하면 안되나?\n",
    "    print(i)\n",
    "    print(s[i], '\\n')"
   ]
  },
  {
   "attachments": {},
   "cell_type": "markdown",
   "metadata": {},
   "source": [
    "#### 2)`enumerate(iterable)->list` 함수"
   ]
  },
  {
   "cell_type": "code",
   "execution_count": null,
   "metadata": {},
   "outputs": [],
   "source": [
    "l = ['재열', '나연', '형우', '동영', '도연', '진영','큰 수민', '작은 수민']\n",
    "\n",
    "print(enumerate(l))         ## 참고: 이러한 친구들을 제너레이터(generator)라고 부른다!!!\n",
    "print(list(enumerate(l)))"
   ]
  },
  {
   "cell_type": "code",
   "execution_count": null,
   "metadata": {},
   "outputs": [],
   "source": [
    "for i in range(len(l)):\n",
    "    print(i, l[i])"
   ]
  },
  {
   "cell_type": "code",
   "execution_count": null,
   "metadata": {},
   "outputs": [],
   "source": [
    "## !! 더욱 pythonic한 코드 !!\n",
    "for i, name in enumerate(l):\n",
    "    print(i, name)"
   ]
  },
  {
   "attachments": {},
   "cell_type": "markdown",
   "metadata": {},
   "source": [
    "#### 3)`pass`, `continue`, `break`"
   ]
  },
  {
   "cell_type": "code",
   "execution_count": null,
   "metadata": {},
   "outputs": [],
   "source": [
    "l = {1,2,3,4,5}\n",
    "\n",
    "for i in l:\n",
    "    print('START!')\n",
    "    if i == 3:\n",
    "        print(i)\n",
    "        print('CONTINUE...')\n",
    "        continue\n",
    "    if i == 4:\n",
    "        print(i)\n",
    "        print('BREAK!')\n",
    "        break\n",
    "    else:\n",
    "        print(i)\n",
    "        print(\"PASS\")\n",
    "        pass"
   ]
  },
  {
   "attachments": {},
   "cell_type": "markdown",
   "metadata": {},
   "source": [
    "## 3.예제"
   ]
  },
  {
   "cell_type": "code",
   "execution_count": null,
   "metadata": {},
   "outputs": [],
   "source": [
    "chicken_brands = ['BBQ', 'KFC', 'BHC', '네네치킨', '후참잘']\n",
    "\n",
    "while chicken_brands != []: ## ✅ 사실 뒤의 `!= []`는 불필요한 코드다!! 곧, 없어도 제 기능을 한다.\n",
    "    print(chicken_brands.pop())\n",
    "\n",
    "\n",
    "print('-'*10)\n",
    "\n",
    "\n",
    "chicken_brands = ['BBQ', 'KFC', 'BHC', '네네치킨', '후참잘']\n",
    "## 바로 위 코드라인을 주석처리하면 어떻게 되는가?\n",
    "\n",
    "for brand in chicken_brands:\n",
    "    print(brand)\n",
    "    \n",
    "## ❓ 둘의 출력 순서를 같게 하려면???"
   ]
  },
  {
   "cell_type": "code",
   "execution_count": null,
   "metadata": {},
   "outputs": [],
   "source": [
    "bands = {'oasis', 'queen', 'blur', 'radiohead', 'the beatles', 'sum41'}\n",
    "\n",
    "for band in bands:\n",
    "    name_length = len(band)\n",
    "    if name_length <= 5:\n",
    "        name_index = 0\n",
    "        while name_index < name_length:\n",
    "            print(band[name_index])\n",
    "            name_index += 1\n",
    "        print('\\n')\n",
    "    \n",
    "    else:\n",
    "        print(band, ', you\\'re name is TOO LONG.\\n', sep = '')\n",
    "        "
   ]
  },
  {
   "cell_type": "code",
   "execution_count": null,
   "metadata": {},
   "outputs": [],
   "source": [
    "## 참고: 더 pythonic하게 코드를 refactoring해보면...\n",
    "bands = {'oasis', 'queen', 'blur', 'radiohead', 'the beatles', 'sum41'}\n",
    "\n",
    "for band in bands:\n",
    "    if name_length := len(band) <= 5:   ## 참고: walrus(바다코끼리) operator\n",
    "        for name_chr in band:\n",
    "            print(name_chr) ## 어차피 문자열도 iterable. 굳이 while을?\n",
    "        print('\\n')\n",
    "    \n",
    "    else:\n",
    "        print(band, ', you\\'re name is TOO LONG.\\n', sep = '')\n",
    "        "
   ]
  },
  {
   "cell_type": "code",
   "execution_count": null,
   "metadata": {},
   "outputs": [],
   "source": [
    "l = ['읏추추 춘식이', '대충만든 춘식이', '넥스트레벨을 추는 춘식이', '고구마먹는 춘식이', '행복한 라이언', '사실 카카오 회장인 라이언', '운동하는 라이언']\n",
    "\n",
    "for i, name in enumerate(l):\n",
    "    if name.split()[-1] == '라이언':\n",
    "        continue\n",
    "    print(i, name.split()[:-1])\n",
    "    \n",
    "print(\"춘식이 이모티콘 접두어 출력 끗~\")\n",
    "    "
   ]
  },
  {
   "cell_type": "code",
   "execution_count": null,
   "metadata": {},
   "outputs": [],
   "source": [
    "d = {\n",
    "    '춘식이': '귀엽다',\n",
    "    '라이언': '회장님',\n",
    "    '무지': '라이언 붕붕카를 탄다',\n",
    "    '어피치': '맛있게 생김',\n",
    "    '콘': '얘 정체가 뭐임?'\n",
    "}\n",
    "\n",
    "for name, character in d.items():\n",
    "    print(f'I think {name} is {character}.\\n')\n",
    "    ## 참고: 문자열 포매팅. \n"
   ]
  }
 ],
 "metadata": {
  "kernelspec": {
   "display_name": "Python 3",
   "language": "python",
   "name": "python3"
  },
  "language_info": {
   "codemirror_mode": {
    "name": "ipython",
    "version": 3
   },
   "file_extension": ".py",
   "mimetype": "text/x-python",
   "name": "python",
   "nbconvert_exporter": "python",
   "pygments_lexer": "ipython3",
   "version": "3.10.7 (tags/v3.10.7:6cc6b13, Sep  5 2022, 14:08:36) [MSC v.1933 64 bit (AMD64)]"
  },
  "orig_nbformat": 4,
  "vscode": {
   "interpreter": {
    "hash": "4afb0e4cf0ccb304fcfd6d7aabde069b35f9fca2102756c46539c1049f0d322d"
   }
  }
 },
 "nbformat": 4,
 "nbformat_minor": 2
}
