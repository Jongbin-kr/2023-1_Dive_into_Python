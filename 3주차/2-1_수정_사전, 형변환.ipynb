{
 "cells": [
  {
   "attachments": {},
   "cell_type": "markdown",
   "metadata": {},
   "source": [
    "# II. 파이썬의 핵심 데이터 타입들\n",
    "\n",
    "+ 반복불가능\n",
    "  + 숫자, 불값\n",
    "+ 반복가능\n",
    "  + 순서없음\n",
    "    + 집합, <u>***사전***</u>\n",
    "  + 순서있음\n",
    "    + 문자열, <u>***리스트, 튜플***</u>\n",
    "\n",
    "<br>\n",
    "\n",
    "+ `반복가능`한 데이터 타입들 공통의 함수/메소드들\n",
    "  + `x in iterable -> bool`(포함되어있는지 아닌지)\n",
    "  + `len(iterable) -> int`(원소의 총 개수)\n",
    "  + `sorted(sequence) -> list`\n",
    "  + `sum(iterable) -> int`(합계)\n",
    "\n",
    "<br>\n",
    "\n",
    "+ `반복가능`하고, `순서있는` 데이터 타입들 공통의 함수/메소드들\n",
    "  + 인덱싱: `sequence[index] -> value`\n",
    "  + 슬라이싱: `sequence[index:index] -> sequence`\n",
    "  + `sequence.index(value) -> int`(값의 인덱스)\n",
    "  + `sequence.count(value) -> int`(값의 개수)"
   ]
  },
  {
   "attachments": {},
   "cell_type": "markdown",
   "metadata": {},
   "source": [
    "<br>\n",
    "<br>\n",
    "\n",
    "### 2-1.`반복`가능하나, `순서`가 없는 데이터타입(`non-sequence`)\n",
    "\n",
    "+ ***`반복`가능, `순서`없음: 집합, 사전***      \n",
    "  + (사전은 다른 특징들이 많아서 다음 시간에 다루자)\n",
    "+ `반복`가능, `순서`있음: 문자열, 리스트, 튜플\n",
    "+ `반복`불가, `순서`없음: 숫자, 불값\n",
    "+ ~~`반복`불가, `순서`있음~~"
   ]
  },
  {
   "attachments": {},
   "cell_type": "markdown",
   "metadata": {},
   "source": [
    "#### 1)집합(`set`, `반복`가능, `순서`없음)\n",
    "\n",
    "+ ***`반복`가능, `순서`없음: 집합, 사전***\n",
    "+ `반복`가능, `순서`있음: 문자열, 리스트, 튜플\n",
    "+ `반복`불가, `순서`없음: 숫자, 불값\n",
    "+ ~~`반복`불가, `순서`있음~~\n",
    "\n",
    "<br>\n",
    "\n",
    "+ **순서가 없기에, 중복된 원소를 허용하지 않는다!!**\n",
    "+ 반복가능하기에 `in`, `len()`, `sorted()`, `sum()` 사용가능하겠지\n",
    "+ 집합연산이 가능하다. (합집합, 차집합, 교집합...)"
   ]
  },
  {
   "attachments": {},
   "cell_type": "markdown",
   "metadata": {},
   "source": [
    "#### 2) 사전(`dictionary`, `반복`가능, `순서`없음)\n",
    "+ 순서있는 데이터타입들(`문자열, 리스트, 튜플`)이 인덱스로 값을 호출했다면, 딕셔너리는 키로 값을 호출한다.\n",
    "+ 원칙적으로 사전은 순서없는 데이터 타입이다.\n",
    "  + <u>그러나, `파이썬 3.7+ 버전`부터는 사전의 요소가 변경되지 않는 한 요소의 순서는 유지된다.</u>\n",
    "  + 그렇다고 순서가 있는 데이터타입처럼 인덱싱/슬라이싱 등은 불가능하다.\n"
   ]
  },
  {
   "cell_type": "code",
   "execution_count": null,
   "metadata": {},
   "outputs": [],
   "source": [
    "d = {}              ## ❓ 이건 집합인가 사전인가?\n",
    "print(d, type(d))   ## ❓ 집합을 만들려면 어떻게 해야하는가?"
   ]
  },
  {
   "cell_type": "code",
   "execution_count": null,
   "metadata": {},
   "outputs": [],
   "source": [
    "d['key'] = 'value'\n",
    "print(d)\n",
    "\n",
    "d[1] = 'a'\n",
    "print(d)\n",
    "\n",
    "d['1'] = [1,2,3]\n",
    "print(d)\n",
    "\n",
    "d[(1,2,3)] = '1'\n",
    "print(d)\n",
    "\n",
    "d[[1,2,3]] = '1'    # ❓❓ 딕셔너리의 key값이 될 수 있는 조건은 뭘까? -> immutable(불변 == hashable)하는 객체만 키값이 될 수 있다! \n",
    "print(d)"
   ]
  },
  {
   "cell_type": "code",
   "execution_count": null,
   "metadata": {},
   "outputs": [],
   "source": [
    "print(d)\n",
    "print(d['key'])"
   ]
  },
  {
   "cell_type": "code",
   "execution_count": null,
   "metadata": {},
   "outputs": [],
   "source": [
    "d['key'] = 'new value'  ## 이렇게 기존 키에 새로운 값을 할당하면?\n",
    "print(d['key'])         ## ✅ 값이 추가되는 것이 아니라, 대체되는구나!\n",
    "print(d)        "
   ]
  },
  {
   "attachments": {},
   "cell_type": "markdown",
   "metadata": {},
   "source": [
    "##### 2-1) 반복가능 공통의 연산"
   ]
  },
  {
   "cell_type": "code",
   "execution_count": null,
   "metadata": {},
   "outputs": [],
   "source": [
    "d = {\n",
    "    '시': '이창동',\n",
    "    '중경삼림':'왕가위', \n",
    "    '디태치먼트':'토니 케이', \n",
    "    '8월의 크리스마스':'허진호',\n",
    "    '쇼생크 탈출':'프랭크 다라본트',\n",
    "    '파고': '코엔 형제',\n",
    "    '마더': '봉준호',\n",
    "    '이터널 선샤인': '미쉘 공드리',\n",
    "}"
   ]
  },
  {
   "cell_type": "code",
   "execution_count": null,
   "metadata": {},
   "outputs": [],
   "source": [
    "print('시' in d)\n",
    "print('이창동' in d)"
   ]
  },
  {
   "cell_type": "code",
   "execution_count": null,
   "metadata": {},
   "outputs": [],
   "source": [
    "len(d)"
   ]
  },
  {
   "cell_type": "code",
   "execution_count": null,
   "metadata": {},
   "outputs": [],
   "source": [
    "sorted(d)"
   ]
  },
  {
   "cell_type": "code",
   "execution_count": null,
   "metadata": {},
   "outputs": [],
   "source": [
    "sum(d)"
   ]
  },
  {
   "cell_type": "code",
   "execution_count": null,
   "metadata": {},
   "outputs": [],
   "source": [
    "d = {1:10, 2:20, 3:30, 4:40}\n",
    "\n",
    "print(sum(d))\n",
    "\n",
    "print(1 in d)\n",
    "print(20 in d)\n",
    "print(len(d))\n",
    "print(sorted(d))"
   ]
  },
  {
   "attachments": {},
   "cell_type": "markdown",
   "metadata": {},
   "source": [
    "##### 2-2) 딕셔너리의 키, 값, 아이템 확인하기\n",
    "+ `dict.keys() -> dict_keys`\n",
    "+ `dict.values() -> dict_values`\n",
    "+ `dict.items() -> dict_items`"
   ]
  },
  {
   "cell_type": "code",
   "execution_count": null,
   "metadata": {},
   "outputs": [],
   "source": [
    "d = {\n",
    "    '시': '이창동',\n",
    "    '중경삼림':'왕가위', \n",
    "    '디태치먼트':'토니 케이',       ## 이 영화 꼭 보세요. 별로 안유명한데 개띵작임.\n",
    "    '8월의 크리스마스':'허진호',\n",
    "    '쇼생크 탈출':'프랭크 다라본트',\n",
    "    '파고': '코엔 형제',\n",
    "    '마더': '봉준호',\n",
    "    '이터널 선샤인': '미쉘 공드리',\n",
    "}"
   ]
  },
  {
   "cell_type": "code",
   "execution_count": null,
   "metadata": {},
   "outputs": [],
   "source": [
    "print(d.keys(), type(d.keys()))     ## ❓❓ 타입이 뭐지?\n",
    "\n",
    "print(d.keys)                       ## ❓❓❓ 이건 뭘 한거지???"
   ]
  },
  {
   "cell_type": "code",
   "execution_count": null,
   "metadata": {},
   "outputs": [],
   "source": [
    "print(d.values())\n",
    "print(d.values()[0])"
   ]
  },
  {
   "cell_type": "code",
   "execution_count": null,
   "metadata": {},
   "outputs": [],
   "source": [
    "print(list(d.values())[0])  ## ❓ list() 함수는 무슨 역할을 하는지 예측해보자!\n",
    "                            ## ==> 데이터타입간 형변환에 대해서는 곧 배웁니다."
   ]
  },
  {
   "cell_type": "code",
   "execution_count": null,
   "metadata": {},
   "outputs": [],
   "source": [
    "print(d.items())\n",
    "print(type(d))"
   ]
  },
  {
   "cell_type": "code",
   "execution_count": null,
   "metadata": {},
   "outputs": [],
   "source": [
    "items = list(d.items())\n",
    "\n",
    "print(items[0])     \n",
    "print(items[0:1])\n",
    "print(items[0] == items[0:1]) \n",
    "## ✅ 인덱싱과 슬라이싱의 결과값이 다르다!! 항상 주의하자!!!!"
   ]
  },
  {
   "attachments": {},
   "cell_type": "markdown",
   "metadata": {},
   "source": [
    "##### 2-3) 딕셔너리에 값 추가하기/제거하기"
   ]
  },
  {
   "cell_type": "code",
   "execution_count": 6,
   "metadata": {},
   "outputs": [
    {
     "name": "stdout",
     "output_type": "stream",
     "text": [
      "{1: 100}\n"
     ]
    }
   ],
   "source": [
    "d = {}\n",
    "\n",
    "d[1] = 100\n",
    "print(d)"
   ]
  },
  {
   "cell_type": "code",
   "execution_count": 7,
   "metadata": {},
   "outputs": [
    {
     "name": "stdout",
     "output_type": "stream",
     "text": [
      "{1: 100, 2: 200, 3: 300}\n"
     ]
    }
   ],
   "source": [
    "d.update({2:200, 3:300})\n",
    "print(d)"
   ]
  },
  {
   "cell_type": "code",
   "execution_count": 8,
   "metadata": {},
   "outputs": [
    {
     "ename": "TypeError",
     "evalue": "'int' object is not iterable",
     "output_type": "error",
     "traceback": [
      "\u001b[1;31m---------------------------------------------------------------------------\u001b[0m",
      "\u001b[1;31mTypeError\u001b[0m                                 Traceback (most recent call last)",
      "Cell \u001b[1;32mIn [8], line 1\u001b[0m\n\u001b[1;32m----> 1\u001b[0m d\u001b[39m.\u001b[39;49mupdate(\u001b[39m100\u001b[39;49m)\n\u001b[0;32m      2\u001b[0m \u001b[39mprint\u001b[39m(d)\n",
      "\u001b[1;31mTypeError\u001b[0m: 'int' object is not iterable"
     ]
    }
   ],
   "source": [
    "d.update(100)\n",
    "print(d)"
   ]
  },
  {
   "cell_type": "code",
   "execution_count": null,
   "metadata": {},
   "outputs": [],
   "source": [
    "del d[1]\n",
    "print(d)"
   ]
  },
  {
   "attachments": {},
   "cell_type": "markdown",
   "metadata": {},
   "source": [
    "###### 참고: 사실 del은 **메모리를 직접 다루는 선언문**으로, 좀 더 범용적으로 쓸 수 있다.\n",
    "아래 코드를 실행시킨 뒤, varialbe 창을 열어보자. 아예 메모리에서 해당 `l`이 삭제된 것을 확인할 수 있다."
   ]
  },
  {
   "cell_type": "code",
   "execution_count": null,
   "metadata": {},
   "outputs": [],
   "source": [
    "l = [1,2,3]\n",
    "del l[0]\n",
    "print(l)\n",
    "\n",
    "del l\n",
    "print(l)"
   ]
  },
  {
   "cell_type": "code",
   "execution_count": null,
   "metadata": {},
   "outputs": [],
   "source": [
    "print(d)\n",
    "\n",
    "d.clear()\n",
    "print(d)        ## ==> 퀴즈 2-3 Q2"
   ]
  },
  {
   "attachments": {},
   "cell_type": "markdown",
   "metadata": {},
   "source": [
    "## 3.데이터타입간의 형변환\n",
    "+ 당연히 반복가능 <-> 반복불가 데이터타입간 형변환은 안되겠지?"
   ]
  },
  {
   "attachments": {},
   "cell_type": "markdown",
   "metadata": {},
   "source": [
    "### 1)문자열\n",
    "+ 문자열 -> 리스트: **`list()` vs. `str.split(sep)`**\n",
    "+ 문자열 -> 튜플: `tuple()`\n",
    "+ 문자열 -> 집합: `set()`. **중복이 제거된다는 사실을 유의하자!**\n",
    "+ 문자열 -> 사전: `dict()`. 단, 키-값 형식을 잘 맞춰야."
   ]
  },
  {
   "cell_type": "code",
   "execution_count": null,
   "metadata": {},
   "outputs": [],
   "source": [
    "s = '1\\t2\\t3\\t1\\t2\\t3'   ## ❓ \\t의 뜻은??\n",
    "print(s)\n",
    "\n",
    "print(\n",
    "    list(s),\n",
    "    tuple(s),\n",
    "    set(s),\n",
    "    sep = '\\n'\n",
    ")"
   ]
  },
  {
   "cell_type": "code",
   "execution_count": null,
   "metadata": {},
   "outputs": [],
   "source": [
    "print(s.split('t'))\n",
    "print(s.split('\\t'))"
   ]
  },
  {
   "attachments": {},
   "cell_type": "markdown",
   "metadata": {},
   "source": [
    "### 2)리스트\n",
    "+ 리스트 -> 문자열: **`str()` vs. `'sep'.join(iterble)`**\n",
    "+ 리스트 -> 튜플: `tuple()`. 가변(mutable)했던 것이 불변(immutable)해진다.\n",
    "+ 리스트 -> 집합: `set()`. **중복이 제거된다는 사실을 유의하자!**\n",
    "+ 리스트 -> 사전: `dict()`. 단, 키-값 형식을 잘 맞춰야."
   ]
  },
  {
   "cell_type": "code",
   "execution_count": 3,
   "metadata": {},
   "outputs": [
    {
     "name": "stdout",
     "output_type": "stream",
     "text": [
      "['1', '2', '3']\n",
      "{'3', '1', '2'} ('1', '2', '3')\n"
     ]
    }
   ],
   "source": [
    "l = ['1', '2', '3']\n",
    "print(l)\n",
    "\n",
    "print(\n",
    "    set(l),\n",
    "    tuple(l),\n",
    ")"
   ]
  },
  {
   "cell_type": "code",
   "execution_count": 4,
   "metadata": {},
   "outputs": [
    {
     "data": {
      "text/plain": [
       "\"['1', '2', '3']\""
      ]
     },
     "execution_count": 4,
     "metadata": {},
     "output_type": "execute_result"
    }
   ],
   "source": [
    "str(l)  ## ✅ str() 메소드는 문자열로 변환하긴 하는데...\n",
    "        ## ✅ 냅다 모든 걸 문자열로 바꿔버린다!!"
   ]
  },
  {
   "cell_type": "code",
   "execution_count": 5,
   "metadata": {},
   "outputs": [
    {
     "data": {
      "text/plain": [
       "'123'"
      ]
     },
     "execution_count": 5,
     "metadata": {},
     "output_type": "execute_result"
    }
   ],
   "source": [
    "''.join(l)"
   ]
  },
  {
   "cell_type": "code",
   "execution_count": null,
   "metadata": {},
   "outputs": [],
   "source": [
    "'+'.join(l)"
   ]
  },
  {
   "cell_type": "code",
   "execution_count": 16,
   "metadata": {},
   "outputs": [
    {
     "ename": "TypeError",
     "evalue": "cannot convert dictionary update sequence element #0 to a sequence",
     "output_type": "error",
     "traceback": [
      "\u001b[1;31m---------------------------------------------------------------------------\u001b[0m",
      "\u001b[1;31mTypeError\u001b[0m                                 Traceback (most recent call last)",
      "Cell \u001b[1;32mIn [16], line 2\u001b[0m\n\u001b[0;32m      1\u001b[0m l \u001b[39m=\u001b[39m [\u001b[39m1\u001b[39m,\u001b[39m2\u001b[39m]\n\u001b[1;32m----> 2\u001b[0m \u001b[39mdict\u001b[39;49m(l)\n",
      "\u001b[1;31mTypeError\u001b[0m: cannot convert dictionary update sequence element #0 to a sequence"
     ]
    }
   ],
   "source": [
    "l = [1,2]\n",
    "dict(l)"
   ]
  },
  {
   "cell_type": "code",
   "execution_count": 15,
   "metadata": {},
   "outputs": [
    {
     "data": {
      "text/plain": [
       "{1: 10, 2: 20, 3: 30}"
      ]
     },
     "execution_count": 15,
     "metadata": {},
     "output_type": "execute_result"
    }
   ],
   "source": [
    "l = [[1,10], [2,20], [3,30]]\n",
    "dict(l)"
   ]
  },
  {
   "cell_type": "code",
   "execution_count": 1,
   "metadata": {},
   "outputs": [
    {
     "data": {
      "text/plain": [
       "'ㄱ.ㄴ'"
      ]
     },
     "execution_count": 1,
     "metadata": {},
     "output_type": "execute_result"
    }
   ],
   "source": [
    "t = ('ㄱ', 'ㄴ')\n",
    "\n",
    "'.'.join(t)"
   ]
  },
  {
   "attachments": {},
   "cell_type": "markdown",
   "metadata": {},
   "source": [
    "### 3)튜플\n",
    "+ 튜플 -> 문자열: **`str()` vs. `'sep'.join(iterble)`**\n",
    "+ 튜플 -> 리스트: `list()`. 불변했던 것이 가변(mutable)해진다.\n",
    "+ 튜플 -> 집합: `set()`. **중복이 제거된다는 사실을 유의하자!**\n",
    "+ 튜플 -> 사전: `dict()`. 단, 키-값 형식을 잘 맞춰야.\n",
    "\n",
    "<br> \n",
    "\n",
    "+ <u>**그래서 대체 리스트와 튜플은 무슨 차이가 있고, 왜 둘 간의 형변환을 하는가?**</u>\n",
    "  1. `mutable` vs. `immutable`의 차이가 있기 때문이다!\n",
    "     + 리스트는 `mutable`하다. 따라서 특정 함수/메소드를 적용하면 적용한 리스트 객체 그 자체가 **변화**한다.\n",
    "     + 그러나 튜플은 `immutable`하다. 따라서 특정 함수/메소드를 적용하더라도, 객체 그 자체가 변화하는 것이 아니라 새로운 객체를 **반환**한다.\n",
    "  2. 나아가 `mutable`/`immutable` 속성은 `hashable`이라는 속성과도 연관된다. \n",
    "     + `mutable`하면 `unhashable`한 것이며, 반대로 `immutable`하면 `hashable`하다고 정리할 수 있다.\n",
    "       + 리스트는 `mutable`하기에, `unhashable`하고, 따라서 <u>**사전의 키로 활용하거나 집합의 원소로 쓸 수 없다.**</u>\n",
    "       + 반면, 튜플은 `immutable`하기에, `hashable`하고, 따라서 <u>**사전의 키로 활용하거나 집합의 원소로 쓸 수 있다!!!!**</u>\n",
    "\n",
    "\n",
    "<br>\n",
    "\n",
    "+ 참고: `hash`와 `hashable`\n",
    "  + 이론적으로 `hash`는 특정 값 혹은 객체를 `해쉬값`이라는 고유한 키값으로 다져놓는 것을 뜻한다.\n",
    "    + 곧, `해쉬값`은 특정 요소 혹은 객체가 가진 **주민등록번호**라고 할 수 있고, `해쉬`는 이러한 **주민등록번호를 만드는 과정**이라고 할 수 있다.\n",
    "  + 따라서 `해쉬값`만 알면, 우리는 해당 객체에 빠르게 접근할 수 있을 것이다. (참고: [해쉬테이블](https://baeharam.netlify.app/posts/data%20structure/hash-table))\n",
    "  + 이때, 우리가 매일 모습이 변하는 사람에게 주민등록번호를 부여하기 어렵듯이, 해쉬값 역시 불변하는 객체에 대해서만 부여할 수 있다.\n",
    "    + **그렇기에 개념적으로 hashable은 immutable과 연결지어 생각하면 좋을 것이다!**\n",
    "  + 그러나 이렇게 개념적으로 설명하더라도, 컴퓨터가 익숙하지 않다면 여전히 `immutable`이 `hashable`인지 혹은 그 반대인지 헷갈릴 수 있다.\n",
    "    + 그럴때는 우리가 좋아하는 해쉬브라운 감자튀김을 생각해보자. 감자를 으깨서(`hash`) 해쉬브라운을 만든다.\n",
    "      + 곧, 감자가 변하지 않는 모양을 가지기에(`immutable`), 으깰 수 있는(`hashable`) 것이다.\n",
    "    + 반면 물은 어떨까? 물은 모양이 변한다(`mutalbe`). 이런 물은 당연히 으깰 수 없을(`unhashable`) 것이다."
   ]
  },
  {
   "cell_type": "code",
   "execution_count": null,
   "metadata": {},
   "outputs": [],
   "source": [
    "t = ('1',)\n",
    "print(t, type(t))\n",
    "\n",
    "print(\n",
    "    list(t),\n",
    "    set(t),\n",
    "    sep = '\\n'\n",
    ")"
   ]
  },
  {
   "cell_type": "code",
   "execution_count": null,
   "metadata": {},
   "outputs": [],
   "source": [
    "str(t)"
   ]
  },
  {
   "cell_type": "code",
   "execution_count": null,
   "metadata": {},
   "outputs": [],
   "source": [
    "' '.join(t)\n"
   ]
  },
  {
   "cell_type": "code",
   "execution_count": null,
   "metadata": {},
   "outputs": [],
   "source": [
    "t = ((1,2), (3,4), ('a','b'))\n",
    "\n",
    "print(dict(t))"
   ]
  },
  {
   "attachments": {},
   "cell_type": "markdown",
   "metadata": {},
   "source": [
    "### 4)집합\n",
    "+ 집합 -> 문자열: **`str()` vs. `'sep'.join(iterble)`**\n",
    "+ 집합 -> 리스트: `list()`. 순서가 생긴다!\n",
    "+ 집합 -> 튜플: `tuple()`. 순서도 생기고 불변해진다!\n",
    "+ 집합 -> 사전: `dict()`. 단, 키-값 형식을 잘 맞춰야."
   ]
  },
  {
   "cell_type": "code",
   "execution_count": null,
   "metadata": {},
   "outputs": [],
   "source": [
    "s = {1,2,3}"
   ]
  },
  {
   "cell_type": "code",
   "execution_count": null,
   "metadata": {},
   "outputs": [],
   "source": [
    "print(\n",
    "    list(s),\n",
    "    tuple(s),\n",
    ")"
   ]
  },
  {
   "cell_type": "code",
   "execution_count": null,
   "metadata": {},
   "outputs": [],
   "source": [
    "s = {(1,2), (3,4), (5,6)}\n",
    "dict(s)"
   ]
  },
  {
   "attachments": {},
   "cell_type": "markdown",
   "metadata": {},
   "source": [
    "### 5)사전 ✅ 유의할 것 ✅\n",
    "+ 사전의 형변환은 기본적으로 **키**를 중심으로 이뤄진다!!!\n",
    "+ 사전 -> 문자열: **`str()` vs. `'sep'.join(iterble)`**\n",
    "+ 사전 -> 리스트: `list()`. 순서가 생긴다!\n",
    "+ 사전 -> 튜플: `tuple()`. 순서도 생기고 불변해진다!\n",
    "+ 사전 -> 집합: `set()`."
   ]
  },
  {
   "cell_type": "code",
   "execution_count": 17,
   "metadata": {},
   "outputs": [
    {
     "name": "stdout",
     "output_type": "stream",
     "text": [
      "{'korea': 1, 'yonsei': -100} <class 'dict'>\n",
      "['korea', 'yonsei']\n",
      "{'korea', 'yonsei'}\n",
      "('korea', 'yonsei')\n"
     ]
    }
   ],
   "source": [
    "d = {'korea': 1, 'yonsei':-100}\n",
    "print(d, type(d))\n",
    "\n",
    "print(\n",
    "    list(d),\n",
    "    set(d),\n",
    "    tuple(d),\n",
    "    sep = '\\n'\n",
    ")"
   ]
  },
  {
   "cell_type": "code",
   "execution_count": 18,
   "metadata": {},
   "outputs": [
    {
     "data": {
      "text/plain": [
       "\"{'korea': 1, 'yonsei': -100}\""
      ]
     },
     "execution_count": 18,
     "metadata": {},
     "output_type": "execute_result"
    }
   ],
   "source": [
    "str(d)"
   ]
  },
  {
   "cell_type": "code",
   "execution_count": 19,
   "metadata": {},
   "outputs": [
    {
     "data": {
      "text/plain": [
       "'korea vs yonsei'"
      ]
     },
     "execution_count": 19,
     "metadata": {},
     "output_type": "execute_result"
    }
   ],
   "source": [
    "' vs '.join(d)"
   ]
  },
  {
   "cell_type": "code",
   "execution_count": 20,
   "metadata": {},
   "outputs": [
    {
     "data": {
      "text/plain": [
       "('korea', 'yonsei')"
      ]
     },
     "execution_count": 20,
     "metadata": {},
     "output_type": "execute_result"
    }
   ],
   "source": [
    "tuple(d)"
   ]
  },
  {
   "cell_type": "code",
   "execution_count": 21,
   "metadata": {},
   "outputs": [
    {
     "data": {
      "text/plain": [
       "{'korea', 'yonsei'}"
      ]
     },
     "execution_count": 21,
     "metadata": {},
     "output_type": "execute_result"
    }
   ],
   "source": [
    "set(d)"
   ]
  },
  {
   "attachments": {},
   "cell_type": "markdown",
   "metadata": {},
   "source": [
    "### 집합/사전이 될 수 없는 데이터타입?\n",
    "+ ✅ `mutable`, 즉 `unhashable`한 데이터타입!"
   ]
  },
  {
   "cell_type": "code",
   "execution_count": null,
   "metadata": {},
   "outputs": [],
   "source": [
    "print(\n",
    "    set([1,2,3]),\n",
    "    set('123'),\n",
    "    set(['123', '456'])\n",
    ")\n"
   ]
  },
  {
   "cell_type": "code",
   "execution_count": null,
   "metadata": {},
   "outputs": [],
   "source": [
    "print(set([[1,2,3], ['456']]))"
   ]
  },
  {
   "cell_type": "code",
   "execution_count": null,
   "metadata": {},
   "outputs": [],
   "source": [
    "dict([1,2,3,4])"
   ]
  },
  {
   "cell_type": "code",
   "execution_count": null,
   "metadata": {},
   "outputs": [],
   "source": [
    "dict([(1,2), (3,4), (5,6)])"
   ]
  },
  {
   "cell_type": "code",
   "execution_count": null,
   "metadata": {},
   "outputs": [],
   "source": [
    "n = 1\n",
    "s = 'ㄱㄴㄷ'\n",
    "t = (1,2,3,4)\n",
    "\n",
    "\n",
    "dict(\n",
    "    (\n",
    "        (n, 1), (s, len(s)), (t, len(t))\n",
    "    )\n",
    ")"
   ]
  },
  {
   "cell_type": "code",
   "execution_count": null,
   "metadata": {},
   "outputs": [],
   "source": [
    "l = [1,2]\n",
    "t = (1,2,3,4)\n",
    "\n",
    "\n",
    "\n",
    "dict(\n",
    "        (\n",
    "            (l, len(l)), (t, len(t))\n",
    "        )\n",
    "    )"
   ]
  },
  {
   "cell_type": "code",
   "execution_count": null,
   "metadata": {},
   "outputs": [],
   "source": [
    "s = {1,2,3}\n",
    "t = (1,2,3,4)\n",
    "\n",
    "\n",
    "dict(\n",
    "        (\n",
    "            (s, len(s)), (t, len(t))\n",
    "        )\n",
    "    )"
   ]
  },
  {
   "attachments": {},
   "cell_type": "markdown",
   "metadata": {},
   "source": [
    "### (주의) `list(iterable)` vs. `[iterable]`\n"
   ]
  },
  {
   "cell_type": "code",
   "execution_count": 2,
   "metadata": {},
   "outputs": [
    {
     "name": "stdout",
     "output_type": "stream",
     "text": [
      "<class 'list'> <class 'list'>\n"
     ]
    }
   ],
   "source": [
    "t = (1,2,3)\n",
    "\n",
    "lt = list(t)\n",
    "til = [t]\n",
    "\n",
    "print(\n",
    "    type(lt),\n",
    "    type(til)\n",
    ")               ## 둘 다 타입은 리스트이지만..."
   ]
  },
  {
   "cell_type": "code",
   "execution_count": 4,
   "metadata": {},
   "outputs": [
    {
     "name": "stdout",
     "output_type": "stream",
     "text": [
      "[1, 2, 3]\n",
      "[(1, 2, 3)]\n"
     ]
    }
   ],
   "source": [
    "print(\n",
    "    lt,\n",
    "    til,\n",
    "    sep = '\\n'\n",
    ")\n",
    "## 전자는 튜플을 리스트로 바꾼 것이지만, \n",
    "## 후자는 **리스트 안에 튜플**을 담은 것이다!"
   ]
  },
  {
   "cell_type": "code",
   "execution_count": 7,
   "metadata": {},
   "outputs": [
    {
     "name": "stdout",
     "output_type": "stream",
     "text": [
      "<class 'tuple'> <class 'tuple'>\n",
      "(1, 2, 3) ({1, 2, 3},)\n"
     ]
    }
   ],
   "source": [
    "s = {1,2,3}\n",
    "\n",
    "ts = tuple(s)\n",
    "sit = (s,)      ## ✔ 반드시 , 찍어줘야!!!!\n",
    "\n",
    "print(\n",
    "    type(ts), type(sit)\n",
    ")\n",
    "\n",
    "print(\n",
    "    ts, sit\n",
    ")               ## 마찬가지로 둘 다 튜플이지만, 출력값은 다르다!"
   ]
  },
  {
   "attachments": {},
   "cell_type": "markdown",
   "metadata": {},
   "source": [
    "## ⏰⏰ 데이터타입 구분 총정리 ⏰⏰\n",
    "\n",
    "+ 반복불가\n",
    "  + ~~반복불가 순서있음~~\n",
    "  + 반복불가 순서없음: 숫자, 불,\n",
    "    + 사칙연산, 확장할당연산자\n",
    "    + 비교연산자\n",
    "\n",
    "<br>\n",
    "\n",
    "+ 반복가능 (공통: `in`, `len()`)\n",
    "  + 반복가능 순서없음\n",
    "    1. 집합\n",
    "       + 사칙 연산 중 유일하게 `- (차집합)`만 가능하다!\n",
    "       + 집합 연산자 (`|, &, -, ^`)\n",
    "         + 확장할당연산자도 가능했지 (`|=, &=, -=, ^=`)\n",
    "       + `|, |=, add, update` 차이\n",
    "    2. 사전\n",
    "       + 키와 값으로 관리한다!\n",
    "         + 키는 반드시 immutable(==hasahble)\n",
    "  + 반복가능 순서있음(공통: `+, *, 인덱싱, 슬라이싱, s.count(), s.index()`)\n",
    "    1. 문자열\n",
    "       + 1-1) 문자열의 내용 바꾸는 메서드(`str.replace(), str.upper(), str.lower()...`)\n",
    "       + 1-2) 좌or우의 공백/문자를 제거하는 strip류 메서드(`str.strip(), str.rstrip(), str.lstrip()`)\n",
    "       + > 단, **문자열 내용을 실제로 바꾸는 것은 아니다! 따라서 `재할당이 필요`하다!!**\n",
    "       + 1-3) 불값을 반환하는 메서드(`str.islower(), isnumeric()...`)\n",
    "    2. 리스트\n",
    "       + 2-1) 값 추가하기 (`list.append(a_value), list.insert(index, value), list.extend(iterable), list += new_list`)\n",
    "       + 2-1) 값 제거하기 (`list.remove(a_value), list.pop(index), list.clear()`)\n",
    "       + 2-2) 정렬, 뒤집기 (`list.sort(), list.reverse()`)\n",
    "       + > 리스트 **내용을 실제로 변화시킨다!! 값이 변하거나, 순서가 바뀐 리스트를 반환하는 것이 아니다!! 따라서 `재할당하면 안된다!!`**\n",
    "    3. 튜플\n",
    "       + 하나의 원소만 있는 튜플은 반드시 `,` 찍어줘야 (ex. `(1,)`)\n",
    "       + 고유한 메소드 없음."
   ]
  }
 ],
 "metadata": {
  "kernelspec": {
   "display_name": "Python 3",
   "language": "python",
   "name": "python3"
  },
  "language_info": {
   "codemirror_mode": {
    "name": "ipython",
    "version": 3
   },
   "file_extension": ".py",
   "mimetype": "text/x-python",
   "name": "python",
   "nbconvert_exporter": "python",
   "pygments_lexer": "ipython3",
   "version": "3.10.7 (tags/v3.10.7:6cc6b13, Sep  5 2022, 14:08:36) [MSC v.1933 64 bit (AMD64)]"
  },
  "orig_nbformat": 4,
  "vscode": {
   "interpreter": {
    "hash": "4afb0e4cf0ccb304fcfd6d7aabde069b35f9fca2102756c46539c1049f0d322d"
   }
  }
 },
 "nbformat": 4,
 "nbformat_minor": 2
}
