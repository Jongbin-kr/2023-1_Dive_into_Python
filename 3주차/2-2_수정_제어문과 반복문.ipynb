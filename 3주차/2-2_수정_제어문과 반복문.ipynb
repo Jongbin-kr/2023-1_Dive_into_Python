{
 "cells": [
  {
   "attachments": {},
   "cell_type": "markdown",
   "metadata": {},
   "source": [
    "# III. 제어문\n",
    "\n",
    "+ 제어문은 말 그대로 프로그램의 흐름을 제어하는 것.\n",
    "+ 크게 두 종류가 있다.\n",
    "  + 조건문: if\n",
    "  + 반복문: for, while"
   ]
  },
  {
   "attachments": {},
   "cell_type": "markdown",
   "metadata": {},
   "source": [
    "## 1.조건문: `if`문\n",
    "\n",
    "+ 불값과 함께 많이 쓰인다.\n",
    "+ `if` - `elif` - `else`\n",
    "+ 반드시 `:` 찍어야하고, **들여쓰기(공백 4개)**!!!!"
   ]
  },
  {
   "attachments": {},
   "cell_type": "markdown",
   "metadata": {},
   "source": [
    "### if - elif - else"
   ]
  },
  {
   "cell_type": "code",
   "execution_count": null,
   "metadata": {},
   "outputs": [],
   "source": [
    "a = 1\n",
    "b = 2\n",
    "\n",
    "if b > a:\n",
    "    print('b is larger than a!')\n",
    "else:\n",
    "    print('No, a is larger than b!')"
   ]
  },
  {
   "cell_type": "code",
   "execution_count": 1,
   "metadata": {},
   "outputs": [
    {
     "name": "stdout",
     "output_type": "stream",
     "text": [
      "c is larger than a!\n"
     ]
    }
   ],
   "source": [
    "a = 1\n",
    "b = 2\n",
    "c = 3\n",
    "\n",
    "if a > b:\n",
    "    print('a is larger than b!')\n",
    "elif b > c:\n",
    "    print('b is larger than c!')\n",
    "elif c > a:\n",
    "    print('c is larger than a!')"
   ]
  },
  {
   "cell_type": "code",
   "execution_count": null,
   "metadata": {},
   "outputs": [],
   "source": [
    "a = 1\n",
    "b = 1\n",
    "c = 1\n",
    "\n",
    "if a > b:\n",
    "    print('a is larger than b!')\n",
    "elif b > c:\n",
    "    print('b is larger than c!')\n",
    "elif c > a:\n",
    "    print('c is larger than a!')\n",
    "else:\n",
    "    print(\"maybe they're all same?\")"
   ]
  },
  {
   "attachments": {},
   "cell_type": "markdown",
   "metadata": {},
   "source": [
    "### `in`과 함께 쓸 수도 있고\n",
    "+ 왜냐면 얘는 불값을 반환하니까!"
   ]
  },
  {
   "cell_type": "code",
   "execution_count": null,
   "metadata": {},
   "outputs": [],
   "source": [
    "l = {1,2,3,4, ('1', '2,' '3')}\n",
    "value = '1'\n",
    "\n",
    "if value in l:\n",
    "    print('the value is in list!')\n",
    "else:\n",
    "    print('the value is NOT in list...')\n"
   ]
  },
  {
   "cell_type": "code",
   "execution_count": null,
   "metadata": {},
   "outputs": [],
   "source": [
    "l = {1,2,3,4, ('1', '2,' '3')}\n",
    "value = '1'\n",
    "\n",
    "if  value in l or int(value) in l:\n",
    "    print('the value is in l!')\n",
    "else:\n",
    "    print('the value is NOT in list...')"
   ]
  },
  {
   "attachments": {},
   "cell_type": "markdown",
   "metadata": {},
   "source": [
    "### 비교연산자와도 함께 쓸 수 있겠지?\n",
    "+ 얘도 불값을 반환하니까!\n",
    "  + 곧, 불값을 반환하는 함수/메소드 등등 모두 `if`랑 같이 쓸 수 있겠네!"
   ]
  },
  {
   "cell_type": "code",
   "execution_count": null,
   "metadata": {},
   "outputs": [],
   "source": [
    "job = '고등학생'\n",
    "\n",
    "if job == \"새내기\":\n",
    "    print(\"이제 대학생이니 공부 좀 해라\")\n",
    "elif job == '헌내기':\n",
    "    print(\"이제 새내기도 아니니까 공부해야지?\")\n",
    "elif job == \"고등학생\":\n",
    "    print(\"대학만 가면 다 놀 수 있다. 그때까지만 참고 공부해라.\")\n",
    "else:\n",
    "    print(\"내년이면 중학생인데 이제 공부해야지?\")\n"
   ]
  },
  {
   "attachments": {},
   "cell_type": "markdown",
   "metadata": {},
   "source": [
    "## 2.반복문\n",
    "+ `while`문\n",
    "  + **특정 조건동안만 반복하고 싶을 때 사용**\n",
    "  + 곧, `if`문에 반복을 더한 구조\n",
    "  + bool값을 반환하는 함수/메소드들과 함께 많이 쓰인다. (비교/논리연산자, is~류 함수들)\n",
    "\n",
    "<br>\n",
    "\n",
    "+ `for`문\n",
    "  + 보통의 프로그래밍 언어에서 `for`문은 특정 횟수동안만 반복하고 싶을 때 사용\n",
    "    + **그러나, 파이썬에서 `for`문은 `for each`에 해당한다.**\n",
    "    + **<u>곧, `iterable` 내의 모든 요소들을 한번씩 순회하는 것.</u>**\n",
    "  + **`len()` 함수, `range()`함수, `enumerate()` 함수**와 함께 많이 쓰인다.\n",
    "\n",
    "<br>\n",
    "\n",
    "+ `pass` vs. `continue` vs. `break`"
   ]
  },
  {
   "attachments": {},
   "cell_type": "markdown",
   "metadata": {},
   "source": [
    "### 2-1. `while`문"
   ]
  },
  {
   "cell_type": "code",
   "execution_count": null,
   "metadata": {},
   "outputs": [],
   "source": [
    "ship_cnt = 12\n",
    "\n",
    "while ship_cnt > 0:\n",
    "    print('신에게는 아직 ' + str(ship_cnt) + '척의 배가 남아있사옵니다.')\n",
    "    ship_cnt -= 1\n",
    "    print('\\t배를 한 척 잃었사옵니다...')\n",
    "\n",
    "print('\\n', 'ship_cnt ==', ship_cnt)\n",
    "print('신에게는 이제 배가 없사옵니다.') ## 이게 언제 출력되는지 잘 보자!!!"
   ]
  },
  {
   "cell_type": "code",
   "execution_count": null,
   "metadata": {},
   "outputs": [],
   "source": [
    "l = ['채연', '정아', '유진', '엄빅', '보경', '상민', '민서', '선아', '다회', '종빈']\n",
    "\n",
    "while l != []:\n",
    "    print(l.pop())"
   ]
  },
  {
   "attachments": {},
   "cell_type": "markdown",
   "metadata": {},
   "source": [
    "### 2-2. `for`문"
   ]
  },
  {
   "cell_type": "code",
   "execution_count": null,
   "metadata": {},
   "outputs": [],
   "source": [
    "for x in [1,2,3]:\n",
    "    print(x)\n",
    "\n",
    "print(x)    ## ✅ x의 값을 for문 밖에서도 사용할 수 있구나! --> (참고) 이런걸 전역변수(global variable)라고 불러요"
   ]
  },
  {
   "cell_type": "code",
   "execution_count": null,
   "metadata": {},
   "outputs": [],
   "source": [
    "l = ['재열', '나연', '형우', '동영', '도연', '진영','큰 수민', '작은 수민']\n",
    "\n",
    "for fossil in l:\n",
    "    print(fossil)"
   ]
  },
  {
   "attachments": {},
   "cell_type": "markdown",
   "metadata": {},
   "source": [
    "#### 1)`range()`함수"
   ]
  },
  {
   "cell_type": "code",
   "execution_count": null,
   "metadata": {},
   "outputs": [],
   "source": [
    "print(range)            ## range라는 별도의 데이터타입.\n",
    "                        ## ✅ 함수처럼 보이지만, 원칙적으로는 함수는 아니다. (참고: https://www.quora.com/Is-range-a-data-type-or-function-in-python)\n",
    "                        \n",
    "print(range(10))\n",
    "print(list(range(10)))"
   ]
  },
  {
   "cell_type": "code",
   "execution_count": null,
   "metadata": {},
   "outputs": [],
   "source": [
    "print(range(1,10))\n",
    "print('\\n')\n",
    "\n",
    "\n",
    "print(range(10,1,-1))\n",
    "print(list(range(10,1,-1)))\n",
    "print('\\n')\n",
    "\n",
    "\n",
    "print(range(1,10)[::-1])\n",
    "print(list(range(1,10)[::-1]))\n",
    "print('\\n')"
   ]
  },
  {
   "cell_type": "code",
   "execution_count": null,
   "metadata": {},
   "outputs": [],
   "source": [
    "print(list(range(1,10,2)))\n",
    "\n",
    "print(list(range(1,10)[::2]))"
   ]
  },
  {
   "cell_type": "code",
   "execution_count": null,
   "metadata": {},
   "outputs": [],
   "source": [
    "s = ('a', 'b', 'c', 'd')\n",
    "\n",
    "for i in range(len(s)):  ## ❓ 그냥 range(s)하면 안되나?\n",
    "    print(i)\n",
    "    print(s[i], '\\n')"
   ]
  },
  {
   "attachments": {},
   "cell_type": "markdown",
   "metadata": {},
   "source": [
    "#### 2)`enumerate(iterable)->list` 함수"
   ]
  },
  {
   "cell_type": "code",
   "execution_count": null,
   "metadata": {},
   "outputs": [],
   "source": [
    "l = ['재열', '나연', '형우', '동영', '도연', '진영','큰 수민', '작은 수민']\n",
    "\n",
    "print(enumerate(l))         ## 참고: 이러한 친구들을 제너레이터(generator)라고 부른다!!!\n",
    "print(list(enumerate(l)))"
   ]
  },
  {
   "cell_type": "code",
   "execution_count": null,
   "metadata": {},
   "outputs": [],
   "source": [
    "for i in range(len(l)):\n",
    "    print(i, l[i])"
   ]
  },
  {
   "cell_type": "code",
   "execution_count": null,
   "metadata": {},
   "outputs": [],
   "source": [
    "## !! 더욱 pythonic한 코드 !!\n",
    "for i, name in enumerate(l):\n",
    "    print(i, name)"
   ]
  },
  {
   "attachments": {},
   "cell_type": "markdown",
   "metadata": {},
   "source": [
    "#### 3)`pass`, `continue`, `break`"
   ]
  },
  {
   "cell_type": "code",
   "execution_count": null,
   "metadata": {},
   "outputs": [],
   "source": [
    "l = {1,2,3,4,5}\n",
    "\n",
    "for i in l:\n",
    "    print('START!')\n",
    "    if i == 3:\n",
    "        print(i)\n",
    "        print('CONTINUE...')\n",
    "        continue\n",
    "    if i == 4:\n",
    "        print(i)\n",
    "        print('BREAK!')\n",
    "        break\n",
    "    else:\n",
    "        print(i)\n",
    "        print(\"PASS\")\n",
    "        pass"
   ]
  },
  {
   "attachments": {},
   "cell_type": "markdown",
   "metadata": {},
   "source": [
    "## 3.데이터타입별 불값\n",
    "+ 지난 시간에 `불값`이라는 데이터타입이 마치 별개로 존재하는 것처럼 공부하였으나, \n",
    "+ <u>**사실 파이썬에서 불값은 모든 데이터타입이 가지고 있는 하나의 속성이라고 할 수 있다!**</u>\n",
    "+ 곧, 모든 파이썬 데이터타입들은 `불값`을 지니고 있다.\n",
    "  + 이때, 데이터타입이 `반복가능`한 경우, \n",
    "    + 어떠한 값도 포함하고 있지 않으면, 곧 빈 리스트/튜플/집합/사전의 경우 `False`로 평가되고,\n",
    "    + 값을 하나라도 포함하고 있으면, `True`로 평가된다.\n",
    "  + 한편, 반복불가능한 객체의 경우,\n",
    "    + 전에 배웠듯 0은 `False`로 평가되고,\n",
    "    + 1을 포함한 그 외의 모든 수는 `True`로 평가된다."
   ]
  },
  {
   "cell_type": "code",
   "execution_count": 2,
   "metadata": {},
   "outputs": [
    {
     "name": "stdout",
     "output_type": "stream",
     "text": [
      "False False False False False False\n"
     ]
    }
   ],
   "source": [
    "print(\n",
    "    bool(0),\n",
    "    bool(''),\n",
    "    bool([]),\n",
    "    bool(tuple()),\n",
    "    bool(set()),\n",
    "    bool({}),\n",
    ")"
   ]
  },
  {
   "cell_type": "code",
   "execution_count": 3,
   "metadata": {},
   "outputs": [
    {
     "name": "stdout",
     "output_type": "stream",
     "text": [
      "True True True True True True\n"
     ]
    }
   ],
   "source": [
    "print(\n",
    "    bool(9),\n",
    "    bool('123'),\n",
    "    bool([1,2,3]),\n",
    "    bool(tuple('r')),\n",
    "    bool({0}),\n",
    "    bool({0:1}),\n",
    ")"
   ]
  },
  {
   "cell_type": "code",
   "execution_count": 5,
   "metadata": {},
   "outputs": [
    {
     "name": "stdout",
     "output_type": "stream",
     "text": [
      "10\n",
      "9\n",
      "8\n",
      "7\n",
      "6\n",
      "5\n",
      "4\n",
      "3\n",
      "2\n",
      "1\n"
     ]
    }
   ],
   "source": [
    "## 이러한 데이터타입들의 불값을 활용해서 다음과 같이 코드를 짤 수도 있다.\n",
    "\n",
    "n = 10\n",
    "\n",
    "while n:        ## n이 0이되면 자동으로 False로 평가되어, 반복문을 탈출하기 때문에 굳이 while n > 0 과 같이 쓰지 않아도 된다!\n",
    "    print(n)\n",
    "    n -= 1"
   ]
  },
  {
   "attachments": {},
   "cell_type": "markdown",
   "metadata": {},
   "source": [
    "## 4.예제"
   ]
  },
  {
   "cell_type": "code",
   "execution_count": null,
   "metadata": {},
   "outputs": [],
   "source": [
    "chicken_brands = ['BBQ', 'KFC', 'BHC', '네네치킨', '후참잘']\n",
    "\n",
    "while chicken_brands != []: ## ✅ 사실 뒤의 `!= []`는 불필요한 코드다!! 곧, 없어도 제 기능을 한다.\n",
    "    print(chicken_brands.pop())\n",
    "\n",
    "\n",
    "print('-'*10)\n",
    "\n",
    "\n",
    "chicken_brands = ['BBQ', 'KFC', 'BHC', '네네치킨', '후참잘']\n",
    "## 바로 위 코드라인을 주석처리하면 어떻게 되는가?\n",
    "\n",
    "for brand in chicken_brands:\n",
    "    print(brand)\n",
    "    \n",
    "## ❓ 둘의 출력 순서를 같게 하려면???"
   ]
  },
  {
   "cell_type": "code",
   "execution_count": 3,
   "metadata": {},
   "outputs": [
    {
     "name": "stdout",
     "output_type": "stream",
     "text": [
      "o\n",
      "a\n",
      "s\n",
      "i\n",
      "s\n",
      "\n",
      "\n",
      "b\n",
      "l\n",
      "u\n",
      "r\n",
      "\n",
      "\n",
      "the beatles, you're name is TOO LONG.\n",
      "\n",
      "s\n",
      "u\n",
      "m\n",
      "4\n",
      "1\n",
      "\n",
      "\n",
      "q\n",
      "u\n",
      "e\n",
      "e\n",
      "n\n",
      "\n",
      "\n",
      "radiohead, you're name is TOO LONG.\n",
      "\n"
     ]
    }
   ],
   "source": [
    "bands = {'oasis', 'queen', 'blur', 'radiohead', 'the beatles', 'sum41'}\n",
    "\n",
    "for band in bands:\n",
    "    name_length = len(band)\n",
    "    if name_length <= 5:\n",
    "        name_index = 0\n",
    "        while name_index < name_length:\n",
    "            print(band[name_index])\n",
    "            name_index += 1\n",
    "        print('\\n')\n",
    "    \n",
    "    else:\n",
    "        print(band, ', you\\'re name is TOO LONG.\\n', sep = '')\n",
    "        "
   ]
  },
  {
   "cell_type": "code",
   "execution_count": 2,
   "metadata": {},
   "outputs": [
    {
     "name": "stdout",
     "output_type": "stream",
     "text": [
      "o\n",
      "a\n",
      "s\n",
      "i\n",
      "s\n",
      "\n",
      "\n",
      "b\n",
      "l\n",
      "u\n",
      "r\n",
      "\n",
      "\n",
      "the beatles, you're name is TOO LONG.\n",
      "\n",
      "s\n",
      "u\n",
      "m\n",
      "4\n",
      "1\n",
      "\n",
      "\n",
      "q\n",
      "u\n",
      "e\n",
      "e\n",
      "n\n",
      "\n",
      "\n",
      "radiohead, you're name is TOO LONG.\n",
      "\n"
     ]
    }
   ],
   "source": [
    "## 참고: 더 pythonic하게 코드를 다시 짜보면...\n",
    "bands = {'oasis', 'queen', 'blur', 'radiohead', 'the beatles', 'sum41'}\n",
    "\n",
    "for band in bands:\n",
    "    if name_length := len(band) <= 5:   ## 참고: walrus(바다코끼리) operator\n",
    "        for name_chr in band:\n",
    "            print(name_chr) ## 어차피 문자열도 iterable. 굳이 while을?\n",
    "        print('\\n')\n",
    "    \n",
    "    else:\n",
    "        print(band, ', you\\'re name is TOO LONG.\\n', sep = '')\n",
    "        "
   ]
  },
  {
   "cell_type": "code",
   "execution_count": null,
   "metadata": {},
   "outputs": [],
   "source": [
    "l = ['읏추추 춘식이', '대충만든 춘식이', '넥스트레벨을 추는 춘식이', '고구마먹는 춘식이', '행복한 라이언', '사실 카카오 회장인 라이언', '운동하는 라이언']\n",
    "\n",
    "for i, name in enumerate(l):\n",
    "    if name.split()[-1] == '라이언':\n",
    "        continue\n",
    "    print(i, name.split()[:-1])\n",
    "    \n",
    "print(\"춘식이 이모티콘 접두어 출력 끗~\")\n",
    "    "
   ]
  },
  {
   "cell_type": "code",
   "execution_count": null,
   "metadata": {},
   "outputs": [],
   "source": [
    "d = {\n",
    "    '춘식이': '귀엽다',\n",
    "    '라이언': '회장님',\n",
    "    '무지': '라이언 붕붕카를 탄다',\n",
    "    '어피치': '맛있게 생김',\n",
    "    '콘': '얘 정체가 뭐임?'\n",
    "}\n",
    "\n",
    "for name, character in d.items():\n",
    "    print(f'I think {name} is {character}.\\n')\n",
    "    ## 참고: 문자열 포매팅. \n"
   ]
  },
  {
   "cell_type": "code",
   "execution_count": 27,
   "metadata": {},
   "outputs": [
    {
     "name": "stdout",
     "output_type": "stream",
     "text": [
      "int\n",
      "## it is not numeric...\n",
      "int\n",
      "int\n",
      "float\n",
      "int\n",
      "## it is not numeric...\n",
      "## it is not numeric...\n",
      "## it is not numeric...\n",
      "int\n",
      "int\n",
      "## IT IS EMPTY LIST\n"
     ]
    }
   ],
   "source": [
    "num = [1,'r', 3,4,3.0, 5, 'abc', '종빈', '류이치 사카모토', 99, 100]\n",
    "\n",
    "\n",
    "while num:\n",
    "    if type(num[0]) == int:\n",
    "        print(\"int\")\n",
    "    elif type(num[0]) == float:\n",
    "        print(\"float\")\n",
    "    else:\n",
    "        print(\"## it is not numeric...\")\n",
    "    \n",
    "    num.pop(0)\n",
    "\n",
    "    if not num:\n",
    "        print('## IT IS EMPTY LIST')\n",
    "        "
   ]
  },
  {
   "attachments": {},
   "cell_type": "markdown",
   "metadata": {},
   "source": [
    "## (참고) 리스트/튜플/집합/사전 `내장(comprehension)`: 반복문을 더욱 pythonic하게 사용해보자\n",
    "+ 아래 내용들은 몰라도 파이썬을 활용하는 데 큰 지장은 없으나, 알고 있으면 제어문을 더욱 파이썬스럽게(pythonic)활용할 수 있다.\n",
    "+ **나아가, 수행시간 역시 일반적인 제어문보다 더욱 빠른데, 이는 데이터를 다루는 프로그래밍(자연어처리, 빅데이터 분석, 딥러닝 등)에서 더욱 유용하게 사용할 수 있다.**\n",
    "  + 반복문을 사용하면, 그만큼 수행시간(시간복잡도) 및 메모리(공간복잡도)의 측면에서 손해를 보게 되는데,\n",
    "  + `내장(comprehension)` 테크닉은 이러한 부분을 최소화할 수 있기에, 특히 큰 데이터를 다루는 프로그래밍을 할 예정이라면 반드시 익혀둘 필요가 있다.\n",
    "+ 문법이 여타 파이썬 문법에 비해 엄격하므로, 두 가지 형태를 잘 구분하여 익혀두자!"
   ]
  },
  {
   "cell_type": "code",
   "execution_count": 26,
   "metadata": {},
   "outputs": [
    {
     "name": "stdout",
     "output_type": "stream",
     "text": [
      "6.3 ns ± 0.0587 ns per loop (mean ± std. dev. of 7 runs, 100,000,000 loops each)\n",
      "[1, 3, 5, 7, 9, 11, 13, 15, 17, 19, 21, 23, 25, 27, 29, 31, 33, 35, 37, 39, 41, 43, 45, 47, 49, 51, 53, 55, 57, 59, 61, 63, 65, 67, 69, 71, 73, 75, 77, 79, 81, 83, 85, 87, 89, 91, 93, 95, 97, 99, 101, 103, 105, 107, 109, 111, 113, 115, 117, 119, 121, 123, 125, 127, 129, 131, 133, 135, 137, 139, 141, 143, 145, 147, 149, 151, 153, 155, 157, 159, 161, 163, 165, 167, 169, 171, 173, 175, 177, 179, 181, 183, 185, 187, 189, 191, 193, 195, 197, 199, 201, 203, 205, 207, 209, 211, 213, 215, 217, 219, 221, 223, 225, 227, 229, 231, 233, 235, 237, 239, 241, 243, 245, 247, 249, 251, 253, 255, 257, 259, 261, 263, 265, 267, 269, 271, 273, 275, 277, 279, 281, 283, 285, 287, 289, 291, 293, 295, 297, 299, 301, 303, 305, 307, 309, 311, 313, 315, 317, 319, 321, 323, 325, 327, 329, 331, 333, 335, 337, 339, 341, 343, 345, 347, 349, 351, 353, 355, 357, 359, 361, 363, 365, 367, 369, 371, 373, 375, 377, 379, 381, 383, 385, 387, 389, 391, 393, 395, 397, 399, 401, 403, 405, 407, 409, 411, 413, 415, 417, 419, 421, 423, 425, 427, 429, 431, 433, 435, 437, 439, 441, 443, 445, 447, 449, 451, 453, 455, 457, 459, 461, 463, 465, 467, 469, 471, 473, 475, 477, 479, 481, 483, 485, 487, 489, 491, 493, 495, 497, 499, 501, 503, 505, 507, 509, 511, 513, 515, 517, 519, 521, 523, 525, 527, 529, 531, 533, 535, 537, 539, 541, 543, 545, 547, 549, 551, 553, 555, 557, 559, 561, 563, 565, 567, 569, 571, 573, 575, 577, 579, 581, 583, 585, 587, 589, 591, 593, 595, 597, 599, 601, 603, 605, 607, 609, 611, 613, 615, 617, 619, 621, 623, 625, 627, 629, 631, 633, 635, 637, 639, 641, 643, 645, 647, 649, 651, 653, 655, 657, 659, 661, 663, 665, 667, 669, 671, 673, 675, 677, 679, 681, 683, 685, 687, 689, 691, 693, 695, 697, 699, 701, 703, 705, 707, 709, 711, 713, 715, 717, 719, 721, 723, 725, 727, 729, 731, 733, 735, 737, 739, 741, 743, 745, 747, 749, 751, 753, 755, 757, 759, 761, 763, 765, 767, 769, 771, 773, 775, 777, 779, 781, 783, 785, 787, 789, 791, 793, 795, 797, 799, 801, 803, 805, 807, 809, 811, 813, 815, 817, 819, 821, 823, 825, 827, 829, 831, 833, 835, 837, 839, 841, 843, 845, 847, 849, 851, 853, 855, 857, 859, 861, 863, 865, 867, 869, 871, 873, 875, 877, 879, 881, 883, 885, 887, 889, 891, 893, 895, 897, 899, 901, 903, 905, 907, 909, 911, 913, 915, 917, 919, 921, 923, 925, 927, 929, 931, 933, 935, 937, 939, 941, 943, 945, 947, 949, 951, 953, 955, 957, 959, 961, 963, 965, 967, 969, 971, 973, 975, 977, 979, 981, 983, 985, 987, 989, 991, 993, 995, 997, 999]\n"
     ]
    }
   ],
   "source": [
    "%timeit 10000  ## %로 시작하는 코드는 쥬피터노트북에서만 지원하는 매직 커맨드로서, 수행시간을 측정해준다.\n",
    "\n",
    "nums = range(1,1001)\n",
    "odd_nums = []\n",
    "\n",
    "for n in nums:\n",
    "    if n % 2 == 0: \n",
    "        continue\n",
    "    odd_nums.append(n)\n",
    "\n",
    "print(odd_nums)"
   ]
  },
  {
   "cell_type": "code",
   "execution_count": 25,
   "metadata": {},
   "outputs": [
    {
     "name": "stdout",
     "output_type": "stream",
     "text": [
      "6.25 ns ± 0.0292 ns per loop (mean ± std. dev. of 7 runs, 100,000,000 loops each)\n",
      "[1, 3, 5, 7, 9, 11, 13, 15, 17, 19, 21, 23, 25, 27, 29, 31, 33, 35, 37, 39, 41, 43, 45, 47, 49, 51, 53, 55, 57, 59, 61, 63, 65, 67, 69, 71, 73, 75, 77, 79, 81, 83, 85, 87, 89, 91, 93, 95, 97, 99, 101, 103, 105, 107, 109, 111, 113, 115, 117, 119, 121, 123, 125, 127, 129, 131, 133, 135, 137, 139, 141, 143, 145, 147, 149, 151, 153, 155, 157, 159, 161, 163, 165, 167, 169, 171, 173, 175, 177, 179, 181, 183, 185, 187, 189, 191, 193, 195, 197, 199, 201, 203, 205, 207, 209, 211, 213, 215, 217, 219, 221, 223, 225, 227, 229, 231, 233, 235, 237, 239, 241, 243, 245, 247, 249, 251, 253, 255, 257, 259, 261, 263, 265, 267, 269, 271, 273, 275, 277, 279, 281, 283, 285, 287, 289, 291, 293, 295, 297, 299, 301, 303, 305, 307, 309, 311, 313, 315, 317, 319, 321, 323, 325, 327, 329, 331, 333, 335, 337, 339, 341, 343, 345, 347, 349, 351, 353, 355, 357, 359, 361, 363, 365, 367, 369, 371, 373, 375, 377, 379, 381, 383, 385, 387, 389, 391, 393, 395, 397, 399, 401, 403, 405, 407, 409, 411, 413, 415, 417, 419, 421, 423, 425, 427, 429, 431, 433, 435, 437, 439, 441, 443, 445, 447, 449, 451, 453, 455, 457, 459, 461, 463, 465, 467, 469, 471, 473, 475, 477, 479, 481, 483, 485, 487, 489, 491, 493, 495, 497, 499, 501, 503, 505, 507, 509, 511, 513, 515, 517, 519, 521, 523, 525, 527, 529, 531, 533, 535, 537, 539, 541, 543, 545, 547, 549, 551, 553, 555, 557, 559, 561, 563, 565, 567, 569, 571, 573, 575, 577, 579, 581, 583, 585, 587, 589, 591, 593, 595, 597, 599, 601, 603, 605, 607, 609, 611, 613, 615, 617, 619, 621, 623, 625, 627, 629, 631, 633, 635, 637, 639, 641, 643, 645, 647, 649, 651, 653, 655, 657, 659, 661, 663, 665, 667, 669, 671, 673, 675, 677, 679, 681, 683, 685, 687, 689, 691, 693, 695, 697, 699, 701, 703, 705, 707, 709, 711, 713, 715, 717, 719, 721, 723, 725, 727, 729, 731, 733, 735, 737, 739, 741, 743, 745, 747, 749, 751, 753, 755, 757, 759, 761, 763, 765, 767, 769, 771, 773, 775, 777, 779, 781, 783, 785, 787, 789, 791, 793, 795, 797, 799, 801, 803, 805, 807, 809, 811, 813, 815, 817, 819, 821, 823, 825, 827, 829, 831, 833, 835, 837, 839, 841, 843, 845, 847, 849, 851, 853, 855, 857, 859, 861, 863, 865, 867, 869, 871, 873, 875, 877, 879, 881, 883, 885, 887, 889, 891, 893, 895, 897, 899, 901, 903, 905, 907, 909, 911, 913, 915, 917, 919, 921, 923, 925, 927, 929, 931, 933, 935, 937, 939, 941, 943, 945, 947, 949, 951, 953, 955, 957, 959, 961, 963, 965, 967, 969, 971, 973, 975, 977, 979, 981, 983, 985, 987, 989, 991, 993, 995, 997, 999]\n"
     ]
    }
   ],
   "source": [
    "%timeit 10000\n",
    "\n",
    "nums = range(1,1001)\n",
    "\n",
    "odd_nums = [n for n in nums if n % 2 != 0]\n",
    "\n",
    "print(odd_nums)\n",
    "\n",
    "## 환경에 따라 다르겠지만...미세하게 리스트내장이 더 빠르다.\n",
    "## 지금은 매우 간단한 연산이니 큰 차이가 나지 않지만, 만약 빅데이터를 다룬다면 이러한 작은 차이가 큰 시간의 차이로 나타날 것이다!"
   ]
  },
  {
   "attachments": {},
   "cell_type": "markdown",
   "metadata": {},
   "source": [
    "#### 1)x for x in ITERABLE if 조건문  형태의 구문\n",
    "+ **반드시 `x for x in ITERABLE`문을 먼저 쓰고, 이후 `if 조건문`을 사용한다.**\n"
   ]
  },
  {
   "cell_type": "code",
   "execution_count": 35,
   "metadata": {},
   "outputs": [
    {
     "name": "stdout",
     "output_type": "stream",
     "text": [
      "['1', '2', '3', '10', '100', '101', '102', '103', '501', '777']\n"
     ]
    }
   ],
   "source": [
    "l = ['a','1','2','b','d', '3','10', '100', 'x', 'y', '101', '102', '103', '501', '777']\n",
    "\n",
    "nums = [x for x in l if x.isnumeric()]\n",
    "\n",
    "print(nums)"
   ]
  },
  {
   "cell_type": "code",
   "execution_count": 36,
   "metadata": {},
   "outputs": [
    {
     "name": "stdout",
     "output_type": "stream",
     "text": [
      "['1', '3', '101', '103', '501', '777']\n"
     ]
    }
   ],
   "source": [
    "l = ['a','1','2','b','d', '3','10', '100', 'x', 'y', '101', '102', '103', '501', '777']\n",
    "\n",
    "odd_nums = [x for x in l \n",
    "                if x.isnumeric() \n",
    "                if int(x) % 2 == 1  ##  이렇게 if문을 중복해서 쓸 수도 있다.\n",
    "]     \n",
    "\n",
    "print(odd_nums)"
   ]
  },
  {
   "cell_type": "code",
   "execution_count": 37,
   "metadata": {},
   "outputs": [
    {
     "name": "stdout",
     "output_type": "stream",
     "text": [
      "['1', '3', '101', '103', '501', '777']\n"
     ]
    }
   ],
   "source": [
    "l = ['a','1','2','b','d', '3','10', '100', 'x', 'y', '101', '102', '103', '501', '777']\n",
    "\n",
    "odd_nums = [x for x in l \n",
    "                if x.isnumeric() and int(x) % 2 == 1]     ##  물론 and 연산자로 묶어서 표현할 수도 있겠지\n",
    "\n",
    "print(odd_nums)"
   ]
  },
  {
   "cell_type": "code",
   "execution_count": 46,
   "metadata": {},
   "outputs": [
    {
     "name": "stdout",
     "output_type": "stream",
     "text": [
      "[('101', 'is odd number!'), ('101', 'is also bigger than 100!'), ('103', 'is odd number!'), ('103', 'is also bigger than 100!'), ('501', 'is odd number!'), ('501', 'is also bigger than 100!'), ('777', 'is odd number!'), ('777', 'is also bigger than 100!')]\n"
     ]
    }
   ],
   "source": [
    "l = ['a','1','2','b','d', '3','10', '100', 'x', 'y', '101', '102', '103', '501', '777']\n",
    "s = ['is odd number!', 'is also bigger than 100!']\n",
    "\n",
    "odd_nums = [(x, y) \n",
    "                for x in l if x.isnumeric() and int(x) % 2 == 1\n",
    "                for y in s if int(x) >= 100]     ## 이런식으로 for문을 연속해서 사용할 수도 있다!\n",
    "\n",
    "print(odd_nums)"
   ]
  },
  {
   "attachments": {},
   "cell_type": "markdown",
   "metadata": {},
   "source": [
    "### 2)x if ~ else y for x in ITERABLE\n",
    "+ `x if~else y`문을 먼저 쓰고, 이후 `for x in ITERABLE`문을 사용한다."
   ]
  },
  {
   "cell_type": "code",
   "execution_count": 50,
   "metadata": {},
   "outputs": [
    {
     "name": "stdout",
     "output_type": "stream",
     "text": [
      "['하나', 2, '셋', 4, '다섯', 100, '백 하나', '천 하나', '구천 구백 구십 구']\n"
     ]
    }
   ],
   "source": [
    "l = [(1, '하나'), (2, '둘'), (3, '셋'), (4, '넷'), (5, '다섯'), (100, '백'), (101, '백 하나'), (1001, '천 하나'), (9999, '구천 구백 구십 구')]\n",
    "\n",
    "digits = [x if x % 2 == 0 else y for x, y in l]\n",
    "\n",
    "print(digits)"
   ]
  },
  {
   "cell_type": "code",
   "execution_count": 52,
   "metadata": {},
   "outputs": [
    {
     "name": "stdout",
     "output_type": "stream",
     "text": [
      "['하나', 2, '셋', 4, '다섯', 100, '몰?루', '몰?루', '몰?루']\n"
     ]
    }
   ],
   "source": [
    "l = [(1, '하나'), (2, '둘'), (3, '셋'), (4, '넷'), (5, '다섯'), (100, '백'), (101, '백 하나'), (1001, '천 하나'), (9999, '구천 구백 구십 구')]\n",
    "\n",
    "digits = [x if x % 2 == 0 \n",
    "            else y if x < 100   ## if문을 중첩할 수 있다!\n",
    "            else '몰?루' \n",
    "            for x, y in l]\n",
    "\n",
    "print(digits)"
   ]
  },
  {
   "attachments": {},
   "cell_type": "markdown",
   "metadata": {},
   "source": [
    "### 3)집합/사전 내장"
   ]
  },
  {
   "cell_type": "code",
   "execution_count": 73,
   "metadata": {},
   "outputs": [
    {
     "name": "stdout",
     "output_type": "stream",
     "text": [
      "{'Jake', 'Jane', 'Jongbin', 'ERROR', 'John', 'Junior'}\n"
     ]
    }
   ],
   "source": [
    "name_list = ['', 'John', '', 'Jane', 'Jongbin', '', 'Dada', 'Kim', '', 'Junior', 'Jake', '', 'Yuhaku']\n",
    "\n",
    "J_names = {name if name.startswith('J') else 'ERROR' for name in name_list}\n",
    "\n",
    "# J_names.remove('ERROR')\n",
    "\n",
    "print(J_names)"
   ]
  },
  {
   "cell_type": "code",
   "execution_count": 66,
   "metadata": {},
   "outputs": [
    {
     "data": {
      "text/plain": [
       "{'시': '⭐⭐⭐⭐⭐',\n",
       " '중경삼림': '⭐⭐⭐⭐⭐',\n",
       " '디태치먼트': '⭐⭐⭐⭐⭐',\n",
       " '8월의 크리스마스': '⭐⭐⭐⭐⭐',\n",
       " '쇼생크 탈출': '⭐⭐⭐⭐⭐',\n",
       " '파고': '⭐⭐⭐⭐⭐',\n",
       " '마더': '⭐⭐⭐⭐⭐',\n",
       " '이터널 선샤인': '⭐⭐⭐⭐⭐'}"
      ]
     },
     "execution_count": 66,
     "metadata": {},
     "output_type": "execute_result"
    }
   ],
   "source": [
    "d = {\n",
    "    '시': '이창동',\n",
    "    '중경삼림':'왕가위', \n",
    "    '디태치먼트':'토니 케이', \n",
    "    '8월의 크리스마스':'허진호',\n",
    "    '쇼생크 탈출':'프랭크 다라본트',\n",
    "    '파고': '코엔 형제',\n",
    "    '마더': '봉준호',\n",
    "    '이터널 선샤인': '미쉘 공드리',\n",
    "}\n",
    "\n",
    "good_movies = {movie : '⭐⭐⭐⭐⭐' for (movie, _) in d.items()}    ## _는 그냥 빈 공간 맞추기용. _대신 다른 변수를 써도 된다.\n",
    "                                                                        ## ❓❓ 그럼 만약 _를 안쓰면 변수 movie는 어떤 값을 할당받는가?\n",
    "(good_movies)"
   ]
  },
  {
   "cell_type": "code",
   "execution_count": 71,
   "metadata": {},
   "outputs": [
    {
     "data": {
      "text/plain": [
       "{'시': '❤', '8월의 크리스마스': '❤', '마더': '❤'}"
      ]
     },
     "execution_count": 71,
     "metadata": {},
     "output_type": "execute_result"
    }
   ],
   "source": [
    "d = {\n",
    "    '시': '이창동',\n",
    "    '중경삼림':'왕가위', \n",
    "    '디태치먼트':'토니 케이', \n",
    "    '8월의 크리스마스':'허진호',\n",
    "    '쇼생크 탈출':'프랭크 다라본트',\n",
    "    '파고': '코엔 형제',\n",
    "    '마더': '봉준호',\n",
    "    '이터널 선샤인': '미쉘 공드리',\n",
    "}\n",
    "\n",
    "korea = ['이창동', '허진호', '봉준호']\n",
    "\n",
    "\n",
    "good_korean_movies = {movie : '❤' for (movie, director) in d.items() if director in korea }\n",
    "\n",
    "good_korean_movies"
   ]
  },
  {
   "attachments": {},
   "cell_type": "markdown",
   "metadata": {},
   "source": [
    "### (참고)튜플 내장?\n",
    "+ 튜플 내장은 존재하지 않는다!\n",
    "  + 대신 튜플 내장은 `generator`를 생성한다.\n",
    "+ 이는 다음에 시간이 되면 다시 다루도록 하자."
   ]
  },
  {
   "cell_type": "code",
   "execution_count": 57,
   "metadata": {},
   "outputs": [
    {
     "name": "stdout",
     "output_type": "stream",
     "text": [
      "<generator object <genexpr> at 0x0000024A7ADE24D0>\n"
     ]
    }
   ],
   "source": [
    "t = (x for x in range(1,10) if x >= 5)\n",
    "\n",
    "print(t)"
   ]
  }
 ],
 "metadata": {
  "kernelspec": {
   "display_name": "Python 3",
   "language": "python",
   "name": "python3"
  },
  "language_info": {
   "codemirror_mode": {
    "name": "ipython",
    "version": 3
   },
   "file_extension": ".py",
   "mimetype": "text/x-python",
   "name": "python",
   "nbconvert_exporter": "python",
   "pygments_lexer": "ipython3",
   "version": "3.10.7"
  },
  "orig_nbformat": 4,
  "vscode": {
   "interpreter": {
    "hash": "4afb0e4cf0ccb304fcfd6d7aabde069b35f9fca2102756c46539c1049f0d322d"
   }
  }
 },
 "nbformat": 4,
 "nbformat_minor": 2
}
