{
 "cells": [
  {
   "attachments": {},
   "cell_type": "markdown",
   "metadata": {},
   "source": [
    "# IV.함수\n",
    "+ 지금까지 데이터타입별로 쓰이는 함수/메소드들을 공부헀다.\n",
    "+ 그러나 내가 하고싶은 동작을 하는 함수가 없다면? \n",
    "  + 내가 직접 함수를 만들면 된다!"
   ]
  },
  {
   "cell_type": "code",
   "execution_count": 5,
   "metadata": {},
   "outputs": [],
   "source": [
    "def plus(x,y):   ## x,y를 매개변수(parameter)라고 부른다.\n",
    "    return x + y\n",
    "\n",
    "plus(1, 2)"
   ]
  },
  {
   "cell_type": "code",
   "execution_count": 7,
   "metadata": {},
   "outputs": [
    {
     "data": {
      "text/plain": [
       "'ab'"
      ]
     },
     "execution_count": 7,
     "metadata": {},
     "output_type": "execute_result"
    }
   ],
   "source": [
    "def plus(x,y):\n",
    "    return x + y\n",
    "    print(\"END\")    ## ✅ return으로 함수를 반환하고 나면, 그 이후 코드는 실행 X\n",
    "    \n",
    "plus('a', 'b')"
   ]
  },
  {
   "cell_type": "code",
   "execution_count": 13,
   "metadata": {},
   "outputs": [
    {
     "name": "stdout",
     "output_type": "stream",
     "text": [
      "END\n"
     ]
    }
   ],
   "source": [
    "def plus(x,y):\n",
    "    return x + y\n",
    "\n",
    "plus(100,1)     ## 마찬가지로 그냥 값을 반환한 것이 뿐, 출력한 것은 아니네!\n",
    "print(\"END\")"
   ]
  },
  {
   "cell_type": "code",
   "execution_count": 14,
   "metadata": {},
   "outputs": [
    {
     "name": "stdout",
     "output_type": "stream",
     "text": [
      "101\n",
      "END\n"
     ]
    }
   ],
   "source": [
    "def plus(x,y):\n",
    "    result = x + y\n",
    "    print(result)\n",
    "    return result\n",
    "\n",
    "plus(100,1)     ## ✅ 함수 자체적으로 출력하는 기능을 하게 하면 되겠구나~\n",
    "                ## ✅ 근데 print()도 함수네? 함수 안에 함수를 쓸 수도 있구나\n",
    "print(\"END\")"
   ]
  },
  {
   "attachments": {},
   "cell_type": "markdown",
   "metadata": {},
   "source": [
    "## 1)함수는 `return`이 없을수도, 매개변수가 없을수도 있다!"
   ]
  },
  {
   "cell_type": "code",
   "execution_count": 18,
   "metadata": {},
   "outputs": [
    {
     "name": "stdout",
     "output_type": "stream",
     "text": [
      "11\n"
     ]
    }
   ],
   "source": [
    "## return이 없는 함수!\n",
    "\n",
    "def plusprint(x, y):\n",
    "    print(x + y)\n",
    "\n",
    "plusprint(10,1)\n",
    "\n",
    "## mutable한 객체들(튜플, 문자열 빼고 다)에 쓰이는, 객체 자체를 변화시키는 함수들은 보통 이런 식으로 함수가 짜여있겠지?"
   ]
  },
  {
   "cell_type": "code",
   "execution_count": 21,
   "metadata": {},
   "outputs": [
    {
     "data": {
      "text/plain": [
       "3"
      ]
     },
     "execution_count": 21,
     "metadata": {},
     "output_type": "execute_result"
    }
   ],
   "source": [
    "a = 1; b = 2\n",
    "\n",
    "def plusreturn():\n",
    "    return a + b\n",
    "\n",
    "plusreturn()    ## 일케 매개변수가 없을 수도 있다! \n",
    "                ## ❓ 이건 출력한거? 아님 호출/반환한거?"
   ]
  },
  {
   "cell_type": "code",
   "execution_count": 20,
   "metadata": {},
   "outputs": [
    {
     "name": "stdout",
     "output_type": "stream",
     "text": [
      "just\n"
     ]
    }
   ],
   "source": [
    "def justPrint():\n",
    "    print(\"just\")\n",
    "\n",
    "justPrint()     ## 요런 것도 모양새가 빠지긴 하지만 함수는 함수다"
   ]
  },
  {
   "attachments": {},
   "cell_type": "markdown",
   "metadata": {},
   "source": [
    "### `return`은 함수 하나당 한 번만 쓸 수 있고, 하나의 값만 출력한다!\n",
    "+ 최초의 return 뒤의 코드들은 전부 무시된다고 말했지~?\n",
    "+ 근데 return값 자체도 여러 개를 넣어도 하나만 출력된다!"
   ]
  },
  {
   "cell_type": "code",
   "execution_count": 27,
   "metadata": {},
   "outputs": [
    {
     "data": {
      "text/plain": [
       "(1, 2, 3)"
      ]
     },
     "execution_count": 27,
     "metadata": {},
     "output_type": "execute_result"
    }
   ],
   "source": [
    "def multipleReturn(a, b):\n",
    "    return a, b, a + b\n",
    "    return a * b           ## 이 코드는 무시되고,\n",
    "\n",
    "multipleReturn(1,2)\n",
    "\n",
    "## return값으로 여러 개를 받아도, 정작 반환하는 것은 **하나의 튜플**이다!"
   ]
  },
  {
   "attachments": {},
   "cell_type": "markdown",
   "metadata": {},
   "source": [
    "## 2)함수의 지역변수 vs. 반복/제어문의 전역변수"
   ]
  },
  {
   "cell_type": "code",
   "execution_count": 15,
   "metadata": {},
   "outputs": [
    {
     "name": "stdout",
     "output_type": "stream",
     "text": [
      "11\n",
      "END\n"
     ]
    },
    {
     "ename": "NameError",
     "evalue": "name 'result' is not defined",
     "output_type": "error",
     "traceback": [
      "\u001b[1;31m---------------------------------------------------------------------------\u001b[0m",
      "\u001b[1;31mNameError\u001b[0m                                 Traceback (most recent call last)",
      "Cell \u001b[1;32mIn [15], line 8\u001b[0m\n\u001b[0;32m      6\u001b[0m plus(\u001b[39m10\u001b[39m,\u001b[39m1\u001b[39m)\n\u001b[0;32m      7\u001b[0m \u001b[39mprint\u001b[39m(\u001b[39m\"\u001b[39m\u001b[39mEND\u001b[39m\u001b[39m\"\u001b[39m)\n\u001b[1;32m----> 8\u001b[0m \u001b[39mprint\u001b[39m(result)\n",
      "\u001b[1;31mNameError\u001b[0m: name 'result' is not defined"
     ]
    }
   ],
   "source": [
    "def plus(x,y):\n",
    "    result = x + y\n",
    "    print(result)\n",
    "    return result\n",
    "\n",
    "plus(10,1)\n",
    "print(\"END\")\n",
    "print(result)       ## ✅ 함수 안에서 선언된 변수는 지역변수(local variable)로,\n",
    "                    ## ✅ 함수 밖에서는 사용할 수 없다!!!!\n",
    "                    ## ✅ <-> 반복/제어문의 전역변수"
   ]
  },
  {
   "cell_type": "code",
   "execution_count": 17,
   "metadata": {},
   "outputs": [
    {
     "name": "stdout",
     "output_type": "stream",
     "text": [
      "1\n",
      "2\n",
      "3\n",
      "103\n"
     ]
    }
   ],
   "source": [
    "for x in [1,2,3]:\n",
    "    num = x+100\n",
    "    print(x)\n",
    "    \n",
    "print(num)      ## ✅✅ 반복/제어문은 전역변수, 함수는 지역변수~"
   ]
  },
  {
   "attachments": {},
   "cell_type": "markdown",
   "metadata": {},
   "source": [
    "## 3)함수 매개변수의 기본값 지정해주기\n",
    "+ 우리 `print()`함수를 생각해보면, `sep` 매개변수를 설정해서 출력값들간의 구분자(seperator)를 설정해줄 수 있었다!\n",
    "  + `print(~~~, sep = '\\n')` 이런 식으로 쓸수도,\n",
    "  + 혹은 `sep = '\\n'`을 안쓸 수도 있었다. \n",
    "    + 그럼 기본값으로 `sep = ' '(띄어쓰기 하나)`이 들어가는 식이지.\n",
    "\n",
    "<br>\n",
    "\n",
    "+ 마찬가지로, 우리가 함수를 만들 때에도 기본값을 지정해줄 수 있다!"
   ]
  },
  {
   "cell_type": "code",
   "execution_count": 23,
   "metadata": {},
   "outputs": [
    {
     "name": "stdout",
     "output_type": "stream",
     "text": [
      "105 25\n"
     ]
    }
   ],
   "source": [
    "def defaultPlus(x, y = 100):\n",
    "    return x + y\n",
    "\n",
    "print(\n",
    "    defaultPlus(5),     ## 두번째 매개변수는 기본적으로 100!\n",
    "    defaultPlus(5, 20)  ## 값을 지정해주면 그걸로 들어간다!\n",
    ")"
   ]
  },
  {
   "attachments": {},
   "cell_type": "markdown",
   "metadata": {},
   "source": [
    "# lambda(익명) 함수\n",
    "+ 사실 우리가 위에서 쓴 함수들은 굉장히 간단한 내용이고, 굳이 이름을 지정해주는 등 거창하게 코드를 짜지 않아도 된다.\n",
    "+ 그럴 때 사용하는 게 바로 `lambda(익명) 함수`, 즉 이름이 없는 함수다!\n",
    "\n",
    "<br>\n",
    "\n",
    "+ <u>**람다 함수의 핵심은 여타 함수들과 연계하여 다양하게 쓸 수 있다는 것이다!**</u>"
   ]
  },
  {
   "cell_type": "code",
   "execution_count": 44,
   "metadata": {},
   "outputs": [
    {
     "data": {
      "text/plain": [
       "30"
      ]
     },
     "execution_count": 44,
     "metadata": {},
     "output_type": "execute_result"
    }
   ],
   "source": [
    "(lambda x, y: x + y)(10,20)     ## : 앞의 x, y가 매개변수.\n",
    "                                ## : 뒤의 x + y가 함수가 하는 작업"
   ]
  },
  {
   "cell_type": "code",
   "execution_count": 37,
   "metadata": {},
   "outputs": [
    {
     "name": "stdout",
     "output_type": "stream",
     "text": [
      "1000\n"
     ]
    }
   ],
   "source": [
    "lmmul = lambda a, b: a * b  ## 이런식으로 할당해서 할 수도 있고\n",
    "\n",
    "print(lmmul(10, 100))   ## 람다함수는 자동으로 값을 return하는구나!"
   ]
  },
  {
   "attachments": {},
   "cell_type": "markdown",
   "metadata": {},
   "source": [
    "## sorted와 람다함수의 활용\n",
    "+ 그 외에 `map`함수, `filter`함수 들도 람다함수와 함께 쓰면 맛있게 쓸 수 있다!"
   ]
  },
  {
   "cell_type": "code",
   "execution_count": 41,
   "metadata": {},
   "outputs": [
    {
     "data": {
      "text/plain": [
       "[(1, 20), (2, 50), (3, 40), (4, 60)]"
      ]
     },
     "execution_count": 41,
     "metadata": {},
     "output_type": "execute_result"
    }
   ],
   "source": [
    "d = [(1,20), (2,50), (3,40), (4,60)]\n",
    "sorted(d)"
   ]
  },
  {
   "cell_type": "code",
   "execution_count": 42,
   "metadata": {},
   "outputs": [
    {
     "data": {
      "text/plain": [
       "[(4, 60), (3, 40), (2, 50), (1, 20)]"
      ]
     },
     "execution_count": 42,
     "metadata": {},
     "output_type": "execute_result"
    }
   ],
   "source": [
    "## 여기서 만약 튜플의 두번째 원소를 기준으로 정렬하려면?\n",
    "sorted(d, reverse = True)\n",
    "\n",
    "## 이건 그냥 냅다 정렬순서를 뒤집는 것 밖에 안되는데?"
   ]
  },
  {
   "cell_type": "code",
   "execution_count": 45,
   "metadata": {},
   "outputs": [
    {
     "data": {
      "text/plain": [
       "[(1, 20), (3, 40), (2, 50), (4, 60)]"
      ]
     },
     "execution_count": 45,
     "metadata": {},
     "output_type": "execute_result"
    }
   ],
   "source": [
    "sorted(d, key = lambda x: x[1])\n",
    "## 람다함수를 활용해 정렬의 key값을 정해주면 그걸 기준으로 정렬할 수 있다!"
   ]
  }
 ],
 "metadata": {
  "kernelspec": {
   "display_name": "Python 3",
   "language": "python",
   "name": "python3"
  },
  "language_info": {
   "codemirror_mode": {
    "name": "ipython",
    "version": 3
   },
   "file_extension": ".py",
   "mimetype": "text/x-python",
   "name": "python",
   "nbconvert_exporter": "python",
   "pygments_lexer": "ipython3",
   "version": "3.10.7 (tags/v3.10.7:6cc6b13, Sep  5 2022, 14:08:36) [MSC v.1933 64 bit (AMD64)]"
  },
  "orig_nbformat": 4,
  "vscode": {
   "interpreter": {
    "hash": "4afb0e4cf0ccb304fcfd6d7aabde069b35f9fca2102756c46539c1049f0d322d"
   }
  }
 },
 "nbformat": 4,
 "nbformat_minor": 2
}
