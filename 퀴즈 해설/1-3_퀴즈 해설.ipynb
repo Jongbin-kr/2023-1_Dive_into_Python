{
 "cells": [
  {
   "attachments": {},
   "cell_type": "markdown",
   "metadata": {},
   "source": [
    "#### Q1. 자신의 이름을 `입력`받아, `출력`하는 ***한줄 코드***를 작성하시오."
   ]
  },
  {
   "cell_type": "code",
   "execution_count": 1,
   "metadata": {},
   "outputs": [
    {
     "name": "stdout",
     "output_type": "stream",
     "text": [
      "원종빈\n"
     ]
    }
   ],
   "source": [
    "## 여기에 작성하면 됩니다.\n",
    "print(input())"
   ]
  },
  {
   "attachments": {},
   "cell_type": "markdown",
   "metadata": {},
   "source": [
    "#### Q1-1. 자신의 이름, 친구의 이름을 입력받아 유의미한 문장 `호출`하기\n",
    "+ 먼저, 자신의 이름을 입력받으시오.\n",
    "+ 이어서, 친구의 이름을 입력받으시오.\n",
    "+ 두 이름을 연결하여, 2줄 이상의 유의미한 문장을 `호출`하시오. (출력 X)\n",
    "+ 코드 라인 수 제한 X"
   ]
  },
  {
   "cell_type": "code",
   "execution_count": 2,
   "metadata": {},
   "outputs": [
    {
     "data": {
      "text/plain": [
       "'aas and df are my friends!'"
      ]
     },
     "execution_count": 2,
     "metadata": {},
     "output_type": "execute_result"
    }
   ],
   "source": [
    "friend_name_1 = input()   ## input함수의 리턴값은 항상 문자열\n",
    "friend_name_2 = input()\n",
    "\n",
    "friend_name_1 + ' and ' + friend_name_2 + ' are my friends!'"
   ]
  },
  {
   "attachments": {},
   "cell_type": "markdown",
   "metadata": {},
   "source": [
    "#### Q2. 다음 코드의 아웃풋셀에 출력되는 값을 예상하시오.\n",
    "+ `;`는 줄바꿈 표시\n",
    "  \n",
    "```\n",
    "a = 0; b = 1; c = 2; d = 3\n",
    "T = True; F = False\n",
    "\n",
    "print(\n",
    "    a or b,     ## 1\n",
    "    a and b,    ## 2\n",
    "    b or c,     ## 3\n",
    " \n",
    "    a == T,     ## 4\n",
    "    b != F,     ## 5\n",
    "     \n",
    "    c >= d,     ## 6\n",
    "    c > b,      ## 7\n",
    "    F < d       ## 8\n",
    ")\n",
    "```"
   ]
  },
  {
   "attachments": {},
   "cell_type": "markdown",
   "metadata": {},
   "source": [
    "-- 여기에 정답을 기술하시오. --\n",
    "\n",
    "1: 1        ## 논리연산자의 작동방식은 조금 특이해, 블로그를 참고하자. (https://wikidocs.net/22211)\n",
    "\n",
    "2: 0\n",
    "\n",
    "3: 1\n",
    "\n",
    "4: False    ## 비교연산자(==, !=)는 결과값으로 항상 불값을 리턴한다.\n",
    "\n",
    "5: True\n",
    "\n",
    "6: False\n",
    "\n",
    "7: True\n",
    "\n",
    "8: True"
   ]
  },
  {
   "attachments": {},
   "cell_type": "markdown",
   "metadata": {},
   "source": [
    "#### Q3. 인덱싱, 슬라이싱.\n",
    "+ 다음 셀의 아웃풋셀을 예측하시오.\n",
    "\n",
    "```\n",
    "a = '영일이삼사'\n",
    "\n",
    "print(a[2:4])       ## 1\n",
    "print(a[2:4:1])     ## 2\n",
    "print(a[2:4:2])     ## 3\n",
    "print(a[0:5])       ## 4\n",
    "a[1:5]              ## 5\n",
    "\n",
    "print(a[-1:-5:-1])  ## 6\n",
    "print(a[1:5][2:5])  ## 7\n",
    "print(a[1:5][::-1]) ## 8\n",
    "```\n"
   ]
  },
  {
   "attachments": {},
   "cell_type": "markdown",
   "metadata": {},
   "source": [
    "--본 셀은 텍스트 셀이므로 그냥 답을 서술하시면 됩니다.--\n",
    "\n",
    "1: '이삼'\n",
    "\n",
    "2: '이삼'\n",
    "\n",
    "3: '이'\n",
    "\n",
    "4: '영일이삼사'\n",
    "\n",
    "5: 아무것도 출력안됨. 호출이니까.\n",
    "\n",
    "6: '사삼이일'\n",
    "\n",
    "7: '삼사'\n",
    "\n",
    "8: '사삼이일'"
   ]
  },
  {
   "attachments": {},
   "cell_type": "markdown",
   "metadata": {},
   "source": [
    "#### Q4. 주어진 변수 `s`를 활용해\n",
    "+ 'I love you'를 출력하는 한 줄 코드를 짜보자.\n",
    "+ 'u'만 출력하는 한 줄 코드를 짜보자.\n",
    "+ 'love'만 출력하는 한 줄 코드를 짜보자.\n",
    "+ 문자열 전체를 뒤집어서도 출력하는 한 줄 코드를 짜보자. (uoy evol I)\n",
    "  + 문자열 전체를 뒤집는 다른 방법은 없는지도 고민해보자.\n",
    "+ 'uoy'만 출력하는 한 줄 코드를 짜보자."
   ]
  },
  {
   "cell_type": "code",
   "execution_count": 12,
   "metadata": {},
   "outputs": [
    {
     "name": "stdout",
     "output_type": "stream",
     "text": [
      "I love you\n",
      "u\n",
      "u\n",
      "love\n",
      "uoy evol I\n",
      "uoy evol I\n",
      "uoy\n",
      "uoy\n"
     ]
    }
   ],
   "source": [
    "## 코드로 제출하세요.\n",
    "## 각각 코드 한 줄씩, 총 5줄\n",
    "s = 'I love you'\n",
    "\n"
   ]
  },
  {
   "cell_type": "code",
   "execution_count": null,
   "metadata": {},
   "outputs": [],
   "source": [
    "## 1번\n",
    "print(s)\n",
    "\n",
    "\n",
    "## 2번\n",
    "print(s[-1])\n",
    "\n",
    "## 2번에서 인덱스 일일이 세기 귀찮을 때\n",
    "print(s[s.index('u')])\n",
    "\n",
    "\n",
    "## 3번\n",
    "print(s.strip(' Iyou'))\n",
    "\n",
    "\n",
    "## 4번\n",
    "print(s[::-1])\n",
    "\n",
    "## 4번 다른 방법\n",
    "l = list(s)\n",
    "l.reverse()\n",
    "print(''.join(l))\n",
    "\n",
    "\n",
    "## 5번\n",
    "print(s[::-1][0:3])\n",
    "\n",
    "## 5번 좀 더 복잡한 방법\n",
    "print(s[-1:-4:-1])"
   ]
  },
  {
   "attachments": {},
   "cell_type": "markdown",
   "metadata": {},
   "source": [
    "#### Q5. 🔥 다음 코드에서 \n",
    "+ `ll`에 할당된 값들을 `내림차순으로 정렬`하고, `중복된 요소가 제거된` `리스트`를 출력하는 한 줄 코드를 작성하라.\n",
    "  + 세션 중 직접 배우지는 않았으나, 배운 내용들을 응용해 해결할 수 있음.\n",
    "+ `lll`에도 같은 작업을 수행하는 한 줄 코드를 작성하라. \n",
    "+ `ll`과 `lll`의 요소들을 모두 `출력`하되(최종적으로 두 리스트의 요소는 같다.), 두 출력값간의 구분자로서 줄바꿈을 하는 한 줄코드를 각각 작성하라. \n",
    "+ (총 코드 3줄)\n",
    "\n",
    "<br>\n"
   ]
  },
  {
   "cell_type": "code",
   "execution_count": 30,
   "metadata": {},
   "outputs": [
    {
     "name": "stdout",
     "output_type": "stream",
     "text": [
      "[3, 1, 2]\n",
      "[3, 1, 2, 3, 1, 2]\n",
      "[3, 1, 2, 3, 1, 2, 3, 1, 2]\n"
     ]
    }
   ],
   "source": [
    "l = [3,1,2]\n",
    "\n",
    "ll = l + l\n",
    "print(l)\n",
    "print(ll)\n",
    "\n",
    "lll = l * 3\n",
    "print(lll)\n",
    "\n",
    "## 이어서 코드를 작성해서 제출하세요.\n",
    "## ll을 l로 바꾸기 위한 코드 한 줄, lll을 l로 바꾸기 위한 코드 한 줄, \n",
    "## 두 개의 리스트를 모두 출력하되, ll의 출력과 lll의 출력 사이에 줄바꿈이 자동으로 되게하는 출력코드 한 줄\n",
    "## 총 3줄 짜리 코드를 작성하시오.\n"
   ]
  },
  {
   "cell_type": "code",
   "execution_count": 31,
   "metadata": {},
   "outputs": [
    {
     "name": "stdout",
     "output_type": "stream",
     "text": [
      "[3, 2, 1]\n",
      "[3, 2, 1]\n",
      "[3, 1, 2, 3, 1, 2]\n",
      "[3, 1, 2, 3, 1, 2, 3, 1, 2]\n"
     ]
    }
   ],
   "source": [
    "## 1. ll 내림차순 정렬 and 중복요소 세거\n",
    "print(sorted(set(ll), reverse = True))\n",
    "\n",
    "## 2. lll 역시 같은 작업\n",
    "print(sorted(set(lll), reverse = True))\n",
    "\n",
    "## 3. 모두 출력하되 줄바꿈으로 구분자\n",
    "print(ll, lll, sep = '\\n')\n"
   ]
  },
  {
   "attachments": {},
   "cell_type": "markdown",
   "metadata": {},
   "source": [
    "#### Q6. 변수 `x`를 활용해 `^_^love you`를 출력하는 한 줄 코드를 작성하시오."
   ]
  },
  {
   "cell_type": "code",
   "execution_count": 29,
   "metadata": {},
   "outputs": [
    {
     "name": "stdout",
     "output_type": "stream",
     "text": [
      "^_^love you \n",
      "^_^love you\n",
      "11\n",
      "^_^love you\n",
      "^_^love you\n"
     ]
    }
   ],
   "source": [
    "x = '^_^love you ___^^^^___'\n",
    "\n",
    "## 변수 x활용, 반드시 한 줄 코드"
   ]
  },
  {
   "cell_type": "code",
   "execution_count": null,
   "metadata": {},
   "outputs": [],
   "source": [
    "## 기본 풀이\n",
    "print(x.rstrip('_^'))\n",
    "\n",
    "## 조금 꼬아서 푼 풀이\n",
    "print(x.split(' ')[0] + ' ' + x.split(' ')[1])\n",
    "\n",
    "## 가장 원초적 풀이\n",
    "print(x[:11])\n",
    "print(x[:x.rindex(' ')])"
   ]
  },
  {
   "attachments": {},
   "cell_type": "markdown",
   "metadata": {},
   "source": [
    "#### Q7. 🔥 리스트 `l` 내부의 리스트 `[4,5,6]`에 7, 8을 요소로 추가하는 ***한 줄 코드***를 작성하시오"
   ]
  },
  {
   "cell_type": "code",
   "execution_count": 36,
   "metadata": {},
   "outputs": [],
   "source": [
    "l = [1,2,3, [4,5,6], 9,10,11]\n",
    "\n",
    "##  변수 l 활용. 무조건 한줄로 코드 작성"
   ]
  },
  {
   "cell_type": "code",
   "execution_count": 39,
   "metadata": {},
   "outputs": [
    {
     "name": "stdout",
     "output_type": "stream",
     "text": [
      "[1, 2, 3, [4, 5, 6, 7, 8], 9, 10, 11]\n"
     ]
    }
   ],
   "source": [
    "## 가장 간단한 풀이\n",
    "l = [1,2,3, [4,5,6], 9,10,11]\n",
    "\n",
    "l[3] += [7,8]\n",
    "print(l)"
   ]
  },
  {
   "cell_type": "code",
   "execution_count": 38,
   "metadata": {},
   "outputs": [
    {
     "name": "stdout",
     "output_type": "stream",
     "text": [
      "[1, 2, 3, [4, 5, 6, 7, 8], 9, 10, 11]\n"
     ]
    }
   ],
   "source": [
    "## 좀 더 함수를 활용한 풀이\n",
    "l = [1,2,3, [4,5,6], 9,10,11]\n",
    "\n",
    "l[3].extend([7,8])\n",
    "print(l)"
   ]
  },
  {
   "attachments": {},
   "cell_type": "markdown",
   "metadata": {},
   "source": [
    "#### Q8. 다음을 수행하는 코드를 작성하시오.\n",
    "+ 변수 `x = 'afdbec'`를 활용해,\n",
    "+ `['f', 'e', 'd', 'c', 'b', 'a']`를 `호출`하는 \n",
    "+ 코드를 작성하시오."
   ]
  },
  {
   "cell_type": "code",
   "execution_count": 41,
   "metadata": {},
   "outputs": [],
   "source": [
    "x = 'afdbec'\n"
   ]
  },
  {
   "cell_type": "code",
   "execution_count": 42,
   "metadata": {},
   "outputs": [
    {
     "data": {
      "text/plain": [
       "['f', 'e', 'd', 'c', 'b', 'a']"
      ]
     },
     "execution_count": 42,
     "metadata": {},
     "output_type": "execute_result"
    }
   ],
   "source": [
    "sorted(x, reverse = True)"
   ]
  },
  {
   "attachments": {},
   "cell_type": "markdown",
   "metadata": {},
   "source": [
    "#### Q9. 🔥🔥 다음과 같이 변수`profile`이 주어졌을 때, 다음을 수행하는 코드를 작성하시오.\n",
    "+ 1)`profile`을 이름파트(변수명 `name`), 연도파트(변수명 `year`), 직업(변수명 `job`)파트로 나누는 코드를 작성하시오. \n",
    "  + 한 줄도 가능하나, 당장은 여러 줄 코드 작성\n",
    "+ 2)이름 파트(`name`)에 대해서, **특정 메소드를 활용해,**\n",
    "  + First name과 Last name만 남겨두고 (곧 `von`과 특수문자 `_`은 삭제하고) \n",
    "  + 모두 대문자로 바꾸어,\n",
    "  + First name과 Last name을 공백(스페이스바 하나)으로 연결한 새로운 변수 `short_name`을 출력하는\n",
    "  + 한 줄 코드를 작성하시오."
   ]
  },
  {
   "cell_type": "code",
   "execution_count": 44,
   "metadata": {},
   "outputs": [
    {
     "ename": "NameError",
     "evalue": "name 'name' is not defined",
     "output_type": "error",
     "traceback": [
      "\u001b[1;31m---------------------------------------------------------------------------\u001b[0m",
      "\u001b[1;31mNameError\u001b[0m                                 Traceback (most recent call last)",
      "Cell \u001b[1;32mIn [44], line 6\u001b[0m\n\u001b[0;32m      1\u001b[0m profile \u001b[39m=\u001b[39m \u001b[39m'\u001b[39m\u001b[39mHildegard_von_Bingen_(1098-1179)_Composer\u001b[39m\u001b[39m'\u001b[39m\n\u001b[0;32m      3\u001b[0m \u001b[39m## 1번. 여러줄 코드.\u001b[39;00m\n\u001b[1;32m----> 6\u001b[0m \u001b[39mprint\u001b[39m(name, year, job)\n\u001b[0;32m      8\u001b[0m \u001b[39m## 2번. \u001b[39;00m\n\u001b[0;32m     10\u001b[0m \u001b[39mprint\u001b[39m(short_name)\n",
      "\u001b[1;31mNameError\u001b[0m: name 'name' is not defined"
     ]
    }
   ],
   "source": [
    "profile = 'Hildegard_von_Bingen_(1098-1179)_Composer'\n",
    "\n",
    "## 1번. 여러줄 코드.\n",
    "\n",
    "\n",
    "print(name, year, job)\n",
    "\n",
    "## 2번. \n",
    "\n",
    "print(short_name)"
   ]
  },
  {
   "cell_type": "code",
   "execution_count": 49,
   "metadata": {},
   "outputs": [
    {
     "name": "stdout",
     "output_type": "stream",
     "text": [
      "Hildegard_von_Bingen\n",
      "(1098-1179)\n",
      "Composer\n"
     ]
    }
   ],
   "source": [
    "## 1번. 여러줄 코드.\n",
    "profile = 'Hildegard_von_Bingen_(1098-1179)_Composer'\n",
    "\n",
    "name = profile.split('_(')[0]\n",
    "year = profile[profile.index('('):profile.index(')')+1]\n",
    "job = profile[profile.rindex('_')+1:]\n",
    "\n",
    "\n",
    "print(name, year, job, sep = '\\n')"
   ]
  },
  {
   "cell_type": "code",
   "execution_count": 51,
   "metadata": {},
   "outputs": [
    {
     "name": "stdout",
     "output_type": "stream",
     "text": [
      "Hildegard_von_Bingen_\n",
      "(1098-1179)\n",
      "_Composer\n"
     ]
    }
   ],
   "source": [
    "## 마지막에 _가 남아서 완벽한 풀이는 아니긴 한데, 1) 변수를 여러 개 동시에 할당할 수 있는거랑 2) .partition()함수를 쓰는 걸 보여주고 싶어씀...\n",
    "profile = 'Hildegard_von_Bingen_(1098-1179)_Composer'\n",
    "\n",
    "name, year, job = profile.partition(profile[profile.index('('):profile.index(')')+1])\n",
    "print(name, year, job, sep = '\\n')\n"
   ]
  },
  {
   "cell_type": "code",
   "execution_count": 70,
   "metadata": {},
   "outputs": [
    {
     "name": "stdout",
     "output_type": "stream",
     "text": [
      "HILDEGARD BINGEN\n"
     ]
    }
   ],
   "source": [
    "## 2번. \n",
    "short_name = ' '.join(profile.split('(')[0][:-1].split('_von_')).upper()\n",
    "\n",
    "print(short_name)"
   ]
  },
  {
   "attachments": {},
   "cell_type": "markdown",
   "metadata": {},
   "source": [
    "#### Q9. 🔥🔥🔥 주어진 변수 `secret`은 일종의 암호문이다. \n",
    "+ 주어진 `hint` 변수를 변형하지 활용해, \n",
    "+ 주어진 암호문 `secret`의 뜻을 해석하여 출력하는 코드를 작성하시오.\n",
    "  + `secret` 변수는 변형해도 좋으나, 암호 원본을 해치지 않도록 재할당해서 사용하시오.\n",
    "+ 그리고 해당 암호문의 뜻이 무엇인지를 다음 코드셀에 주석 형태(`# ~~`)로 기술하시오.\n",
    "  + 추가 질문 혹은 힌트: 암호를 해독해 얻은 문장은 의미론적으로(semantically) 유의미한가?"
   ]
  },
  {
   "cell_type": "code",
   "execution_count": 69,
   "metadata": {},
   "outputs": [
    {
     "name": "stdout",
     "output_type": "stream",
     "text": [
      "i\n",
      " \n",
      "a\n",
      "m\n",
      " \n",
      "t\n",
      "h\n",
      "e\n",
      " \n",
      "w\n",
      "a\n",
      "l\n",
      "r\n",
      "u\n",
      "s\n"
     ]
    }
   ],
   "source": [
    "hint = ' abcdefghijklmnopqrstuvwxyz'\n",
    "\n",
    "secret = '9 0 1 13 0 20 8 5 0 23 1 12 18 21 19'\n",
    "\n",
    "\n",
    "for num in secret.split():\n",
    "    print(hint[int(num)])\n",
    "    \n",
    "## 복호화한 원문은 'i am the walrus'라는 비틀즈의 노래 제목임."
   ]
  },
  {
   "attachments": {},
   "cell_type": "markdown",
   "metadata": {},
   "source": [
    "#### Q10. ❓ 집합의 원소로는 무엇이 될 수 있는가?\n",
    "+ 직접 테스트하며 알아보자. \n",
    "  + 명확한 답은 다음시간에 알려줌"
   ]
  },
  {
   "cell_type": "code",
   "execution_count": 72,
   "metadata": {},
   "outputs": [
    {
     "ename": "TypeError",
     "evalue": "unhashable type: 'list'",
     "output_type": "error",
     "traceback": [
      "\u001b[1;31m---------------------------------------------------------------------------\u001b[0m",
      "\u001b[1;31mTypeError\u001b[0m                                 Traceback (most recent call last)",
      "Cell \u001b[1;32mIn [72], line 3\u001b[0m\n\u001b[0;32m      1\u001b[0m \u001b[39m## 테스트 해보시고\u001b[39;00m\n\u001b[0;32m      2\u001b[0m s \u001b[39m=\u001b[39m \u001b[39mset\u001b[39m([\u001b[39m1\u001b[39m,\u001b[39m2\u001b[39m,\u001b[39m3\u001b[39m])\n\u001b[1;32m----> 3\u001b[0m s \u001b[39m=\u001b[39m \u001b[39mset\u001b[39;49m(([\u001b[39m1\u001b[39;49m,\u001b[39m2\u001b[39;49m,\u001b[39m3\u001b[39;49m], \u001b[39m1\u001b[39;49m, \u001b[39m2\u001b[39;49m))\n",
      "\u001b[1;31mTypeError\u001b[0m: unhashable type: 'list'"
     ]
    }
   ],
   "source": [
    "## 테스트 해보시고\n",
    "s = set([1,2,3])\n",
    "s = set(([1,2,3], 1, 2))"
   ]
  },
  {
   "attachments": {},
   "cell_type": "markdown",
   "metadata": {},
   "source": [
    "--여기에 각자의 답을 서술해주세요.--\n",
    "\n",
    "mutable데이터타입은 집합의 원소로 들어갈 수 없으며,\n",
    "\n",
    "immutable한 데이터타입(문자열, 숫자, 튜플) 등만 집합의 원소로 들어갈 수 있다.\n"
   ]
  }
 ],
 "metadata": {
  "kernelspec": {
   "display_name": "Python 3",
   "language": "python",
   "name": "python3"
  },
  "language_info": {
   "codemirror_mode": {
    "name": "ipython",
    "version": 3
   },
   "file_extension": ".py",
   "mimetype": "text/x-python",
   "name": "python",
   "nbconvert_exporter": "python",
   "pygments_lexer": "ipython3",
   "version": "3.11.1"
  },
  "orig_nbformat": 4,
  "vscode": {
   "interpreter": {
    "hash": "7cba0d1a42559d80c1785ea75de96ff2e6fe2ecdb092afa9b1831b12c16563fe"
   }
  }
 },
 "nbformat": 4,
 "nbformat_minor": 2
}
