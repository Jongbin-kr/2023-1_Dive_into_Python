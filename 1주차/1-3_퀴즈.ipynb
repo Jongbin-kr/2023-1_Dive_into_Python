{
 "cells": [
  {
   "attachments": {},
   "cell_type": "markdown",
   "metadata": {},
   "source": [
    "#### Q1. 자신의 이름을 `입력`받아, `출력`하는 ***한줄 코드***를 작성하시오."
   ]
  },
  {
   "cell_type": "code",
   "execution_count": 1,
   "metadata": {},
   "outputs": [
    {
     "name": "stdout",
     "output_type": "stream",
     "text": [
      "원종빈\n"
     ]
    }
   ],
   "source": [
    "## 여기에 작성하면 됩니다.\n",
    "print(input())"
   ]
  },
  {
   "attachments": {},
   "cell_type": "markdown",
   "metadata": {},
   "source": [
    "#### Q1-1. 자신의 이름, 친구의 이름을 입력받아 유의미한 문장 `호출`하기\n",
    "+ 먼저, 자신의 이름을 입력받으시오.\n",
    "+ 이어서, 친구의 이름을 입력받으시오.\n",
    "+ 두 이름을 연결하여, 2줄 이상의 유의미한 문장을 `호출`하시오. (출력 X)\n",
    "+ 코드 라인 수 제한 X"
   ]
  },
  {
   "cell_type": "code",
   "execution_count": null,
   "metadata": {},
   "outputs": [],
   "source": []
  },
  {
   "attachments": {},
   "cell_type": "markdown",
   "metadata": {},
   "source": [
    "#### Q2. 다음 코드의 아웃풋셀에 출력되는 값을 예상하시오.\n",
    "+ `;`는 줄바꿈 표시\n",
    "  \n",
    "```\n",
    "a = 0; b = 1; c = 2; d = 3\n",
    "T = True; F = False\n",
    "\n",
    "print(\n",
    "    a or b,     ## 1\n",
    "    a and b,    ## 2\n",
    "    b or c,     ## 3\n",
    " \n",
    "    a == T,     ## 4\n",
    "    b != F,     ## 5\n",
    "     \n",
    "    c >= d,     ## 6\n",
    "    c > b,      ## 7\n",
    "    F < d       ## 8\n",
    ")\n",
    "```"
   ]
  },
  {
   "attachments": {},
   "cell_type": "markdown",
   "metadata": {},
   "source": [
    "-- 여기에 정답을 기술하시오. --\n",
    "\n",
    "1\n",
    "\n",
    "2\n",
    "\n",
    "3\n",
    "\n",
    "4\n",
    "\n",
    "5\n",
    "\n",
    "6\n",
    "\n",
    "7\n",
    "\n",
    "8"
   ]
  },
  {
   "attachments": {},
   "cell_type": "markdown",
   "metadata": {},
   "source": [
    "#### Q3. 인덱싱, 슬라이싱.\n",
    "+ 다음 셀의 아웃풋셀을 예측하시오.\n",
    "\n",
    "```\n",
    "a = '영일이삼사'\n",
    "\n",
    "print(a[2:4])       ## 1\n",
    "print(a[2:4:1])     ## 2\n",
    "print(a[2:4:2])     ## 3\n",
    "print(a[0:5])       ## 4\n",
    "a[1:5]              ## 5\n",
    "\n",
    "print(a[-1:-5:-1])  ## 6\n",
    "print(a[1:5][2:5])  ## 7\n",
    "print(a[1:5][::-1]) ## 8\n",
    "```\n"
   ]
  },
  {
   "attachments": {},
   "cell_type": "markdown",
   "metadata": {},
   "source": [
    "--본 셀은 텍스트 셀이므로 그냥 답을 서술하시면 됩니다.--\n",
    "\n",
    "1\n",
    "\n",
    "2\n",
    "\n",
    "3\n",
    "\n",
    "4\n",
    "\n",
    "5\n",
    "\n",
    "6\n",
    "\n",
    "7\n",
    "\n",
    "8"
   ]
  },
  {
   "attachments": {},
   "cell_type": "markdown",
   "metadata": {},
   "source": [
    "#### Q4. 주어진 변수 `s`를 활용해\n",
    "+ 'I love you'를 출력하는 한 줄 코드를 짜보자.\n",
    "+ 'u'만 출력하는 한 줄 코드를 짜보자.\n",
    "+ 'love'만 출력하는 한 줄 코드를 짜보자.\n",
    "+ 문자열 전체를 뒤집어서도 출력하는 한 줄 코드를 짜보자. (uoy evol I)\n",
    "  + 문자열 전체를 뒤집는 다른 방법은 없는지도 고민해보자.\n",
    "+ 'uoy'만 출력하는 한 줄 코드를 짜보자."
   ]
  },
  {
   "cell_type": "code",
   "execution_count": null,
   "metadata": {},
   "outputs": [],
   "source": [
    "## 코드로 제출하세요.\n",
    "## 각각 코드 한 줄씩, 총 5줄\n",
    "s = 'I love you'\n",
    "\n",
    "\n",
    "\n"
   ]
  },
  {
   "attachments": {},
   "cell_type": "markdown",
   "metadata": {},
   "source": [
    "#### Q5. 🔥 다음 코드에서 \n",
    "+ `ll`에 할당된 값들을 `내림차순으로 정렬`하고, `중복된 요소가 제거된` `리스트`를 출력하는 한 줄 코드를 작성하라.\n",
    "  + 세션 중 직접 배우지는 않았으나, 배운 내용들을 응용해 해결할 수 있음.\n",
    "+ `lll`에도 같은 작업을 수행하는 한 줄 코드를 작성하라. \n",
    "+ `ll`과 `lll`의 요소들을 모두 `출력`하되(최종적으로 두 리스트의 요소는 같다.), 두 출력값간의 구분자로서 줄바꿈을 하는 한 줄코드를 각각 작성하라. \n",
    "+ (총 코드 3줄)\n",
    "\n",
    "<br>\n"
   ]
  },
  {
   "cell_type": "code",
   "execution_count": null,
   "metadata": {},
   "outputs": [],
   "source": [
    "l = [3,1,2]\n",
    "\n",
    "ll = l + l\n",
    "print(l)\n",
    "print(ll)\n",
    "\n",
    "lll = l * 3\n",
    "print(lll)\n",
    "\n",
    "\n",
    "## 이어서 코드를 작성해서 제출하세요.\n",
    "## ll을 l로 바꾸기 위한 코드 한 줄, lll을 l로 바꾸기 위한 코드 한 줄, \n",
    "## 두 개의 리스트를 모두 출력하되, ll의 출력과 lll의 출력 사이에 줄바꿈이 자동으로 되게하는 출력코드 한 줄\n",
    "## 총 3줄 짜리 코드를 작성하시오.\n",
    "\n",
    "\n"
   ]
  },
  {
   "attachments": {},
   "cell_type": "markdown",
   "metadata": {},
   "source": [
    "#### Q6. 변수 `x`를 활용해 `^_^love you`를 출력하는 한 줄 코드를 작성하시오."
   ]
  },
  {
   "cell_type": "code",
   "execution_count": null,
   "metadata": {},
   "outputs": [],
   "source": [
    "x = '^_^love you ___^^^^___'\n",
    "\n",
    "## 변수 x활용, 반드시 한 줄 코드\n",
    "\n"
   ]
  },
  {
   "attachments": {},
   "cell_type": "markdown",
   "metadata": {},
   "source": [
    "#### Q7. 🔥 리스트 `l` 내부의 리스트 `[4,5,6]`에 7, 8을 요소로 추가하는 ***한 줄 코드***를 작성하시오"
   ]
  },
  {
   "cell_type": "code",
   "execution_count": null,
   "metadata": {},
   "outputs": [],
   "source": [
    "l = [1,2,3, [4,5,6], 9,10,11]\n",
    "\n",
    "##  변수 l 활용. 무조건 한줄로 코드 작성\n",
    "\n"
   ]
  },
  {
   "attachments": {},
   "cell_type": "markdown",
   "metadata": {},
   "source": [
    "#### Q8. 다음을 수행하는 코드를 작성하시오.\n",
    "+ 변수 `x = 'afdbec'`를 활용해,\n",
    "+ `['f', 'e', 'd', 'c', 'b', 'a']`를 `호출`하는 \n",
    "+ 코드를 작성하시오."
   ]
  },
  {
   "cell_type": "code",
   "execution_count": null,
   "metadata": {},
   "outputs": [],
   "source": [
    "x = 'afdbec'\n"
   ]
  },
  {
   "attachments": {},
   "cell_type": "markdown",
   "metadata": {},
   "source": [
    "#### Q9. 🔥🔥 다음과 같이 변수`profile`이 주어졌을 때, 다음을 수행하는 코드를 작성하시오.\n",
    "+ 1)`profile`을 이름파트(변수명 `name`), 연도파트(변수명 `year`), 직업(변수명 `job`)파트로 나누는 코드를 작성하시오. \n",
    "  + 한 줄도 가능하나, 당장은 여러 줄 코드 작성\n",
    "+ 2)이름 파트(`name`)에 대해서, **특정 메소드를 활용해,**\n",
    "  + First name과 Last name만 남겨두고 (곧 `von`과 특수문자 `_`은 삭제하고) \n",
    "  + 모두 대문자로 바꾸어,\n",
    "  + First name과 Last name을 공백(스페이스바 하나)으로 연결한 새로운 변수 `short_name`을 출력하는\n",
    "  + 한 줄 코드를 작성하시오."
   ]
  },
  {
   "cell_type": "code",
   "execution_count": null,
   "metadata": {},
   "outputs": [],
   "source": [
    "profile = 'Hildegard_von_Bingen_(1098-1179)_Composer'\n",
    "\n",
    "## 1번. 여러줄 코드.\n",
    "\n",
    "\n",
    "print(name, year, job)\n",
    "\n",
    "## 2번. \n",
    "\n",
    "print(short_name)"
   ]
  },
  {
   "attachments": {},
   "cell_type": "markdown",
   "metadata": {},
   "source": [
    "#### Q9. 🔥🔥🔥 주어진 변수 `secret`은 일종의 암호문이다. \n",
    "+ 주어진 `hint` 변수를 변형하지 활용해, \n",
    "+ 주어진 암호문 `secret`의 뜻을 해석하여 출력하는 코드를 작성하시오.\n",
    "  + `secret` 변수는 변형해도 좋으나, 암호 원본을 해치지 않도록 재할당해서 사용하시오.\n",
    "+ 그리고 해당 암호문의 뜻이 무엇인지를 다음 코드셀에 주석 형태(`# ~~`)로 기술하시오.\n",
    "  + 추가 질문 혹은 힌트: 암호를 해독해 얻은 문장은 의미론적으로(semantically) 유의미한가?"
   ]
  },
  {
   "cell_type": "code",
   "execution_count": null,
   "metadata": {},
   "outputs": [],
   "source": [
    "hint = ' abcdefghijklmnopqrstuvwxyz'\n",
    "\n",
    "secret = '9 0 1 13 0 20 8 5 0 23 1 12 18 21 19'\n",
    "\n",
    "\n",
    "## 여기에 해독한 암호문의 뜻을 적으면 됩니다.\n",
    "# "
   ]
  },
  {
   "attachments": {},
   "cell_type": "markdown",
   "metadata": {},
   "source": [
    "#### Q10. ❓ 집합의 원소로는 무엇이 될 수 있는가?\n",
    "+ 직접 테스트하며 알아보자. \n",
    "  + 명확한 답은 다음시간에 알려줌"
   ]
  },
  {
   "cell_type": "code",
   "execution_count": null,
   "metadata": {},
   "outputs": [],
   "source": [
    "## 테스트 해보시고"
   ]
  },
  {
   "attachments": {},
   "cell_type": "markdown",
   "metadata": {},
   "source": [
    "--여기에 각자의 답을 서술해주세요.--\n",
    "\n",
    "\n"
   ]
  }
 ],
 "metadata": {
  "kernelspec": {
   "display_name": "Python 3",
   "language": "python",
   "name": "python3"
  },
  "language_info": {
   "codemirror_mode": {
    "name": "ipython",
    "version": 3
   },
   "file_extension": ".py",
   "mimetype": "text/x-python",
   "name": "python",
   "nbconvert_exporter": "python",
   "pygments_lexer": "ipython3",
   "version": "3.11.1 (tags/v3.11.1:a7a450f, Dec  6 2022, 19:58:39) [MSC v.1934 64 bit (AMD64)]"
  },
  "orig_nbformat": 4,
  "vscode": {
   "interpreter": {
    "hash": "7cba0d1a42559d80c1785ea75de96ff2e6fe2ecdb092afa9b1831b12c16563fe"
   }
  }
 },
 "nbformat": 4,
 "nbformat_minor": 2
}
