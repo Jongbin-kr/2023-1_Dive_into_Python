{
 "cells": [
  {
   "attachments": {},
   "cell_type": "markdown",
   "metadata": {},
   "source": [
    "# Prologue. 왜 파이썬인가, 그리고 파이썬이란 무엇인가?\n",
    "\n",
    "## 왜 파이썬인가?\n",
    "+ 파이썬의 장점과 단점\n",
    "   + 장점\n",
    "     + 세계적으로 가장 널리 쓰이는 프로그래밍 언어!\n",
    "     + 문법이 간단해서 배우기 쉽고, 코드를 짜고 나서 읽기도 쉽다!\n",
    "       + `pythonic`의 개념. 가능한한 읽기쉽고 깔끔한 코드를 짜라!\n",
    "     + 어느 OS든 활용할 수 있다!\n",
    "     + 무한한 확장성을 자랑한다!\n",
    "    + 단점\n",
    "      + 변화가 빠르다.\n",
    "      + \"**조금**\" 느리다.\n",
    "        + 왜????\n",
    "\n",
    "<br>\n",
    "\n",
    "+  실제 파이썬으로 제작한 프로그램의 예시\n",
    "   + 구글 웹 엔진과 유튜브\n",
    "   + 게임 '이브 온라인', '문명 4'\n",
    "   + 당근마켓\n",
    "   + [그 외...](python.org/about/success/)\n",
    "\n",
    "\n",
    "<br>\n",
    "\n",
    "## 그렇다면 파이썬은 무엇인가?\n",
    "\n",
    "+ 파이썬은 프로그래밍 언어, 즉 코드(code)다.\n",
    "  + 사람은 굉장히 똑똑해서 **자연어**로 '밥먹어'라고 말하면, 알아서 잘 밥을 먹는다.\n",
    "  + 그러나 기계에게는 세부사항들을 일일이 설명해줘야한다. 이때 세부사항들을 명시해둔 것이 바로 프로그래밍 언어, 즉 **코드**다.\n",
    "  + 그런데 아무리 코드를 상세히 짜준다고 해도, 컴퓨터는 0과 1밖에 모르는 바보이기에 이를 바로 이해하지 못한다. \n",
    "  + 그렇기에 **자연어**의 세부사항들을 풀어쓴 **코드**를, 0과 1로 이뤄진 **기계어**로 바꿔주는 과정이 필요하다.\n",
    "\n",
    "<br>\n",
    "\n",
    "+ 이 변환 과정이 어떻게 이뤄지냐에 따라서 **컴파일 언어**와 **인터프리터 언어**로 구분된다.\n",
    "  + 컴파일 언어들(`C`, `C++`)은 소스코드를 쭉 읽고, 기계어로 한번에 `번역(컴파일,compile)`한다.\n",
    "  + 그러나 인터프리터 언어들(`Ruby`, `Python`)은 소스코드를 한 번에 한 줄씩, 실시간으로 기계어로 `통역(interpret)`한다!!\n",
    "+ 당연히 미리 번역을 다 해두고 의미를 전달하는 것이, 그때그때 통역하는 것보다는 빠를 것이다!\n",
    "+ 그러나, 그때그때 **통역**하는 것은 실시간으로 상호작용이 가능하기에, 유연하게 코드를 바꿀 수 있다는 장점이 있다!!!!\n",
    "\n",
    "<br>\n",
    "\n",
    "+ 참고: [파이썬이 소스코드를 실행하는 정확한 원리(작성예정)]()\n"
   ]
  },
  {
   "attachments": {},
   "cell_type": "markdown",
   "metadata": {},
   "source": [
    "### `pythonic`한 코드의 개념\n",
    "+ 파이썬은, \"**특정한 작업을 수행하는 단 하나의 최적의 방법이 존재한다**\"는 철학 아래에,\n",
    "+ 가능하면 코드를 깔끔하고 가독성좋게 짜는 것을 지향한다.\n",
    "+ 이러한 코드를 소위 `pythonic한` 코드라고 부른다!\n",
    "\n",
    "<br>\n",
    "\n",
    "+ 물론, 처음부터 쉽고 깔끔한 코드를 짜기는 어려울 것이다.\n",
    "+ 그러나, `pythonic`의 개념을 알고 파이썬을 배우는 것과, 그렇지 않은 것은 향후 본격적으로 코드를 짜는 데 큰 영향을 줄 것이다!\n",
    "+ 당장은 다음 예시를 통해 `pythonic`한 코드가 무엇인지 살펴보고,\n",
    "+ 차후 과제와 피드백을 통해서 조금씩 연습해보자!"
   ]
  },
  {
   "cell_type": "code",
   "execution_count": null,
   "metadata": {},
   "outputs": [],
   "source": [
    "## Pythonic한 코드의 예시\n",
    "\n",
    "## 예를 들어, a와 b의 값을 바꾸는 코드를 짜보자.\n",
    "## 전통적인 프로그래밍 언어들은 다음과 같이 코딩해야 한다.\n",
    "\n",
    "### 변수 a, b를 만들고, 각 변수에 'apple', 'banana'라는 값을 넣는다.\n",
    "a = 'apple'\n",
    "b = 'banana'\n",
    "print(a, b)\n",
    "\n",
    "### 변수 b의 값을 a로 바꾸기 전에, 변수 c를 새로 만들고, 여기에 임시로 b의 값을 넣어둔다. \n",
    "c = b\n",
    "\n",
    "### 변수 b에 a의 값을 다시 할당하고, 변수 a에는 c의 값을 재할당한다. \n",
    "### 변수 c에는 우리가 미리 b의 값을 저장해두었으므로, 결과적으로 변수 a에는 b의 원래 값 'banana'가 들어갈 것이다.\n",
    "b = a\n",
    "a = c\n",
    "print(a, b)"
   ]
  },
  {
   "cell_type": "code",
   "execution_count": null,
   "metadata": {},
   "outputs": [],
   "source": [
    "## 위 코드를 pythonic하게 다시 짜보자.\n",
    "\n",
    "### 여기까진 같지만...\n",
    "a = 'apple'\n",
    "b = 'banana'\n",
    "print(a, b)\n",
    "\n",
    "## 훨씬 깔끔하고 읽기 쉽게 코드를 짤 수 있다!\n",
    "a, b = b, a\n",
    "print(a, b)"
   ]
  },
  {
   "attachments": {},
   "cell_type": "markdown",
   "metadata": {},
   "source": [
    "# I. 점프 투 파이썬!"
   ]
  },
  {
   "attachments": {},
   "cell_type": "markdown",
   "metadata": {},
   "source": [
    "## 1.`생성`, `호출`, `출력`\n",
    "\n",
    "+ 자, 그럼 무작정 코딩부터 해보자!\n",
    "+ 우리가 코딩을 하는 것은 곧 뭔가를 만드는(`생성`)하는 것이라고 할 수 있다.\n",
    "  + `'hello world!'`라는 문자열을 한번 코딩해보자!\n",
    "  + 파이썬에서 문자열은 작은따옴표 혹은 큰 따옴표로 둘러싸면 된다!\n",
    "+ 이는 컴퓨터가 나중에 기계어로 번역할 수 있도록, 하나의 문자열을 `생성`한 것이다!\n",
    "\n",
    "<br>\n",
    "\n",
    "+ 그럼 우리가 인풋셀에 뭔가를 코딩한 상태로 실행버튼을 눌러보자. (ctrl + Enter)\n",
    "+ 그럼 아웃풋셀에 우리가 코딩한 것이 `출력`된 것처럼 보인다!!\n",
    "+ 그러나, 두 줄 이상 코딩을 하면 마지막 줄만 나온다."
   ]
  },
  {
   "cell_type": "code",
   "execution_count": null,
   "metadata": {},
   "outputs": [],
   "source": []
  },
  {
   "cell_type": "code",
   "execution_count": null,
   "metadata": {},
   "outputs": [],
   "source": []
  },
  {
   "cell_type": "code",
   "execution_count": null,
   "metadata": {},
   "outputs": [],
   "source": [
    "'hello world!'          ## 'hello world!'라는 문자열을 코딩해보았다. 곧, 문자열을 **생성**한 것이다.\n",
    "                        ## 해당 셀을 실행시키니, 아웃풋 셀에 문자열이 정상적으로 출력되는 것처럼 보인다!!"
   ]
  },
  {
   "cell_type": "code",
   "execution_count": null,
   "metadata": {},
   "outputs": [],
   "source": [
    "123     ## 숫자도 한번 해보자! 숫자는 굳이 따옴표로 감싸지 않아도 된다!"
   ]
  },
  {
   "cell_type": "code",
   "execution_count": null,
   "metadata": {},
   "outputs": [],
   "source": [
    "'123'   ## ✅ 이건 숫자가 아니라, 문자열 '123'을 코딩한 것이다!! ✅\n",
    "        ## 겉으로 보기에는(`출력`했을 때는) 같아 보이지만, 컴퓨터는 둘을 구분해서 이해한다!!"
   ]
  },
  {
   "cell_type": "code",
   "execution_count": 5,
   "metadata": {},
   "outputs": [
    {
     "data": {
      "text/plain": [
       "'bye world!'"
      ]
     },
     "execution_count": 5,
     "metadata": {},
     "output_type": "execute_result"
    }
   ],
   "source": [
    "'hello world!'      ## 이번엔 두 개의 문자열을 연속으로 코딩해보았다.\n",
    "'bye world!'        ## 이번에는 아웃풋 셀에 첫번째 문자열은 나오지 않고, 두번째 문자열만 출력된다?!"
   ]
  },
  {
   "attachments": {},
   "cell_type": "markdown",
   "metadata": {},
   "source": [
    "+ 왜 제대로 출력이 되지 않을까?\n",
    "  + 정확히는, 우리는 `출력`을 한 것이 아니라, \n",
    "  + 우리가 코딩한 것을 잠시 부르기(`호출`)만 했을 뿐이다.\n",
    "  + 그냥 한번 불러보기만(`호출`) 하고, `출력`하라고는 구체적으로 명령을 내리지 않았기에 첫번째 줄은 제대로 `출력`되지 않은 것이다!\n",
    "\n",
    "<br>\n",
    "\n",
    "+ 내가 코딩한 것을 제대로 `출력`하려면, `print() 함수`를 쓰면 된다!!\n",
    "+ `print() 함수`는 괄호 ()안에 받은 것들을 출력하는 역할을 하는 함수다!!!!\n",
    "+ 함수에 대해서는 바로 다음에서 배울테니, 당장은 뭔가 작업(여기서는 `출력`)을 하는 것 정도로만 알아두자.\n",
    "\n"
   ]
  },
  {
   "cell_type": "code",
   "execution_count": 6,
   "metadata": {},
   "outputs": [
    {
     "name": "stdout",
     "output_type": "stream",
     "text": [
      "love\n"
     ]
    }
   ],
   "source": [
    "print('love')       ## 이제야 정상적으로 뭔가가 출력이 되네!"
   ]
  },
  {
   "cell_type": "code",
   "execution_count": 7,
   "metadata": {},
   "outputs": [
    {
     "name": "stdout",
     "output_type": "stream",
     "text": [
      "hate\n"
     ]
    }
   ],
   "source": [
    "'love'          ## 얘는 생성한 것을, 그냥 한번 불러본 것이니까 출력안되네\n",
    "print('hate')   ## 'love'도 출력하려면 어떻게 해야한다고?"
   ]
  },
  {
   "cell_type": "code",
   "execution_count": 8,
   "metadata": {},
   "outputs": [
    {
     "name": "stdout",
     "output_type": "stream",
     "text": [
      "love\n",
      "hate\n"
     ]
    }
   ],
   "source": [
    "print('love')   ## print 함수의 괄호 () 안에 넣어주면 된다고\n",
    "print('hate')   ## 그러니까 정상적으로 둘 다 출력되지??"
   ]
  },
  {
   "cell_type": "code",
   "execution_count": 9,
   "metadata": {},
   "outputs": [
    {
     "name": "stdout",
     "output_type": "stream",
     "text": [
      "love\n",
      "hate\n"
     ]
    },
    {
     "data": {
      "text/plain": [
       "'like'"
      ]
     },
     "execution_count": 9,
     "metadata": {},
     "output_type": "execute_result"
    }
   ],
   "source": [
    "print('love')\n",
    "print('hate')\n",
    "'like'          ## 마지막 친구는 얼핏 출력되는 것처럼 보이지만, 호출만 된 것이다!!!"
   ]
  },
  {
   "cell_type": "code",
   "execution_count": null,
   "metadata": {},
   "outputs": [],
   "source": [
    "print('love')\n",
    "print('hate')\n",
    "'like'              ## 그냥 한번 불러봤어~ 그니까 출력은 안되지.\n",
    "print('dislike')"
   ]
  },
  {
   "attachments": {},
   "cell_type": "markdown",
   "metadata": {},
   "source": [
    "✅ `숫자`와 숫자처럼 보이는 `문자열`을 헷갈리지 말자!!!! ✅"
   ]
  },
  {
   "cell_type": "code",
   "execution_count": 10,
   "metadata": {},
   "outputs": [
    {
     "name": "stdout",
     "output_type": "stream",
     "text": [
      "123\n",
      "123\n"
     ]
    }
   ],
   "source": [
    "print(123)      ## 얘는 숫자 123(백 이십 삼)을 출력한 것이지만,\n",
    "print('123')    ## 얘는 문자열 '일이삼'을 출력한 것이다.\n",
    "                ## 그러나, 출력창 상에서는 똑같이 나온다!!"
   ]
  },
  {
   "cell_type": "code",
   "execution_count": 11,
   "metadata": {},
   "outputs": [
    {
     "data": {
      "text/plain": [
       "'123'"
      ]
     },
     "execution_count": 11,
     "metadata": {},
     "output_type": "execute_result"
    }
   ],
   "source": [
    "'123'       ## 그러나 호출해보면, \n",
    "            ## 얘는 따옴표에 둘러싸여져서 나오고"
   ]
  },
  {
   "cell_type": "code",
   "execution_count": 12,
   "metadata": {},
   "outputs": [
    {
     "data": {
      "text/plain": [
       "123"
      ]
     },
     "execution_count": 12,
     "metadata": {},
     "output_type": "execute_result"
    }
   ],
   "source": [
    "123     ## 얘는 그냥 123만 나온다.\n",
    "        ## 곧, 문자열은 호출 시에 따옴표에 둘러싸여 나온다!!!\n",
    "        ## 이런 부분은 호출이 출력보다 유용할 때도 있다!!!!"
   ]
  },
  {
   "attachments": {},
   "cell_type": "markdown",
   "metadata": {},
   "source": [
    "## 2.`변수`의 `할당`과 `호출`\n",
    "\n",
    "+ 그렇다면 일단 코딩해두기는 했는데(`생성`), 당장 `출력`은 하기 싫은 문자열은 어떻게 하면 될까?\n",
    "+ 컴퓨터 어딘가에 `저장(할당)`해두고, 나중에 불러오면 될 것이다. (정확히는 컴퓨터의 메모리, 즉 램*RAM*에 저장된다!)\n",
    "+ **이때 사용하는 것이 바로 `변수`다!!**\n",
    "\n",
    "<br>\n",
    "\n",
    "+ 곧, `변수`를 만들어서(`선언`해서), 거기에 저장(`할당`)해두고, 나중에 해당 `변수`를 `호출`하면 된다!!\n",
    "  + 생성은 해뒀는데, 저장(`할당`)은 하지 않은 코드는 잊혀진다. 곧, 다시 사용할 수 없다!!\n",
    "  + **한번 변수에 값이 할당되고 나면, 이 변수의 값은 앞으로도 계속 유지된다!!** (참고: 지역변수, 전역변수)"
   ]
  },
  {
   "cell_type": "code",
   "execution_count": 13,
   "metadata": {},
   "outputs": [
    {
     "ename": "NameError",
     "evalue": "name 'a' is not defined",
     "output_type": "error",
     "traceback": [
      "\u001b[1;31m---------------------------------------------------------------------------\u001b[0m",
      "\u001b[1;31mNameError\u001b[0m                                 Traceback (most recent call last)",
      "Cell \u001b[1;32mIn [13], line 1\u001b[0m\n\u001b[1;32m----> 1\u001b[0m a\n",
      "\u001b[1;31mNameError\u001b[0m: name 'a' is not defined"
     ]
    }
   ],
   "source": [
    "a   ## a라는 이름의 변수(공간)를 만든(선언) 동시에 호출했다!!!!  --> 내가 a라는 이름의 공간을 쓰고싶어. 컴터 니가 알아서 공간(메모리) 좀 할당해줘\n",
    "    ## 그러나, 당장은 변수에 아무것도 안넣어뒀으니까...당연히 오류가 뜨지."
   ]
  },
  {
   "cell_type": "code",
   "execution_count": 14,
   "metadata": {},
   "outputs": [],
   "source": [
    "a = 'hello world!'      ## 이번에는 a라는 변수에 'hello world!'라는 문자열을 **저장/할당**했다.\n",
    "                        ## 당연히 할당만 하는 것으로는 아무것도 안나오겠지.\n",
    "                        ## a에 들어있는 값이 뭔지 확인하려면?"
   ]
  },
  {
   "cell_type": "code",
   "execution_count": 15,
   "metadata": {},
   "outputs": [
    {
     "data": {
      "text/plain": [
       "'hello world!'"
      ]
     },
     "execution_count": 15,
     "metadata": {},
     "output_type": "execute_result"
    }
   ],
   "source": [
    "a       ## a를 **호출**하거나"
   ]
  },
  {
   "cell_type": "code",
   "execution_count": 16,
   "metadata": {},
   "outputs": [
    {
     "name": "stdout",
     "output_type": "stream",
     "text": [
      "hello world!\n"
     ]
    }
   ],
   "source": [
    "print(a)    ## a를 출력해야되겠지!!"
   ]
  },
  {
   "cell_type": "code",
   "execution_count": 19,
   "metadata": {},
   "outputs": [
    {
     "name": "stdout",
     "output_type": "stream",
     "text": [
      "@@@@@@\n",
      "hello world!\n"
     ]
    }
   ],
   "source": [
    "a = 'hello world!'\n",
    "print('@@@@@@')\n",
    "\n",
    "a                   ## 이건 그냥 한번 불러봤어~ 출력될 필요는 없고!\n",
    "                    ## 화면상에 출력을 하기 위해서는 항상 print()문을 사용해야 한다!\n",
    "print(a)            ## 요렇게!!"
   ]
  },
  {
   "cell_type": "code",
   "execution_count": 20,
   "metadata": {},
   "outputs": [
    {
     "name": "stdout",
     "output_type": "stream",
     "text": [
      "hello world!\n",
      "Brave new world!\n"
     ]
    }
   ],
   "source": [
    "print(a)                ## 원래 a의 값은 'hello world!'였는데\n",
    "a = \"Brave new world!\"  ## a에 새로운 값을 할당했다!!!\n",
    "print(a)                ## 그러니까 새로 할당된 값이 나오네~!"
   ]
  },
  {
   "cell_type": "code",
   "execution_count": 21,
   "metadata": {},
   "outputs": [
    {
     "data": {
      "text/plain": [
       "'Brave new world!'"
      ]
     },
     "execution_count": 21,
     "metadata": {},
     "output_type": "execute_result"
    }
   ],
   "source": [
    "a           ## 호출해도 마찬가지로 새로 할당된 값이 나오네!!"
   ]
  },
  {
   "cell_type": "code",
   "execution_count": null,
   "metadata": {},
   "outputs": [],
   "source": [
    "print(a)    ## 출력한 것\n",
    "a           ## 호출한 것"
   ]
  },
  {
   "attachments": {},
   "cell_type": "markdown",
   "metadata": {},
   "source": [
    "## 3.`함수` 기초"
   ]
  },
  {
   "attachments": {},
   "cell_type": "markdown",
   "metadata": {},
   "source": [
    "## 3-1.`함수`의 `호출`과 `실행`\n",
    "\n",
    "+ 앞서 출력할 때 사용했던 `print()`같은 친구들을 함수라고 부른다.\n",
    "\n",
    "<br>\n",
    "\n",
    "+ 우리가 흔히 쓰는 함수들은 이미 파이썬에 다 내재되어 있다.\n",
    "+ 따라서, 우리가 새롭게 `생성`한다기보다는, 이미 코딩된 함수를 `호출`하고 `실행`한다고 하는 것이 더 적확할 것이다!!!!\n",
    "+ 그럼 함수의 `호출`과 `실행`이 정확히 어떤 차이가 있는지를 알아보자.\n",
    "\n",
    "<br>\n",
    "\n",
    "+ 이때 `print()`처럼 뒤에 괄호가 붙을 수 있는 녀석들을 `함수(function)`라고 하고, \n",
    "+ 괄호 안에 들어가는 내용물을 `인자(argument)`라고 부른다."
   ]
  },
  {
   "cell_type": "code",
   "execution_count": 22,
   "metadata": {},
   "outputs": [
    {
     "data": {
      "text/plain": [
       "<function print>"
      ]
     },
     "execution_count": 22,
     "metadata": {},
     "output_type": "execute_result"
    }
   ],
   "source": [
    "print   ## 이것만 실행하면 print라는 파이썬에 기본탑재된 코드를 호출하는 것!\n",
    "        ## 우리가 print라는 문자열을 **생성**한 것은 아니다. 이미 파이썬에 기본 탑재된 함수를 **호출**한 것일 뿐이다.\n",
    "        ## 그렇다고 print()라는 함수를 **실행**한 것도 아니다!!!!! 그냥 한 번 불러보기만 한거~"
   ]
  },
  {
   "cell_type": "code",
   "execution_count": 23,
   "metadata": {},
   "outputs": [
    {
     "data": {
      "text/plain": [
       "'love'"
      ]
     },
     "execution_count": 23,
     "metadata": {},
     "output_type": "execute_result"
    }
   ],
   "source": [
    "print   ## 그냥 한번 불러보기만 한거~ 그니까 출력안되겠지\n",
    "'love'  ## 얘도 그냥 한번 불러보기만 한거~ 출력되는 것처럼 보이지만, 정상적으로 출력되는 것은 아니다!!!!"
   ]
  },
  {
   "cell_type": "code",
   "execution_count": 24,
   "metadata": {},
   "outputs": [
    {
     "data": {
      "text/plain": [
       "'Brave new world!'"
      ]
     },
     "execution_count": 24,
     "metadata": {},
     "output_type": "execute_result"
    }
   ],
   "source": [
    "print\n",
    "a       ## 우리가 a를 호출했듯, print도 그냥 호출만 한 것.\n",
    "        ## ✅ a의 값은 마지막에 할당된 값!! ✅"
   ]
  },
  {
   "cell_type": "code",
   "execution_count": 25,
   "metadata": {},
   "outputs": [
    {
     "name": "stdout",
     "output_type": "stream",
     "text": [
      "\n"
     ]
    }
   ],
   "source": [
    "print() ## 뒤에 괄호를 붙이면, \n",
    "        ## 이제야 함수가 제대로 실행되는 것!!\n",
    "        ## 그러나 인자로 아무것도 넣지 않았기에, 아무것도 출력하지 않은 것과 같다."
   ]
  },
  {
   "cell_type": "code",
   "execution_count": 26,
   "metadata": {},
   "outputs": [
    {
     "name": "stdout",
     "output_type": "stream",
     "text": [
      "hello world!\n"
     ]
    }
   ],
   "source": [
    "print('hello world!')   ## print() 함수는 괄호안에 인자를 받아,\n",
    "                        ## 인자를 **출력**하는 역할을 한다."
   ]
  },
  {
   "cell_type": "code",
   "execution_count": 27,
   "metadata": {},
   "outputs": [
    {
     "data": {
      "text/plain": [
       "'Brave new world!'"
      ]
     },
     "execution_count": 27,
     "metadata": {},
     "output_type": "execute_result"
    }
   ],
   "source": [
    "a                       ## 여기서는 a를 호출하면 뭐가 나오지?"
   ]
  },
  {
   "cell_type": "code",
   "execution_count": 28,
   "metadata": {},
   "outputs": [
    {
     "name": "stdout",
     "output_type": "stream",
     "text": [
      "hello world!\n",
      "None\n"
     ]
    }
   ],
   "source": [
    "a = print('hello world!')   ## 이렇게 하면 a에는 어떤 값이 저장될까?\n",
    "\n",
    "print(a)                    ## 아웃풋 셀의 첫번째 줄은 입력창의 첫번째 줄의 print()함수가 출력한 것이고,\n",
    "                            ## 아웃풋 셀의 두번째 줄은 입력창의 두번째 줄의 print()함수가 출력한 것이다.\n",
    "                            ## 여기서 None은 말 그대로 아무것도 없음을 뜻한다. 곧, 변수 a에는 아무것도 없다!!\n",
    "                            #### ✅ brave new world가 다시 출력되지 않음을 유의하자!!!! ✅\n",
    "                            \n",
    "                            ## 결국, print() 함수는 인자를 출력하는 역할만 할 뿐, \n",
    "                            ## 인자에 어떤 작업을 거친 결과값을 반환하지는 않는다. (정확히는 None을 반환하지만, 이렇게 쓸 일은 없겠지...)"
   ]
  },
  {
   "cell_type": "code",
   "execution_count": null,
   "metadata": {},
   "outputs": [],
   "source": [
    "a   ## a에는 이제 None이 할당되었기에 == 아무것도 할당되지 않았기에,\n",
    "    ## 그냥 빈 공간만 있을 뿐이다.\n",
    "    ## ✅ 그래서 불러도(호출해도) 아무것도 나오지도 않아.... ✅"
   ]
  },
  {
   "attachments": {},
   "cell_type": "markdown",
   "metadata": {},
   "source": [
    "### ⏰ 여기까지 배운 개념들 ⏰\n",
    "+ `생성(coding)`, `호출`, `출력(print)`, `변수(variable)`, `저장-할당(assign)`, `함수(function)`, `인자(argument)`, `실행`\n",
    "+ 시간 날 때 돌아보면서 코드와 함께 개념을 다시금 복습하자!!\n",
    "  \n",
    "<br> \n",
    "\n",
    "+ 코딩하는 것은 뭔가를 `생성`하는 것이다.\n",
    "  + `생성`한 것을 우리는 그냥 `호출`할 수도 있고, (출력된 것처럼 보이지만, 그냥 한번 불러본거다~)\n",
    "  + print()함수를 써서 정식으로 `출력`할 수도 있다!\n",
    "\n",
    "<br>\n",
    "\n",
    "+ 근데 생성한 걸 당장 사용하기는 싫고, 나중에 `출력` 혹은 `호출`하고 싶다면?\n",
    "  + 변수를 `선언`해서, --> 컴퓨터에게 메모리상 공간을 좀 주라고 하고, 내가 거기에 변수의 이름을 붙인 것\n",
    "  + 그 변수가 받은 공간에 우리가 생성한 것을 `저장/할당`해두면 된다!\n",
    "\n",
    "<br>\n",
    "\n",
    "+ `함수`는 `인자`를 받아서, 해당 `인자`에 어떤 작업을 한다!\n",
    "  + 이때 함수는 이미 파이썬에 자체적으로 내장된 경우가 많으므로, 우리가 뭔가를 `생성`한다고 하기에는 애매하다.\n",
    "  + 대신, `함수`를 `호출`하거나 `실행`할 수 있겠지\n",
    "\n",
    "<br>\n",
    "<br>\n",
    "<br>"
   ]
  },
  {
   "attachments": {},
   "cell_type": "markdown",
   "metadata": {},
   "source": [
    "## 3-2.함수를 공부할 때 주의할 점\n",
    "\n",
    "+ 이때 `print()`처럼 뒤에 괄호가 붙는 녀석을 `함수(function)`라고 하고, \n",
    "+ 괄호 안에 들어가는 내용물을 `인자(argument)`라고 부른다.\n",
    "\n",
    "<br>\n",
    "\n",
    "+ `함수`는 괄호 안에 `인자`를 받아, (단, 인자를 받지 않는 경우도 있다.) \n",
    "+ 미리 정해진 ***어떠한 작업***을 한다!!\n",
    "  + 이때 작업은 print 함수처럼 인자를 그대로 출력하는 것일 수도 있지만,\n",
    "  + `1)인자에게 어떤 작업을 하고, 그 결과값을 반환(return)`하거나,\n",
    "    + 우리가 고등학교 때 배웠던 함수 $y = f(x)$를 생각하면 이해하기 쉬울 것이다.  \n",
    "  + `2)때로는 결과값을 반환하지 않고, 그냥 받은 인자 그 자체를 바꾸기`도 한다. (참고: 2회차에서 배울 `mutable` 개념)\n",
    "\n",
    "<br>\n",
    "\n",
    "### ✅ 함수를 공부할 때 주의할 점 ✅\n",
    "앞으로 데이터타입들을 공부하면서 함수들을 많이 공부할 터인데, 다음 사항들을 주의하며 공부하면된다.\n",
    "+ **함수가 어떤 역할을 하는지,** (근데 사실 이건 딱 보면 안다!)\n",
    "+ **어떤 데이터타입을 인자로 받을 수 있는지,**\n",
    "+ **이게 결과값을 반환하는지, (만약 반환한다면 어떤 데이터타입으로 반환하는지)**\n",
    "  + 아니면, **결과값을 반환하지 않고, 인자 자체를 바꾸는 것인지**를 명확히 알아둘 필요가 있다!!!!"
   ]
  },
  {
   "attachments": {},
   "cell_type": "markdown",
   "metadata": {},
   "source": [
    "### `출력`했으니, `입력`도 해볼까? `input()`함수\n",
    "\n",
    "+ `print() 함수`는 `인자`를 화면상에 `인자를 그대로 출력`하는 역할만 하고, `결과값을 반환`하지는 않는다.\n",
    "\n",
    "<br>\n",
    "\n",
    "+ `input() 함수`는 \n",
    "  + **실행시점(runtime)에 인자를 `입력`받아서**, \n",
    "  + **입력받은 인자를 그대로 `반환(return)`한다.**\n",
    "+ ✅ 이때 `input() 함수`는 **항상 결과값으로 `문자열`을 반환한다!!!** ✅"
   ]
  },
  {
   "attachments": {},
   "cell_type": "markdown",
   "metadata": {},
   "source": [
    "✅ 앞으로는 여러분이 스스로 고민하면서 공부를 해보자. ✅\n",
    "\n",
    "❓ 주석이 있는 경우에는, 셀을 바로 실행시키지 말고, 먼저 머릿속으로 어떤 결과물이 나오는지를 예상해보자."
   ]
  },
  {
   "cell_type": "code",
   "execution_count": 29,
   "metadata": {},
   "outputs": [
    {
     "data": {
      "text/plain": [
       "<bound method Kernel.raw_input of <ipykernel.ipkernel.IPythonKernel object at 0x000001DE7D912F80>>"
      ]
     },
     "execution_count": 29,
     "metadata": {},
     "output_type": "execute_result"
    }
   ],
   "source": [
    "input   ## ❓ 이건 함수를 실행시킨거? 생성한거? 호출한거?"
   ]
  },
  {
   "cell_type": "code",
   "execution_count": 30,
   "metadata": {},
   "outputs": [
    {
     "data": {
      "text/plain": [
       "'adjlka'"
      ]
     },
     "execution_count": 30,
     "metadata": {},
     "output_type": "execute_result"
    }
   ],
   "source": [
    "input()     ## 이러면 함수를 실행한거겠지.\n",
    "            ## ❓ 그럼 아웃풋셀에 나온 건 출력된 것인가? \n",
    "            ## ❓ 아니면 그냥 input함수가 반환한 것을 보여주는데, 마치 출력된 것처럼 보이는 거?\n",
    "            ## ❓ 어떻게 구분할 수 있지?"
   ]
  },
  {
   "cell_type": "code",
   "execution_count": 32,
   "metadata": {},
   "outputs": [
    {
     "name": "stdout",
     "output_type": "stream",
     "text": [
      "love\n"
     ]
    }
   ],
   "source": [
    "input()         ## 그냥 반환된 것을 보여주기만 하는거니까... 정상적으로 출력되지도, 어딘가에 저장되지도 않고 그냥 사라진다~\n",
    "print('love')"
   ]
  },
  {
   "cell_type": "code",
   "execution_count": null,
   "metadata": {},
   "outputs": [],
   "source": []
  },
  {
   "cell_type": "code",
   "execution_count": 35,
   "metadata": {},
   "outputs": [],
   "source": [
    "## ❓그렇다면 반환한 것을 나중에도 써먹으려면?\n",
    "\n",
    "a = input()     \n",
    "\n",
    "## 변수에 할당하면 되겠지!!!"
   ]
  },
  {
   "cell_type": "code",
   "execution_count": 36,
   "metadata": {},
   "outputs": [
    {
     "data": {
      "text/plain": [
       "'메ㅔㅣㄷ'"
      ]
     },
     "execution_count": 36,
     "metadata": {},
     "output_type": "execute_result"
    }
   ],
   "source": [
    "a   ## 이전 셀에서 입력받은 값이 잘 나오네~"
   ]
  },
  {
   "cell_type": "code",
   "execution_count": 38,
   "metadata": {},
   "outputs": [
    {
     "name": "stdout",
     "output_type": "stream",
     "text": [
      "12345\n",
      "<class 'str'>\n"
     ]
    }
   ],
   "source": [
    "a = input()         ## 123을 입력해, a에 123을 할당해보자.\n",
    "print(a)            ## a를 출력하면 마치 **숫자 123**이 출력되는 것처럼 보인다!\n",
    "print(type(a))      ## type() 함수는 해당 데이터타입이 무엇인지를 알려준다.\n",
    "                    ## ✅ <class 'str'>. 숫자처럼 보이지만, **사실은 문자열이다!** input() 함수는 항상 결과값으로 문자열을 반환한다!!!! ✅"
   ]
  },
  {
   "cell_type": "code",
   "execution_count": 34,
   "metadata": {},
   "outputs": [
    {
     "name": "stdout",
     "output_type": "stream",
     "text": [
      "멍라ㅣㅎ머ㅏㅇㅎ\n",
      "end\n"
     ]
    }
   ],
   "source": [
    "print(\n",
    "      input('먹고싶은 걸 적으세요')\n",
    ")      ## 요렇게 함수를 중첩해서 쓸 수도 있겠지!!!\n",
    "print('end')"
   ]
  },
  {
   "attachments": {},
   "cell_type": "markdown",
   "metadata": {},
   "source": [
    "### ⏰ 여기까지 배운 함수들 ⏰\n",
    "+ `print() 함수`\n",
    "  + **받은 `인자를 그대로 출력`하는 역할을 한다.**\n",
    "  + ✅ 결과값을 반환하지는 않는다!! (정확히는 `None`을 반환한다.) ✅\n",
    "\n",
    "<br>\n",
    "\n",
    "+ `input() 함수`\n",
    "  + **셀을 실행할 때,** 인자를 입력받고,\n",
    "  + **입력받은 인자를 그대로 `반환`한다.**\n",
    "  + ✅ 이때 반환하는 값의 데이터타입은 무조건 문자열(string)이다!! ✅\n",
    "\n",
    "<br>\n",
    "<br>\n"
   ]
  }
 ],
 "metadata": {
  "kernelspec": {
   "display_name": "Python 3",
   "language": "python",
   "name": "python3"
  },
  "language_info": {
   "codemirror_mode": {
    "name": "ipython",
    "version": 3
   },
   "file_extension": ".py",
   "mimetype": "text/x-python",
   "name": "python",
   "nbconvert_exporter": "python",
   "pygments_lexer": "ipython3",
   "version": "3.11.0 (main, Oct 24 2022, 18:26:48) [MSC v.1933 64 bit (AMD64)]"
  },
  "orig_nbformat": 4,
  "vscode": {
   "interpreter": {
    "hash": "7cba0d1a42559d80c1785ea75de96ff2e6fe2ecdb092afa9b1831b12c16563fe"
   }
  }
 },
 "nbformat": 4,
 "nbformat_minor": 2
}
