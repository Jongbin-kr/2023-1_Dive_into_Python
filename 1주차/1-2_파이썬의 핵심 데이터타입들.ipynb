{
 "cells": [
  {
   "attachments": {},
   "cell_type": "markdown",
   "metadata": {},
   "source": [
    "# II.파이썬의 핵심 데이터 타입(core datatype): `반복`과 `순서`를 기준으로\n",
    "+ 파이썬에는 다음과 같은 7가지 `핵심 데이터타입(core datatype)`이 있다.\n",
    "  1. `숫자(int, float...)`\n",
    "  2. `불값(boolean, 참/거짓)`\n",
    "  3. `문자열(string)`\n",
    "  4. `리스트(list)`\n",
    "  5. `집합(set)`\n",
    "  6. `튜플(tuple)`\n",
    "  7. `사전(dictionary)`\n",
    "\n",
    "<br>\n",
    "\n",
    "+ 이상의 7가지 핵심 데이터타입들은 그 자체로도 굉장히 많이 쓰이지만, 이를 활용해서 여러 심화된 데이터타입들을 만들기도 한다!\n",
    "+ 이때 많은 경우 핵심 데이터타입과 비슷한 성질을 가지기에, 핵심 데이터타입을 확실히 이해해둔다면 다른 데이터타입들 역시 좀 더 쉽게 쓸 수 있을 것이다.\n",
    "  + 예를 들어, 빅데이터를 다루는 데 주로 쓰이는 `pandas`의 `DataFrame`데이터타입은 사전 데이터타입을 기반으로 만들었기에, 그 성질이나 사용가능한 함수 등이 비슷하다.\n",
    "\n",
    "<br>\n",
    "\n",
    "+ 그런데 기본 데이터 타입만 7개면, 나중에는 당연히 데이터 타입들이 훨씬 많아질텐데 이걸 어떻게 다 외울까?\n",
    "+ 일단은 **`반복(==포함)(atomic value, non-iterable `vs. `container, iteralbe)`과 `순서(non-sequence` vs. `sequence)`이라는 두 가지 속성을 가지고 구분하자!!!!**\n",
    "  + `반복(==포함)`이라는 말은, 해당 `객체`가 다른 `객체`들을 `포함`하고 있기 때문에, 그 \"**담고있는 `객체`들을 하나씩 `반복`적으로 출력할 수 있다**\"는 말이다.\n",
    "  + 한편, `순서`라는 말은 `포함`하고있는 객체들을 `반복`적으로 출력할 때, **`순서`대로 혹은 `무작위`로 출력한다**는 말이다.\n",
    "+ 해당 속성들을 가지고 있는 객체라면, 특정 함수들을 공통적으로 사용할 수 있다!!\n",
    "  + 따라서 조금 덜 외워도 되겠지...?\n",
    "\n",
    "<br>\n"
   ]
  },
  {
   "attachments": {},
   "cell_type": "markdown",
   "metadata": {},
   "source": [
    "## 1.`반복`이 불가능한 데이터 타입 (`atomic value`)\n",
    "\n",
    "+ ***`반복`불가, `순서`없음: 숫자, 불값***\n",
    "+ ~~`반복`불가, `순서`있음~~\n",
    "  + **반복이 불가능한(==뭔가를 포함하고 있지 않고, 자기 자신만 있는) 데이터타입들은 당연히 모두 순서가 없겠지.**\n",
    "    + 왜냐면 `순서`라는 것은 안에 뭔가를 포함하고 있어야, 거기 안에서 `순서`를 매길 수 있는거잖아?\n",
    "      + ✅ 따라서 `반복`은 불가능하나, `순서`가 있는  데이터타입은 없다!!! ✅\n",
    "+ `반복`가능, `순서`없음: 집합, 사전\n",
    "+ `반복`가능, `순서`있음: 문자열, 리스트, 튜플\n",
    "\n",
    "<br>\n",
    "\n",
    "+ 더 이상 쪼갤 수 없는 원자(atom)처럼 작은 데이터타입!\n",
    "+ 그 자체로 하나의 값을 가질 뿐, 뭔가를 포함하고 있지는 않다!\n",
    "\n",
    "<br>\n",
    "\n"
   ]
  },
  {
   "attachments": {},
   "cell_type": "markdown",
   "metadata": {},
   "source": [
    "### 1)숫자 **(`반복`불가, `순서`없음)**\n",
    "\n",
    "+ ***`반복`불가, `순서`없음: 숫자, 불값***\n",
    "+ ~~`반복`불가, `순서`있음~~\n",
    "+ `반복`가능, `순서`없음: 집합, 사전\n",
    "+ `반복`가능, `순서`있음: 문자열, 리스트, 튜플\n",
    "\n",
    "<br>\n",
    "\n",
    "+ 우리가 흔히 쓰는 숫자다.\n",
    "  + 당연히 정수랑 실수가 있다.\n",
    "  + 당연히 `사칙연산`을 할 수 있겠지.\n",
    "  + 추가적으로 `나머지와 몫, 제곱` 정도의 연산을 기억하면 된다."
   ]
  },
  {
   "cell_type": "code",
   "execution_count": null,
   "metadata": {},
   "outputs": [],
   "source": [
    "1   ## 1이라는 숫자를 생성해보았다.\n",
    "    ## 아웃풋 셀에 나온다고해서 출력되었다고 착각하지 말자!! print() 함수를 사용해서 출력한 것은 아니다!!!!"
   ]
  },
  {
   "cell_type": "code",
   "execution_count": 1,
   "metadata": {},
   "outputs": [
    {
     "name": "stdout",
     "output_type": "stream",
     "text": [
      "<class 'int'>\n",
      "3\n",
      "-3\n",
      "8\n",
      "2.0\n",
      "256\n",
      "0\n",
      "1\n",
      "5\n"
     ]
    }
   ],
   "source": [
    "## 정수형\n",
    "\n",
    "print(type(1))      ## type()은 ()안의 내용물의 데이터타입을 알려준다.\n",
    "                    ## 여기서는 int, 즉 숫자형 중 정수형임을 알려준다.\n",
    "\n",
    "print(1 + 2)      ## 더하기\n",
    "print(2 - 5)      ## 빼기\n",
    "print(4 * 2)      ## 곱하기\n",
    "print(4 / 2)      ## 나누기. 결과값은 실수형으로 표현된다. ## !! %가 아님에 주의하자!\n",
    "\n",
    "print(2 ** 8)     ## 제곱하기\n",
    "print(2 % 2)      ## 나머지 \n",
    "print(3 % 2) \n",
    "print(10 // 2)    ## 몫. 몫은 숫자를 내림할 때에도 간단하게 사용할 수 있다."
   ]
  },
  {
   "cell_type": "code",
   "execution_count": null,
   "metadata": {},
   "outputs": [],
   "source": [
    "## 실수형 역시 마찬가지로 동작한다.\n",
    "## 실수형에 특정 연산을 적용하면 기본적으로는 실수형으로 결과값을 도출한다.\n",
    "\n",
    "print(type(1.0)) ## float, 즉 실수형임을 알려준다.\n",
    "\n",
    "print(1.0 + 2.0)\n",
    "print(2.0 - 5.7)\n",
    "print(1.2 * 4)\n",
    "print(4.0 / 2.0)\n",
    "  \n",
    "print(1.2 ** 2)\n",
    "print(4 / 2)      ## 정수끼리 나눠도 결과값은 실수형.\n",
    "print(3.0 % 2)\n",
    "print(3.0 % 2.0)\n",
    "print(5.2 // 2)"
   ]
  },
  {
   "attachments": {},
   "cell_type": "markdown",
   "metadata": {},
   "source": [
    "##### 확장 할당연산자\n",
    "+ 1)이미 특정 변수에 할당된 값에, 2)사칙연산을 수행한 뒤 원래 변수에 재할당한다!!"
   ]
  },
  {
   "cell_type": "code",
   "execution_count": null,
   "metadata": {},
   "outputs": [],
   "source": [
    "a = 1   ## 1) 1이라는 값을 변수 a에 할당했다.\n",
    "print(a)\n",
    "\n",
    "a += 10 ## 2) a에 할당된 값에, 1을 더한 뒤 1을 재할당한다\n",
    "        ## a = a + 10과 같다!!!\n",
    "print(a)"
   ]
  },
  {
   "cell_type": "code",
   "execution_count": null,
   "metadata": {},
   "outputs": [],
   "source": [
    "a -= 5  ## 마찬가지로 a에 재할당된 값 2에, 5를 빼서 재할당한다.\n",
    "        ## a = a - 5와 같다.\n",
    "        ## !! 이전 셀에서 할당되었던 값이 다음 셀에서도 유지되는 것에 유의하자!!!!\n",
    "print(a)"
   ]
  },
  {
   "cell_type": "code",
   "execution_count": null,
   "metadata": {},
   "outputs": [],
   "source": [
    "a /= 2\n",
    "print(a)\n",
    "\n",
    "a *= 5\n",
    "print(a)\n",
    "\n",
    "a %= 4\n",
    "print(a)\n",
    "\n",
    "a //= 2\n",
    "print(a)"
   ]
  },
  {
   "attachments": {},
   "cell_type": "markdown",
   "metadata": {},
   "source": [
    "### 2)불값(boolean, 참/거짓) (`반복`불가, `순서`없음)\n",
    "\n",
    "+ ***`반복`불가, `순서`없음: 숫자, 불값***\n",
    "+ ~~`반복`불가, `순서`있음~~\n",
    "+ `반복`가능, `순서`없음: 집합, 사전\n",
    "+ `반복`가능, `순서`있음: 문자열, 리스트, 튜플\n",
    "\n",
    "<br>\n",
    "\n",
    "+ 참/거짓이라는 일종의 `논리값`. \n",
    "  + 다음 시간에 배울 조건문과 함께 많이 쓰인다. (참이면 a하고, 거짓이면 b해라)\n",
    "+ 대부분의 프로그래밍 언어는 숫자 1을 참(True)으로 인식하고, 0은 거짓(False)으로 인식한다. (숫자와 불값의 연관관계)"
   ]
  },
  {
   "cell_type": "code",
   "execution_count": 2,
   "metadata": {},
   "outputs": [
    {
     "name": "stdout",
     "output_type": "stream",
     "text": [
      "True <class 'bool'> False <class 'bool'>\n"
     ]
    }
   ],
   "source": [
    "print(True, type(True), False, type(False)) ## print 함수는 이렇게 여러 개의 인자를 받을 수도 있다!"
   ]
  },
  {
   "attachments": {},
   "cell_type": "markdown",
   "metadata": {},
   "source": [
    "##### 비교/논리연산자\n",
    "+ 비교연산자: `==`, `!=`, `>`, `>=`, `<`, `<=`\n",
    "  + `==` (둘이 같니), `!=` (둘이 다르니): 두 값을 비교해 같으면 `True`, 다르면 `False`를 **생성**한다.\n",
    "  + `>`, `>=`, `<`, `<=`: 대소비교해서 `True/False`\n",
    "    + ❓ 숫자가 아닌 값(예를 들어 문자열)에 대소비교를 적용하면 어떻게 될까?? ❓\n",
    "\n",
    "<br>\n",
    "\n",
    "+ 논리연산자: `and`, `or`, `not`\n",
    "  + `A and B`: A, B 둘 다 `True`면 `True` 반환. 둘 중 하나라도 `False`면 `False` 반환.\n",
    "  + `A or B`: A, B 둘 중 하나만 `True`면 `True` 반환. 둘 다 `False`면 `False` 반환.\n",
    "  + `not A`: A가 `True`면 `False`를, `False`면 `True`를 반환.\n",
    "\n",
    "<br>\n",
    "\n",
    "+ 참고: [좀 더 심화된 논리연산자들(`is`, `&`, `|`)](https://onsil-thegreenhouse.github.io/programming/python/2017/10/22/operator/)\n",
    "+ 참고: [파이썬 논리연산자 and, or가 작동하는 정확한 원리](https://wikidocs.net/22211)"
   ]
  },
  {
   "cell_type": "code",
   "execution_count": 3,
   "metadata": {},
   "outputs": [
    {
     "name": "stdout",
     "output_type": "stream",
     "text": [
      "True\n",
      "False\n",
      "False\n",
      "True\n",
      "456 456\n"
     ]
    }
   ],
   "source": [
    "a = 123             ## ❓ 뭘 한거지? \n",
    "print(a == 123)     ## ❓ 뭐가 출력되지?\n",
    "\n",
    "b = '456'           ## ❓ 뭘 한거지? \n",
    "print(b != '456')   ## ❓ 뭐가 출력되지 \n",
    "\n",
    "print(a == b)       ## ❓ 뭐가 출력되지 \n",
    "\n",
    "a = b               ## ❓ 뭘 한거지?? \n",
    "print(a == b)       ## ❓ 뭐가 출력되지 \n",
    "print(a, b)         ## ❓ 뭐가 출력되지?? 숫자? 문자? "
   ]
  },
  {
   "cell_type": "code",
   "execution_count": 4,
   "metadata": {},
   "outputs": [
    {
     "data": {
      "text/plain": [
       "'456'"
      ]
     },
     "execution_count": 4,
     "metadata": {},
     "output_type": "execute_result"
    }
   ],
   "source": [
    "a"
   ]
  },
  {
   "cell_type": "code",
   "execution_count": 5,
   "metadata": {},
   "outputs": [
    {
     "data": {
      "text/plain": [
       "'456'"
      ]
     },
     "execution_count": 5,
     "metadata": {},
     "output_type": "execute_result"
    }
   ],
   "source": [
    "b"
   ]
  },
  {
   "cell_type": "code",
   "execution_count": 6,
   "metadata": {},
   "outputs": [
    {
     "name": "stdout",
     "output_type": "stream",
     "text": [
      "True\n",
      "True\n"
     ]
    }
   ],
   "source": [
    "print(1 == True)       ## ✅ 대부분의 프로그래밍 언어에서 1은 True, 0은 False와 같은 것으로 여겨진다. ✅\n",
    "print(0 == False)"
   ]
  },
  {
   "cell_type": "code",
   "execution_count": null,
   "metadata": {},
   "outputs": [],
   "source": [
    "print(              ## print 함수를 이렇게 쓸 수도 있구나~  \n",
    "    True and True,  ## ✅ 출력될 때, 각각의 인자들 사이에 어떤 구분자(seperator)가 삽입되는지를 유심히 살펴보자. ✅\n",
    "    False and False,\n",
    "    False and True,\n",
    "    True and False,\n",
    "    \n",
    "    True or True,\n",
    "    False or False,\n",
    "    False or False,\n",
    "    True or False\n",
    ")"
   ]
  },
  {
   "cell_type": "code",
   "execution_count": 8,
   "metadata": {},
   "outputs": [
    {
     "data": {
      "text/plain": [
       "0"
      ]
     },
     "execution_count": 8,
     "metadata": {},
     "output_type": "execute_result"
    }
   ],
   "source": [
    "1 and 0     ## ❓ 1과 0의 불값(논리값, 참/거짓, True/False)가 어떻게 된다고??\n",
    "            ## ❓ 그럼 이건 값이 어떻게 나올까??"
   ]
  },
  {
   "cell_type": "code",
   "execution_count": 9,
   "metadata": {},
   "outputs": [
    {
     "name": "stdout",
     "output_type": "stream",
     "text": [
      "False\n"
     ]
    }
   ],
   "source": [
    "print((not True) and False)     ## ❓ 그럼 이건 값이 어떻게 나올까?? ❓\n",
    "                                ## ✅ 여기서 안에 있는 괄호는 not True를 먼저 연산하고, 이후 and False를 연산하라고 연산순서를 명확히 하는 용도이다. ✅"
   ]
  },
  {
   "cell_type": "code",
   "execution_count": null,
   "metadata": {},
   "outputs": [],
   "source": [
    "print(          \n",
    "    3 < 3,      \n",
    "    3 <= 3,\n",
    "    \n",
    "    5 > 5,\n",
    "    5 >= 5,\n",
    "    \n",
    "    6 != 6,\n",
    "    6 == 6,\n",
    ")"
   ]
  },
  {
   "cell_type": "code",
   "execution_count": 10,
   "metadata": {},
   "outputs": [
    {
     "name": "stdout",
     "output_type": "stream",
     "text": [
      "False True 1 0 0 0 1 0 1 1\n"
     ]
    }
   ],
   "source": [
    "print(  \n",
    "    not 1,\n",
    "    not 0,\n",
    "    \n",
    "    1 and 1,\n",
    "    0 and 0,\n",
    "    1 and 0,\n",
    "    0 and 1,\n",
    "    \n",
    "    1 or 1,\n",
    "    0 or 0,\n",
    "    1 or 0,\n",
    "    0 or 1, ## 왜 True/False가 아니라 0,1로 나오는지는 나중에 더 설명!\n",
    "            ## 당장은 0은 False, 1은 True라고 해석하고 이해하자!\n",
    ")"
   ]
  },
  {
   "attachments": {},
   "cell_type": "markdown",
   "metadata": {},
   "source": [
    "## 2.`반복`이 가능한 데이터타입(`iterable`, 혹은 `container`)\n",
    "+ ***`반복`가능, `순서`없음: 집합, 사전***\n",
    "+ ***`반복`가능, `순서`있음: 문자열, 리스트, 튜플***\n",
    "+ `반복`불가, `순서`없음: 숫자, 불값\n",
    "+ ~~`반복`불가, `순서`있음~~\n",
    "\n",
    "<br>\n",
    "\n",
    "+ 반복이 가능한 데이터타입은 안에 **뭔가를 포함하고 있으니까 반복이 가능한 것이다.**\n",
    "+ ✅ 따라서 모든 반복가능 데이터타입들은 공통적으로, **`in`을 활용해서 특정 값이 포함되어있는지 아닌지(`True/False`)를 판단할 수 있다.**\n",
    "+ ✅ 또한 `len()` 함수를 사용해서 포함하고있는 원소의 개수를 반환할 수 있다."
   ]
  },
  {
   "cell_type": "code",
   "execution_count": null,
   "metadata": {},
   "outputs": [],
   "source": [
    "'s' in 'string'     ## 문자열 's'가 'string'이라는 문자열 안에 들어있니? 하고 묻는 것.\n",
    "                    ## ❓ 아웃풋 셀에 뭐가 나오는가? ❓\n",
    "                    ## ❓ 이건 출력한 것인가? 호출한 것인가? 아니면 반환된 값? ❓"
   ]
  },
  {
   "cell_type": "code",
   "execution_count": null,
   "metadata": {},
   "outputs": [],
   "source": [
    "'s' in 'string'\n",
    "print('s' in 'string')"
   ]
  },
  {
   "cell_type": "code",
   "execution_count": null,
   "metadata": {},
   "outputs": [],
   "source": [
    "s in 'string'   ## ❓ 이렇게 하면 어떤 결과값이 나오는가, 그리고 왜 그런 값이 나오는가?? \n",
    "                ## ❓ 앞에 쓰인 s는 뭐지?? \n",
    "                ## ❓ 이 셀을 정상적으로 작동하게 하려면, 앞에 어떤 코드를 써야할뭐까? "
   ]
  },
  {
   "cell_type": "code",
   "execution_count": null,
   "metadata": {},
   "outputs": [],
   "source": [
    "a = '123'   ## ❓ 이건 뭘 한거라고?? ❓"
   ]
  },
  {
   "cell_type": "code",
   "execution_count": null,
   "metadata": {},
   "outputs": [],
   "source": [
    "print(a)    ## 출력하고~\n",
    "a           ## 호출하고~"
   ]
  },
  {
   "cell_type": "code",
   "execution_count": null,
   "metadata": {},
   "outputs": [],
   "source": [
    "'1' in a    ## ❓ 이건 뭘 의미하는가? ❓"
   ]
  },
  {
   "cell_type": "code",
   "execution_count": null,
   "metadata": {},
   "outputs": [],
   "source": [
    "1 in a  ## ❓ 왜 바로 위 셀은 되는데 이건 안되는가? ❓"
   ]
  },
  {
   "cell_type": "code",
   "execution_count": null,
   "metadata": {},
   "outputs": [],
   "source": [
    "a = '123'\n",
    "b = '1'\n",
    "\n",
    "print(a, b) ## print() 함수는 인자로 여러 개를 받을 수도 있네~"
   ]
  },
  {
   "cell_type": "code",
   "execution_count": null,
   "metadata": {},
   "outputs": [],
   "source": [
    "b in a  ## 이렇게도 된다!!"
   ]
  },
  {
   "cell_type": "code",
   "execution_count": null,
   "metadata": {},
   "outputs": [],
   "source": [
    "a in b  ## ❓ 이건 왜 False?? ❓"
   ]
  },
  {
   "cell_type": "code",
   "execution_count": null,
   "metadata": {},
   "outputs": [],
   "source": [
    "len('123')\n",
    "print('length of string 123 printed?')       ## ❓ 여기서 len('123')의 값을 나중에 출력하려면 어떻게 해야할까? ❓"
   ]
  },
  {
   "cell_type": "code",
   "execution_count": null,
   "metadata": {},
   "outputs": [],
   "source": [
    "print(len('123'))\n",
    "print(len(123))"
   ]
  },
  {
   "attachments": {},
   "cell_type": "markdown",
   "metadata": {},
   "source": [
    "<br>\n",
    "<br>\n",
    "\n",
    "### 2-1.`반복`가능하나, `순서`가 없는 데이터타입(`non-sequence`)\n",
    "\n",
    "+ ***`반복`가능, `순서`없음: 집합, 사전***      \n",
    "  + (사전은 다른 특징들이 많아서 다음 시간에 다루자)\n",
    "+ `반복`가능, `순서`있음: 문자열, 리스트, 튜플\n",
    "+ `반복`불가, `순서`없음: 숫자, 불값\n",
    "+ ~~`반복`불가, `순서`있음~~"
   ]
  },
  {
   "attachments": {},
   "cell_type": "markdown",
   "metadata": {},
   "source": [
    "#### 1)집합(`set`, `반복`가능, `순서`없음)\n",
    "\n",
    "+ ***`반복`가능, `순서`없음: 집합, 사전***\n",
    "+ `반복`가능, `순서`있음: 문자열, 리스트, 튜플\n",
    "+ `반복`불가, `순서`없음: 숫자, 불값\n",
    "+ ~~`반복`불가, `순서`있음~~\n",
    "\n",
    "<br>\n",
    "\n",
    "+ **순서가 없기에, 중복된 원소를 허용하지 않는다!!**\n",
    "+ 반복가능하기에 `in`, `len()` 사용가능하겠지\n",
    "+ 집합연산이 가능하다. (합집합, 차집합, 교집합...)"
   ]
  },
  {
   "cell_type": "code",
   "execution_count": 2,
   "metadata": {},
   "outputs": [
    {
     "data": {
      "text/plain": [
       "[1, 2, 3]"
      ]
     },
     "execution_count": 2,
     "metadata": {},
     "output_type": "execute_result"
    }
   ],
   "source": [
    "sorted({3,1,2})"
   ]
  },
  {
   "cell_type": "code",
   "execution_count": null,
   "metadata": {},
   "outputs": [],
   "source": [
    "a = set()   ## 빈 집합은 이렇게 만든다.\n",
    "print(a)\n",
    "a"
   ]
  },
  {
   "cell_type": "code",
   "execution_count": null,
   "metadata": {},
   "outputs": [],
   "source": [
    "a = {'ㄱ','ㄴ','ㄷ','ㄹ', 1,2,3,4}   ## ❓ 집합의 원소로 무엇이 될 수 있는가?? ❓\n",
    "print(a)                   ## --> 퀴즈 10번 문제\n",
    "a"
   ]
  },
  {
   "attachments": {},
   "cell_type": "markdown",
   "metadata": {},
   "source": [
    "##### 1-1) 반복가능 공통의 연산"
   ]
  },
  {
   "cell_type": "code",
   "execution_count": null,
   "metadata": {},
   "outputs": [],
   "source": [
    "a = {'ㄱ','ㄴ','ㄷ','ㄹ'}\n",
    "\n",
    "'ㄱ' in a"
   ]
  },
  {
   "cell_type": "code",
   "execution_count": null,
   "metadata": {},
   "outputs": [],
   "source": [
    "a = {'ㄱ','ㄴ','ㄷ','ㄹ'}\n",
    "\n",
    "len(a)"
   ]
  },
  {
   "attachments": {},
   "cell_type": "markdown",
   "metadata": {},
   "source": [
    "##### 1-2)집합 기본 연산"
   ]
  },
  {
   "cell_type": "code",
   "execution_count": null,
   "metadata": {},
   "outputs": [],
   "source": [
    "a = {1,2,3}         \n",
    "print(a)\n",
    "\n",
    "## 집합 연산\n",
    "a = a | {5}         ## 합집합\n",
    "print(a)\n",
    "\n",
    "a = a & {1,3,5}     ## 교집합\n",
    "print(a)\n",
    "\n",
    "a -= {5}            ## 차집합. ✅ 이렇게 확장할당도 가능하구나? ✅\n",
    "print(a)\n",
    "\n",
    "a ^= {3,5}          ## 대칭차집합\n",
    "print(a)"
   ]
  },
  {
   "cell_type": "code",
   "execution_count": null,
   "metadata": {},
   "outputs": [],
   "source": [
    "## 집합도 사칙연산이 될까?\n",
    "a = {1,2,3}\n",
    "\n",
    "a += {4}\n",
    "print(a)"
   ]
  },
  {
   "cell_type": "code",
   "execution_count": null,
   "metadata": {},
   "outputs": [],
   "source": [
    "## 더하기가 안되면 곱하기는 될까?\n",
    "a = {1,2,3}\n",
    "\n",
    "a * 3\n",
    "\n",
    "## ✅ 아 집합의 사칙연산은 -(차집합) 밖에 안되는구나! ✅\n",
    "## 근데 되는지 안되는지는 직접 해봐야만 알 수 있을까? --> 다음 시간에!!"
   ]
  },
  {
   "attachments": {},
   "cell_type": "markdown",
   "metadata": {},
   "source": [
    "##### 1-3)집합에 원소 추가하기/빼기"
   ]
  },
  {
   "cell_type": "code",
   "execution_count": null,
   "metadata": {},
   "outputs": [],
   "source": [
    "## 원소 하나 더하고\n",
    "a = {1,2,3}\n",
    "print(a)\n",
    "\n",
    "a.add(5)    ## a\n",
    "print(a)    ## ❓ 값을 반환하나? 혹은 앞에 붙은 *객체* 자체를 변화시키나?"
   ]
  },
  {
   "cell_type": "code",
   "execution_count": null,
   "metadata": {},
   "outputs": [],
   "source": [
    "## 원소 하나 빼고\n",
    "a = {1,2,3}\n",
    "\n",
    "a.remove(1)\n",
    "a           ## ❓ 값을 반환하나? 혹은 앞에 붙은 *객체* 자체를 변화시키나?"
   ]
  },
  {
   "cell_type": "code",
   "execution_count": null,
   "metadata": {},
   "outputs": [],
   "source": [
    "a = {1,2,3}\n",
    "\n",
    "a.remove(4)\n",
    "a           "
   ]
  },
  {
   "cell_type": "code",
   "execution_count": null,
   "metadata": {},
   "outputs": [],
   "source": [
    "a = {1,2,3}\n",
    "\n",
    "a.discard(4)    ## discard는 remove랑 어떤 차이가 있는가?\n",
    "a               ## ❓ 값을 반환하나? 혹은 앞에 붙은 *객체* 자체를 변화시키나?"
   ]
  },
  {
   "cell_type": "code",
   "execution_count": null,
   "metadata": {},
   "outputs": [],
   "source": [
    "a = {1,2,3}\n",
    "\n",
    "a.pop()\n",
    "a       ## ❓ 값을 반환하나? 혹은 앞에 붙은 *객체* 자체를 변화시키나?"
   ]
  },
  {
   "cell_type": "code",
   "execution_count": null,
   "metadata": {},
   "outputs": [],
   "source": [
    "a = {1,2,3}\n",
    "\n",
    "print(a.pop())\n",
    "a           ## ❓❓❓ 값을 반환하나? 혹은 앞에 붙은 *객체* 자체를 변화시키나!!!\n",
    "            ## ❓❓❓ 명확히 생각해보자!!!!"
   ]
  },
  {
   "cell_type": "code",
   "execution_count": null,
   "metadata": {},
   "outputs": [],
   "source": [
    "a = {'ㄱ','ㄴ','ㄷ'}\n",
    "\n",
    "print(a.remove('ㄱ'))  ## ❓ remove()는 정확히 무슨 역할을 하는가?? ❓\n",
    "a                   ## ❓ 값을 반환하나? 혹은 앞에 붙은 *객체* 자체를 변화시키나?"
   ]
  },
  {
   "cell_type": "code",
   "execution_count": null,
   "metadata": {},
   "outputs": [],
   "source": [
    "a = {'ㄱ','ㄴ','ㄷ'}\n",
    "\n",
    "c = a.pop(2)    ## remove와 pop은 어떻게 다른가??\n",
    "print(a)        ## ❓ 값을 반환하나? 혹은 앞에 붙은 *객체* 자체를 변화시키나?\n",
    "print(c)"
   ]
  },
  {
   "cell_type": "code",
   "execution_count": null,
   "metadata": {},
   "outputs": [],
   "source": [
    "a = {1,2,3}\n",
    "\n",
    "a.update(5)"
   ]
  },
  {
   "cell_type": "code",
   "execution_count": null,
   "metadata": {},
   "outputs": [],
   "source": [
    "a = {1,2,3}\n",
    "print(a)\n",
    "\n",
    "a.update({5})   ## set.update() 안에 인자로는 어떤 데이터타입이 들어갈 수있는거지? \n",
    "print(a)\n",
    "\n",
    "a.update({8,9})\n",
    "print(a)"
   ]
  },
  {
   "cell_type": "code",
   "execution_count": null,
   "metadata": {},
   "outputs": [],
   "source": [
    "## | (합집합 연산자), |=, add, update를 구분해보자!!!\n",
    "## ❓ 값을 반환하나? 혹은 앞에 붙은 *객체* 자체를 변화시키나?\n",
    "\n",
    "a = {1,2,3}\n",
    "\n",
    "a | {5}\n",
    "print(a)\n",
    "\n",
    "a |= {6}\n",
    "print(a)\n",
    "\n",
    "a.add(7)\n",
    "print(a)\n",
    "\n",
    "a.update({8})\n",
    "print(a)\n",
    "\n",
    "a.update({9,10})\n",
    "print(a)"
   ]
  },
  {
   "attachments": {},
   "cell_type": "markdown",
   "metadata": {},
   "source": [
    "##### 참고: 집합 `update`류 함수들\n",
    "+ ❓ 각각 그냥 합집합, 교집합, 차집합과 어떤 점이 다른가"
   ]
  },
  {
   "cell_type": "code",
   "execution_count": null,
   "metadata": {},
   "outputs": [],
   "source": [
    "a = {1,2,3}\n",
    "\n",
    "a.update({4,5})\n",
    "print(a)\n",
    "\n",
    "a.intersection_update({2,3,4,99})\n",
    "print(a)\n",
    "\n",
    "a.difference_update({4, 99})\n",
    "print(a)"
   ]
  },
  {
   "attachments": {},
   "cell_type": "markdown",
   "metadata": {},
   "source": [
    "##### 참고: 집합 `is`류 함수들"
   ]
  },
  {
   "cell_type": "code",
   "execution_count": null,
   "metadata": {},
   "outputs": [],
   "source": [
    "a = {1,2,3}\n",
    "b= {1,2}\n",
    "c = {8,9}\n",
    "\n",
    "print(\n",
    "    a.issubset(b),\n",
    "    a.issuperset(b),\n",
    "\n",
    "    a.isdisjoint(b),\n",
    "    a.isdisjoint(c),\n",
    "    b.isdisjoint(c),    \n",
    ")"
   ]
  },
  {
   "attachments": {},
   "cell_type": "markdown",
   "metadata": {},
   "source": [
    "### 2-2.`반복`가능하고, `순서`도 있는 데이터타입 (`sequence`)\n",
    "\n",
    "+ ***`반복`가능, `순서`있음: 문자열, 리스트, 튜플***\n",
    "+ `반복`가능, `순서`없음: 집합, 사전\n",
    "+ `반복`불가, `순서`없음: 숫자, 불값\n",
    "+ ~~`반복`불가, `순서`있음~~\n",
    "\n",
    "<br>\n",
    "\n",
    "+ 기본적으로, `반복`가능하므로, `in`이랑 `len()` 사용가능하고,\n",
    "+ 사칙연산 중에는 `+, *`를 사용가능하고\n",
    "+ 추가적으로, `순서`가 있으므로, **`순서(인덱스)`를 통해서 포함하는 객체를 불러올 수 있다!!!! (`인덱싱`, `슬라이싱`)**\n",
    "+ `sequence.index(value_in_sequence) -> int` 메소드를 활용해서 해당 값의 순서(인덱스)를 반환받을 수 있다.\n",
    "+ `sequence.count(value_in_sequence) -> int` 메소드를 통해서 해당 값이 몇개나 있는지를 알 수 있다."
   ]
  },
  {
   "attachments": {},
   "cell_type": "markdown",
   "metadata": {},
   "source": [
    "### 반복가능하고, 순서도 있는 타입들의 공통 함수들"
   ]
  },
  {
   "attachments": {},
   "cell_type": "markdown",
   "metadata": {},
   "source": [
    "##### 1)반복가능하므로 `in, len()`이 되겠지. 그리고 사칙연산 중 `+, *`"
   ]
  },
  {
   "cell_type": "code",
   "execution_count": null,
   "metadata": {},
   "outputs": [],
   "source": [
    "a = '12345'\n",
    "'1' in a"
   ]
  },
  {
   "cell_type": "code",
   "execution_count": null,
   "metadata": {},
   "outputs": [],
   "source": [
    "a = 'hello python!'\n",
    "print(len(a))\n",
    "\n",
    "print(type(a), type(len(a)))"
   ]
  },
  {
   "cell_type": "code",
   "execution_count": null,
   "metadata": {},
   "outputs": [],
   "source": [
    "s = 'abc'\n",
    "l = [1,2,3]\n",
    "t = (1,2,3)\n",
    "print(s, l, t)\n",
    "\n",
    "\n",
    "sn = s + 'def'\n",
    "ln = l + [5,6,7]\n",
    "tn = (1,2,3) + (9,10,11)\n",
    "print(sn, ln, tn)\n",
    "print(s, l, t)"
   ]
  },
  {
   "cell_type": "code",
   "execution_count": null,
   "metadata": {},
   "outputs": [],
   "source": [
    "s = 'abc'\n",
    "l = [1,2,3]\n",
    "t = (1,2,3)\n",
    "print(s, l, t)\n",
    "\n",
    "s *= 2\n",
    "l *= 3\n",
    "t *= 5\n",
    "print(s, l, t)"
   ]
  },
  {
   "attachments": {},
   "cell_type": "markdown",
   "metadata": {},
   "source": [
    "##### 2)`인덱싱`/`슬라이싱`"
   ]
  },
  {
   "cell_type": "code",
   "execution_count": null,
   "metadata": {},
   "outputs": [],
   "source": [
    "a = '01234'\n",
    "a[0]    ## 인덱싱은 [] 안에 인덱스(순서)값을 넣어서 진행한다.\n",
    "        ## ✅ 인덱스(순서)값은 0부터 시작한다!!!! ✅"
   ]
  },
  {
   "cell_type": "code",
   "execution_count": null,
   "metadata": {},
   "outputs": [],
   "source": [
    "a = '012345'\n",
    "print(\n",
    "    a[0],\n",
    "    a[1],\n",
    "    a[2],\n",
    "    a[3],\n",
    "    a[4],\n",
    "    a[5],\n",
    ")"
   ]
  },
  {
   "cell_type": "code",
   "execution_count": null,
   "metadata": {},
   "outputs": [],
   "source": [
    "a = '012345'\n",
    "print(\n",
    "    a[-6],  ## 음수 인덱스는 뒤에서부터 -1, -2, 이렇게 진행된다!!\n",
    "    a[-5],\n",
    "    a[-4],\n",
    "    a[-3],\n",
    "    a[-2],\n",
    "    a[-1],\n",
    ")"
   ]
  },
  {
   "cell_type": "code",
   "execution_count": null,
   "metadata": {},
   "outputs": [],
   "source": [
    "a = [0, 1, 2, 3, 4, 5]      ## 이번에는 리스트다!\n",
    "print(\n",
    "    a[len(a)-6],\n",
    "    a[len(a)-5],\n",
    "    a[len(a)-4],\n",
    "    a[len(a)-3],\n",
    "    a[len(a)-2],\n",
    "    a[len(a)-1],\n",
    ")"
   ]
  },
  {
   "cell_type": "code",
   "execution_count": null,
   "metadata": {},
   "outputs": [],
   "source": [
    "a = [0, 1, 2, 3, 4, 5]\n",
    "print(          ## 슬라이싱\n",
    "    a[0:1],     ## ✅ 슬라이싱 [m,n] 이렇게 하면, m은 포함되고, n은 포함되지 않는다!!!! ✅\n",
    "    a[0:2],\n",
    "    a[0:3],\n",
    "    \n",
    "    a[1:5],\n",
    "    a[1:4],\n",
    "    \n",
    "    a[:],\n",
    "    a[3:],\n",
    "    a[:3],\n",
    "    \n",
    "    a[:-1],      ## ❓ 음수 인덱스는 뭘 뜻한다고? 이건 값이 그럼 어떻게 될까 ❓\n",
    "    a[-2:],  \n",
    ")"
   ]
  },
  {
   "cell_type": "code",
   "execution_count": null,
   "metadata": {},
   "outputs": [],
   "source": [
    "a = [0, 1, 2, 3, 4, 5]\n",
    "\n",
    "print(a[5], a[5:])  ## 둘이 어떻게 다르지??\n",
    "print(a[0], a[:1])  ## "
   ]
  },
  {
   "cell_type": "code",
   "execution_count": null,
   "metadata": {},
   "outputs": [],
   "source": [
    "a = [0, 1, 2, 3, 4, 5]\n",
    "\n",
    "print(\n",
    "    a[::1],     ## [m:n:s]. m은 포함하고, n은 포함하지 않고, s만큼의 간격으로 슬라이싱! \n",
    "    a[::],      ## s의 기본값은 1\n",
    "    a[2::1],\n",
    "    a[2::2],\n",
    "    \n",
    "    a[::-1],\n",
    "    a[::-2],\n",
    "    \n",
    "    a[::-2][0], ## 슬라이싱-인덱싱을 연속해서 쓸 수도 있다!!\n",
    "    a[::-2][1],\n",
    ")"
   ]
  },
  {
   "attachments": {},
   "cell_type": "markdown",
   "metadata": {},
   "source": [
    "##### 3)`index() 메소드`\n",
    "+ `sequence.index(a_value_in_sequence) -> int(index_of_the_value)`"
   ]
  },
  {
   "cell_type": "code",
   "execution_count": null,
   "metadata": {},
   "outputs": [],
   "source": [
    "a = '01234'\n",
    "a.index('4')"
   ]
  },
  {
   "cell_type": "code",
   "execution_count": null,
   "metadata": {},
   "outputs": [],
   "source": [
    "a = '01234'\n",
    "b = a.index('4')    ## ❓ index 메소드는 어떤 기능을 하나? 결과값을 반환하나? 아니면 인자 자체를 변화시키나?\n",
    "print(a)\n",
    "print(b)            ## ❓ 결과값의 데이터타입은 뭘까? 문자열일까? 숫자일까?"
   ]
  },
  {
   "attachments": {},
   "cell_type": "markdown",
   "metadata": {},
   "source": [
    "##### 4)`count() 메소드`\n",
    "+ `sequence.count(value_in_sequence)` -> int "
   ]
  },
  {
   "cell_type": "code",
   "execution_count": null,
   "metadata": {},
   "outputs": [],
   "source": [
    "'aabbcc'.count('a')\n",
    "print('printed above?')"
   ]
  },
  {
   "cell_type": "code",
   "execution_count": null,
   "metadata": {},
   "outputs": [],
   "source": [
    "s = 'aabbccc'\n",
    "cnt = s.count('c')\n",
    "\n",
    "print('assigned above')\n",
    "print(cnt)\n",
    "print(s)    ## 원본 객체는 바뀌지 않는다!\n",
    "cnt"
   ]
  },
  {
   "attachments": {},
   "cell_type": "markdown",
   "metadata": {},
   "source": [
    "##### 5)`sorted()` 함수\n",
    "+ `sorted(sequence) -> list`\n",
    "  + 비고) `list.sort() -> None`"
   ]
  },
  {
   "cell_type": "code",
   "execution_count": null,
   "metadata": {},
   "outputs": [],
   "source": [
    "l = [3,1,2,7,5,6,4]\n",
    "s = '6451092'\n",
    "t = (3,1,6,0,1,4,2)\n",
    "\n",
    "print(\n",
    "    sorted(l),\n",
    "    sorted(s),\n",
    "    sorted(t),\n",
    "    sep = '\\n'\n",
    ")"
   ]
  },
  {
   "cell_type": "code",
   "execution_count": null,
   "metadata": {},
   "outputs": [],
   "source": [
    "l = [3,1,2,7,5,6,4]\n",
    "print(l.sort())\n",
    "print(l)"
   ]
  },
  {
   "attachments": {},
   "cell_type": "markdown",
   "metadata": {},
   "source": [
    "### 그럼 본격적으로 반복가능, 순서있는 데이터타입들을 뜯어보자"
   ]
  },
  {
   "attachments": {},
   "cell_type": "markdown",
   "metadata": {},
   "source": [
    "#### 1)`문자\"열\" (string)`\n",
    "\n",
    "+ ***`반복`가능, `순서`있음: 문자열, 리스트, 튜플***\n",
    "+ `반복`가능, `순서`없음: 집합, 사전\n",
    "+ `반복`불가, `순서`없음: 숫자, 불값\n",
    "+ ~~`반복`불가, `순서`있음~~\n",
    "\n",
    "<br>\n",
    "\n",
    "+ 파이썬은 하나의 문자(character)도 `문자\"열\"`로 취급한다.\n",
    "  + 곧, 하나의 문자만 가지고 있어도 파이썬은 해당 문자를 포함하는 것으로 간주한다. (요소의 개수가 한 개)\n",
    "\n",
    "<br>\n",
    "\n",
    "+ 문장부호, 주요 이스케이프 문자(`\\t`, `\\n`, `\\\\`, `\\'`, `\\\"`) 정도만 주의하자.\n",
    "\n",
    "<br>\n",
    "\n",
    "+ **`반복`가능하고 `순서`도 있는 데이터타입이므로, 공통적으로 `인덱싱`, `슬라이싱`, `index() 메소드`가 가능하다!**\n",
    "+ 문자열 연산\n",
    "  + 더하기(문자열 합치기), 곱하기(문자열 반복)를 할 수 있다. 빼기, 나누기는 못한다.\n",
    "+ 문자열 함수/메소드\n",
    "  + `str.replace('old', 'new')` -> str\n",
    "  + `str.upper()`, `str.lower()`, `str.capitalize()`, `str.title()`... -> str\n",
    "  + `str.isupper()`, `str.islower()`, `str.istitle()`... -> bool"
   ]
  },
  {
   "cell_type": "code",
   "execution_count": null,
   "metadata": {},
   "outputs": [],
   "source": [
    "## 텍스트를 \"\" 혹은  ''로 둘러 싸 문자열을 만든다.\n",
    "## 기본적으로는 작은 따옴표에 쓰나 큰 따옴표에 쓰나 차이가 없다!\n",
    "print(\n",
    "    'A',    ## 파이썬은 문자와 문자열을 구분하지 않는다.\n",
    "    \"a\",\n",
    "    \n",
    "    'Hello World!', ## '로 하든\n",
    "    \"Hello World!\", ## \"로 하든 결과값은 같다.\n",
    "    sep = '\\n'      ## 구분자. seperator를 \\n으로 했다.\n",
    ")                   ## ❓ \\n은 무엇을 의미하는가? 출력된 것을 보고 확인해보자."
   ]
  },
  {
   "cell_type": "code",
   "execution_count": null,
   "metadata": {},
   "outputs": [],
   "source": [
    "## !! 그러나 문자열 내에 문장부호로서 작은 따옴표, 큰 따옴표가 있는 경우만 주의하자.\n",
    "print(\n",
    "    \"I'm Sam\",              \n",
    "    'she said \"Yes!\".',\n",
    "    sep = '\\n'\n",
    ")"
   ]
  },
  {
   "cell_type": "code",
   "execution_count": null,
   "metadata": {},
   "outputs": [],
   "source": [
    "## ' 혹은 \" 세 개를 활용해서 여러 줄의 문자열을 입력할 수도 있다.\n",
    "## 주로 긴 문자열을 입력할 떄 자주 사용한다.\n",
    "print(\n",
    "    '''\"Don\\'t look back in anger\", \n",
    "        I heard you say''',\n",
    "    \n",
    "    ## !! '''나 \"\"\" 다음에 엔터를 치면, 줄을 바꾼 것으로 인식한다!! 주의하자!!\n",
    "    \"\"\"\n",
    "    Don\\'t look back in anger\", \n",
    "    I heard you say.\n",
    "    \"\"\",\n",
    "    \n",
    "    sep = '\\n---------------------------------\\n'\n",
    ")"
   ]
  },
  {
   "cell_type": "code",
   "execution_count": null,
   "metadata": {},
   "outputs": [],
   "source": [
    "## 이스케이프 문자\n",
    "print(    \n",
    "    \"I\\'ve said \\\"Yes!\\\"\",  ## \\', \\\"의 형태로 사용하여 문장부호 자체로 ', \"를 사용할 수 있다.\n",
    "    \n",
    "    \"I,\\nsaid\\tyes !\\\\\",    ## 백슬래쉬(\\, 한국어 자판에서 원 표시)를 사용해 특수한 목적으로 사용할 수 있다.\n",
    "                            ## \\n은 개행(줄바꿈, linebreak), \\t는 탭(Tab), \\\\는 \\ 그대로\n",
    "    sep = '\\n-----\\n'\n",
    ")     "
   ]
  },
  {
   "attachments": {},
   "cell_type": "markdown",
   "metadata": {},
   "source": [
    "##### `반복`가능, `순서`있는 데이터타입  공통의 연산\n",
    "+ `더하기, 곱하기`, ~~빼기, 나누기~~\n",
    "+ `반복`가능하므로 `in, len(iterable)` \n",
    "+ `순서`가 있으므로 \n",
    "  + `인덱싱, 슬라이싱`\n",
    "  + `seq.index(value) ->int(index)`\n",
    "  + `sequence.count(value) -> int(count)`\n",
    "  + `sorted(sequence) -> list`"
   ]
  },
  {
   "cell_type": "code",
   "execution_count": null,
   "metadata": {},
   "outputs": [],
   "source": [
    "## 문자열에 더하기, 곱하기 연산을 통해 합치거나, 반복할 수 있다.\n",
    "## !! 단, 빼기와 나누기 연산은 존재하지 않는다!\n",
    "print(\n",
    "    'I' + \"go\", ## 중간에 공백이 자동으로 들어가지 않음을 유의하자!\n",
    "    'I' + ' ' + \"go\",\n",
    "    \"go!\" * 3,\n",
    "    \" go!\" * 3,\n",
    "    \"go! \" * 3,\n",
    "    \n",
    "    sep = '\\n'\n",
    ")"
   ]
  },
  {
   "cell_type": "code",
   "execution_count": null,
   "metadata": {},
   "outputs": [],
   "source": [
    "## 빼기가 나누기는 될까?\n",
    "\n",
    "a = 'I go there'\n",
    "b = 'there'\n",
    "print(a-b)\n",
    "\n",
    "## 뭐가 안되고, 뭐가 되는지 어떻게 알지?? --> 다음 시간에!!"
   ]
  },
  {
   "cell_type": "code",
   "execution_count": null,
   "metadata": {},
   "outputs": [],
   "source": [
    "print(\n",
    "    \"I love you\"[0],\n",
    "    \"I love you\"[1],\n",
    "    \n",
    "    \"I love you\"[-1],\n",
    "    \"I love you\"[-5],\n",
    "    \n",
    "    \"I love you\"[3:],\n",
    "    \"I love you\"[3::2],\n",
    "    \n",
    "    \"I love you\"[:-5],    \n",
    "    sep = '\\n'\n",
    ")"
   ]
  },
  {
   "cell_type": "code",
   "execution_count": null,
   "metadata": {},
   "outputs": [],
   "source": [
    "s = 'abcabcabc'\n",
    "\n",
    "print(\n",
    "    len(s),\n",
    "    'x' in s,\n",
    "    s in s,\n",
    "    s.index('c'),\n",
    "    s.find('x'),    ## find는 없는 값의 인덱스를 -1로 반환\n",
    "                    ## index는?? 오류 발생\n",
    "                    ## ✅ find는 문자열 전용 함수다!! index는 반복가능, 순서있음 공용 ✅\n",
    "    s.count('abc'),\n",
    ")"
   ]
  },
  {
   "cell_type": "code",
   "execution_count": null,
   "metadata": {},
   "outputs": [],
   "source": [
    "s = '나가라다바사마'\n",
    "\n",
    "print(sorted(s))"
   ]
  },
  {
   "attachments": {},
   "cell_type": "markdown",
   "metadata": {},
   "source": [
    "##### 1-1)문자열의 내용을 변경시키는 `메소드`\n",
    "> `함수`와 `메소드`의 본질적인 차이는 다음 시간에 다룬다. \n",
    "> \n",
    "> 여기서는 그냥 형태만 다르다고 알아두자.\n",
    "\n",
    "\n",
    "+ **엄밀히 말하자면, 객체 자체를 변경하는 메소드는 아니다!**\n",
    "  + 곧, 변경한 문자열을 반드시 재할당해야한다!!!!\n",
    "\n",
    "<br>\n",
    "\n",
    "✅ 함수를 공부할 때 주의할 점 ✅\n",
    "+ **함수가 어떤 역할을 하는지,** (근데 사실 이건 딱 보면 안다!)\n",
    "+ **어떤 데이터타입을 인자로 받을 수 있는지,**\n",
    "+ **이게 결과값을 반환하는지, (만약 반환한다면 어떤 데이터타입으로 반환하는지)**\n",
    "  + 아니면, **결과값을 반환하지 않고, 인자 자체를 바꾸는 것인지**를 명확히 알아둘 필요가 있다!!!!\n",
    "\n",
    "<br>\n",
    "\n",
    "+ `str.replace('old', 'new')` -> str\n",
    "+ `str.upper()`, `str.lower()`, `str.capitalize()`, `str.title()`... -> str\n",
    "+ `str.isupper()`, `str.islower()`, `str.istitle()`... -> bool\n",
    "+ `str.strip()`, `str.rstrip()`, `str.lstrip()` -> str"
   ]
  },
  {
   "cell_type": "code",
   "execution_count": null,
   "metadata": {},
   "outputs": [],
   "source": [
    "a = 'I love you'\n",
    "a.replace('I', 'He')    ## 오 바꿔진다!"
   ]
  },
  {
   "cell_type": "code",
   "execution_count": null,
   "metadata": {},
   "outputs": [],
   "source": [
    "a = 'I love you'\n",
    "a.replace('I', 'He')\n",
    "print(a)                ## 어 왜 안바꿔지지??"
   ]
  },
  {
   "cell_type": "code",
   "execution_count": null,
   "metadata": {},
   "outputs": [],
   "source": [
    "a = 'I love you'\n",
    "b = a.replace('I', 'He')\n",
    "print(a)\n",
    "print(b)            ## ❓ replace함수는 어떤 기능을 하는가??"
   ]
  },
  {
   "cell_type": "code",
   "execution_count": null,
   "metadata": {},
   "outputs": [],
   "source": [
    "s = \"aBCdeFG hiJKlmn OpQrStu VWXYZ\"\n",
    "\n",
    "print(\n",
    "    s.upper(),\n",
    "    s.lower(),\n",
    "    s.title(),\n",
    "    s.capitalize(),\n",
    "    sep = '\\n\\n'\n",
    ")"
   ]
  },
  {
   "cell_type": "code",
   "execution_count": null,
   "metadata": {},
   "outputs": [],
   "source": [
    "s = \"aBCdeFG hiJKlmn OpQrStu VWXYZ\"\n",
    "s.lower()\n",
    "print(s)"
   ]
  },
  {
   "cell_type": "code",
   "execution_count": null,
   "metadata": {},
   "outputs": [],
   "source": [
    "s = \"aBCdeFG hiJKlmn OpQrStu VWXYZ\"\n",
    "l = s.lower()\n",
    "print(s)\n",
    "print(l)"
   ]
  },
  {
   "attachments": {},
   "cell_type": "markdown",
   "metadata": {},
   "source": [
    "##### 1-2)공백/문자를 제거하는 strip류 메서드"
   ]
  },
  {
   "cell_type": "code",
   "execution_count": null,
   "metadata": {},
   "outputs": [],
   "source": [
    "s = '   abc   '\n",
    "print(s.strip())\n",
    "print(s)\n",
    "\n",
    "ls = s.lstrip()\n",
    "print(s)\n",
    "print(ls)\n",
    "\n",
    "print(s.rstrip())"
   ]
  },
  {
   "cell_type": "code",
   "execution_count": null,
   "metadata": {},
   "outputs": [],
   "source": [
    "s = '\\t\\n   xsd dggh a\\t\\n \\t'\n",
    "s.strip()   ## 가운데 공백은 안사라진다!"
   ]
  },
  {
   "cell_type": "code",
   "execution_count": null,
   "metadata": {},
   "outputs": [],
   "source": [
    "## strip 안에 인자를 사용하면? \n",
    "s = 'abcdef'\n",
    "\n",
    "afs = s.strip('af')\n",
    "print(s)\n",
    "print(afs)\n",
    "\n",
    "afbs = s.lstrip('abf')\n",
    "print(s)\n",
    "print(afbs)\n"
   ]
  },
  {
   "attachments": {},
   "cell_type": "markdown",
   "metadata": {},
   "source": [
    "##### 1-3) 불값을 반환하는 문자열 메소드들"
   ]
  },
  {
   "cell_type": "code",
   "execution_count": null,
   "metadata": {},
   "outputs": [],
   "source": [
    "s = \"aBCdeFG hiJKlmn OpQrStu VWXYZ\"\n",
    "ls = s.lower()\n",
    "\n",
    "print(ls.islower())\n",
    "print(ls.isupper())\n",
    "print(ls.istitle())"
   ]
  },
  {
   "cell_type": "code",
   "execution_count": null,
   "metadata": {},
   "outputs": [],
   "source": [
    "s = \"ab cd\"\n",
    "print(s.isalpha())\n",
    "print(s.isalnum())\n",
    "\n",
    "ss ='abcd'\n",
    "print(ss.isalpha())\n",
    "print(ss.isalnum())"
   ]
  },
  {
   "cell_type": "code",
   "execution_count": null,
   "metadata": {},
   "outputs": [],
   "source": [
    "alphabet_with_num_str = '123abc'\n",
    "digit_onlt_str = '123'\n",
    "print(alphabet_with_num_str.isalnum())\n",
    "print(digit_onlt_str.isnumeric())"
   ]
  },
  {
   "cell_type": "code",
   "execution_count": null,
   "metadata": {},
   "outputs": [],
   "source": [
    "s = 'abcde'\n",
    "\n",
    "print(\n",
    "    s.startswith('ab'),\n",
    "    s.startswith('abc'),\n",
    "    s.endswith('cde'),\n",
    "    s.endswith('ced'),\n",
    "    sep = '\\n'\n",
    ")"
   ]
  },
  {
   "cell_type": "code",
   "execution_count": null,
   "metadata": {},
   "outputs": [],
   "source": [
    "l = s.lower()\n",
    "\n",
    "print(\n",
    "    l.islower(),\n",
    "    l.upper().islower(),\n",
    "    l.upper().isupper(),\n",
    "    l.title(),\n",
    "    l.istitle(),\n",
    "    \n",
    "    l.lower().upper().title(),\n",
    "    l.lower().upper().title().istitle(),    ## 데이터 타입만 맞는다면, 무수히 이어서 쓸 수 있다! (언어의 확장성 --> 프로그래밍 언어의 확장성)\n",
    "    \n",
    "    l.lower().upper().title().upper().istitle(),\n",
    "    \n",
    "    sep = '\\n\\n'\n",
    ")"
   ]
  },
  {
   "attachments": {},
   "cell_type": "markdown",
   "metadata": {},
   "source": [
    "#### 2)리스트\n",
    "\n",
    "+ ***`반복`가능, `순서`있음: 문자열, 리스트, 튜플***\n",
    "+ `반복`가능, `순서`없음: 집합, 사전\n",
    "+ `반복`불가, `순서`없음: 숫자, 불값\n",
    "+ ~~`반복`불가, `순서`있음~~\n",
    "\n",
    "<br>\n",
    "\n",
    "##### `반복`가능, `순서`있는 데이터타입  공통의 연산\n",
    "+ `더하기, 곱하기`, ~~빼기, 나누기~~\n",
    "+ `반복`가능하므로 `in, len(iterable)` \n",
    "+ `순서`가 있으므로 \n",
    "  + `인덱싱, 슬라이싱`\n",
    "  + `seq.index(value) ->int(index)`\n",
    "  + `sequence.count(value) -> int(count)`\n",
    "  + `sorted(sequence) -> list`"
   ]
  },
  {
   "cell_type": "code",
   "execution_count": null,
   "metadata": {},
   "outputs": [],
   "source": [
    "## 리스트는 []로 감싼다.\n",
    "empty_list = [] ## 빈 리스트\n",
    "print(len(empty_list))"
   ]
  },
  {
   "cell_type": "code",
   "execution_count": null,
   "metadata": {},
   "outputs": [],
   "source": [
    "l = [1,2,3,  'ㄱ','ㄴ','ㄷ','ㄷ','ㄷ','ㄷ',  1.5, -3.2, 4.4, ]  \n",
    "\n",
    "print(len(l))\n",
    "print(1 in l)\n",
    "print('1' in l)\n",
    "print(l[0])\n",
    "print(l[0:1])\n",
    "print(l.index(3))\n",
    "print(l.count('ㄷ'))"
   ]
  },
  {
   "cell_type": "code",
   "execution_count": null,
   "metadata": {},
   "outputs": [],
   "source": [
    "l = [1,2,3]\n",
    "\n",
    "ll = l + l\n",
    "print(l)\n",
    "print(ll)\n",
    "\n",
    "lll = l * 3\n",
    "print(lll)"
   ]
  },
  {
   "cell_type": "code",
   "execution_count": null,
   "metadata": {},
   "outputs": [],
   "source": [
    "## 빼기, 나누기는 여기서도 안된다.\n",
    "\n",
    "\n",
    "l = ['ㄱ','ㄴ','ㄷ']\n",
    "m = l - ['ㄴ']\n",
    "print(m)\n"
   ]
  },
  {
   "attachments": {},
   "cell_type": "markdown",
   "metadata": {},
   "source": [
    "##### 2-1)리스트에 값 추가하기, 빼기\n",
    "+ 추가하기\n",
    "  + `list.append(one_value) -> None`\n",
    "  + `list.extend(iteralbe) -> None`\n",
    "  + `list.insert(index, value) -> None`\n",
    "  + `list += another_list`\n",
    "\n",
    "<br>\n",
    "\n",
    "+ 제거하기\n",
    "  + `list.pop(index) -> value`\n",
    "  + `list.remove(value) -> None`\n",
    "  + `list.clear()`"
   ]
  },
  {
   "cell_type": "code",
   "execution_count": null,
   "metadata": {},
   "outputs": [],
   "source": [
    "l = [1,2,3]\n",
    "l.append('10')\n",
    "print(l)"
   ]
  },
  {
   "cell_type": "code",
   "execution_count": null,
   "metadata": {},
   "outputs": [],
   "source": [
    "l = [1,2,3]\n",
    "s = l.append('10')\n",
    "print(s)            ## ❓ append 메소드는 무슨 기능을 하는지 명확히 서술해보자.\n",
    "print(l)"
   ]
  },
  {
   "cell_type": "code",
   "execution_count": null,
   "metadata": {},
   "outputs": [],
   "source": [
    "l = [1,2,3]\n",
    "l.append('abc')\n",
    "print(l)"
   ]
  },
  {
   "cell_type": "code",
   "execution_count": null,
   "metadata": {},
   "outputs": [],
   "source": [
    "l = [1,2,3]\n",
    "l = l + ['abc']\n",
    "print(l)"
   ]
  },
  {
   "cell_type": "code",
   "execution_count": null,
   "metadata": {},
   "outputs": [],
   "source": [
    "l = [1,2,3]\n",
    "l.extend('abc')\n",
    "print(l)"
   ]
  },
  {
   "cell_type": "code",
   "execution_count": null,
   "metadata": {},
   "outputs": [],
   "source": [
    "l = [1,2,3]\n",
    "print(l)\n",
    "\n",
    "l = l + [4]\n",
    "print(l)\n",
    "\n",
    "l += [9,10]\n",
    "print(l)"
   ]
  },
  {
   "cell_type": "code",
   "execution_count": null,
   "metadata": {},
   "outputs": [],
   "source": [
    "l = [1,2,3]\n",
    "l = l + 'abc'\n",
    "print(l)"
   ]
  },
  {
   "cell_type": "code",
   "execution_count": null,
   "metadata": {},
   "outputs": [],
   "source": [
    "l = [[1,2,3], 9, 10, 11]    ## 리스트는 중첩될 수도 있다!!\n",
    "print(l[0])\n",
    "\n",
    "l.insert(1, 'XXX')\n",
    "print(l)\n",
    "print(l[0])\n",
    "\n",
    "\n",
    "l[0].insert(1, '&&&')\n",
    "print(l)"
   ]
  },
  {
   "cell_type": "code",
   "execution_count": null,
   "metadata": {},
   "outputs": [],
   "source": [
    "l = ['ㄱ', 'ㄴ','ㄷ','ㄹ','ㅁ']\n",
    "\n",
    "print(l.pop(0))\n",
    "print(l)\n",
    "\n",
    "l.remove('ㅁ')\n",
    "print(l)\n"
   ]
  },
  {
   "cell_type": "code",
   "execution_count": null,
   "metadata": {},
   "outputs": [],
   "source": [
    "l = ['ㄱ', 'ㄴ','ㄷ','ㄹ','ㅁ']\n",
    "\n",
    "print(l.remove('ㅁ'))\n",
    "print(l)\n"
   ]
  },
  {
   "cell_type": "code",
   "execution_count": null,
   "metadata": {},
   "outputs": [],
   "source": [
    "l = ['ㄷ','ㄴ','ㄱ','ㄹ','ㅂ','ㅁ']\n",
    "print(l)\n",
    "\n",
    "\n",
    "l.sort()\n",
    "print(l)\n",
    "\n",
    "l.clear()       ## 깔끔하게 클리어~\n",
    "print(l)"
   ]
  },
  {
   "attachments": {},
   "cell_type": "markdown",
   "metadata": {},
   "source": [
    "##### 2-2) 리스트 정렬하기/뒤집기\n",
    "+ 리스트는 순서가 있으므로, 정렬하거나 순서를 뒤집을 수 있다!!!\n",
    "+ 이때 정렬의 순서는 오름차순을 기본으로 한다."
   ]
  },
  {
   "cell_type": "code",
   "execution_count": null,
   "metadata": {},
   "outputs": [],
   "source": [
    "l = [3,1,4,0,9,-1,10]\n",
    "sorted(l)   ## 얘는 반복가능 순서있음 공용 함수였지??\n",
    "sl = sorted(l)\n",
    "print(l)\n",
    "print(sl)       ## ❓ 정렬된 리스트가 어디로 가는가??"
   ]
  },
  {
   "cell_type": "code",
   "execution_count": null,
   "metadata": {},
   "outputs": [],
   "source": [
    "l = [3,1,4,0,9,-1,10]\n",
    "l.sort()        ## 얘는 리스트 전용!!!\n",
    "sl = l.sort()\n",
    "print(l)\n",
    "print(sl)   ## ❓ 정렬된 리스트가 어디로 가는가??"
   ]
  },
  {
   "cell_type": "code",
   "execution_count": null,
   "metadata": {},
   "outputs": [],
   "source": [
    "l = [3,1,4,0,9,-1,10]\n",
    "l.reverse()             ## 정렬은 안하고, 그냥 냅다 뒤집어 버린다.\n",
    "l"
   ]
  },
  {
   "cell_type": "code",
   "execution_count": null,
   "metadata": {},
   "outputs": [],
   "source": [
    "l = [3,1,4,0,9,-1,10]\n",
    "l.sort(reverse=True)    ## 둘 다 동시에 할 수도 있네!\n",
    "l"
   ]
  },
  {
   "cell_type": "code",
   "execution_count": null,
   "metadata": {},
   "outputs": [],
   "source": [
    "l = [3,1,4,0,9,-1,10]\n",
    "l.sort(reverse = True)\n",
    "l"
   ]
  },
  {
   "cell_type": "code",
   "execution_count": null,
   "metadata": {},
   "outputs": [],
   "source": [
    "l = [3,1,4,0,9,-1,10]\n",
    "l[::-1]     ## 이렇게 뒤집을 수도 있다!!!!"
   ]
  },
  {
   "attachments": {},
   "cell_type": "markdown",
   "metadata": {},
   "source": [
    "#### 3)튜플\n",
    "\n",
    "+ ***`반복`가능, `순서`있음: 문자열, 리스트, 튜플***\n",
    "+ `반복`가능, `순서`없음: 집합, 사전\n",
    "+ `반복`불가, `순서`없음: 숫자, 불값\n",
    "+ ~~`반복`불가, `순서`있음~~\n",
    "\n",
    "<br>\n",
    "\n",
    "##### `반복`가능, `순서`있는 데이터타입  공통의 연산\n",
    "+ `더하기, 곱하기`, ~~빼기, 나누기~~\n",
    "+ `반복`가능하므로 `in, len(iterable)` \n",
    "+ `순서`가 있으므로 \n",
    "  + `인덱싱, 슬라이싱`\n",
    "  + `seq.index(value) ->int(index)`\n",
    "  + `sequence.count(value) -> int(count)`\n",
    "  + `sorted(sequence) -> list`\n",
    "\n",
    "<br>\n",
    "\n",
    "> 튜플은 리스트와 굉장히 비슷한데, 튜플만 쓸 수 있는 함수/메소드들은 없다.\n",
    "> \n",
    "> 그래서 얼핏 보기에는 리스트의 하위호환처럼 보인다.\n",
    "> \n",
    "> 그러나 단순함을 지향하는 파이썬이 이유도 없이 만들어두지는 않았을 터인데,\n",
    ">\n",
    "> 튜플은 왜 존재하는가?\n",
    ">\n",
    "> 그 이유는 다음 시간에 정확히 배우자!"
   ]
  },
  {
   "cell_type": "code",
   "execution_count": null,
   "metadata": {},
   "outputs": [],
   "source": [
    "l = [1,2,3]     ## 리스트가 []로 원소들을 감싸지만, \n",
    "t = (1,2,3)     ## 튜플은 대신 ()로 원소들을 감싼다.\n",
    "\n",
    "print(type(l), type(t))\n",
    "\n",
    "l = [1]\n",
    "t = (1)\n",
    "\n",
    "print(type(l), \n",
    "      type(t)) ## 어라? 이건 튜플이 아니다??\n"
   ]
  },
  {
   "cell_type": "code",
   "execution_count": null,
   "metadata": {},
   "outputs": [],
   "source": [
    "t1 = (1,)       ## 원소가 하나인 튜플을 만들 때는 ,를 찍어줘야\n",
    "num = (1)\n",
    "plus = (1+2+3)  ## 안그러면 이런식으로 계산을 먼저하라는 뜻의 괄호\n",
    "\n",
    "print(type(t1), type(num), type(plus))"
   ]
  },
  {
   "cell_type": "code",
   "execution_count": null,
   "metadata": {},
   "outputs": [],
   "source": [
    "t = (1,2,3,  'ㄱ','ㄴ','ㄷ','ㄷ','ㄷ','ㄷ',  1.5, -3.2, 4.4, )\n",
    "\n",
    "print(len(t))\n",
    "print(1 in t)\n",
    "print('1' in t)\n",
    "print(t[0])\n",
    "print(t[0:1])\n",
    "print(t.index(3))\n",
    "print(t.count('ㄷ'))"
   ]
  },
  {
   "cell_type": "code",
   "execution_count": null,
   "metadata": {},
   "outputs": [],
   "source": [
    "## 빼기/나누기는 여기서도 안된다!!\n",
    "## 정리하자면, \n",
    "#### 문자열/리스트/튜플는 더하기, 곱하기만 되고,\n",
    "#### 집합은 빼기(차집합)만 된다!!!"
   ]
  },
  {
   "cell_type": "code",
   "execution_count": null,
   "metadata": {},
   "outputs": [],
   "source": [
    "t = (1,2,3)\n",
    "tt = t * 2\n",
    "\n",
    "print(t)\n",
    "print(tt)"
   ]
  },
  {
   "cell_type": "code",
   "execution_count": null,
   "metadata": {},
   "outputs": [],
   "source": [
    "t1 = (1,2,3)\n",
    "t2 = ('ㄱ', 'ㄴ', 'ㄷ')\n",
    "\n",
    "t3 = t1 + t2\n",
    "\n",
    "print(t1, t2, t3, sep = '\\n')\n"
   ]
  },
  {
   "attachments": {},
   "cell_type": "markdown",
   "metadata": {},
   "source": [
    "## ⏰⏰ 데이터타입 구분 총정리 ⏰⏰\n",
    "\n",
    "+ 반복불가\n",
    "  + ~~반복불가 순서있음~~\n",
    "  + 반복불가 순서없음: 숫자, 불,\n",
    "    + 사칙연산, 확장할당연산자\n",
    "    + 비교연산자\n",
    "\n",
    "<br>\n",
    "\n",
    "+ 반복가능 (공통: `in`, `len()`)\n",
    "  + 반복가능 순서없음\n",
    "    1. 집합\n",
    "       + 사칙 연산 중 유일하게 `- (차집합)`만 가능하다!\n",
    "       + 집합 연산자 (`|, &, -, ^`)\n",
    "         + 확장할당연산자도 가능했지 (`|=, &=, -=, ^=`)\n",
    "       + `|, |=, add, update` 차이\n",
    "    2. ~~사전~~\n",
    "  + 반복가능 순서있음(공통: `+, *, 인덱싱, 슬라이싱, s.count(), s.index()`)\n",
    "    1. 문자열\n",
    "       + 1-1) 문자열의 내용 바꾸는 메서드(`str.replace(), str.upper(), str.lower()...`)\n",
    "       + 1-2) 좌or우의 공백/문자를 제거하는 strip류 메서드(`str.strip(), str.rstrip(), str.lstrip()`)\n",
    "       + > 단, **문자열 내용을 실제로 바꾸는 것은 아니다! 따라서 `재할당이 필요`하다!!**\n",
    "       + 1-3) 불값을 반환하는 메서드(`str.islower(), isnumeric()...`)\n",
    "    2. 리스트\n",
    "       + 2-1) 값 추가하기 (`list.append(a_value), list.insert(index, value), list.extend(iterable), list += new_list`)\n",
    "       + 2-1) 값 제거하기 (`list.remove(a_value), list.pop(index), list.clear()`)\n",
    "       + 2-2) 정렬, 뒤집기 (`list.sort(), list.reverse()`)\n",
    "       + > 리스트 **내용을 실제로 변화시킨다!! 값이 변하거나, 순서가 바뀐 리스트를 반환하는 것이 아니다!! 따라서 `재할당하면 안된다!!`**\n",
    "    3. 튜플\n",
    "       + 하나의 원소만 있는 튜플은 반드시 `,` 찍어줘야 (ex. `(1,)`)\n",
    "       + 고유한 메소드 없음."
   ]
  }
 ],
 "metadata": {
  "kernelspec": {
   "display_name": "Python 3",
   "language": "python",
   "name": "python3"
  },
  "language_info": {
   "codemirror_mode": {
    "name": "ipython",
    "version": 3
   },
   "file_extension": ".py",
   "mimetype": "text/x-python",
   "name": "python",
   "nbconvert_exporter": "python",
   "pygments_lexer": "ipython3",
   "version": "3.11.0 (main, Oct 24 2022, 18:26:48) [MSC v.1933 64 bit (AMD64)]"
  },
  "orig_nbformat": 4,
  "vscode": {
   "interpreter": {
    "hash": "7cba0d1a42559d80c1785ea75de96ff2e6fe2ecdb092afa9b1831b12c16563fe"
   }
  }
 },
 "nbformat": 4,
 "nbformat_minor": 2
}
