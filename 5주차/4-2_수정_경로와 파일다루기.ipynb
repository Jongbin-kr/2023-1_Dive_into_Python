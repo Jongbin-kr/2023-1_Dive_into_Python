{
 "cells": [
  {
   "attachments": {},
   "cell_type": "markdown",
   "metadata": {},
   "source": [
    "# I.경로 다루기\n",
    "\n",
    "+ 주요 함수들\n",
    "    + os.getcwd()\n",
    "    + os.chdir()\n",
    "    + os.listdir()\n",
    "\n",
    "<br>\n",
    "\n",
    "+ 상대경로 vs. 절대경로\n",
    "\n"
   ]
  },
  {
   "cell_type": "code",
   "execution_count": 2,
   "metadata": {},
   "outputs": [
    {
     "ename": "FileNotFoundError",
     "evalue": "[WinError 2] 지정된 파일을 찾을 수 없습니다: './test/'",
     "output_type": "error",
     "traceback": [
      "\u001b[1;31m---------------------------------------------------------------------------\u001b[0m",
      "\u001b[1;31mFileNotFoundError\u001b[0m                         Traceback (most recent call last)",
      "Cell \u001b[1;32mIn[2], line 7\u001b[0m\n\u001b[0;32m      1\u001b[0m \u001b[39m## 들어가기 전, 먼저 세팅부터 하자!\u001b[39;00m\n\u001b[0;32m      2\u001b[0m \u001b[39m## 먼저, 4주차 폴더를 열고, 거기서 우클릭 - Code(으)로 열기 버튼을 누르세요\u001b[39;00m\n\u001b[0;32m      3\u001b[0m \u001b[39m## 아래 코드를 실행시켰을 때 아웃풋셀에 ['korea', 'text1.txt', 'text2.txt']이렇게 뜨면 사전 설정 끗~\u001b[39;00m\n\u001b[0;32m      5\u001b[0m \u001b[39mimport\u001b[39;00m \u001b[39mos\u001b[39;00m               \u001b[39m## import는 **모듈**을 불러오는 것. 모듈이 뭔지는 다음 시간에 좀 더 자세히 배울게요\u001b[39;00m\n\u001b[1;32m----> 7\u001b[0m os\u001b[39m.\u001b[39;49mchdir(\u001b[39m'\u001b[39;49m\u001b[39m./test/\u001b[39;49m\u001b[39m'\u001b[39;49m)    \u001b[39m## 현재 작업폴더(4주차)아래에 있는 test 폴더로 경로를 바꾸고,\u001b[39;00m\n\u001b[0;32m      8\u001b[0m os\u001b[39m.\u001b[39mlistdir()            \u001b[39m## test 폴더안에 어떤 친구들이 있나 리스트로 뽑아줘!\u001b[39;00m\n",
      "\u001b[1;31mFileNotFoundError\u001b[0m: [WinError 2] 지정된 파일을 찾을 수 없습니다: './test/'"
     ]
    }
   ],
   "source": [
    "## 들어가기 전, 먼저 세팅부터 하자!\n",
    "## 먼저, 4주차 폴더를 열고, 거기서 우클릭 - Code(으)로 열기 버튼을 누르세요\n",
    "## 아래 코드를 실행시켰을 때 아웃풋셀에 ['korea', 'text1.txt', 'text2.txt']이렇게 뜨면 사전 설정 끗~\n",
    "\n",
    "import os               ## import는 **모듈**을 불러오는 것. 모듈이 뭔지는 다음 시간에 좀 더 자세히 배울게요\n",
    "\n",
    "os.chdir('./test/')    ## 현재 작업폴더(4주차)아래에 있는 test 폴더로 경로를 바꾸고,\n",
    "os.listdir()            ## test 폴더안에 어떤 친구들이 있나 리스트로 뽑아줘!"
   ]
  },
  {
   "attachments": {},
   "cell_type": "markdown",
   "metadata": {},
   "source": [
    "## 1.`os.getcwd()`: 현재 작업중인 디렉토리/경로 확인하기\n",
    "\n",
    "+ 이때, 현재 작업중이라는 말은 **컴퓨터의 관점에서 현재 작업중인 폴더**를 뜻합니다!!!!\n",
    "  + 예를 들어, 폴더 1과 폴더 2가 있는데,\n",
    "  + 내가 현재 폴더1 안에서 코드를 짜고 있더라도,\n",
    "  + 컴퓨터에게 현재 작업중인 디렉토리를 폴더2라고 지정해주었다면?\n",
    "    + os.getcwd()의 출력 결과물은 폴더2일 것입니다!!!"
   ]
  },
  {
   "cell_type": "code",
   "execution_count": 3,
   "metadata": {},
   "outputs": [
    {
     "name": "stdout",
     "output_type": "stream",
     "text": [
      "c:\\Users\\dieyo\\OneDrive - 고려대학교\\2_개인 프로그래밍\\1_Dive into Python\\5주차\\test\n",
      "<class 'str'>\n"
     ]
    }
   ],
   "source": [
    "import os\n",
    "\n",
    "print(os.getcwd())      ## ✅ get current working directory.\n",
    "                        ## ✅ 디렉토리는 폴더입니다!\n",
    "                \n",
    "## 현재 작업 중인 폴더(디렉토리)의 경로를 문자열로 반환합니다.\n",
    "print(type(os.getcwd()))"
   ]
  },
  {
   "attachments": {},
   "cell_type": "markdown",
   "metadata": {},
   "source": [
    "## 2.`os.listidr()`: 경로에 있는 모든 파일들 확인하기"
   ]
  },
  {
   "cell_type": "code",
   "execution_count": 4,
   "metadata": {},
   "outputs": [
    {
     "name": "stdout",
     "output_type": "stream",
     "text": [
      "['korea', 'new.txt', 'oasis1.txt', 'oasis2.txt']\n",
      "<class 'list'>\n"
     ]
    }
   ],
   "source": [
    "# import os\n",
    "## 한번 임포트하면, 재시작하기 전까지는 다시 임포트 안해도 괜찮아요.\n",
    "\n",
    "print(os.listdir())         ## ✅ 해당 경로상에 존재하는 모든 폴더/파일들을 담은 리스트 형태로 돌려줍니다.\n",
    "                            ## ✅ 인자를 넣지 않았을 때 기본값은 현재경로(== os.getcwd())\n",
    "print(type(os.listdir()))\n",
    "## ✅ 리스트에서 .txt같은 확장자가 안붙은 친구들은 폴더, 즉 디렉토리입니다."
   ]
  },
  {
   "cell_type": "code",
   "execution_count": 5,
   "metadata": {},
   "outputs": [
    {
     "name": "stdout",
     "output_type": "stream",
     "text": [
      "['korea', 'new.txt', 'oasis1.txt', 'oasis2.txt']\n",
      "['korea', 'new.txt', 'oasis1.txt', 'oasis2.txt']\n"
     ]
    }
   ],
   "source": [
    "print(os.listdir(os.getcwd()))\n",
    "print(os.listdir('.'))              ## ✅✅ .은 현재 경로를 뜻합니다. (상대경로)"
   ]
  },
  {
   "cell_type": "code",
   "execution_count": 6,
   "metadata": {},
   "outputs": [
    {
     "name": "stdout",
     "output_type": "stream",
     "text": [
      "['korea', 'new.txt', 'oasis1.txt', 'oasis2.txt']\n",
      "['korea1.txt']\n",
      "['korea1.txt']\n"
     ]
    }
   ],
   "source": [
    "print(os.listdir(os.getcwd()))\n",
    "\n",
    "print(os.listdir('./korea'))                ## 이렇게 현재 작업경로가 아닌 폴더도 열어볼 수 있다.\n",
    "print(os.listdir(os.getcwd() + '/korea'))   ## 윗 줄은 상대경로, 해당 줄은 절대경로!"
   ]
  },
  {
   "attachments": {},
   "cell_type": "markdown",
   "metadata": {},
   "source": [
    "## 3.`os.chdir()`: 경로 바꾸기"
   ]
  },
  {
   "cell_type": "code",
   "execution_count": 7,
   "metadata": {},
   "outputs": [
    {
     "data": {
      "text/plain": [
       "'c:\\\\Users\\\\dieyo\\\\OneDrive - 고려대학교\\\\2_개인 프로그래밍\\\\1_Dive into Python\\\\5주차\\\\test'"
      ]
     },
     "execution_count": 7,
     "metadata": {},
     "output_type": "execute_result"
    }
   ],
   "source": [
    "os.getcwd()     ## 현재 경로(작업중인 디렉토리)는?"
   ]
  },
  {
   "cell_type": "code",
   "execution_count": 8,
   "metadata": {},
   "outputs": [],
   "source": [
    "os.chdir('./korea')   ## ✅ 인자로 받은 경로를 향해 경로를 바꿉니다!\n",
    "                    \n",
    "                    ## 코드를 한번 더 실행하면 오류가 발생할걸요?\n",
    "                    #### ❓ 왜 그럴까????"
   ]
  },
  {
   "cell_type": "code",
   "execution_count": 9,
   "metadata": {},
   "outputs": [
    {
     "data": {
      "text/plain": [
       "'c:\\\\Users\\\\dieyo\\\\OneDrive - 고려대학교\\\\2_개인 프로그래밍\\\\1_Dive into Python\\\\5주차\\\\test\\\\korea'"
      ]
     },
     "execution_count": 9,
     "metadata": {},
     "output_type": "execute_result"
    }
   ],
   "source": [
    "os.getcwd()     ## 현재 작업중인 디렉토리가 바뀌었네?\n",
    "\n",
    "## !! 주의 !!\n",
    "## 보통 작업할 때는 메인 디렉토리까지만 경로를 변경하고, 이후에는 작업경로를 변경하지 않은 채 코딩합니다.\n",
    "## 왜냐면 자꾸 작업경로를 바꾸면 내 작업경로가 어딘지 자꾸 헷갈리거든..."
   ]
  },
  {
   "cell_type": "code",
   "execution_count": 10,
   "metadata": {},
   "outputs": [],
   "source": [
    "os.chdir('..')      ## ✅ ..는 상위 디렉토리를 뜻한다. korea 입장에서는 test!"
   ]
  },
  {
   "cell_type": "code",
   "execution_count": 11,
   "metadata": {},
   "outputs": [
    {
     "name": "stdout",
     "output_type": "stream",
     "text": [
      "c:\\Users\\dieyo\\OneDrive - 고려대학교\\2_개인 프로그래밍\\1_Dive into Python\\5주차\\test\n"
     ]
    }
   ],
   "source": [
    "print(os.getcwd())"
   ]
  },
  {
   "cell_type": "code",
   "execution_count": 12,
   "metadata": {},
   "outputs": [],
   "source": [
    "os.chdir('korea')"
   ]
  },
  {
   "cell_type": "code",
   "execution_count": 13,
   "metadata": {},
   "outputs": [
    {
     "data": {
      "text/plain": [
       "'c:\\\\Users\\\\dieyo\\\\OneDrive - 고려대학교\\\\2_개인 프로그래밍\\\\1_Dive into Python\\\\5주차\\\\test\\\\korea'"
      ]
     },
     "execution_count": 13,
     "metadata": {},
     "output_type": "execute_result"
    }
   ],
   "source": [
    "os.getcwd()"
   ]
  },
  {
   "attachments": {},
   "cell_type": "markdown",
   "metadata": {},
   "source": [
    "## 4.OS별 경로 차이와 그 해결책\n",
    "+ `windows OS`는 기본적으로 경로간의 구분을 백슬래쉬 두 개 (`\\\\`)로 경로간 구분한다.\n",
    "+ 그러나 `UNIX`에 기반한 `Linux OS`, `Mac OS`들은 슬래쉬(`/`)로 경로들을 구분한다.\n",
    "\n",
    "<br>\n",
    "\n",
    "+ 하지만 우리의 python은 무척 똑똑하다!\n",
    "  + `\\\\` 혹은 `/` 둘 중 어느 것으로 입력해도 잘 알아먹는다!\n",
    "+ <u>그러나, 백슬래쉬 한 개(`\\`)는 어떻게 될까???</u>"
   ]
  },
  {
   "cell_type": "code",
   "execution_count": 14,
   "metadata": {},
   "outputs": [
    {
     "ename": "FileNotFoundError",
     "evalue": "[WinError 3] 지정된 경로를 찾을 수 없습니다: 'c:\\\\Users\\\\dieyo\\\\OneDrive - 고려대학교\\\\2_개인 프로그래밍\\\\1_Dive into Python\\\\5주차\\\\test\\\\korea\\\\test'",
     "output_type": "error",
     "traceback": [
      "\u001b[1;31m---------------------------------------------------------------------------\u001b[0m",
      "\u001b[1;31mFileNotFoundError\u001b[0m                         Traceback (most recent call last)",
      "Cell \u001b[1;32mIn[14], line 5\u001b[0m\n\u001b[0;32m      1\u001b[0m \u001b[39mimport\u001b[39;00m \u001b[39mos\u001b[39;00m\n\u001b[0;32m      3\u001b[0m cwd \u001b[39m=\u001b[39m os\u001b[39m.\u001b[39mgetcwd()\n\u001b[1;32m----> 5\u001b[0m \u001b[39mprint\u001b[39m(os\u001b[39m.\u001b[39;49mlistdir(cwd\u001b[39m+\u001b[39;49m \u001b[39m'\u001b[39;49m\u001b[39m\\\\\u001b[39;49;00m\u001b[39mtest\u001b[39;49m\u001b[39m'\u001b[39;49m))\n\u001b[0;32m      6\u001b[0m \u001b[39mprint\u001b[39m(os\u001b[39m.\u001b[39mlistdir(cwd\u001b[39m+\u001b[39m \u001b[39m'\u001b[39m\u001b[39m/test\u001b[39m\u001b[39m'\u001b[39m))\n\u001b[0;32m      7\u001b[0m \u001b[39mprint\u001b[39m(os\u001b[39m.\u001b[39mlistdir(cwd\u001b[39m+\u001b[39m \u001b[39m'\u001b[39m\u001b[39m\\t\u001b[39;00m\u001b[39mest\u001b[39m\u001b[39m'\u001b[39m))         \u001b[39m## ❓ 왜 이건 오류가 뜰까??\u001b[39;00m\n",
      "\u001b[1;31mFileNotFoundError\u001b[0m: [WinError 3] 지정된 경로를 찾을 수 없습니다: 'c:\\\\Users\\\\dieyo\\\\OneDrive - 고려대학교\\\\2_개인 프로그래밍\\\\1_Dive into Python\\\\5주차\\\\test\\\\korea\\\\test'"
     ]
    }
   ],
   "source": [
    "import os\n",
    "\n",
    "cwd = os.getcwd()\n",
    "\n",
    "print(os.listdir(cwd+ '\\\\test'))\n",
    "print(os.listdir(cwd+ '/test'))\n",
    "print(os.listdir(cwd+ '\\test'))         ## ❓ 왜 이건 오류가 뜰까??"
   ]
  },
  {
   "cell_type": "code",
   "execution_count": 15,
   "metadata": {},
   "outputs": [
    {
     "ename": "FileNotFoundError",
     "evalue": "[WinError 3] 지정된 경로를 찾을 수 없습니다: 'c:\\\\Users\\\\dieyo\\\\OneDrive - 고려대학교\\\\2_개인 프로그래밍\\\\1_Dive into Python\\\\5주차\\\\test\\\\korea\\\\test'",
     "output_type": "error",
     "traceback": [
      "\u001b[1;31m---------------------------------------------------------------------------\u001b[0m",
      "\u001b[1;31mFileNotFoundError\u001b[0m                         Traceback (most recent call last)",
      "Cell \u001b[1;32mIn[15], line 1\u001b[0m\n\u001b[1;32m----> 1\u001b[0m \u001b[39mprint\u001b[39m(os\u001b[39m.\u001b[39;49mlistdir(cwd\u001b[39m+\u001b[39;49m \u001b[39mr\u001b[39;49m\u001b[39m'\u001b[39;49m\u001b[39m\\\u001b[39;49m\u001b[39mtest\u001b[39;49m\u001b[39m'\u001b[39;49m))        \u001b[39m## ✅ prefix r을 쓰면 raw string, 즉 이스케이프 문자(\\t, \\n) 등을 해제하는구나~!\u001b[39;00m\n",
      "\u001b[1;31mFileNotFoundError\u001b[0m: [WinError 3] 지정된 경로를 찾을 수 없습니다: 'c:\\\\Users\\\\dieyo\\\\OneDrive - 고려대학교\\\\2_개인 프로그래밍\\\\1_Dive into Python\\\\5주차\\\\test\\\\korea\\\\test'"
     ]
    }
   ],
   "source": [
    "print(os.listdir(cwd+ r'\\test'))        ## ✅ prefix r을 쓰면 raw string, 즉 이스케이프 문자(\\t, \\n) 등을 해제하는구나~!"
   ]
  },
  {
   "attachments": {},
   "cell_type": "markdown",
   "metadata": {},
   "source": [
    "###### (참고) 만약에, 어느 운영체제에 기반해서 파일을 읽고 쓸 지 모른다면, 어떻게 하면 좋을까?"
   ]
  },
  {
   "cell_type": "code",
   "execution_count": 16,
   "metadata": {},
   "outputs": [
    {
     "data": {
      "text/plain": [
       "'c:\\\\Users\\\\dieyo\\\\OneDrive - 고려대학교\\\\2_개인 프로그래밍\\\\1_Dive into Python\\\\5주차\\\\test\\\\korea\\\\music'"
      ]
     },
     "execution_count": 16,
     "metadata": {},
     "output_type": "execute_result"
    }
   ],
   "source": [
    "## ❓ 근데 만약에, 어느 운영체제에 기반해서 파일을 읽고 쓸 지 모른다면, 어떻게 하면 좋을까?\n",
    "#### 예를 들어, 내가 \\\\를 경로 구분자로 사용했는데, 맥 유저가 내 코드를 써야하는 상황이라면?\n",
    "\n",
    "## ✅ 그럴 때 사용하는 해결책. os.path.join()\n",
    "#### 코드가 실행중인 운영체제에 맞춰서 알아서 경로간 구분자를 작성해준다!\n",
    "\n",
    "os.path.join(os.getcwd(), 'music')"
   ]
  },
  {
   "attachments": {},
   "cell_type": "markdown",
   "metadata": {},
   "source": [
    "# II.파일 다루기\n",
    "\n",
    "+ 파일을 열고 읽기\n",
    "+ 파일을 쓰기\n",
    "+ 파일을 수정하기"
   ]
  },
  {
   "cell_type": "code",
   "execution_count": 17,
   "metadata": {},
   "outputs": [
    {
     "data": {
      "text/plain": [
       "['korea', 'new.txt', 'oasis1.txt', 'oasis2.txt']"
      ]
     },
     "execution_count": 17,
     "metadata": {},
     "output_type": "execute_result"
    }
   ],
   "source": [
    "## 역시 들어가기 전, 먼저 세팅부터 다시 하고...\n",
    "## 이번에도 아래 코드를 실행시켰을 때 아웃풋셀에 ['korea', 'text1.txt', 'text2.txt']이렇게 뜨면 됩니다.\n",
    "\n",
    "import os               \n",
    "os.chdir('..')\n",
    "os.listdir()            "
   ]
  },
  {
   "attachments": {},
   "cell_type": "markdown",
   "metadata": {},
   "source": [
    "## 1.`open().read()`: 파일을 열고 읽기"
   ]
  },
  {
   "cell_type": "code",
   "execution_count": 18,
   "metadata": {},
   "outputs": [
    {
     "data": {
      "text/plain": [
       "<_io.TextIOWrapper name='oasis1.txt' mode='r' encoding='cp949'>"
      ]
     },
     "execution_count": 18,
     "metadata": {},
     "output_type": "execute_result"
    }
   ],
   "source": [
    "open('oasis1.txt')   ## ❓ 뭘 한거지?\n",
    "                    ## ✅ 파일 객체를 생성하고, 호출한거지!!!"
   ]
  },
  {
   "cell_type": "code",
   "execution_count": 19,
   "metadata": {},
   "outputs": [
    {
     "data": {
      "text/plain": [
       "\"Take the time to make some sense\\nOf what you want to say\\nAnd cast your words away upon the waves\\nSail them home with Acquiesce\\nOn a ship of hope today\\nAnd as they land upon the shore\\nTell them not to fear no more\\nSay it loud and sing it proud today\\nAnd then\\nDance if you wanna dance\\nPlease brother take a chance\\nYou know they're gonna go\\nWhich way they wanna go\\nAll we know is that we don't know\\nHow it's gonna be\\nPlease brother let it be\\nLife on the other hand won't make us understand\\nWe're all part of the masterplan\\nSay it loud and sing it proud today\\nI'm not saying right is wrong\\nIt's up to us to make\\nThe best of all things that come our way\\n'Cause everything that's been has passed\\nThe answer's in the looking glass\\nThere's four and twenty million doors\\nOn life's endless corridor\\nSay it loud and sing it proud\\nAnd they\\nWill dance if they wanna dance\\nPlease brother take a chance\\nYou know they're gonna go\\nWhich way they wanna go\\nAll we know is that we don't know\\nHow it's gonna be\\nPlease brother let it be\\nLife on the other hand won't make us understand\\nWe're all part of the masterplan\""
      ]
     },
     "execution_count": 19,
     "metadata": {},
     "output_type": "execute_result"
    }
   ],
   "source": [
    "open('oasis1.txt', 'r').read()   ## ✅ .read()는 파일 객체의 메소드로서, 파일의 내용을 읽는다!\n",
    "                                ## ✅ 두번째 인자 'r'은 읽기전용모드"
   ]
  },
  {
   "cell_type": "code",
   "execution_count": 20,
   "metadata": {},
   "outputs": [
    {
     "data": {
      "text/plain": [
       "\"Take the time to make some sense\\nOf what you want to say\\nAnd cast your words away upon the waves\\nSail them home with Acquiesce\\nOn a ship of hope today\\nAnd as they land upon the shore\\nTell them not to fear no more\\nSay it loud and sing it proud today\\nAnd then\\nDance if you wanna dance\\nPlease brother take a chance\\nYou know they're gonna go\\nWhich way they wanna go\\nAll we know is that we don't know\\nHow it's gonna be\\nPlease brother let it be\\nLife on the other hand won't make us understand\\nWe're all part of the masterplan\\nSay it loud and sing it proud today\\nI'm not saying right is wrong\\nIt's up to us to make\\nThe best of all things that come our way\\n'Cause everything that's been has passed\\nThe answer's in the looking glass\\nThere's four and twenty million doors\\nOn life's endless corridor\\nSay it loud and sing it proud\\nAnd they\\nWill dance if they wanna dance\\nPlease brother take a chance\\nYou know they're gonna go\\nWhich way they wanna go\\nAll we know is that we don't know\\nHow it's gonna be\\nPlease brother let it be\\nLife on the other hand won't make us understand\\nWe're all part of the masterplan\""
      ]
     },
     "execution_count": 20,
     "metadata": {},
     "output_type": "execute_result"
    }
   ],
   "source": [
    "raw = open('./oasis1.txt').read()\n",
    "raw                                 \n",
    "## 일케 저장해두면 나중에 불러와서 쓸 수 있겠지~\n",
    "## ❓ raw의 데이터 타입은 뭐지?"
   ]
  },
  {
   "attachments": {},
   "cell_type": "markdown",
   "metadata": {},
   "source": [
    "## 2.`.write()`: 파일을 만들고 쓰기"
   ]
  },
  {
   "cell_type": "code",
   "execution_count": 21,
   "metadata": {},
   "outputs": [
    {
     "data": {
      "text/plain": [
       "'c:\\\\Users\\\\dieyo\\\\OneDrive - 고려대학교\\\\2_개인 프로그래밍\\\\1_Dive into Python\\\\5주차\\\\test'"
      ]
     },
     "execution_count": 21,
     "metadata": {},
     "output_type": "execute_result"
    }
   ],
   "source": [
    "os.getcwd()"
   ]
  },
  {
   "cell_type": "code",
   "execution_count": 22,
   "metadata": {},
   "outputs": [
    {
     "data": {
      "text/plain": [
       "9"
      ]
     },
     "execution_count": 22,
     "metadata": {},
     "output_type": "execute_result"
    }
   ],
   "source": [
    "open('new.txt', 'w').write('whatever.')\n",
    "\n",
    "## 이 함수는 어떤 동작을 하지?\n",
    "## 값을 반환하나???"
   ]
  },
  {
   "cell_type": "code",
   "execution_count": 23,
   "metadata": {},
   "outputs": [
    {
     "data": {
      "text/plain": [
       "'whatever.'"
      ]
     },
     "execution_count": 23,
     "metadata": {},
     "output_type": "execute_result"
    }
   ],
   "source": [
    "new = open('new.txt').read()\n",
    "new\n",
    "\n",
    "## 만든 파일을 바로 다시 읽어올 수도 있고~"
   ]
  },
  {
   "cell_type": "code",
   "execution_count": 24,
   "metadata": {},
   "outputs": [
    {
     "data": {
      "text/plain": [
       "'champagne supernova!'"
      ]
     },
     "execution_count": 24,
     "metadata": {},
     "output_type": "execute_result"
    }
   ],
   "source": [
    "open('new.txt', 'w').write('champagne supernova!')\n",
    "\n",
    "new = open('new.txt').read()\n",
    "new\n",
    "\n",
    "## 어? 새로운 내용으로 덮어씌워지는구나!\n",
    "## 만약 기존 내용을 유지하고 싶다면?"
   ]
  },
  {
   "attachments": {},
   "cell_type": "markdown",
   "metadata": {},
   "source": [
    "### 2-1.파일을 수정하기"
   ]
  },
  {
   "cell_type": "code",
   "execution_count": 25,
   "metadata": {},
   "outputs": [
    {
     "data": {
      "text/plain": [
       "'champagne supernova!'"
      ]
     },
     "execution_count": 25,
     "metadata": {},
     "output_type": "execute_result"
    }
   ],
   "source": [
    "open('new.txt').read()"
   ]
  },
  {
   "cell_type": "code",
   "execution_count": 26,
   "metadata": {},
   "outputs": [
    {
     "name": "stdout",
     "output_type": "stream",
     "text": [
      "champagne supernova!\n",
      "Someday you'll find me\n"
     ]
    }
   ],
   "source": [
    "open('new.txt', 'a').write(\"\\nSomeday you'll find me\")\n",
    "## ✅ 두번째 인자로 a를 주면 write를 해도 원본 내용은 안날라가~\n",
    "\n",
    "print(open('new.txt').read())"
   ]
  },
  {
   "attachments": {},
   "cell_type": "markdown",
   "metadata": {},
   "source": [
    "# III.활용"
   ]
  },
  {
   "cell_type": "code",
   "execution_count": 27,
   "metadata": {},
   "outputs": [
    {
     "data": {
      "text/plain": [
       "'c:\\\\Users\\\\dieyo\\\\OneDrive - 고려대학교\\\\2_개인 프로그래밍\\\\1_Dive into Python\\\\5주차\\\\test'"
      ]
     },
     "execution_count": 27,
     "metadata": {},
     "output_type": "execute_result"
    }
   ],
   "source": [
    "os.getcwd()     ## 역시 현재경로를 test으로 맞추고..."
   ]
  },
  {
   "cell_type": "code",
   "execution_count": 28,
   "metadata": {},
   "outputs": [
    {
     "name": "stdout",
     "output_type": "stream",
     "text": [
      "['champagne supernova!', \"Someday you'll find me\", 'Take the time to make some sense', 'Of what you want to say', 'And cast your words away upon the waves', 'Sail them home with Acquiesce', 'On a ship of hope today', 'And as they land upon the shore', 'Tell them not to fear no more', 'Say it loud and sing it proud today', 'And then', 'Dance if you wanna dance', 'Please brother take a chance', \"You know they're gonna go\", 'Which way they wanna go', \"All we know is that we don't know\", \"How it's gonna be\", 'Please brother let it be', \"Life on the other hand won't make us understand\", \"We're all part of the masterplan\", 'Say it loud and sing it proud today', \"I'm not saying right is wrong\", \"It's up to us to make\", 'The best of all things that come our way', \"'Cause everything that's been has passed\", \"The answer's in the looking glass\", \"There's four and twenty million doors\", \"On life's endless corridor\", 'Say it loud and sing it proud', 'And they', 'Will dance if they wanna dance', 'Please brother take a chance', \"You know they're gonna go\", 'Which way they wanna go', \"All we know is that we don't know\", \"How it's gonna be\", 'Please brother let it be', \"Life on the other hand won't make us understand\", \"We're all part of the masterplan\", 'It was 20 years ago today', 'Sgt. Pepper taught the band to play', \"They've been going in and out of style\", \"But they're guaranteed to raise a smile\", 'So may I introduce to you', \"The act you've known for all these years\", \"Sgt. Pepper's Lonely Hearts Club Band\", \"We're Sgt. Pepper's Lonely Hearts Club Band\", 'We hope you will enjoy the show', \"We're Sgt. Pepper's Lonely Hearts Club Band\", 'Sit back and let the evening go', \"Sgt. Pepper's lonely, Sgt. Pepper's lonely\", \"Sgt. Pepper's Lonely Hearts Club Band\", \"It's wonderful to be here\", \"It's certainly a thrill\", \"You're such a lovely audience\", \"We'd like to take you home with us\", \"We'd love to take you home\", \"I don't really want to stop the show\", 'But I thought you might like to know', \"That the singer's gonna sing a song\", 'And he wants you all to sing along', 'So let me introduce to you', 'The one and only Billy Shears', \"And Sgt. Pepper's Lonely Hearts Club Band\", 'Yeah']\n"
     ]
    }
   ],
   "source": [
    "import os \n",
    "\n",
    "sents = []\n",
    "for file in os.listdir():\n",
    "    if not file.endswith('.txt'):\n",
    "        continue\n",
    "    raw = open(file).read()\n",
    "    for sent in raw.split('\\n'):\n",
    "        sents.append(sent)\n",
    "        \n",
    "        \n",
    "print(sents)"
   ]
  }
 ],
 "metadata": {
  "kernelspec": {
   "display_name": "Python 3",
   "language": "python",
   "name": "python3"
  },
  "language_info": {
   "codemirror_mode": {
    "name": "ipython",
    "version": 3
   },
   "file_extension": ".py",
   "mimetype": "text/x-python",
   "name": "python",
   "nbconvert_exporter": "python",
   "pygments_lexer": "ipython3",
   "version": "3.11.1"
  },
  "orig_nbformat": 4,
  "vscode": {
   "interpreter": {
    "hash": "7cba0d1a42559d80c1785ea75de96ff2e6fe2ecdb092afa9b1831b12c16563fe"
   }
  }
 },
 "nbformat": 4,
 "nbformat_minor": 2
}
