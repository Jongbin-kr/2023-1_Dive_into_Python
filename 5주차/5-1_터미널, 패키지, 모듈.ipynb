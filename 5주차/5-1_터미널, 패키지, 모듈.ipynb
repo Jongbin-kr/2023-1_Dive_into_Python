{
 "cells": [
  {
   "attachments": {},
   "cell_type": "markdown",
   "metadata": {},
   "source": [
    "# I.모듈과 패키지\n",
    "\n",
    "+ 파이썬은 다양한 패키지/라이브러리를를 설치함으써 그 기능을 무한히 확장시킬 수 있다!\n",
    "  + 행렬연산을 위한 `Numpy`, 엑셀파일을 읽고쓰기 위한 `Pandas`...\n",
    "  + 머신러닝/딥러닝을 위한 `scikitlearn`, `Pytorch`, `Tensorflow`...\n",
    "  + 게임 개발을 위한 `pygame`...\n",
    "  + 웹페이지 개발을 위한 `Django`...(D는 묵음입니다.)\n",
    "\n",
    "<br>\n",
    "\n",
    "+ 이러한 패키지들을 설치하고, 또 활용하는 방법들을 간략하게만 배워보자!"
   ]
  },
  {
   "attachments": {},
   "cell_type": "markdown",
   "metadata": {},
   "source": [
    "## 1.패키지 설치하기\n",
    "\n",
    "+ vscode 환경에서 `ctrl + J`를 눌러보자. 그럼 아래에 `터미널`창이 뜬다.\n",
    "  + `터미널`이란, 흔히 `도스창`, `명령 프롬프트창`이라고도 불리는 데, **명령어를 통해서 컴퓨터를 직접 제어하는 것이다.**\n",
    "    + 이를 테면, 터미널에 `dir`를 타이핑하고 엔터를 눌러보면 현재 디렉토리에 들어있는 파일/폴더들을 모두 확인할 수 있다. (cmd, powershell 기준)\n",
    "    + 우리가 지금 공부하고 있는 `python`역시 터미널에 입력해보면 바로 파이썬 IDE가 실행되는 것을 확인할 수 있다.\n",
    "      + python IDE를 빠져나갈 때는 `exit()` 함수를 실행하면 된다.\n",
    "\n",
    "<br>\n",
    "\n",
    "+ 마찬가지로 우리는 터미널을 활용해서 파이썬에 특정 패키지/라이브러리를 설치할 수 있다!\n",
    "+ 이번 세션에서는 데이터를 다루는 가장 기본적인 라이브러리인 `Pandas` 라이브러리를 설치해보자.\n",
    "  + 터미널에 `pip install pandas`라고 입력해보자.\n",
    "    + 여기서 `pip`는 파이썬 패키지들을 관리하는 프로그램이다.\n",
    "    + 뭔가 쭈루루룩 나오고 설치가 잘 되었을 것이다!\n",
    "      + 이제 우리는 각자의 컴퓨터에 `pandas libaray`를 설치한 것이다!\n",
    "        + 정확히 어디에 설치되었는지는 다음 [블로그](https://webisfree.com/2017-11-09/python-pip-%ED%8C%A8%ED%82%A4%EC%A7%80%EB%8A%94-%EC%96%B4%EB%94%94%EC%97%90-%EC%A0%80%EC%9E%A5%EB%90%98%EB%8A%94%EA%B0%80) 참고.\n",
    "\n",
    "<br>\n",
    "\n",
    "+ 근데 설치만 한다고 쓸 수 있는 게 아니다!\n",
    "  + 지금 우리가 작성하고 있는 코드로 `import`를 해야한다!"
   ]
  },
  {
   "cell_type": "code",
   "execution_count": null,
   "metadata": {},
   "outputs": [],
   "source": [
    "import pandas\n",
    "\n",
    "pandas"
   ]
  },
  {
   "cell_type": "code",
   "execution_count": null,
   "metadata": {},
   "outputs": [],
   "source": [
    "import pandas as pd     ## ✅ 판다스 모듈은 관례적으로 pd라는 별칭으로 임포트한다.\n",
    "\n",
    "print(type(pd))         ## ✅ 이것 역시 일종의 객체입니다."
   ]
  },
  {
   "cell_type": "code",
   "execution_count": null,
   "metadata": {},
   "outputs": [],
   "source": [
    "print(type(pd.read_csv))        ## ✅ 객체에 포함된 메소드\n",
    "pd.read_csv                     ## 딱 봐도 csv(comma seperated values) 파일을 읽는 용도겠지?"
   ]
  },
  {
   "attachments": {},
   "cell_type": "markdown",
   "metadata": {},
   "source": [
    "## 2.`pandas` 모듈 써보기\n",
    "\n",
    "+ 사실 저도 판다스 아직 잘 모릅니다...대충 함수만 몇 개 알고있을 뿐...\n",
    "  + 혹 더 공부하고 싶으시다면 저와 함께 전산언어학회에서 공부하시죠!^^\n",
    "  + 저는 담 학기중에 [이 책](https://product.kyobobook.co.kr/detail/S000001810160)으로 스터디나 하나 운영해볼까 고민중입니다..."
   ]
  },
  {
   "cell_type": "code",
   "execution_count": null,
   "metadata": {},
   "outputs": [],
   "source": [
    "## 그럼 실제로 한 번 읽어보자!\n",
    "\n",
    "df = pd.read_csv('train.csv')\n",
    "df[:2]\n",
    "## 오 정상적으로 잘 불러와졌구나~!"
   ]
  },
  {
   "cell_type": "code",
   "execution_count": null,
   "metadata": {},
   "outputs": [],
   "source": [
    "type(df)\n",
    "## 타입은 DataFrame이구나!"
   ]
  },
  {
   "attachments": {},
   "cell_type": "markdown",
   "metadata": {},
   "source": [
    "### 1)데이터프레임 메소드들\n",
    "\n",
    "+ 앞서 말했듯 판다스에 대한 좀 더 깊은 공부는 클링에서 이어서 하는 걸로 합시다!\n",
    "  + 그치만 이렇게 마치면 정없고 속상하니까 함수 몇 개만 훑어봅시다."
   ]
  },
  {
   "cell_type": "code",
   "execution_count": null,
   "metadata": {},
   "outputs": [],
   "source": [
    "df.info()"
   ]
  },
  {
   "cell_type": "code",
   "execution_count": null,
   "metadata": {},
   "outputs": [],
   "source": [
    "df.isnull()"
   ]
  },
  {
   "cell_type": "code",
   "execution_count": null,
   "metadata": {},
   "outputs": [],
   "source": [
    "print(df.iloc[:,1])\n",
    "print(type(df.iloc[:,1]))"
   ]
  },
  {
   "cell_type": "code",
   "execution_count": null,
   "metadata": {},
   "outputs": [],
   "source": [
    "print(df.iloc[0,0])\n",
    "print(type(df.iloc[0,0]))"
   ]
  },
  {
   "attachments": {},
   "cell_type": "markdown",
   "metadata": {},
   "source": [
    "### 2)pd.DataFrame이라는 데이터타입\n",
    "\n",
    "+ 마찬가지로 얘도 데이터타입이니까...\n",
    "  + 1)반복가능한지, 가능하지 않은지 (`iterable` or `container` / `atomic value`)\n",
    "  + 2)순서가 있는지, 없는지 (`sequence` / `non-sequence`)\n",
    "  + 3)불변인지 가변인지 (`mutalbe` / `immutable`)\n",
    "+ 를 따질 수 있겠지!"
   ]
  },
  {
   "attachments": {},
   "cell_type": "markdown",
   "metadata": {},
   "source": [
    "#### 2-1) iterable인가?"
   ]
  },
  {
   "cell_type": "code",
   "execution_count": null,
   "metadata": {},
   "outputs": [],
   "source": [
    "s = {1,2,3}\n",
    "\n",
    "for x in s:\n",
    "    print(x)\n",
    "print('\\n'*3)\n",
    "\n",
    "\n",
    " \n",
    "print(len(s), end='\\n'*3)\n",
    "\n",
    "print(sorted(s), end='\\n'*3)\n",
    "\n",
    "print(sum(s), end='\\n'*3)"
   ]
  },
  {
   "cell_type": "code",
   "execution_count": null,
   "metadata": {},
   "outputs": [],
   "source": [
    "df = pd.read_csv('train.csv')\n",
    "\n",
    "for x in df:    ## ✅ 반복가능 공통의 함수들을 쓸 수 있네!\n",
    "    print(x)    ## ❓ 어? 근데 결과값이 조금 기묘하네? 이거 뭐지??\n",
    "print('\\n'*3)\n",
    "\n",
    "\n",
    "\n",
    "print(len(df), end='\\n'*3)\n",
    "\n",
    "print(sorted(df), end='\\n'*3)\n",
    "\n",
    "print(sum(df), end='\\n'*3)"
   ]
  },
  {
   "attachments": {},
   "cell_type": "markdown",
   "metadata": {},
   "source": [
    "###### (참고) iterable인지를 판단하는 정석적인 방법\n",
    "\n",
    "+ `iterable`이라는 것도 사실 일종의 `속성`이다!\n",
    "  + 곧, `__iter__`라는 속성을 객체가 가지고 있으면 그걸 iterable이라고 말하는 것.\n",
    "    + 따라서 `dir()`을 통해서 객체를 뜯어보면 확실히 알 수 있겠지!\n",
    "+ 출처: https://stackoverflow.com/questions/13459405/how-to-test-if-an-object-is-iterable-on-python-2-5-on-all-platforms/13478329#13478329"
   ]
  },
  {
   "cell_type": "code",
   "execution_count": null,
   "metadata": {},
   "outputs": [],
   "source": [
    "s = {1,2,3}\n",
    "\n",
    "'__iter__' in dir(s)"
   ]
  },
  {
   "cell_type": "code",
   "execution_count": null,
   "metadata": {},
   "outputs": [],
   "source": [
    "## 참고. hashattr라는 함수를 쓸 수도 있다!\n",
    "\n",
    "for x in [123, True, {1,2,3}, {1:10, 2:20}, 'string', ['l', 'i', 's', 't'], (1,2,3), ]:\n",
    "    \n",
    "    print(hasattr(x, '__iter__'))\n",
    "    "
   ]
  },
  {
   "attachments": {},
   "cell_type": "markdown",
   "metadata": {},
   "source": [
    "#### 2-2) sequence인가?"
   ]
  },
  {
   "cell_type": "code",
   "execution_count": null,
   "metadata": {},
   "outputs": [],
   "source": [
    "l = [1, 2, 3, 3, 3, '3', '3']\n",
    "\n",
    "print(\n",
    "    l[0],\n",
    "    l[0:1],\n",
    "    l.index(3),\n",
    "    l.count(3),\n",
    "    sep = '\\n\\n'\n",
    ")"
   ]
  },
  {
   "cell_type": "code",
   "execution_count": null,
   "metadata": {},
   "outputs": [],
   "source": [
    "df = pd.read_csv('train.csv')\n",
    "\n",
    "## 슬라이싱은 되는데...\n",
    "print(df[0:1])\n",
    "\n",
    "## 아래것들은 다 동작을 안해요.\n",
    "print(df[0])\n",
    "print(df.count(3))\n",
    "print(df.index(3))\n",
    "\n",
    "## ❓ 그렇다고 sequnece가 아닌가?"
   ]
  },
  {
   "cell_type": "code",
   "execution_count": null,
   "metadata": {},
   "outputs": [],
   "source": [
    "## 앞서 iterable이 그랬듯, sequence 역시 일종의 속성이다!\n",
    "#### 출처: https://stackoverflow.com/questions/2937114/python-check-if-an-object-is-a-sequence\n",
    "\n",
    "import collections  ## 이제 import가 뭔지는 알지??\n",
    "\n",
    "for datatype in [123, True, {1,2,3}, {1:10, 2:20}, 'string', ['l', 'i', 's', 't'], (1,2,3), ]:\n",
    "    print(isinstance(datatype, collections.abc.Sequence))    \n",
    "\n",
    "\n",
    "df = pd.read_csv('train.csv')\n",
    "print('그럼 dataframe은 어떠냐?' ,isinstance(df, collections.abc.Sequence))"
   ]
  },
  {
   "attachments": {},
   "cell_type": "markdown",
   "metadata": {},
   "source": [
    "#### 2-3) mutable인가?\n",
    "\n",
    "+ <u>사실 `mutable`이라는 속성은 실질적으로는 없다.</u> 온전히 개념적인(conceptual) 것...\n",
    "  + 개념적이라는 말은, 단순히 객체를 변경할 수 있으면 mutable하다고 개념적으로 말한다는 뜻...\n",
    "  + 따라서 mutable/immutable을 체크하는 것은 꽤나 까다롭다!\n",
    "> A type is mutable if it is not immutable. A type is immutable if it is a built-in immutable type: str, int, long, bool, float, tuple, and probably a couple others I'm forgetting. User-defined types are always mutable.\n",
    "> \n",
    "> 출처: https://stackoverflow.com/questions/4374006/check-for-mutability-in-python\n",
    "\n",
    "<br>\n",
    "\n",
    "+ 하지만 내가 생각하는 한 가지 편법을 소개하자면,\n",
    "  + 지난 강의에서 말했듯 immutable은 hashable하다.\n",
    "    + 물론 이것도 반드시 맞는 말은 아니긴하다...! (참고: https://jiwonkoh.tistory.com/40)\n",
    "  + 따라서 `hash()` 함수를 통해서 간접적으로나마 immutable인지를 판단해볼 수 있겠지...!\n",
    "\n"
   ]
  },
  {
   "cell_type": "code",
   "execution_count": null,
   "metadata": {},
   "outputs": [],
   "source": [
    "l = [1,2,3]\n",
    "hash(l)"
   ]
  },
  {
   "cell_type": "code",
   "execution_count": null,
   "metadata": {},
   "outputs": [],
   "source": [
    "t = (1,2,3)\n",
    "hash(t)"
   ]
  },
  {
   "cell_type": "code",
   "execution_count": null,
   "metadata": {},
   "outputs": [],
   "source": [
    "df = pd.read_csv('train.csv')\n",
    "\n",
    "hash(df)"
   ]
  },
  {
   "cell_type": "code",
   "execution_count": null,
   "metadata": {},
   "outputs": [],
   "source": [
    "## 출처: https://stackoverflow.com/questions/3460650/asking-is-hashable-about-a-python-value\n",
    "\n",
    "import collections\n",
    "\n",
    "for datatype in [123, True, {1,2,3}, {1:10, 2:20}, 'string', ['l', 'i', 's', 't'], (1,2,3), ]:\n",
    "    print(isinstance(datatype, collections.abc.Hashable))\n",
    "print('\\n\\n')\n",
    "\n",
    "\n",
    "\n",
    "df = pd.read_csv('train.csv')\n",
    "print(isinstance(df, collections.abc.Hashable))\n"
   ]
  },
  {
   "attachments": {},
   "cell_type": "markdown",
   "metadata": {},
   "source": [
    "### 3)pd.DataFrame 역시 객체다!\n",
    "\n",
    "> 파이썬의 모든 것은 객체다!!!\n",
    "\n",
    "+ 지난 강의에서 말씀드렸듯, **<u>파이썬은 모든 것이 `객체`입니다.</u>**\n",
    "  + 마찬가지로, pd.DataFrame 역시 `객체`라고 할 수 있죠.\n",
    "    + 그럼 선술했던 네 가지 속성들을 가지겠죠.\n",
    "      + 1)값\n",
    "      + 2)데이터타입\n",
    "      + 3)속성/기능\n",
    "      + 4)주소값"
   ]
  },
  {
   "cell_type": "code",
   "execution_count": null,
   "metadata": {},
   "outputs": [],
   "source": [
    "df = pd.read_csv('train.csv')\n",
    "\n",
    "\n",
    "## 1) 값\n",
    "print(df)"
   ]
  },
  {
   "cell_type": "code",
   "execution_count": null,
   "metadata": {},
   "outputs": [],
   "source": [
    "df"
   ]
  },
  {
   "cell_type": "code",
   "execution_count": null,
   "metadata": {},
   "outputs": [],
   "source": [
    "## 2) 데이터타입\n",
    "\n",
    "print(type(df))\n",
    "\n",
    "\n",
    "## ❓ 어 근데 object가 아니라, class라는데요? 사실 저번에도 그랬는데요?? 이제 약 좀 그만 파시죠??\n",
    "## ✅ 클래스랑 객체는 동전의 양면과도 같은 것...명확한 구분은 나두 사실 잘 몰?루!"
   ]
  },
  {
   "cell_type": "code",
   "execution_count": null,
   "metadata": {},
   "outputs": [],
   "source": [
    "## 3) 속성/기능\n",
    "print(dir(df))\n",
    "\n",
    "## ✅ 맨 아래에 한글로 된 속성들도 있네~"
   ]
  },
  {
   "cell_type": "code",
   "execution_count": null,
   "metadata": {},
   "outputs": [],
   "source": [
    "print(df.사람문장2)     ## ✅ 속성 역시 이런식으로 .을 활용해 호출"
   ]
  },
  {
   "cell_type": "code",
   "execution_count": null,
   "metadata": {},
   "outputs": [],
   "source": [
    "## 4) 주소값\n",
    "\n",
    "print(hex(id(df)))"
   ]
  },
  {
   "attachments": {},
   "cell_type": "markdown",
   "metadata": {},
   "source": [
    "# 세션 끗!\n",
    "\n",
    "+ 그 외에 파이썬을 더 깊게 공부하고 싶으시다면... ~~클링으로 오세요!~~\n",
    "  1. 파이썬에 대한 기초적인 내용들은 역시,\n",
    "     +  [점프 투 파이썬](https://wikidocs.net/book/1)이 참 잘 정리되어있다고 생각합니다. \n",
    "        + 세션을 다 듣고, 다시금 훑어보시면 새로이 보이는 부분들이 있을겁니다.\n",
    "        + **<u>제가 뺴먹은 내용들도 있고, 또 덧붙인 내용들도 있어서 점프 투 파이썬은 한번 더 공부하시는 걸 강력추천합니다!!!</u>**\n",
    "  2. 파이썬에 대해서 좀 더 깊게 공부하고 싶으시면, \n",
    "     + 세션 참고자료로도 활용한 [Learning Python](https://learning-python.com/about-lp.html)을 참고하길 바랍니다.\n",
    "  3. 그보다 더 전문적인 내용을 공부하고 싶으시면, \n",
    "     + 다음 책들을 추천드립니다.\n",
    "        + 전문가용 파이썬 도서로 유명한 [Fluent Python](https://books.google.co.kr/books?id=H1SXzQEACAAJ&dq=fluent+python&hl=ko&sa=X&redir_esc=y)\n",
    "        + 파이써닉한 테크닉들을 익히고 싶다면 [Effective Python](https://books.google.co.kr/books?id=tQYHEAAAQBAJ&printsec=frontcover&dq=effective+python&hl=ko&sa=X&ved=2ahUKEwjn17K2yfr8AhWVEIgKHQ70DqAQ6AF6BAgHEAI#v=onepage&q=effective%20python&f=false)\n",
    "        + 러닝 파이썬과 동 저자의 [Programming Python](https://learning-python.com/about-pp.html)\n",
    "\n",
    "\n",
    "<br>\n",
    "\n",
    "+ 세션장의 다음 계획 🤔\n",
    "  + 전산언어학회 `CLING`\n",
    "    + 당장은, \n",
    "      + <u>본격적으로 데이터 분석모듈 삼신기(`numpy, pandas, matplotlib`)를 다루는 ***스터디***를 계획중입니다! (참고서적: [Python for Data Analysis, 3E](https://wesmckinney.com/book/))</u>\n",
    "    + 장기적으로는,\n",
    "      + `BERT`, `GPT` 등 최신의 NLP모델들의 핵심이 되는 `Transformer` 모델에 대해 공부하는 ***스터디***를 계획중입니다! (참고자료: https://huggingface.co/docs/transformers/index)\n",
    "      + `vanilla Python`과 `pytorch`라이브러리를 기반으로, `BERT`, `GPT` 등 최신 딥러닝 자연어처리 모델들을 공부하는 ***스터디***를 계획중입니다! (참고 예정자료: [Deeplearning from Scratch](https://books.google.co.kr/books?id=PRSCwwEACAAJ&dq=deep+learning+from+scratch&hl=ko&sa=X&redir_esc=y))\n",
    "  + `언어유희`\n",
    "    + 당장은,\n",
    "      + 과학으로서 언어학을 공부하기위해 꼭 필요한 `수학적 지식들(지수/로그함수, 대학미적분, 선형대수)`을 이론적으로 공부하고, `numpy`를 통해 직접 구현해보는 ***스터디***를 계획중입니다!\n",
    "      + 미래의 이상적인 언어에 대해 논의하고 직접 만들어보는 `kuLING(꾸링) 프로젝트`를 진행할 계획중입니다!\n",
    "    + 장기적으로는, \n",
    "      + 통계적 지식들(확률 및 랜덤프로세스, 베이지안 통계 등...)을 같이 공부하는 ***스터디***를 계획중입니다!\n",
    "      + 서울대학교 언어학과 및 KAIST 인공지능 대학원생들을 비롯해 각종 선배님들을 모시어 얘기나누는 ***세미나***같은 자리들을 마련할 예정입니다!\n",
    "\n",
    "<br>\n",
    "\n",
    "+ 마지막으로 세션장에 대한 잡다한 얘기들\n",
    "  + 저는 로스쿨도 고민해보고, CPA도 찍어먹느라 회계자격증도 따보고, LB&C 융합전공하다가 학위가 맘에 안들어서 인공지능 융합전공으로 갈아타기도 하고...무튼 뭐 복잡한 사람입니다.\n",
    "  + 하지만 **<u>당장은 형이상학적인 `생각`들을, 형이하학적인 `컴퓨터`와 잇는 `매개체로써 언어`에 관심을 가지고 공부하는 중입니다.</u>**\n",
    "  + 관심있으시면 같이 공부해요!\n",
    "    + 세션장 깃헙: https://github.com/Jongbin-kr/2023-1_Dive_into_Python\n",
    "    + 세션장 블로그: https://jongbin-kr.github.io/\n",
    "\n",
    "<br>\n",
    "<br>\n",
    "<br>\n",
    "<br>\n",
    "\n",
    "근데 저도 사실 일개 프로그래밍/언어학 쪼무래기라서요...\n",
    "\n",
    "뭐가 어케 될지, 또 얼마나 잘 굴러갈지, 내가 한 조언이 맞는지는 사실 잘 모루겠어요...\n",
    "\n",
    "모든 투자에 대한 책임은 투자자 본인에게 있습니다!! 🤗🤗🤗"
   ]
  }
 ],
 "metadata": {
  "kernelspec": {
   "display_name": "Python 3",
   "language": "python",
   "name": "python3"
  },
  "language_info": {
   "codemirror_mode": {
    "name": "ipython",
    "version": 3
   },
   "file_extension": ".py",
   "mimetype": "text/x-python",
   "name": "python",
   "nbconvert_exporter": "python",
   "pygments_lexer": "ipython3",
   "version": "3.11.1"
  },
  "orig_nbformat": 4,
  "vscode": {
   "interpreter": {
    "hash": "7cba0d1a42559d80c1785ea75de96ff2e6fe2ecdb092afa9b1831b12c16563fe"
   }
  }
 },
 "nbformat": 4,
 "nbformat_minor": 2
}
