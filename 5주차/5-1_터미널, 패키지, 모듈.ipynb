{
 "cells": [
  {
   "attachments": {},
   "cell_type": "markdown",
   "metadata": {},
   "source": [
    "# I.모듈과 패키지\n",
    "\n",
    "+ 파이썬은 다양한 패키지/라이브러리를를 설치함으써 그 기능을 무한히 확장시킬 수 있다!\n",
    "  + 행렬연산을 위한 `Numpy`, 엑셀파일을 읽고쓰기 위한 `Pandas`...\n",
    "  + 머신러닝/딥러닝을 위한 `scikitlearn`, `Pytorch`, `Tensorflow`...\n",
    "  + 게임 개발을 위한 `pygame`...\n",
    "  + 웹페이지 개발을 위한 `Django`...(D는 묵음입니다.)\n",
    "\n",
    "<br>\n",
    "\n",
    "+ 이러한 패키지들을 설치하고, 또 활용하는 방법들을 간략하게만 배워보자!"
   ]
  },
  {
   "attachments": {},
   "cell_type": "markdown",
   "metadata": {},
   "source": [
    "## 1.패키지 설치하기\n",
    "\n",
    "+ vscode 환경에서 `ctrl + J`를 눌러보자. 그럼 아래에 `터미널`창이 뜬다.\n",
    "  + `터미널`이란, 흔히 `도스창`, `명령 프롬프트창`이라고도 불리는 데, **명령어를 통해서 컴퓨터를 직접 제어하는 것이다.**\n",
    "    + 이를 테면, 터미널에 `dir`를 타이핑하고 엔터를 눌러보면 현재 디렉토리에 들어있는 파일/폴더들을 모두 확인할 수 있다. (cmd, powershell 기준)\n",
    "    + 우리가 지금 공부하고 있는 `python`역시 터미널에 입력해보면 바로 파이썬 IDE가 실행되는 것을 확인할 수 있다.\n",
    "      + python IDE를 빠져나갈 때는 `exit()` 함수를 실행하면 된다.\n",
    "\n",
    "<br>\n",
    "\n",
    "+ 마찬가지로 우리는 터미널을 활용해서 파이썬에 특정 패키지/라이브러리를 설치할 수 있다!\n",
    "+ 이번 세션에서는 데이터를 다루는 가장 기본적인 라이브러리인 `Pandas` 라이브러리를 설치해보자.\n",
    "  + 터미널에 `pip install pandas`라고 입력해보자.\n",
    "    + 여기서 `pip`는 파이썬 패키지들을 관리하는 프로그램이다.\n",
    "    + 뭔가 쭈루루룩 나오고 설치가 잘 되었을 것이다!\n",
    "      + 이제 우리는 각자의 컴퓨터에 `pandas libaray`를 설치한 것이다!\n",
    "        + 정확히 어디에 설치되었는지는 다음 [블로그](https://webisfree.com/2017-11-09/python-pip-%ED%8C%A8%ED%82%A4%EC%A7%80%EB%8A%94-%EC%96%B4%EB%94%94%EC%97%90-%EC%A0%80%EC%9E%A5%EB%90%98%EB%8A%94%EA%B0%80) 참고.\n",
    "\n",
    "<br>\n",
    "\n",
    "+ 근데 설치만 한다고 쓸 수 있는 게 아니다!\n",
    "  + 지금 우리가 작성하고 있는 코드로 `import`를 해야한다!"
   ]
  },
  {
   "cell_type": "code",
   "execution_count": 5,
   "metadata": {},
   "outputs": [
    {
     "data": {
      "text/plain": [
       "<module 'pandas' from 'c:\\\\Users\\\\dieyo\\\\AppData\\\\Local\\\\Programs\\\\Python\\\\Python311\\\\Lib\\\\site-packages\\\\pandas\\\\__init__.py'>"
      ]
     },
     "execution_count": 5,
     "metadata": {},
     "output_type": "execute_result"
    }
   ],
   "source": [
    "import pandas\n",
    "\n",
    "pandas"
   ]
  },
  {
   "cell_type": "code",
   "execution_count": 6,
   "metadata": {},
   "outputs": [
    {
     "name": "stdout",
     "output_type": "stream",
     "text": [
      "<class 'module'>\n"
     ]
    }
   ],
   "source": [
    "import pandas as pd     ## ✅ 판다스 모듈은 관례적으로 pd라는 별칭으로 임포트한다.\n",
    "\n",
    "print(type(pd))         ## ✅ 이것 역시 일종의 객체입니다."
   ]
  },
  {
   "cell_type": "code",
   "execution_count": 7,
   "metadata": {},
   "outputs": [
    {
     "name": "stdout",
     "output_type": "stream",
     "text": [
      "<class 'function'>\n"
     ]
    },
    {
     "data": {
      "text/plain": [
       "<function pandas.io.parsers.readers.read_csv(filepath_or_buffer: 'FilePath | ReadCsvBuffer[bytes] | ReadCsvBuffer[str]', *, sep: 'str | None | lib.NoDefault' = <no_default>, delimiter: 'str | None | lib.NoDefault' = None, header: \"int | Sequence[int] | None | Literal['infer']\" = 'infer', names: 'Sequence[Hashable] | None | lib.NoDefault' = <no_default>, index_col: 'IndexLabel | Literal[False] | None' = None, usecols=None, squeeze: 'bool | None' = None, prefix: 'str | lib.NoDefault' = <no_default>, mangle_dupe_cols: 'bool' = True, dtype: 'DtypeArg | None' = None, engine: 'CSVEngine | None' = None, converters=None, true_values=None, false_values=None, skipinitialspace: 'bool' = False, skiprows=None, skipfooter: 'int' = 0, nrows: 'int | None' = None, na_values=None, keep_default_na: 'bool' = True, na_filter: 'bool' = True, verbose: 'bool' = False, skip_blank_lines: 'bool' = True, parse_dates=None, infer_datetime_format: 'bool' = False, keep_date_col: 'bool' = False, date_parser=None, dayfirst: 'bool' = False, cache_dates: 'bool' = True, iterator: 'bool' = False, chunksize: 'int | None' = None, compression: 'CompressionOptions' = 'infer', thousands: 'str | None' = None, decimal: 'str' = '.', lineterminator: 'str | None' = None, quotechar: 'str' = '\"', quoting: 'int' = 0, doublequote: 'bool' = True, escapechar: 'str | None' = None, comment: 'str | None' = None, encoding: 'str | None' = None, encoding_errors: 'str | None' = 'strict', dialect: 'str | csv.Dialect | None' = None, error_bad_lines: 'bool | None' = None, warn_bad_lines: 'bool | None' = None, on_bad_lines=None, delim_whitespace: 'bool' = False, low_memory=True, memory_map: 'bool' = False, float_precision: \"Literal['high', 'legacy'] | None\" = None, storage_options: 'StorageOptions' = None) -> 'DataFrame | TextFileReader'>"
      ]
     },
     "execution_count": 7,
     "metadata": {},
     "output_type": "execute_result"
    }
   ],
   "source": [
    "print(type(pd.read_csv))        ## ✅ 객체에 포함된 메소드\n",
    "pd.read_csv                     ## 딱 봐도 csv(comma seperated values) 파일을 읽는 용도겠지?"
   ]
  },
  {
   "attachments": {},
   "cell_type": "markdown",
   "metadata": {},
   "source": [
    "## 2.`pandas` 모듈 써보기\n",
    "\n",
    "+ 사실 저도 판다스 아직 잘 모릅니다...대충 함수만 몇 개 알고있을 뿐...\n",
    "  + 혹 더 공부하고 싶으시다면 저와 함께 전산언어학회에서 공부하시죠!^^\n",
    "  + 저는 담 학기중에 [이 책](https://product.kyobobook.co.kr/detail/S000001810160)으로 스터디나 하나 운영해볼까 고민중입니다..."
   ]
  },
  {
   "cell_type": "code",
   "execution_count": 8,
   "metadata": {},
   "outputs": [
    {
     "data": {
      "text/html": [
       "<div>\n",
       "<style scoped>\n",
       "    .dataframe tbody tr th:only-of-type {\n",
       "        vertical-align: middle;\n",
       "    }\n",
       "\n",
       "    .dataframe tbody tr th {\n",
       "        vertical-align: top;\n",
       "    }\n",
       "\n",
       "    .dataframe thead th {\n",
       "        text-align: right;\n",
       "    }\n",
       "</style>\n",
       "<table border=\"1\" class=\"dataframe\">\n",
       "  <thead>\n",
       "    <tr style=\"text-align: right;\">\n",
       "      <th></th>\n",
       "      <th>성별</th>\n",
       "      <th>감정_대분류</th>\n",
       "      <th>사람문장1</th>\n",
       "      <th>시스템응답1</th>\n",
       "      <th>사람문장2</th>\n",
       "      <th>시스템응답2</th>\n",
       "      <th>사람문장3</th>\n",
       "      <th>시스템응답3</th>\n",
       "      <th>사람문장4</th>\n",
       "      <th>시스템응답4</th>\n",
       "    </tr>\n",
       "  </thead>\n",
       "  <tbody>\n",
       "    <tr>\n",
       "      <th>0</th>\n",
       "      <td>남성</td>\n",
       "      <td>불안</td>\n",
       "      <td>당뇨랑 합병증 때문에 먹어야 할 약이 열 가지가 넘어가니까 스트레스야.</td>\n",
       "      <td>약 종류가 많아 번거로우시겠어요.</td>\n",
       "      <td>건강할 때 관리 좀 잘할걸 하는 생각이 들더라고.</td>\n",
       "      <td>현재 상황에서 변화를 주기 위해 어떻게 하면 될까요?</td>\n",
       "      <td>약을 잘 챙겨 먹고 나을 수 있도록 노력해야지.</td>\n",
       "      <td>약을 잘 챙겨 먹어 건강해지시길 바랄게요.</td>\n",
       "      <td>NaN</td>\n",
       "      <td>NaN</td>\n",
       "    </tr>\n",
       "    <tr>\n",
       "      <th>1</th>\n",
       "      <td>남성</td>\n",
       "      <td>기쁨</td>\n",
       "      <td>재취업이 돼서 받게 된 첫 월급으로 온 가족이 외식을 할 예정이야. 너무 행복해.</td>\n",
       "      <td>재취업 후 첫 월급이라 정말 기쁘시겠어요.</td>\n",
       "      <td>퇴직 후 다시는 돈을 못 벌 줄 알았는데 이렇게 월급으로 가족에게 맛있는 밥을 살 ...</td>\n",
       "      <td>이 기분을 유지하려면 어떻게 해야 할까요?</td>\n",
       "      <td>회사생활을 열심히 해서 계속 월급을 받을거야!</td>\n",
       "      <td>계속 원하시는 대로 회사생활이 이어지길 바랄게요.</td>\n",
       "      <td>NaN</td>\n",
       "      <td>NaN</td>\n",
       "    </tr>\n",
       "  </tbody>\n",
       "</table>\n",
       "</div>"
      ],
      "text/plain": [
       "   성별 감정_대분류                                          사람문장1  \\\n",
       "0  남성     불안        당뇨랑 합병증 때문에 먹어야 할 약이 열 가지가 넘어가니까 스트레스야.   \n",
       "1  남성     기쁨  재취업이 돼서 받게 된 첫 월급으로 온 가족이 외식을 할 예정이야. 너무 행복해.   \n",
       "\n",
       "                    시스템응답1                                              사람문장2  \\\n",
       "0       약 종류가 많아 번거로우시겠어요.                        건강할 때 관리 좀 잘할걸 하는 생각이 들더라고.   \n",
       "1  재취업 후 첫 월급이라 정말 기쁘시겠어요.  퇴직 후 다시는 돈을 못 벌 줄 알았는데 이렇게 월급으로 가족에게 맛있는 밥을 살 ...   \n",
       "\n",
       "                          시스템응답2                       사람문장3  \\\n",
       "0  현재 상황에서 변화를 주기 위해 어떻게 하면 될까요?  약을 잘 챙겨 먹고 나을 수 있도록 노력해야지.   \n",
       "1        이 기분을 유지하려면 어떻게 해야 할까요?   회사생활을 열심히 해서 계속 월급을 받을거야!   \n",
       "\n",
       "                        시스템응답3 사람문장4 시스템응답4  \n",
       "0      약을 잘 챙겨 먹어 건강해지시길 바랄게요.   NaN    NaN  \n",
       "1  계속 원하시는 대로 회사생활이 이어지길 바랄게요.   NaN    NaN  "
      ]
     },
     "execution_count": 8,
     "metadata": {},
     "output_type": "execute_result"
    }
   ],
   "source": [
    "## 그럼 실제로 한 번 읽어보자!\n",
    "\n",
    "df = pd.read_csv('train.csv')\n",
    "df[:2]\n",
    "## 오 정상적으로 잘 불러와졌구나~!"
   ]
  },
  {
   "cell_type": "code",
   "execution_count": 14,
   "metadata": {},
   "outputs": [
    {
     "data": {
      "text/plain": [
       "pandas.core.frame.DataFrame"
      ]
     },
     "execution_count": 14,
     "metadata": {},
     "output_type": "execute_result"
    }
   ],
   "source": [
    "type(df)\n",
    "## 타입은 DataFrame이구나!"
   ]
  },
  {
   "attachments": {},
   "cell_type": "markdown",
   "metadata": {},
   "source": [
    "### 1)데이터프레임 메소드들\n",
    "\n",
    "+ 앞서 말했듯 판다스에 대한 좀 더 깊은 공부는 클링에서 이어서 하는 걸로 합시다!\n",
    "  + 그치만 이렇게 마치면 정없고 속상하니까 함수 몇 개만 훑어봅시다."
   ]
  },
  {
   "cell_type": "code",
   "execution_count": 15,
   "metadata": {},
   "outputs": [
    {
     "name": "stdout",
     "output_type": "stream",
     "text": [
      "<class 'pandas.core.frame.DataFrame'>\n",
      "RangeIndex: 10150 entries, 0 to 10149\n",
      "Data columns (total 10 columns):\n",
      " #   Column  Non-Null Count  Dtype \n",
      "---  ------  --------------  ----- \n",
      " 0   성별      10150 non-null  object\n",
      " 1   감정_대분류  10150 non-null  object\n",
      " 2   사람문장1   10150 non-null  object\n",
      " 3   시스템응답1  10150 non-null  object\n",
      " 4   사람문장2   10150 non-null  object\n",
      " 5   시스템응답2  10150 non-null  object\n",
      " 6   사람문장3   8342 non-null   object\n",
      " 7   시스템응답3  8342 non-null   object\n",
      " 8   사람문장4   365 non-null    object\n",
      " 9   시스템응답4  331 non-null    object\n",
      "dtypes: object(10)\n",
      "memory usage: 793.1+ KB\n"
     ]
    }
   ],
   "source": [
    "df.info()"
   ]
  },
  {
   "cell_type": "code",
   "execution_count": 16,
   "metadata": {},
   "outputs": [
    {
     "data": {
      "text/html": [
       "<div>\n",
       "<style scoped>\n",
       "    .dataframe tbody tr th:only-of-type {\n",
       "        vertical-align: middle;\n",
       "    }\n",
       "\n",
       "    .dataframe tbody tr th {\n",
       "        vertical-align: top;\n",
       "    }\n",
       "\n",
       "    .dataframe thead th {\n",
       "        text-align: right;\n",
       "    }\n",
       "</style>\n",
       "<table border=\"1\" class=\"dataframe\">\n",
       "  <thead>\n",
       "    <tr style=\"text-align: right;\">\n",
       "      <th></th>\n",
       "      <th>성별</th>\n",
       "      <th>감정_대분류</th>\n",
       "      <th>사람문장1</th>\n",
       "      <th>시스템응답1</th>\n",
       "      <th>사람문장2</th>\n",
       "      <th>시스템응답2</th>\n",
       "      <th>사람문장3</th>\n",
       "      <th>시스템응답3</th>\n",
       "      <th>사람문장4</th>\n",
       "      <th>시스템응답4</th>\n",
       "    </tr>\n",
       "  </thead>\n",
       "  <tbody>\n",
       "    <tr>\n",
       "      <th>0</th>\n",
       "      <td>False</td>\n",
       "      <td>False</td>\n",
       "      <td>False</td>\n",
       "      <td>False</td>\n",
       "      <td>False</td>\n",
       "      <td>False</td>\n",
       "      <td>False</td>\n",
       "      <td>False</td>\n",
       "      <td>True</td>\n",
       "      <td>True</td>\n",
       "    </tr>\n",
       "    <tr>\n",
       "      <th>1</th>\n",
       "      <td>False</td>\n",
       "      <td>False</td>\n",
       "      <td>False</td>\n",
       "      <td>False</td>\n",
       "      <td>False</td>\n",
       "      <td>False</td>\n",
       "      <td>False</td>\n",
       "      <td>False</td>\n",
       "      <td>True</td>\n",
       "      <td>True</td>\n",
       "    </tr>\n",
       "    <tr>\n",
       "      <th>2</th>\n",
       "      <td>False</td>\n",
       "      <td>False</td>\n",
       "      <td>False</td>\n",
       "      <td>False</td>\n",
       "      <td>False</td>\n",
       "      <td>False</td>\n",
       "      <td>True</td>\n",
       "      <td>True</td>\n",
       "      <td>True</td>\n",
       "      <td>True</td>\n",
       "    </tr>\n",
       "    <tr>\n",
       "      <th>3</th>\n",
       "      <td>False</td>\n",
       "      <td>False</td>\n",
       "      <td>False</td>\n",
       "      <td>False</td>\n",
       "      <td>False</td>\n",
       "      <td>False</td>\n",
       "      <td>True</td>\n",
       "      <td>True</td>\n",
       "      <td>True</td>\n",
       "      <td>True</td>\n",
       "    </tr>\n",
       "    <tr>\n",
       "      <th>4</th>\n",
       "      <td>False</td>\n",
       "      <td>False</td>\n",
       "      <td>False</td>\n",
       "      <td>False</td>\n",
       "      <td>False</td>\n",
       "      <td>False</td>\n",
       "      <td>True</td>\n",
       "      <td>True</td>\n",
       "      <td>True</td>\n",
       "      <td>True</td>\n",
       "    </tr>\n",
       "    <tr>\n",
       "      <th>...</th>\n",
       "      <td>...</td>\n",
       "      <td>...</td>\n",
       "      <td>...</td>\n",
       "      <td>...</td>\n",
       "      <td>...</td>\n",
       "      <td>...</td>\n",
       "      <td>...</td>\n",
       "      <td>...</td>\n",
       "      <td>...</td>\n",
       "      <td>...</td>\n",
       "    </tr>\n",
       "    <tr>\n",
       "      <th>10145</th>\n",
       "      <td>False</td>\n",
       "      <td>False</td>\n",
       "      <td>False</td>\n",
       "      <td>False</td>\n",
       "      <td>False</td>\n",
       "      <td>False</td>\n",
       "      <td>False</td>\n",
       "      <td>False</td>\n",
       "      <td>True</td>\n",
       "      <td>True</td>\n",
       "    </tr>\n",
       "    <tr>\n",
       "      <th>10146</th>\n",
       "      <td>False</td>\n",
       "      <td>False</td>\n",
       "      <td>False</td>\n",
       "      <td>False</td>\n",
       "      <td>False</td>\n",
       "      <td>False</td>\n",
       "      <td>False</td>\n",
       "      <td>False</td>\n",
       "      <td>True</td>\n",
       "      <td>True</td>\n",
       "    </tr>\n",
       "    <tr>\n",
       "      <th>10147</th>\n",
       "      <td>False</td>\n",
       "      <td>False</td>\n",
       "      <td>False</td>\n",
       "      <td>False</td>\n",
       "      <td>False</td>\n",
       "      <td>False</td>\n",
       "      <td>True</td>\n",
       "      <td>True</td>\n",
       "      <td>True</td>\n",
       "      <td>True</td>\n",
       "    </tr>\n",
       "    <tr>\n",
       "      <th>10148</th>\n",
       "      <td>False</td>\n",
       "      <td>False</td>\n",
       "      <td>False</td>\n",
       "      <td>False</td>\n",
       "      <td>False</td>\n",
       "      <td>False</td>\n",
       "      <td>False</td>\n",
       "      <td>False</td>\n",
       "      <td>True</td>\n",
       "      <td>True</td>\n",
       "    </tr>\n",
       "    <tr>\n",
       "      <th>10149</th>\n",
       "      <td>False</td>\n",
       "      <td>False</td>\n",
       "      <td>False</td>\n",
       "      <td>False</td>\n",
       "      <td>False</td>\n",
       "      <td>False</td>\n",
       "      <td>False</td>\n",
       "      <td>False</td>\n",
       "      <td>True</td>\n",
       "      <td>True</td>\n",
       "    </tr>\n",
       "  </tbody>\n",
       "</table>\n",
       "<p>10150 rows × 10 columns</p>\n",
       "</div>"
      ],
      "text/plain": [
       "          성별  감정_대분류  사람문장1  시스템응답1  사람문장2  시스템응답2  사람문장3  시스템응답3  사람문장4  \\\n",
       "0      False   False  False   False  False   False  False   False   True   \n",
       "1      False   False  False   False  False   False  False   False   True   \n",
       "2      False   False  False   False  False   False   True    True   True   \n",
       "3      False   False  False   False  False   False   True    True   True   \n",
       "4      False   False  False   False  False   False   True    True   True   \n",
       "...      ...     ...    ...     ...    ...     ...    ...     ...    ...   \n",
       "10145  False   False  False   False  False   False  False   False   True   \n",
       "10146  False   False  False   False  False   False  False   False   True   \n",
       "10147  False   False  False   False  False   False   True    True   True   \n",
       "10148  False   False  False   False  False   False  False   False   True   \n",
       "10149  False   False  False   False  False   False  False   False   True   \n",
       "\n",
       "       시스템응답4  \n",
       "0        True  \n",
       "1        True  \n",
       "2        True  \n",
       "3        True  \n",
       "4        True  \n",
       "...       ...  \n",
       "10145    True  \n",
       "10146    True  \n",
       "10147    True  \n",
       "10148    True  \n",
       "10149    True  \n",
       "\n",
       "[10150 rows x 10 columns]"
      ]
     },
     "execution_count": 16,
     "metadata": {},
     "output_type": "execute_result"
    }
   ],
   "source": [
    "df.isnull()"
   ]
  },
  {
   "cell_type": "code",
   "execution_count": 17,
   "metadata": {},
   "outputs": [
    {
     "name": "stdout",
     "output_type": "stream",
     "text": [
      "0        불안\n",
      "1        기쁨\n",
      "2        기쁨\n",
      "3        분노\n",
      "4        슬픔\n",
      "         ..\n",
      "10145    슬픔\n",
      "10146    상처\n",
      "10147    분노\n",
      "10148    상처\n",
      "10149    기쁨\n",
      "Name: 감정_대분류, Length: 10150, dtype: object\n",
      "<class 'pandas.core.series.Series'>\n"
     ]
    }
   ],
   "source": [
    "print(df.iloc[:,1])\n",
    "print(type(df.iloc[:,1]))"
   ]
  },
  {
   "cell_type": "code",
   "execution_count": 19,
   "metadata": {},
   "outputs": [
    {
     "name": "stdout",
     "output_type": "stream",
     "text": [
      "남성\n",
      "<class 'str'>\n"
     ]
    }
   ],
   "source": [
    "print(df.iloc[0,0])\n",
    "print(type(df.iloc[0,0]))"
   ]
  },
  {
   "attachments": {},
   "cell_type": "markdown",
   "metadata": {},
   "source": [
    "### 2)pd.DataFrame이라는 데이터타입\n",
    "\n",
    "+ 마찬가지로 얘도 데이터타입이니까...\n",
    "  + 1)반복가능한지, 가능하지 않은지 (`iterable` or `container` / `atomic value`)\n",
    "  + 2)순서가 있는지, 없는지 (`sequence` / `non-sequence`)\n",
    "  + 3)불변인지 가변인지 (`mutalbe` / `immutable`)\n",
    "+ 를 따질 수 있겠지!"
   ]
  },
  {
   "attachments": {},
   "cell_type": "markdown",
   "metadata": {},
   "source": [
    "#### 2-1) iterable인가?"
   ]
  },
  {
   "cell_type": "code",
   "execution_count": 43,
   "metadata": {},
   "outputs": [
    {
     "name": "stdout",
     "output_type": "stream",
     "text": [
      "1\n",
      "2\n",
      "3\n",
      "\n",
      "\n",
      "\n",
      "\n",
      "3\n",
      "\n",
      "\n",
      "[1, 2, 3]\n",
      "\n",
      "\n",
      "6\n",
      "\n",
      "\n"
     ]
    }
   ],
   "source": [
    "s = {1,2,3}\n",
    "\n",
    "for x in s:\n",
    "    print(x)\n",
    "print('\\n'*3)\n",
    "\n",
    "\n",
    " \n",
    "print(len(s), end='\\n'*3)\n",
    "\n",
    "print(sorted(s), end='\\n'*3)\n",
    "\n",
    "print(sum(s), end='\\n'*3)"
   ]
  },
  {
   "cell_type": "code",
   "execution_count": 41,
   "metadata": {},
   "outputs": [
    {
     "name": "stdout",
     "output_type": "stream",
     "text": [
      "성별\n",
      "감정_대분류\n",
      "사람문장1\n",
      "시스템응답1\n",
      "사람문장2\n",
      "시스템응답2\n",
      "사람문장3\n",
      "시스템응답3\n",
      "사람문장4\n",
      "시스템응답4\n",
      "\n",
      "\n",
      "\n",
      "\n",
      "10150\n",
      "\n",
      "\n",
      "['감정_대분류', '사람문장1', '사람문장2', '사람문장3', '사람문장4', '성별', '시스템응답1', '시스템응답2', '시스템응답3', '시스템응답4']\n",
      "\n",
      "\n"
     ]
    },
    {
     "ename": "TypeError",
     "evalue": "unsupported operand type(s) for +: 'int' and 'str'",
     "output_type": "error",
     "traceback": [
      "\u001b[1;31m---------------------------------------------------------------------------\u001b[0m",
      "\u001b[1;31mTypeError\u001b[0m                                 Traceback (most recent call last)",
      "Cell \u001b[1;32mIn [41], line 12\u001b[0m\n\u001b[0;32m      8\u001b[0m \u001b[39mprint\u001b[39m(\u001b[39mlen\u001b[39m(df), end\u001b[39m=\u001b[39m\u001b[39m'\u001b[39m\u001b[39m\\n\u001b[39;00m\u001b[39m'\u001b[39m\u001b[39m*\u001b[39m\u001b[39m3\u001b[39m)\n\u001b[0;32m     10\u001b[0m \u001b[39mprint\u001b[39m(\u001b[39msorted\u001b[39m(df), end\u001b[39m=\u001b[39m\u001b[39m'\u001b[39m\u001b[39m\\n\u001b[39;00m\u001b[39m'\u001b[39m\u001b[39m*\u001b[39m\u001b[39m3\u001b[39m)\n\u001b[1;32m---> 12\u001b[0m \u001b[39mprint\u001b[39m(\u001b[39msum\u001b[39;49m(df), end\u001b[39m=\u001b[39m\u001b[39m'\u001b[39m\u001b[39m\\n\u001b[39;00m\u001b[39m'\u001b[39m\u001b[39m*\u001b[39m\u001b[39m3\u001b[39m)\n",
      "\u001b[1;31mTypeError\u001b[0m: unsupported operand type(s) for +: 'int' and 'str'"
     ]
    }
   ],
   "source": [
    "df = pd.read_csv('train.csv')\n",
    "\n",
    "for x in df:    ## ✅ 반복가능 공통의 함수들을 쓸 수 있네!\n",
    "    print(x)    ## ❓ 어? 근데 결과값이 조금 기묘하네? 이거 뭐지??\n",
    "print('\\n'*3)\n",
    "\n",
    "\n",
    "\n",
    "print(len(df), end='\\n'*3)\n",
    "\n",
    "print(sorted(df), end='\\n'*3)\n",
    "\n",
    "print(sum(df), end='\\n'*3)"
   ]
  },
  {
   "attachments": {},
   "cell_type": "markdown",
   "metadata": {},
   "source": [
    "###### (참고) iterable인지를 판단하는 정석적인 방법\n",
    "\n",
    "+ `iterable`이라는 것도 사실 일종의 `속성`이다!\n",
    "  + 곧, `__iter__`라는 속성을 객체가 가지고 있으면 그걸 iterable이라고 말하는 것.\n",
    "    + 따라서 `dir()`을 통해서 객체를 뜯어보면 확실히 알 수 있겠지!\n",
    "+ 출처: https://stackoverflow.com/questions/13459405/how-to-test-if-an-object-is-iterable-on-python-2-5-on-all-platforms/13478329#13478329"
   ]
  },
  {
   "cell_type": "code",
   "execution_count": 48,
   "metadata": {},
   "outputs": [
    {
     "data": {
      "text/plain": [
       "True"
      ]
     },
     "execution_count": 48,
     "metadata": {},
     "output_type": "execute_result"
    }
   ],
   "source": [
    "s = {1,2,3}\n",
    "\n",
    "'__iter__' in dir(s)"
   ]
  },
  {
   "cell_type": "code",
   "execution_count": 50,
   "metadata": {},
   "outputs": [
    {
     "name": "stdout",
     "output_type": "stream",
     "text": [
      "False\n",
      "False\n",
      "True\n",
      "True\n",
      "True\n",
      "True\n",
      "True\n"
     ]
    }
   ],
   "source": [
    "## 참고. hashattr라는 함수를 쓸 수도 있다!\n",
    "\n",
    "for x in [123, True, {1,2,3}, {1:10, 2:20}, 'string', ['l', 'i', 's', 't'], (1,2,3), ]:\n",
    "    \n",
    "    print(hasattr(x, '__iter__'))\n",
    "    "
   ]
  },
  {
   "attachments": {},
   "cell_type": "markdown",
   "metadata": {},
   "source": [
    "#### 2-2) sequence인가?"
   ]
  },
  {
   "cell_type": "code",
   "execution_count": 53,
   "metadata": {},
   "outputs": [
    {
     "name": "stdout",
     "output_type": "stream",
     "text": [
      "1\n",
      "\n",
      "[1]\n",
      "\n",
      "2\n",
      "\n",
      "3\n"
     ]
    }
   ],
   "source": [
    "l = [1, 2, 3, 3, 3, '3', '3']\n",
    "\n",
    "print(\n",
    "    l[0],\n",
    "    l[0:1],\n",
    "    l.index(3),\n",
    "    l.count(3),\n",
    "    sep = '\\n\\n'\n",
    ")"
   ]
  },
  {
   "cell_type": "code",
   "execution_count": 64,
   "metadata": {},
   "outputs": [
    {
     "name": "stdout",
     "output_type": "stream",
     "text": [
      "   성별 감정_대분류                                    사람문장1              시스템응답1  \\\n",
      "0  남성     불안  당뇨랑 합병증 때문에 먹어야 할 약이 열 가지가 넘어가니까 스트레스야.  약 종류가 많아 번거로우시겠어요.   \n",
      "\n",
      "                         사람문장2                         시스템응답2  \\\n",
      "0  건강할 때 관리 좀 잘할걸 하는 생각이 들더라고.  현재 상황에서 변화를 주기 위해 어떻게 하면 될까요?   \n",
      "\n",
      "                        사람문장3                   시스템응답3 사람문장4 시스템응답4  \n",
      "0  약을 잘 챙겨 먹고 나을 수 있도록 노력해야지.  약을 잘 챙겨 먹어 건강해지시길 바랄게요.   NaN    NaN  \n"
     ]
    },
    {
     "ename": "ValueError",
     "evalue": "No axis named 3 for object type DataFrame",
     "output_type": "error",
     "traceback": [
      "\u001b[1;31m---------------------------------------------------------------------------\u001b[0m",
      "\u001b[1;31mKeyError\u001b[0m                                  Traceback (most recent call last)",
      "File \u001b[1;32mc:\\Users\\dieyo\\AppData\\Local\\Programs\\Python\\Python311\\Lib\\site-packages\\pandas\\core\\generic.py:554\u001b[0m, in \u001b[0;36mNDFrame._get_axis_number\u001b[1;34m(cls, axis)\u001b[0m\n\u001b[0;32m    553\u001b[0m \u001b[39mtry\u001b[39;00m:\n\u001b[1;32m--> 554\u001b[0m     \u001b[39mreturn\u001b[39;00m \u001b[39mcls\u001b[39;49m\u001b[39m.\u001b[39;49m_AXIS_TO_AXIS_NUMBER[axis]\n\u001b[0;32m    555\u001b[0m \u001b[39mexcept\u001b[39;00m \u001b[39mKeyError\u001b[39;00m:\n",
      "\u001b[1;31mKeyError\u001b[0m: 3",
      "\nDuring handling of the above exception, another exception occurred:\n",
      "\u001b[1;31mValueError\u001b[0m                                Traceback (most recent call last)",
      "Cell \u001b[1;32mIn [64], line 8\u001b[0m\n\u001b[0;32m      4\u001b[0m \u001b[39mprint\u001b[39m(df[\u001b[39m0\u001b[39m:\u001b[39m1\u001b[39m])\n\u001b[0;32m      6\u001b[0m \u001b[39m## 아래것들은 다 동작을 안해요\u001b[39;00m\n\u001b[0;32m      7\u001b[0m \u001b[39m# print(df[0])\u001b[39;00m\n\u001b[1;32m----> 8\u001b[0m \u001b[39mprint\u001b[39m(df\u001b[39m.\u001b[39;49mcount(\u001b[39m3\u001b[39;49m))\n\u001b[0;32m      9\u001b[0m \u001b[39m# print(df.index(3))\u001b[39;00m\n",
      "File \u001b[1;32mc:\\Users\\dieyo\\AppData\\Local\\Programs\\Python\\Python311\\Lib\\site-packages\\pandas\\core\\frame.py:10688\u001b[0m, in \u001b[0;36mDataFrame.count\u001b[1;34m(self, axis, level, numeric_only)\u001b[0m\n\u001b[0;32m  10620\u001b[0m \u001b[39mdef\u001b[39;00m \u001b[39mcount\u001b[39m(\u001b[39mself\u001b[39m, axis: Axis \u001b[39m=\u001b[39m \u001b[39m0\u001b[39m, level: Level \u001b[39m=\u001b[39m \u001b[39mNone\u001b[39;00m, numeric_only: \u001b[39mbool\u001b[39m \u001b[39m=\u001b[39m \u001b[39mFalse\u001b[39;00m):\n\u001b[0;32m  10621\u001b[0m     \u001b[39m\"\"\"\u001b[39;00m\n\u001b[0;32m  10622\u001b[0m \u001b[39m    Count non-NA cells for each column or row.\u001b[39;00m\n\u001b[0;32m  10623\u001b[0m \n\u001b[1;32m   (...)\u001b[0m\n\u001b[0;32m  10686\u001b[0m \u001b[39m    dtype: int64\u001b[39;00m\n\u001b[0;32m  10687\u001b[0m \u001b[39m    \"\"\"\u001b[39;00m\n\u001b[1;32m> 10688\u001b[0m     axis \u001b[39m=\u001b[39m \u001b[39mself\u001b[39;49m\u001b[39m.\u001b[39;49m_get_axis_number(axis)\n\u001b[0;32m  10689\u001b[0m     \u001b[39mif\u001b[39;00m level \u001b[39mis\u001b[39;00m \u001b[39mnot\u001b[39;00m \u001b[39mNone\u001b[39;00m:\n\u001b[0;32m  10690\u001b[0m         warnings\u001b[39m.\u001b[39mwarn(\n\u001b[0;32m  10691\u001b[0m             \u001b[39m\"\u001b[39m\u001b[39mUsing the level keyword in DataFrame and Series aggregations is \u001b[39m\u001b[39m\"\u001b[39m\n\u001b[0;32m  10692\u001b[0m             \u001b[39m\"\u001b[39m\u001b[39mdeprecated and will be removed in a future version. Use groupby \u001b[39m\u001b[39m\"\u001b[39m\n\u001b[1;32m   (...)\u001b[0m\n\u001b[0;32m  10695\u001b[0m             stacklevel\u001b[39m=\u001b[39mfind_stack_level(),\n\u001b[0;32m  10696\u001b[0m         )\n",
      "File \u001b[1;32mc:\\Users\\dieyo\\AppData\\Local\\Programs\\Python\\Python311\\Lib\\site-packages\\pandas\\core\\generic.py:556\u001b[0m, in \u001b[0;36mNDFrame._get_axis_number\u001b[1;34m(cls, axis)\u001b[0m\n\u001b[0;32m    554\u001b[0m     \u001b[39mreturn\u001b[39;00m \u001b[39mcls\u001b[39m\u001b[39m.\u001b[39m_AXIS_TO_AXIS_NUMBER[axis]\n\u001b[0;32m    555\u001b[0m \u001b[39mexcept\u001b[39;00m \u001b[39mKeyError\u001b[39;00m:\n\u001b[1;32m--> 556\u001b[0m     \u001b[39mraise\u001b[39;00m \u001b[39mValueError\u001b[39;00m(\u001b[39mf\u001b[39m\u001b[39m\"\u001b[39m\u001b[39mNo axis named \u001b[39m\u001b[39m{\u001b[39;00maxis\u001b[39m}\u001b[39;00m\u001b[39m for object type \u001b[39m\u001b[39m{\u001b[39;00m\u001b[39mcls\u001b[39m\u001b[39m.\u001b[39m\u001b[39m__name__\u001b[39m\u001b[39m}\u001b[39;00m\u001b[39m\"\u001b[39m)\n",
      "\u001b[1;31mValueError\u001b[0m: No axis named 3 for object type DataFrame"
     ]
    }
   ],
   "source": [
    "df = pd.read_csv('train.csv')\n",
    "\n",
    "## 슬라이싱은 되는데...\n",
    "print(df[0:1])\n",
    "\n",
    "## 아래것들은 다 동작을 안해요.\n",
    "print(df[0])\n",
    "print(df.count(3))\n",
    "print(df.index(3))\n",
    "\n",
    "## ❓ 그렇다고 sequnece가 아닌가?"
   ]
  },
  {
   "cell_type": "code",
   "execution_count": 73,
   "metadata": {},
   "outputs": [
    {
     "name": "stdout",
     "output_type": "stream",
     "text": [
      "False\n",
      "False\n",
      "False\n",
      "False\n",
      "True\n",
      "True\n",
      "True\n",
      "그럼 dataframe은 어떠냐? False\n"
     ]
    }
   ],
   "source": [
    "## 앞서 iterable이 그랬듯, sequence 역시 일종의 속성이다!\n",
    "#### 출처: https://stackoverflow.com/questions/2937114/python-check-if-an-object-is-a-sequence\n",
    "\n",
    "import collections  ## 이제 import가 뭔지는 알지??\n",
    "\n",
    "for datatype in [123, True, {1,2,3}, {1:10, 2:20}, 'string', ['l', 'i', 's', 't'], (1,2,3), ]:\n",
    "    print(isinstance(datatype, collections.abc.Sequence))    \n",
    "\n",
    "\n",
    "df = pd.read_csv('train.csv')\n",
    "print('그럼 dataframe은 어떠냐?' ,isinstance(df, collections.abc.Sequence))"
   ]
  },
  {
   "attachments": {},
   "cell_type": "markdown",
   "metadata": {},
   "source": [
    "#### 2-3) mutable인가?\n",
    "\n",
    "+ 사실 `mutable`이라는 속성은 없다. 온전히 개념적인(conceptual) 것...\n",
    "  + 개념적이라는 말은, 단순히 객체를 변경할 수 있으면 mutable하다고 개념적으로 말한다는 뜻...\n",
    "  + 따라서 mutable/immutable을 체크하는 것은 꽤나 까다롭다!\n",
    "> A type is mutable if it is not immutable. A type is immutable if it is a built-in immutable type: str, int, long, bool, float, tuple, and probably a couple others I'm forgetting. User-defined types are always mutable.\n",
    "> \n",
    "> 출처: https://stackoverflow.com/questions/4374006/check-for-mutability-in-python\n",
    "\n",
    "<br>\n",
    "\n",
    "+ 하지만 내가 생각하는 한 가지 편법을 소개하자면,\n",
    "  + 지난 강의에서 말했듯 immutable은 hashable하다.\n",
    "    + 물론 이것도 반드시 맞는 말은 아니긴하다...! (참고: https://jiwonkoh.tistory.com/40)\n",
    "  + 따라서 `hash()` 함수를 통해서 간접적으로나마 immutable인지를 판단해볼 수 있겠지...!\n",
    "\n"
   ]
  },
  {
   "cell_type": "code",
   "execution_count": 74,
   "metadata": {},
   "outputs": [
    {
     "ename": "TypeError",
     "evalue": "unhashable type: 'list'",
     "output_type": "error",
     "traceback": [
      "\u001b[1;31m---------------------------------------------------------------------------\u001b[0m",
      "\u001b[1;31mTypeError\u001b[0m                                 Traceback (most recent call last)",
      "Cell \u001b[1;32mIn [74], line 2\u001b[0m\n\u001b[0;32m      1\u001b[0m l \u001b[39m=\u001b[39m [\u001b[39m1\u001b[39m,\u001b[39m2\u001b[39m,\u001b[39m3\u001b[39m]\n\u001b[1;32m----> 2\u001b[0m \u001b[39mhash\u001b[39;49m(l)\n",
      "\u001b[1;31mTypeError\u001b[0m: unhashable type: 'list'"
     ]
    }
   ],
   "source": [
    "l = [1,2,3]\n",
    "hash(l)"
   ]
  },
  {
   "cell_type": "code",
   "execution_count": 75,
   "metadata": {},
   "outputs": [
    {
     "data": {
      "text/plain": [
       "529344067295497451"
      ]
     },
     "execution_count": 75,
     "metadata": {},
     "output_type": "execute_result"
    }
   ],
   "source": [
    "t = (1,2,3)\n",
    "hash(t)"
   ]
  },
  {
   "cell_type": "code",
   "execution_count": 76,
   "metadata": {},
   "outputs": [
    {
     "ename": "TypeError",
     "evalue": "unhashable type: 'DataFrame'",
     "output_type": "error",
     "traceback": [
      "\u001b[1;31m---------------------------------------------------------------------------\u001b[0m",
      "\u001b[1;31mTypeError\u001b[0m                                 Traceback (most recent call last)",
      "Cell \u001b[1;32mIn [76], line 3\u001b[0m\n\u001b[0;32m      1\u001b[0m df \u001b[39m=\u001b[39m pd\u001b[39m.\u001b[39mread_csv(\u001b[39m'\u001b[39m\u001b[39mtrain.csv\u001b[39m\u001b[39m'\u001b[39m)\n\u001b[1;32m----> 3\u001b[0m \u001b[39mhash\u001b[39;49m(df)\n",
      "\u001b[1;31mTypeError\u001b[0m: unhashable type: 'DataFrame'"
     ]
    }
   ],
   "source": [
    "df = pd.read_csv('train.csv')\n",
    "\n",
    "hash(df)"
   ]
  },
  {
   "cell_type": "code",
   "execution_count": 82,
   "metadata": {},
   "outputs": [
    {
     "name": "stdout",
     "output_type": "stream",
     "text": [
      "True\n",
      "True\n",
      "False\n",
      "False\n",
      "True\n",
      "False\n",
      "True\n",
      "\n",
      "\n",
      "\n",
      "False\n"
     ]
    }
   ],
   "source": [
    "## 출처: https://stackoverflow.com/questions/3460650/asking-is-hashable-about-a-python-value\n",
    "\n",
    "import collections\n",
    "\n",
    "for datatype in [123, True, {1,2,3}, {1:10, 2:20}, 'string', ['l', 'i', 's', 't'], (1,2,3), ]:\n",
    "    print(isinstance(datatype, collections.abc.Hashable))\n",
    "print('\\n\\n')\n",
    "\n",
    "\n",
    "\n",
    "df = pd.read_csv('train.csv')\n",
    "print(isinstance(df, collections.abc.Hashable))\n"
   ]
  },
  {
   "attachments": {},
   "cell_type": "markdown",
   "metadata": {},
   "source": [
    "### 3)pd.DataFrame 역시 객체다!\n",
    "\n",
    "> 파이썬의 모든 것은 객체다!!!\n",
    "\n",
    "+ 지난 강의에서 말씀드렸듯, **<u>파이썬은 모든 것이 `객체`입니다.</u>**\n",
    "  + 마찬가지로, pd.DataFrame 역시 `객체`라고 할 수 있죠.\n",
    "    + 그럼 선술했던 네 가지 속성들을 가지겠죠.\n",
    "      + 1)값\n",
    "      + 2)데이터타입\n",
    "      + 3)속성/기능\n",
    "      + 4)주소값"
   ]
  },
  {
   "cell_type": "code",
   "execution_count": 84,
   "metadata": {},
   "outputs": [
    {
     "name": "stdout",
     "output_type": "stream",
     "text": [
      "       성별 감정_대분류                                              사람문장1  \\\n",
      "0      남성     불안            당뇨랑 합병증 때문에 먹어야 할 약이 열 가지가 넘어가니까 스트레스야.   \n",
      "1      남성     기쁨      재취업이 돼서 받게 된 첫 월급으로 온 가족이 외식을 할 예정이야. 너무 행복해.   \n",
      "2      여성     기쁨                       빚을 드디어 다 갚게 되어서 이제야 안도감이 들어.   \n",
      "3      남성     분노                                     이제 돈이라면 지긋지긋해.   \n",
      "4      여성     슬픔                                       친구 때문에 눈물 나.   \n",
      "...    ..    ...                                                ...   \n",
      "10145  여성     슬픔                    병원에서 친하게 지내던 환자가 암으로 죽어서 너무 슬퍼.   \n",
      "10146  남성     상처                      천식 때문에 가족들 두고 산에서 혼자 사는데 외롭네.   \n",
      "10147  여성     분노  오늘 식당에서 서빙을 하는데 젊은 청년들이 반말하길래 기분이 나빠 나도 반말을 하며...   \n",
      "10148  여성     상처            최 영감이 노인들에게 나를 이상한 사람으로 이야기해서 답답하고 억울해.   \n",
      "10149  여성     기쁨            이렇게 좋은 운동 시설에서 경로 우대로 운동할 수 있다니 참 행운이야.   \n",
      "\n",
      "                                 시스템응답1  \\\n",
      "0                    약 종류가 많아 번거로우시겠어요.   \n",
      "1               재취업 후 첫 월급이라 정말 기쁘시겠어요.   \n",
      "2        기분 좋으시겠어요. 앞으로는 어떻게 하실 생각이신가요?   \n",
      "3                           무슨 일 있으셨나요?   \n",
      "4           친구 때문에 눈물이 나시는군요. 무슨 일이세요?    \n",
      "...                                 ...   \n",
      "10145         친한 사람의 죽음으로 인해 마음이 아프시군요.   \n",
      "10146  병 때문에 어쩔 수 없이 혼자 지내셔서 많이 외로우시군요.   \n",
      "10147          그런 일이 있으셨군요. 기분이 나쁘셨겠어요.   \n",
      "10148    최 영감이 노인들에게 이상하게 이야기해서 억울하셨군요.   \n",
      "10149        운동 시설을 쓸 수 있어서 기분이 좋으시겠어요.   \n",
      "\n",
      "                                                   사람문장2  \\\n",
      "0                            건강할 때 관리 좀 잘할걸 하는 생각이 들더라고.   \n",
      "1      퇴직 후 다시는 돈을 못 벌 줄 알았는데 이렇게 월급으로 가족에게 맛있는 밥을 살 ...   \n",
      "2                      빚도 다 갚았으니 당분간은 아무 생각도 안 하며 살고 싶어.   \n",
      "3                           나이가 예순이 넘으니 돈이 나갈 데도 많고 힘드네.   \n",
      "4                                       내 친구가 나한테 거짓말했어.   \n",
      "...                                                  ...   \n",
      "10145                       신부전으로 입원했을 때 많은 힘이 되었는데 말이야.   \n",
      "10146                가족들이랑 같이 지내고 싶은데 피해가 될까 봐 그럴 수가 없어.   \n",
      "10147                   아무리 손님이라도 예의가 없었어. 나도 참아내기 힘들었어.   \n",
      "10148                              최 영감은 나를 늘 질투하는 것 같아.   \n",
      "10149  덕분에 건강도 챙길 수 있고 너무 좋아. 안마기도 있던데 내일은 운동하고 안마기도 ...   \n",
      "\n",
      "                                                  시스템응답2  \\\n",
      "0                          현재 상황에서 변화를 주기 위해 어떻게 하면 될까요?   \n",
      "1                                이 기분을 유지하려면 어떻게 해야 할까요?   \n",
      "2                   빚도 다 갚았으니 당분간은 아무 생각도 안 하며 살고 싶으시군요.   \n",
      "3                               돈이 나갈 곳이 많아 재정적으로 힘드시군요.   \n",
      "4                                   거짓말한 친구 때문에 속상하셨겠네요.   \n",
      "...                                                  ...   \n",
      "10145  병상생활에 큰 힘이 되셨던 분의 죽음에 힘드시군요. 이 상황에서 무엇을 할 수 있을까요?   \n",
      "10146                        어떻게 하면 가족들이랑 시간을 보낼 수 있을까요?   \n",
      "10147                                     힘내세요. 기분 푸시고요.   \n",
      "10148                  어떻게 해야 친구분과 원활한 대인관계를 유지할 수 있을까요?   \n",
      "10149                       운동할 때 안마기를 사용하면 어떻게 도움이 되나요?   \n",
      "\n",
      "                                    사람문장3  \\\n",
      "0              약을 잘 챙겨 먹고 나을 수 있도록 노력해야지.   \n",
      "1               회사생활을 열심히 해서 계속 월급을 받을거야!   \n",
      "2                                     NaN   \n",
      "3                                     NaN   \n",
      "4                                     NaN   \n",
      "...                                   ...   \n",
      "10145                  그 친구의 장례식장에 가고 싶어.   \n",
      "10146   일단 천식이 얼른 나아질 때까지 공기 좋은 곳에서 지내려고.   \n",
      "10147                                 NaN   \n",
      "10148         최 영감에게 기분 좋은 말을 해줘야 할 것 같아.   \n",
      "10149  운동으로 뭉친 근육을 풀어주는 것 같아. 그럼 덜 피로하겠지.   \n",
      "\n",
      "                                      시스템응답3 사람문장4 시스템응답4  \n",
      "0                    약을 잘 챙겨 먹어 건강해지시길 바랄게요.   NaN    NaN  \n",
      "1                계속 원하시는 대로 회사생활이 이어지길 바랄게요.   NaN    NaN  \n",
      "2                                        NaN   NaN    NaN  \n",
      "3                                        NaN   NaN    NaN  \n",
      "4                                        NaN   NaN    NaN  \n",
      "...                                      ...   ...    ...  \n",
      "10145                      편안한 방문이 되기를 바랄게요.   NaN    NaN  \n",
      "10146       얼른 천식이 나아서 가족들과 함께할 수 있었으면 좋겠어요.   NaN    NaN  \n",
      "10147                                    NaN   NaN    NaN  \n",
      "10148  최 영감에게 기분 좋은 말을 함으로써 잘 해결이 되었으면 좋겠어요.   NaN    NaN  \n",
      "10149                  안마기로 피로가 많이 풀리시길 바라요.   NaN    NaN  \n",
      "\n",
      "[10150 rows x 10 columns]\n"
     ]
    }
   ],
   "source": [
    "df = pd.read_csv('train.csv')\n",
    "\n",
    "\n",
    "## 1) 값\n",
    "print(df)"
   ]
  },
  {
   "cell_type": "code",
   "execution_count": 85,
   "metadata": {},
   "outputs": [
    {
     "data": {
      "text/html": [
       "<div>\n",
       "<style scoped>\n",
       "    .dataframe tbody tr th:only-of-type {\n",
       "        vertical-align: middle;\n",
       "    }\n",
       "\n",
       "    .dataframe tbody tr th {\n",
       "        vertical-align: top;\n",
       "    }\n",
       "\n",
       "    .dataframe thead th {\n",
       "        text-align: right;\n",
       "    }\n",
       "</style>\n",
       "<table border=\"1\" class=\"dataframe\">\n",
       "  <thead>\n",
       "    <tr style=\"text-align: right;\">\n",
       "      <th></th>\n",
       "      <th>성별</th>\n",
       "      <th>감정_대분류</th>\n",
       "      <th>사람문장1</th>\n",
       "      <th>시스템응답1</th>\n",
       "      <th>사람문장2</th>\n",
       "      <th>시스템응답2</th>\n",
       "      <th>사람문장3</th>\n",
       "      <th>시스템응답3</th>\n",
       "      <th>사람문장4</th>\n",
       "      <th>시스템응답4</th>\n",
       "    </tr>\n",
       "  </thead>\n",
       "  <tbody>\n",
       "    <tr>\n",
       "      <th>0</th>\n",
       "      <td>남성</td>\n",
       "      <td>불안</td>\n",
       "      <td>당뇨랑 합병증 때문에 먹어야 할 약이 열 가지가 넘어가니까 스트레스야.</td>\n",
       "      <td>약 종류가 많아 번거로우시겠어요.</td>\n",
       "      <td>건강할 때 관리 좀 잘할걸 하는 생각이 들더라고.</td>\n",
       "      <td>현재 상황에서 변화를 주기 위해 어떻게 하면 될까요?</td>\n",
       "      <td>약을 잘 챙겨 먹고 나을 수 있도록 노력해야지.</td>\n",
       "      <td>약을 잘 챙겨 먹어 건강해지시길 바랄게요.</td>\n",
       "      <td>NaN</td>\n",
       "      <td>NaN</td>\n",
       "    </tr>\n",
       "    <tr>\n",
       "      <th>1</th>\n",
       "      <td>남성</td>\n",
       "      <td>기쁨</td>\n",
       "      <td>재취업이 돼서 받게 된 첫 월급으로 온 가족이 외식을 할 예정이야. 너무 행복해.</td>\n",
       "      <td>재취업 후 첫 월급이라 정말 기쁘시겠어요.</td>\n",
       "      <td>퇴직 후 다시는 돈을 못 벌 줄 알았는데 이렇게 월급으로 가족에게 맛있는 밥을 살 ...</td>\n",
       "      <td>이 기분을 유지하려면 어떻게 해야 할까요?</td>\n",
       "      <td>회사생활을 열심히 해서 계속 월급을 받을거야!</td>\n",
       "      <td>계속 원하시는 대로 회사생활이 이어지길 바랄게요.</td>\n",
       "      <td>NaN</td>\n",
       "      <td>NaN</td>\n",
       "    </tr>\n",
       "    <tr>\n",
       "      <th>2</th>\n",
       "      <td>여성</td>\n",
       "      <td>기쁨</td>\n",
       "      <td>빚을 드디어 다 갚게 되어서 이제야 안도감이 들어.</td>\n",
       "      <td>기분 좋으시겠어요. 앞으로는 어떻게 하실 생각이신가요?</td>\n",
       "      <td>빚도 다 갚았으니 당분간은 아무 생각도 안 하며 살고 싶어.</td>\n",
       "      <td>빚도 다 갚았으니 당분간은 아무 생각도 안 하며 살고 싶으시군요.</td>\n",
       "      <td>NaN</td>\n",
       "      <td>NaN</td>\n",
       "      <td>NaN</td>\n",
       "      <td>NaN</td>\n",
       "    </tr>\n",
       "    <tr>\n",
       "      <th>3</th>\n",
       "      <td>남성</td>\n",
       "      <td>분노</td>\n",
       "      <td>이제 돈이라면 지긋지긋해.</td>\n",
       "      <td>무슨 일 있으셨나요?</td>\n",
       "      <td>나이가 예순이 넘으니 돈이 나갈 데도 많고 힘드네.</td>\n",
       "      <td>돈이 나갈 곳이 많아 재정적으로 힘드시군요.</td>\n",
       "      <td>NaN</td>\n",
       "      <td>NaN</td>\n",
       "      <td>NaN</td>\n",
       "      <td>NaN</td>\n",
       "    </tr>\n",
       "    <tr>\n",
       "      <th>4</th>\n",
       "      <td>여성</td>\n",
       "      <td>슬픔</td>\n",
       "      <td>친구 때문에 눈물 나.</td>\n",
       "      <td>친구 때문에 눈물이 나시는군요. 무슨 일이세요?</td>\n",
       "      <td>내 친구가 나한테 거짓말했어.</td>\n",
       "      <td>거짓말한 친구 때문에 속상하셨겠네요.</td>\n",
       "      <td>NaN</td>\n",
       "      <td>NaN</td>\n",
       "      <td>NaN</td>\n",
       "      <td>NaN</td>\n",
       "    </tr>\n",
       "    <tr>\n",
       "      <th>...</th>\n",
       "      <td>...</td>\n",
       "      <td>...</td>\n",
       "      <td>...</td>\n",
       "      <td>...</td>\n",
       "      <td>...</td>\n",
       "      <td>...</td>\n",
       "      <td>...</td>\n",
       "      <td>...</td>\n",
       "      <td>...</td>\n",
       "      <td>...</td>\n",
       "    </tr>\n",
       "    <tr>\n",
       "      <th>10145</th>\n",
       "      <td>여성</td>\n",
       "      <td>슬픔</td>\n",
       "      <td>병원에서 친하게 지내던 환자가 암으로 죽어서 너무 슬퍼.</td>\n",
       "      <td>친한 사람의 죽음으로 인해 마음이 아프시군요.</td>\n",
       "      <td>신부전으로 입원했을 때 많은 힘이 되었는데 말이야.</td>\n",
       "      <td>병상생활에 큰 힘이 되셨던 분의 죽음에 힘드시군요. 이 상황에서 무엇을 할 수 있을까요?</td>\n",
       "      <td>그 친구의 장례식장에 가고 싶어.</td>\n",
       "      <td>편안한 방문이 되기를 바랄게요.</td>\n",
       "      <td>NaN</td>\n",
       "      <td>NaN</td>\n",
       "    </tr>\n",
       "    <tr>\n",
       "      <th>10146</th>\n",
       "      <td>남성</td>\n",
       "      <td>상처</td>\n",
       "      <td>천식 때문에 가족들 두고 산에서 혼자 사는데 외롭네.</td>\n",
       "      <td>병 때문에 어쩔 수 없이 혼자 지내셔서 많이 외로우시군요.</td>\n",
       "      <td>가족들이랑 같이 지내고 싶은데 피해가 될까 봐 그럴 수가 없어.</td>\n",
       "      <td>어떻게 하면 가족들이랑 시간을 보낼 수 있을까요?</td>\n",
       "      <td>일단 천식이 얼른 나아질 때까지 공기 좋은 곳에서 지내려고.</td>\n",
       "      <td>얼른 천식이 나아서 가족들과 함께할 수 있었으면 좋겠어요.</td>\n",
       "      <td>NaN</td>\n",
       "      <td>NaN</td>\n",
       "    </tr>\n",
       "    <tr>\n",
       "      <th>10147</th>\n",
       "      <td>여성</td>\n",
       "      <td>분노</td>\n",
       "      <td>오늘 식당에서 서빙을 하는데 젊은 청년들이 반말하길래 기분이 나빠 나도 반말을 하며...</td>\n",
       "      <td>그런 일이 있으셨군요. 기분이 나쁘셨겠어요.</td>\n",
       "      <td>아무리 손님이라도 예의가 없었어. 나도 참아내기 힘들었어.</td>\n",
       "      <td>힘내세요. 기분 푸시고요.</td>\n",
       "      <td>NaN</td>\n",
       "      <td>NaN</td>\n",
       "      <td>NaN</td>\n",
       "      <td>NaN</td>\n",
       "    </tr>\n",
       "    <tr>\n",
       "      <th>10148</th>\n",
       "      <td>여성</td>\n",
       "      <td>상처</td>\n",
       "      <td>최 영감이 노인들에게 나를 이상한 사람으로 이야기해서 답답하고 억울해.</td>\n",
       "      <td>최 영감이 노인들에게 이상하게 이야기해서 억울하셨군요.</td>\n",
       "      <td>최 영감은 나를 늘 질투하는 것 같아.</td>\n",
       "      <td>어떻게 해야 친구분과 원활한 대인관계를 유지할 수 있을까요?</td>\n",
       "      <td>최 영감에게 기분 좋은 말을 해줘야 할 것 같아.</td>\n",
       "      <td>최 영감에게 기분 좋은 말을 함으로써 잘 해결이 되었으면 좋겠어요.</td>\n",
       "      <td>NaN</td>\n",
       "      <td>NaN</td>\n",
       "    </tr>\n",
       "    <tr>\n",
       "      <th>10149</th>\n",
       "      <td>여성</td>\n",
       "      <td>기쁨</td>\n",
       "      <td>이렇게 좋은 운동 시설에서 경로 우대로 운동할 수 있다니 참 행운이야.</td>\n",
       "      <td>운동 시설을 쓸 수 있어서 기분이 좋으시겠어요.</td>\n",
       "      <td>덕분에 건강도 챙길 수 있고 너무 좋아. 안마기도 있던데 내일은 운동하고 안마기도 ...</td>\n",
       "      <td>운동할 때 안마기를 사용하면 어떻게 도움이 되나요?</td>\n",
       "      <td>운동으로 뭉친 근육을 풀어주는 것 같아. 그럼 덜 피로하겠지.</td>\n",
       "      <td>안마기로 피로가 많이 풀리시길 바라요.</td>\n",
       "      <td>NaN</td>\n",
       "      <td>NaN</td>\n",
       "    </tr>\n",
       "  </tbody>\n",
       "</table>\n",
       "<p>10150 rows × 10 columns</p>\n",
       "</div>"
      ],
      "text/plain": [
       "       성별 감정_대분류                                              사람문장1  \\\n",
       "0      남성     불안            당뇨랑 합병증 때문에 먹어야 할 약이 열 가지가 넘어가니까 스트레스야.   \n",
       "1      남성     기쁨      재취업이 돼서 받게 된 첫 월급으로 온 가족이 외식을 할 예정이야. 너무 행복해.   \n",
       "2      여성     기쁨                       빚을 드디어 다 갚게 되어서 이제야 안도감이 들어.   \n",
       "3      남성     분노                                     이제 돈이라면 지긋지긋해.   \n",
       "4      여성     슬픔                                       친구 때문에 눈물 나.   \n",
       "...    ..    ...                                                ...   \n",
       "10145  여성     슬픔                    병원에서 친하게 지내던 환자가 암으로 죽어서 너무 슬퍼.   \n",
       "10146  남성     상처                      천식 때문에 가족들 두고 산에서 혼자 사는데 외롭네.   \n",
       "10147  여성     분노  오늘 식당에서 서빙을 하는데 젊은 청년들이 반말하길래 기분이 나빠 나도 반말을 하며...   \n",
       "10148  여성     상처            최 영감이 노인들에게 나를 이상한 사람으로 이야기해서 답답하고 억울해.   \n",
       "10149  여성     기쁨            이렇게 좋은 운동 시설에서 경로 우대로 운동할 수 있다니 참 행운이야.   \n",
       "\n",
       "                                 시스템응답1  \\\n",
       "0                    약 종류가 많아 번거로우시겠어요.   \n",
       "1               재취업 후 첫 월급이라 정말 기쁘시겠어요.   \n",
       "2        기분 좋으시겠어요. 앞으로는 어떻게 하실 생각이신가요?   \n",
       "3                           무슨 일 있으셨나요?   \n",
       "4           친구 때문에 눈물이 나시는군요. 무슨 일이세요?    \n",
       "...                                 ...   \n",
       "10145         친한 사람의 죽음으로 인해 마음이 아프시군요.   \n",
       "10146  병 때문에 어쩔 수 없이 혼자 지내셔서 많이 외로우시군요.   \n",
       "10147          그런 일이 있으셨군요. 기분이 나쁘셨겠어요.   \n",
       "10148    최 영감이 노인들에게 이상하게 이야기해서 억울하셨군요.   \n",
       "10149        운동 시설을 쓸 수 있어서 기분이 좋으시겠어요.   \n",
       "\n",
       "                                                   사람문장2  \\\n",
       "0                            건강할 때 관리 좀 잘할걸 하는 생각이 들더라고.   \n",
       "1      퇴직 후 다시는 돈을 못 벌 줄 알았는데 이렇게 월급으로 가족에게 맛있는 밥을 살 ...   \n",
       "2                      빚도 다 갚았으니 당분간은 아무 생각도 안 하며 살고 싶어.   \n",
       "3                           나이가 예순이 넘으니 돈이 나갈 데도 많고 힘드네.   \n",
       "4                                       내 친구가 나한테 거짓말했어.   \n",
       "...                                                  ...   \n",
       "10145                       신부전으로 입원했을 때 많은 힘이 되었는데 말이야.   \n",
       "10146                가족들이랑 같이 지내고 싶은데 피해가 될까 봐 그럴 수가 없어.   \n",
       "10147                   아무리 손님이라도 예의가 없었어. 나도 참아내기 힘들었어.   \n",
       "10148                              최 영감은 나를 늘 질투하는 것 같아.   \n",
       "10149  덕분에 건강도 챙길 수 있고 너무 좋아. 안마기도 있던데 내일은 운동하고 안마기도 ...   \n",
       "\n",
       "                                                  시스템응답2  \\\n",
       "0                          현재 상황에서 변화를 주기 위해 어떻게 하면 될까요?   \n",
       "1                                이 기분을 유지하려면 어떻게 해야 할까요?   \n",
       "2                   빚도 다 갚았으니 당분간은 아무 생각도 안 하며 살고 싶으시군요.   \n",
       "3                               돈이 나갈 곳이 많아 재정적으로 힘드시군요.   \n",
       "4                                   거짓말한 친구 때문에 속상하셨겠네요.   \n",
       "...                                                  ...   \n",
       "10145  병상생활에 큰 힘이 되셨던 분의 죽음에 힘드시군요. 이 상황에서 무엇을 할 수 있을까요?   \n",
       "10146                        어떻게 하면 가족들이랑 시간을 보낼 수 있을까요?   \n",
       "10147                                     힘내세요. 기분 푸시고요.   \n",
       "10148                  어떻게 해야 친구분과 원활한 대인관계를 유지할 수 있을까요?   \n",
       "10149                       운동할 때 안마기를 사용하면 어떻게 도움이 되나요?   \n",
       "\n",
       "                                    사람문장3  \\\n",
       "0              약을 잘 챙겨 먹고 나을 수 있도록 노력해야지.   \n",
       "1               회사생활을 열심히 해서 계속 월급을 받을거야!   \n",
       "2                                     NaN   \n",
       "3                                     NaN   \n",
       "4                                     NaN   \n",
       "...                                   ...   \n",
       "10145                  그 친구의 장례식장에 가고 싶어.   \n",
       "10146   일단 천식이 얼른 나아질 때까지 공기 좋은 곳에서 지내려고.   \n",
       "10147                                 NaN   \n",
       "10148         최 영감에게 기분 좋은 말을 해줘야 할 것 같아.   \n",
       "10149  운동으로 뭉친 근육을 풀어주는 것 같아. 그럼 덜 피로하겠지.   \n",
       "\n",
       "                                      시스템응답3 사람문장4 시스템응답4  \n",
       "0                    약을 잘 챙겨 먹어 건강해지시길 바랄게요.   NaN    NaN  \n",
       "1                계속 원하시는 대로 회사생활이 이어지길 바랄게요.   NaN    NaN  \n",
       "2                                        NaN   NaN    NaN  \n",
       "3                                        NaN   NaN    NaN  \n",
       "4                                        NaN   NaN    NaN  \n",
       "...                                      ...   ...    ...  \n",
       "10145                      편안한 방문이 되기를 바랄게요.   NaN    NaN  \n",
       "10146       얼른 천식이 나아서 가족들과 함께할 수 있었으면 좋겠어요.   NaN    NaN  \n",
       "10147                                    NaN   NaN    NaN  \n",
       "10148  최 영감에게 기분 좋은 말을 함으로써 잘 해결이 되었으면 좋겠어요.   NaN    NaN  \n",
       "10149                  안마기로 피로가 많이 풀리시길 바라요.   NaN    NaN  \n",
       "\n",
       "[10150 rows x 10 columns]"
      ]
     },
     "execution_count": 85,
     "metadata": {},
     "output_type": "execute_result"
    }
   ],
   "source": [
    "df"
   ]
  },
  {
   "cell_type": "code",
   "execution_count": 88,
   "metadata": {},
   "outputs": [
    {
     "name": "stdout",
     "output_type": "stream",
     "text": [
      "<class 'pandas.core.frame.DataFrame'>\n"
     ]
    }
   ],
   "source": [
    "## 2) 데이터타입\n",
    "\n",
    "print(type(df))\n",
    "\n",
    "\n",
    "## ❓ 어 근데 object가 아니라, class라는데요? 사실 저번에도 그랬는데요?? 이제 약 좀 그만 파시죠??\n",
    "## ✅ 클래스랑 객체는 동전의 양면과도 같은 것...명확한 구분은 나두 사실 잘 몰?루!"
   ]
  },
  {
   "cell_type": "code",
   "execution_count": 23,
   "metadata": {},
   "outputs": [
    {
     "name": "stdout",
     "output_type": "stream",
     "text": [
      "['T', '_AXIS_LEN', '_AXIS_ORDERS', '_AXIS_TO_AXIS_NUMBER', '_HANDLED_TYPES', '__abs__', '__add__', '__and__', '__annotations__', '__array__', '__array_priority__', '__array_ufunc__', '__array_wrap__', '__bool__', '__class__', '__contains__', '__copy__', '__dataframe__', '__deepcopy__', '__delattr__', '__delitem__', '__dict__', '__dir__', '__divmod__', '__doc__', '__eq__', '__finalize__', '__floordiv__', '__format__', '__ge__', '__getattr__', '__getattribute__', '__getitem__', '__getstate__', '__gt__', '__hash__', '__iadd__', '__iand__', '__ifloordiv__', '__imod__', '__imul__', '__init__', '__init_subclass__', '__invert__', '__ior__', '__ipow__', '__isub__', '__iter__', '__itruediv__', '__ixor__', '__le__', '__len__', '__lt__', '__matmul__', '__mod__', '__module__', '__mul__', '__ne__', '__neg__', '__new__', '__nonzero__', '__or__', '__pos__', '__pow__', '__radd__', '__rand__', '__rdivmod__', '__reduce__', '__reduce_ex__', '__repr__', '__rfloordiv__', '__rmatmul__', '__rmod__', '__rmul__', '__ror__', '__round__', '__rpow__', '__rsub__', '__rtruediv__', '__rxor__', '__setattr__', '__setitem__', '__setstate__', '__sizeof__', '__str__', '__sub__', '__subclasshook__', '__truediv__', '__weakref__', '__xor__', '_accessors', '_accum_func', '_add_numeric_operations', '_agg_by_level', '_agg_examples_doc', '_agg_summary_and_see_also_doc', '_align_frame', '_align_series', '_append', '_arith_method', '_as_manager', '_attrs', '_box_col_values', '_can_fast_transpose', '_check_inplace_and_allows_duplicate_labels', '_check_inplace_setting', '_check_is_chained_assignment_possible', '_check_label_or_level_ambiguity', '_check_setitem_copy', '_clear_item_cache', '_clip_with_one_bound', '_clip_with_scalar', '_cmp_method', '_combine_frame', '_consolidate', '_consolidate_inplace', '_construct_axes_dict', '_construct_axes_from_arguments', '_construct_result', '_constructor', '_constructor_sliced', '_convert', '_count_level', '_data', '_dir_additions', '_dir_deletions', '_dispatch_frame_op', '_drop_axis', '_drop_labels_or_levels', '_ensure_valid_index', '_find_valid_index', '_flags', '_from_arrays', '_get_agg_axis', '_get_axis', '_get_axis_name', '_get_axis_number', '_get_axis_resolvers', '_get_block_manager_axis', '_get_bool_data', '_get_cleaned_column_resolvers', '_get_column_array', '_get_index_resolvers', '_get_item_cache', '_get_label_or_level_values', '_get_numeric_data', '_get_value', '_getitem_bool_array', '_getitem_multilevel', '_gotitem', '_hidden_attrs', '_indexed_same', '_info_axis', '_info_axis_name', '_info_axis_number', '_info_repr', '_init_mgr', '_inplace_method', '_internal_names', '_internal_names_set', '_is_copy', '_is_homogeneous_type', '_is_label_or_level_reference', '_is_label_reference', '_is_level_reference', '_is_mixed_type', '_is_view', '_iset_item', '_iset_item_mgr', '_iset_not_inplace', '_item_cache', '_iter_column_arrays', '_ixs', '_join_compat', '_logical_func', '_logical_method', '_maybe_cache_changed', '_maybe_update_cacher', '_metadata', '_mgr', '_min_count_stat_function', '_needs_reindex_multi', '_protect_consolidate', '_reduce', '_reduce_axis1', '_reindex_axes', '_reindex_columns', '_reindex_index', '_reindex_multi', '_reindex_with_indexers', '_rename', '_replace_columnwise', '_repr_data_resource_', '_repr_fits_horizontal_', '_repr_fits_vertical_', '_repr_html_', '_repr_latex_', '_reset_cache', '_reset_cacher', '_sanitize_column', '_series', '_set_axis', '_set_axis_name', '_set_axis_nocheck', '_set_is_copy', '_set_item', '_set_item_frame_value', '_set_item_mgr', '_set_value', '_setitem_array', '_setitem_frame', '_setitem_slice', '_slice', '_stat_axis', '_stat_axis_name', '_stat_axis_number', '_stat_function', '_stat_function_ddof', '_take', '_take_with_is_copy', '_to_dict_of_blocks', '_typ', '_update_inplace', '_validate_dtype', '_values', '_where', 'abs', 'add', 'add_prefix', 'add_suffix', 'agg', 'aggregate', 'align', 'all', 'any', 'append', 'apply', 'applymap', 'asfreq', 'asof', 'assign', 'astype', 'at', 'at_time', 'attrs', 'axes', 'backfill', 'between_time', 'bfill', 'bool', 'boxplot', 'clip', 'columns', 'combine', 'combine_first', 'compare', 'convert_dtypes', 'copy', 'corr', 'corrwith', 'count', 'cov', 'cummax', 'cummin', 'cumprod', 'cumsum', 'describe', 'diff', 'div', 'divide', 'dot', 'drop', 'drop_duplicates', 'droplevel', 'dropna', 'dtypes', 'duplicated', 'empty', 'eq', 'equals', 'eval', 'ewm', 'expanding', 'explode', 'ffill', 'fillna', 'filter', 'first', 'first_valid_index', 'flags', 'floordiv', 'from_dict', 'from_records', 'ge', 'get', 'groupby', 'gt', 'head', 'hist', 'iat', 'idxmax', 'idxmin', 'iloc', 'index', 'infer_objects', 'info', 'insert', 'interpolate', 'isetitem', 'isin', 'isna', 'isnull', 'items', 'iteritems', 'iterrows', 'itertuples', 'join', 'keys', 'kurt', 'kurtosis', 'last', 'last_valid_index', 'le', 'loc', 'lookup', 'lt', 'mad', 'mask', 'max', 'mean', 'median', 'melt', 'memory_usage', 'merge', 'min', 'mod', 'mode', 'mul', 'multiply', 'ndim', 'ne', 'nlargest', 'notna', 'notnull', 'nsmallest', 'nunique', 'pad', 'pct_change', 'pipe', 'pivot', 'pivot_table', 'plot', 'pop', 'pow', 'prod', 'product', 'quantile', 'query', 'radd', 'rank', 'rdiv', 'reindex', 'reindex_like', 'rename', 'rename_axis', 'reorder_levels', 'replace', 'resample', 'reset_index', 'rfloordiv', 'rmod', 'rmul', 'rolling', 'round', 'rpow', 'rsub', 'rtruediv', 'sample', 'select_dtypes', 'sem', 'set_axis', 'set_flags', 'set_index', 'shape', 'shift', 'size', 'skew', 'slice_shift', 'sort_index', 'sort_values', 'squeeze', 'stack', 'std', 'style', 'sub', 'subtract', 'sum', 'swapaxes', 'swaplevel', 'tail', 'take', 'to_clipboard', 'to_csv', 'to_dict', 'to_excel', 'to_feather', 'to_gbq', 'to_hdf', 'to_html', 'to_json', 'to_latex', 'to_markdown', 'to_numpy', 'to_orc', 'to_parquet', 'to_period', 'to_pickle', 'to_records', 'to_sql', 'to_stata', 'to_string', 'to_timestamp', 'to_xarray', 'to_xml', 'transform', 'transpose', 'truediv', 'truncate', 'tz_convert', 'tz_localize', 'unstack', 'update', 'value_counts', 'values', 'var', 'where', 'xs', '감정_대분류', '사람문장1', '사람문장2', '사람문장3', '사람문장4', '성별', '시스템응답1', '시스템응답2', '시스템응답3', '시스템응답4']\n",
      "0                              건강할 때 관리 좀 잘할걸 하는 생각이 들더라고.\n",
      "1        퇴직 후 다시는 돈을 못 벌 줄 알았는데 이렇게 월급으로 가족에게 맛있는 밥을 살 ...\n",
      "2                        빚도 다 갚았으니 당분간은 아무 생각도 안 하며 살고 싶어.\n",
      "3                             나이가 예순이 넘으니 돈이 나갈 데도 많고 힘드네.\n",
      "4                                         내 친구가 나한테 거짓말했어.\n",
      "                               ...                        \n",
      "10145                         신부전으로 입원했을 때 많은 힘이 되었는데 말이야.\n",
      "10146                  가족들이랑 같이 지내고 싶은데 피해가 될까 봐 그럴 수가 없어.\n",
      "10147                     아무리 손님이라도 예의가 없었어. 나도 참아내기 힘들었어.\n",
      "10148                                최 영감은 나를 늘 질투하는 것 같아.\n",
      "10149    덕분에 건강도 챙길 수 있고 너무 좋아. 안마기도 있던데 내일은 운동하고 안마기도 ...\n",
      "Name: 사람문장2, Length: 10150, dtype: object\n"
     ]
    }
   ],
   "source": [
    "## 3) 속성/기능\n",
    "print(dir(df))\n",
    "\n",
    "## ✅ 맨 아래에 한글로 된 속성들도 있네~"
   ]
  },
  {
   "cell_type": "code",
   "execution_count": 24,
   "metadata": {},
   "outputs": [
    {
     "name": "stdout",
     "output_type": "stream",
     "text": [
      "0                              건강할 때 관리 좀 잘할걸 하는 생각이 들더라고.\n",
      "1        퇴직 후 다시는 돈을 못 벌 줄 알았는데 이렇게 월급으로 가족에게 맛있는 밥을 살 ...\n",
      "2                        빚도 다 갚았으니 당분간은 아무 생각도 안 하며 살고 싶어.\n",
      "3                             나이가 예순이 넘으니 돈이 나갈 데도 많고 힘드네.\n",
      "4                                         내 친구가 나한테 거짓말했어.\n",
      "                               ...                        \n",
      "10145                         신부전으로 입원했을 때 많은 힘이 되었는데 말이야.\n",
      "10146                  가족들이랑 같이 지내고 싶은데 피해가 될까 봐 그럴 수가 없어.\n",
      "10147                     아무리 손님이라도 예의가 없었어. 나도 참아내기 힘들었어.\n",
      "10148                                최 영감은 나를 늘 질투하는 것 같아.\n",
      "10149    덕분에 건강도 챙길 수 있고 너무 좋아. 안마기도 있던데 내일은 운동하고 안마기도 ...\n",
      "Name: 사람문장2, Length: 10150, dtype: object\n"
     ]
    }
   ],
   "source": [
    "print(df.사람문장2)     ## ✅ 속성 역시 이런식으로 .을 활용해 호출"
   ]
  },
  {
   "cell_type": "code",
   "execution_count": 89,
   "metadata": {},
   "outputs": [
    {
     "name": "stdout",
     "output_type": "stream",
     "text": [
      "0x19f20266710\n"
     ]
    }
   ],
   "source": [
    "## 4) 주소값\n",
    "\n",
    "print(hex(id(df)))"
   ]
  }
 ],
 "metadata": {
  "kernelspec": {
   "display_name": "Python 3",
   "language": "python",
   "name": "python3"
  },
  "language_info": {
   "codemirror_mode": {
    "name": "ipython",
    "version": 3
   },
   "file_extension": ".py",
   "mimetype": "text/x-python",
   "name": "python",
   "nbconvert_exporter": "python",
   "pygments_lexer": "ipython3",
   "version": "3.11.1"
  },
  "orig_nbformat": 4,
  "vscode": {
   "interpreter": {
    "hash": "7cba0d1a42559d80c1785ea75de96ff2e6fe2ecdb092afa9b1831b12c16563fe"
   }
  }
 },
 "nbformat": 4,
 "nbformat_minor": 2
}
