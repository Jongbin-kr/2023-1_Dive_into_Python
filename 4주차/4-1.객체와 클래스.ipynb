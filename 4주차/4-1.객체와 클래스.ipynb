{
 "cells": [
  {
   "attachments": {},
   "cell_type": "markdown",
   "metadata": {},
   "source": [
    "# I. 파이썬의 모든 것은 객체다!\n",
    "\n",
    "+ 흔히들 파이썬을 객체지향형 프로그래밍(OOP, Objected Oriented Programming) 언어, 내지는 순수 객체지향언어라는 표현을 사용한다.\n",
    "+ 그만큼 파이썬에 있어 객체는 아주 중요한 개념이고, 파이썬의 핵심이라고까지 말할 수 있다.\n",
    "+ 그렇다면 1) 객체란 무엇이고, 또 2) 왜 객체지향형 프로그래밍과 같은 표현을 쓰는 것일까?"
   ]
  },
  {
   "attachments": {},
   "cell_type": "markdown",
   "metadata": {},
   "source": [
    "## 1.객체란 무엇인가?\n",
    "+ <u>**사실 파이썬의 모든 것은 객체다.**</u>\n",
    "  + 우리가 첫 장에서 배웠던 문자열을 생성하고, 숫자를 생성했던 것들을 기억하는가?\n",
    "    + 사실 이때 생성한 것은 **문자열이라는 객체**를 생성한 것이고, **숫자라는 또 하나의 객체**를 만든 것이라고 할 수 있다.\n",
    "  + 니아가 우리가 두번째 강의에서 배웠던 모든 데이터타입들, 그리고 그 데이터타입에 따른 함수/메소드들 역시 객체다!\n",
    "  + 그리고 세번째 강의에서 배웠던 사용자 정의 함수 역시 모두 객체다!!\n",
    "  + 그리고 우리가 앞으로 공부할 모듈들, 그리고 여러 라이브러리/패키지/모듈들 역시 전부 객체라고 할 수 있다!!!\n",
    "+ 따라서 과장을 조금 보태어, <u>**\"파이썬의 모든 것은 객체다\"**</u>라고 생각해도 썩 나쁘지만은 않을 것이다."
   ]
  },
  {
   "cell_type": "code",
   "execution_count": 12,
   "metadata": {},
   "outputs": [
    {
     "data": {
      "text/plain": [
       "['__add__',\n",
       " '__class__',\n",
       " '__contains__',\n",
       " '__delattr__',\n",
       " '__dir__',\n",
       " '__doc__',\n",
       " '__eq__',\n",
       " '__format__',\n",
       " '__ge__',\n",
       " '__getattribute__',\n",
       " '__getitem__',\n",
       " '__getnewargs__',\n",
       " '__gt__',\n",
       " '__hash__',\n",
       " '__init__',\n",
       " '__init_subclass__',\n",
       " '__iter__',\n",
       " '__le__',\n",
       " '__len__',\n",
       " '__lt__',\n",
       " '__mod__',\n",
       " '__mul__',\n",
       " '__ne__',\n",
       " '__new__',\n",
       " '__reduce__',\n",
       " '__reduce_ex__',\n",
       " '__repr__',\n",
       " '__rmod__',\n",
       " '__rmul__',\n",
       " '__setattr__',\n",
       " '__sizeof__',\n",
       " '__str__',\n",
       " '__subclasshook__',\n",
       " 'capitalize',\n",
       " 'casefold',\n",
       " 'center',\n",
       " 'count',\n",
       " 'encode',\n",
       " 'endswith',\n",
       " 'expandtabs',\n",
       " 'find',\n",
       " 'format',\n",
       " 'format_map',\n",
       " 'index',\n",
       " 'isalnum',\n",
       " 'isalpha',\n",
       " 'isascii',\n",
       " 'isdecimal',\n",
       " 'isdigit',\n",
       " 'isidentifier',\n",
       " 'islower',\n",
       " 'isnumeric',\n",
       " 'isprintable',\n",
       " 'isspace',\n",
       " 'istitle',\n",
       " 'isupper',\n",
       " 'join',\n",
       " 'ljust',\n",
       " 'lower',\n",
       " 'lstrip',\n",
       " 'maketrans',\n",
       " 'partition',\n",
       " 'removeprefix',\n",
       " 'removesuffix',\n",
       " 'replace',\n",
       " 'rfind',\n",
       " 'rindex',\n",
       " 'rjust',\n",
       " 'rpartition',\n",
       " 'rsplit',\n",
       " 'rstrip',\n",
       " 'split',\n",
       " 'splitlines',\n",
       " 'startswith',\n",
       " 'strip',\n",
       " 'swapcase',\n",
       " 'title',\n",
       " 'translate',\n",
       " 'upper',\n",
       " 'zfill']"
      ]
     },
     "execution_count": 12,
     "metadata": {},
     "output_type": "execute_result"
    }
   ],
   "source": [
    "## dir 함수는 객체의 구성요소들을 뜯어보는 역할을 한다.\n",
    "s = 'abc'   ## 하나의 문자열 **객체**를 만든 것이다.\n",
    "\n",
    "dir(s)\n",
    "\n",
    "## 뜯어보니 upper, title같은 익숙한 **메소드**들이 몇몇 보이네?\n",
    "## 근데 len(), sorted()처럼 **함수**형태로 썼던 것들은 없네??\n",
    "## ✅ 아하, **메소드**라는 것은 특정 객체 내에 내장된 함수를 의미하는 것이구나.\n",
    "\n",
    "## ❓ 어 근데 __len__이라는 친구는 보이는데? 이거 len()함수 아님??\n",
    "#### ㅇㅇ 아님. len() 함수랑 비슷한 역할을 하긴 할텐데, 적확히 말해서 같은 건 아님.\n",
    "#### 이처럼 __이 앞뒤로 붙은 메소드들을 매직메소드라고 부른다. 자세한 건 나중에 더 다루자!"
   ]
  },
  {
   "cell_type": "code",
   "execution_count": 13,
   "metadata": {},
   "outputs": [
    {
     "name": "stdout",
     "output_type": "stream",
     "text": [
      "== 숫자 ==\n",
      "['__abs__', '__add__', '__and__', '__bool__', '__ceil__', '__class__', '__delattr__', '__dir__', '__divmod__', '__doc__', '__eq__', '__float__', '__floor__', '__floordiv__', '__format__', '__ge__', '__getattribute__', '__getnewargs__', '__gt__', '__hash__', '__index__', '__init__', '__init_subclass__', '__int__', '__invert__', '__le__', '__lshift__', '__lt__', '__mod__', '__mul__', '__ne__', '__neg__', '__new__', '__or__', '__pos__', '__pow__', '__radd__', '__rand__', '__rdivmod__', '__reduce__', '__reduce_ex__', '__repr__', '__rfloordiv__', '__rlshift__', '__rmod__', '__rmul__', '__ror__', '__round__', '__rpow__', '__rrshift__', '__rshift__', '__rsub__', '__rtruediv__', '__rxor__', '__setattr__', '__sizeof__', '__str__', '__sub__', '__subclasshook__', '__truediv__', '__trunc__', '__xor__', 'as_integer_ratio', 'bit_count', 'bit_length', 'conjugate', 'denominator', 'from_bytes', 'imag', 'numerator', 'real', 'to_bytes']\n",
      "\n",
      "\n",
      "== 리스트 ==\n",
      "['__add__', '__class__', '__class_getitem__', '__contains__', '__delattr__', '__delitem__', '__dir__', '__doc__', '__eq__', '__format__', '__ge__', '__getattribute__', '__getitem__', '__gt__', '__hash__', '__iadd__', '__imul__', '__init__', '__init_subclass__', '__iter__', '__le__', '__len__', '__lt__', '__mul__', '__ne__', '__new__', '__reduce__', '__reduce_ex__', '__repr__', '__reversed__', '__rmul__', '__setattr__', '__setitem__', '__sizeof__', '__str__', '__subclasshook__', 'append', 'clear', 'copy', 'count', 'extend', 'index', 'insert', 'pop', 'remove', 'reverse', 'sort']\n",
      "\n",
      "\n",
      "== 튜플 ==\n",
      "['__add__', '__class__', '__class_getitem__', '__contains__', '__delattr__', '__dir__', '__doc__', '__eq__', '__format__', '__ge__', '__getattribute__', '__getitem__', '__getnewargs__', '__gt__', '__hash__', '__init__', '__init_subclass__', '__iter__', '__le__', '__len__', '__lt__', '__mul__', '__ne__', '__new__', '__reduce__', '__reduce_ex__', '__repr__', '__rmul__', '__setattr__', '__sizeof__', '__str__', '__subclasshook__', 'count', 'index']\n",
      "\n",
      "\n",
      "== 집합 ==\n",
      "['__and__', '__class__', '__class_getitem__', '__contains__', '__delattr__', '__dir__', '__doc__', '__eq__', '__format__', '__ge__', '__getattribute__', '__gt__', '__hash__', '__iand__', '__init__', '__init_subclass__', '__ior__', '__isub__', '__iter__', '__ixor__', '__le__', '__len__', '__lt__', '__ne__', '__new__', '__or__', '__rand__', '__reduce__', '__reduce_ex__', '__repr__', '__ror__', '__rsub__', '__rxor__', '__setattr__', '__sizeof__', '__str__', '__sub__', '__subclasshook__', '__xor__', 'add', 'clear', 'copy', 'difference', 'difference_update', 'discard', 'intersection', 'intersection_update', 'isdisjoint', 'issubset', 'issuperset', 'pop', 'remove', 'symmetric_difference', 'symmetric_difference_update', 'union', 'update']\n",
      "\n",
      "\n",
      "== 사전 ==\n",
      "['__class__', '__class_getitem__', '__contains__', '__delattr__', '__delitem__', '__dir__', '__doc__', '__eq__', '__format__', '__ge__', '__getattribute__', '__getitem__', '__gt__', '__hash__', '__init__', '__init_subclass__', '__ior__', '__iter__', '__le__', '__len__', '__lt__', '__ne__', '__new__', '__or__', '__reduce__', '__reduce_ex__', '__repr__', '__reversed__', '__ror__', '__setattr__', '__setitem__', '__sizeof__', '__str__', '__subclasshook__', 'clear', 'copy', 'fromkeys', 'get', 'items', 'keys', 'pop', 'popitem', 'setdefault', 'update', 'values']\n",
      "\n",
      "\n"
     ]
    }
   ],
   "source": [
    "## 다른 데이터타입들도 뜯어보자...\n",
    "\n",
    "print(\n",
    "    '== 숫자 ==', dir(123), '\\n',                 ## 숫자도 객체다.\n",
    "    '== 리스트 ==', dir([1,2,3]), '\\n',               ## 리스트도 객체고,\n",
    "    '== 튜플 ==', dir((1,3,3)), '\\n',               ## 튜플도 객체고,\n",
    "    '== 집합 ==', dir({1,2,3}), '\\n',               ## 집합도 객체고,\n",
    "    '== 사전 ==', dir({1:10, 2:20, 3:30}), '\\n',    ## 딕셔너리도 객체다!!!!\n",
    "    sep = '\\n'\n",
    ")"
   ]
  },
  {
   "cell_type": "code",
   "execution_count": 14,
   "metadata": {},
   "outputs": [
    {
     "name": "stdout",
     "output_type": "stream",
     "text": [
      "### dir(str) ###\n",
      "['__add__', '__class__', '__contains__', '__delattr__', '__dir__', '__doc__', '__eq__', '__format__', '__ge__', '__getattribute__', '__getitem__', '__getnewargs__', '__gt__', '__hash__', '__init__', '__init_subclass__', '__iter__', '__le__', '__len__', '__lt__', '__mod__', '__mul__', '__ne__', '__new__', '__reduce__', '__reduce_ex__', '__repr__', '__rmod__', '__rmul__', '__setattr__', '__sizeof__', '__str__', '__subclasshook__', 'capitalize', 'casefold', 'center', 'count', 'encode', 'endswith', 'expandtabs', 'find', 'format', 'format_map', 'index', 'isalnum', 'isalpha', 'isascii', 'isdecimal', 'isdigit', 'isidentifier', 'islower', 'isnumeric', 'isprintable', 'isspace', 'istitle', 'isupper', 'join', 'ljust', 'lower', 'lstrip', 'maketrans', 'partition', 'removeprefix', 'removesuffix', 'replace', 'rfind', 'rindex', 'rjust', 'rpartition', 'rsplit', 'rstrip', 'split', 'splitlines', 'startswith', 'strip', 'swapcase', 'title', 'translate', 'upper', 'zfill']\n",
      "\n",
      "### dir(str) ###\n",
      "['__add__', '__class__', '__contains__', '__delattr__', '__dir__', '__doc__', '__eq__', '__format__', '__ge__', '__getattribute__', '__getitem__', '__getnewargs__', '__gt__', '__hash__', '__init__', '__init_subclass__', '__iter__', '__le__', '__len__', '__lt__', '__mod__', '__mul__', '__ne__', '__new__', '__reduce__', '__reduce_ex__', '__repr__', '__rmod__', '__rmul__', '__setattr__', '__sizeof__', '__str__', '__subclasshook__', 'capitalize', 'casefold', 'center', 'count', 'encode', 'endswith', 'expandtabs', 'find', 'format', 'format_map', 'index', 'isalnum', 'isalpha', 'isascii', 'isdecimal', 'isdigit', 'isidentifier', 'islower', 'isnumeric', 'isprintable', 'isspace', 'istitle', 'isupper', 'join', 'ljust', 'lower', 'lstrip', 'maketrans', 'partition', 'removeprefix', 'removesuffix', 'replace', 'rfind', 'rindex', 'rjust', 'rpartition', 'rsplit', 'rstrip', 'split', 'splitlines', 'startswith', 'strip', 'swapcase', 'title', 'translate', 'upper', 'zfill']\n",
      "\n"
     ]
    }
   ],
   "source": [
    "## 파이썬에 기본 내장된 함수(Built-in Function)도 객체고, \n",
    "print('### dir(str) ###', dir(str), sep = '\\n', end = '\\n\\n')\n",
    "\n",
    "print('### dir(str) ###', dir(str()), sep = '\\n', end = '\\n\\n')\n",
    "## ❓ 왜 위 녀석의 출력과 이놈의 출력이 다르지?"
   ]
  },
  {
   "cell_type": "code",
   "execution_count": 15,
   "metadata": {},
   "outputs": [
    {
     "name": "stdout",
     "output_type": "stream",
     "text": [
      "### dir(plus) ###\n",
      "['__annotations__', '__builtins__', '__call__', '__class__', '__closure__', '__code__', '__defaults__', '__delattr__', '__dict__', '__dir__', '__doc__', '__eq__', '__format__', '__ge__', '__get__', '__getattribute__', '__globals__', '__gt__', '__hash__', '__init__', '__init_subclass__', '__kwdefaults__', '__le__', '__lt__', '__module__', '__name__', '__ne__', '__new__', '__qualname__', '__reduce__', '__reduce_ex__', '__repr__', '__setattr__', '__sizeof__', '__str__', '__subclasshook__']\n",
      "\n",
      "### dir(plus(1,2)) ###\n",
      "['__abs__', '__add__', '__and__', '__bool__', '__ceil__', '__class__', '__delattr__', '__dir__', '__divmod__', '__doc__', '__eq__', '__float__', '__floor__', '__floordiv__', '__format__', '__ge__', '__getattribute__', '__getnewargs__', '__gt__', '__hash__', '__index__', '__init__', '__init_subclass__', '__int__', '__invert__', '__le__', '__lshift__', '__lt__', '__mod__', '__mul__', '__ne__', '__neg__', '__new__', '__or__', '__pos__', '__pow__', '__radd__', '__rand__', '__rdivmod__', '__reduce__', '__reduce_ex__', '__repr__', '__rfloordiv__', '__rlshift__', '__rmod__', '__rmul__', '__ror__', '__round__', '__rpow__', '__rrshift__', '__rshift__', '__rsub__', '__rtruediv__', '__rxor__', '__setattr__', '__sizeof__', '__str__', '__sub__', '__subclasshook__', '__truediv__', '__trunc__', '__xor__', 'as_integer_ratio', 'bit_count', 'bit_length', 'conjugate', 'denominator', 'from_bytes', 'imag', 'numerator', 'real', 'to_bytes']\n",
      "\n"
     ]
    }
   ],
   "source": [
    "## 사용자가 정의한 함수 역시 객체다!\n",
    "\n",
    "def plus(x, y):\n",
    "    return x + y\n",
    "\n",
    "print('### dir(plus) ###', dir(plus), sep = '\\n', end = '\\n\\n')\n",
    "print('### dir(plus(1,2)) ###', dir(plus(1,2)), sep = '\\n', end = '\\n\\n')\n",
    "\n"
   ]
  },
  {
   "attachments": {},
   "cell_type": "markdown",
   "metadata": {},
   "source": [
    "## 2.그렇다면 왜 객체지향형 프로그래밍을 하는가?\n",
    "\n",
    "+ 물론 프로그래밍 패러다임은 개인의 취향이며, 절차지향형, 함수형 프로그래밍 등 다양한 프로그래밍 패러다임 중 객체지향형 프로그래밍이 절대적으로 좋다 나쁘다고 단언할 수는 없다.\n",
    "  + 심지어 파이썬 역시 객체지향형 프로그래밍을 지향하나, 함수 및 절차지향형으로 프로그래밍하는 것 역시 가능하다!\n",
    "+ 그럼에도 흔히 말하는 객체지향형 프로그래밍의 장점을 꼽아보자면 다음과 같다.\n",
    "\n",
    "<br>\n",
    "\n",
    "+ **첫째, 좀 더 현실적인 가까운 프로그래밍을 할 수 있다.**\n",
    "  + 다소 철학적이지만, 생각해보면 세상의 많은 것들은 다양한 기능(메소드)를 포함한 일종의 객체라고 바라볼 수도 있다.\n",
    "    + 이를테면, 나라는 객체에는 핸드폰, 노트북, 손, 발 등등의 객체들을 포함하고 있고,\n",
    "    + 핸드폰이라는 객체는 전화걸기라는 기능(메소드), 인터넷 검색하기라는 기능(메소드) 등을 수행한다.\n",
    "  + 현실세계를 이런 기능별로 구분지어 생각하는 객체지향 프로그래밍은 인지과학/심리학에서 흔히 말하는 모듈과 개념적으로 유사하며, 그만큼 현실을 잘 반영한다고도 할 수 있을 것이다. \n",
    "    + (출처: 홍정하 교수님의 언어와 컴퓨터 및 언어, 뇌, 컴퓨터의 이해 강의자료)\n",
    "    + \n",
    "+ **둘째, 코드를 재사용할 수 있다.**\n",
    "  + 차후 배우겠지만, 클래스는 간단히 말해서 객체를 만드는 틀이다.\n",
    "  + 중요한 것은 클래스간 상속이 가능하다는 것이다. 곧, 상속하는 클래스의 모든 기능들을 상속받는 클래스에 그대로 이식가능하다.\n",
    "  + 따라서 우리는 같은 기능을 하는 클래스를 한번만 만들어두면, 굳이 다시 복사-붙여넣기할 필요없이 클래스 상속을 통해 훨씬 깔끔하고 편리한 프로그래밍이 가능하다.\n",
    "  + \n",
    "+ **셋째, 유지보수가 용이하다.**\n",
    "  + 앞서 말했듯 객체지향 프로그래밍에서는 같은 기능을 중복해서 구현할 때 복사-붙여넣기대신 클래스의 상속을 활용하기를 적극 권장한다.\n",
    "  + 이처럼 클래스를 상속하는 것의 장점은, 혹시라도 나중에 해당 기능을 수정할 필요가 있다면, 원본 클래스만 수정하면 된다는 것이다.\n",
    "    + 그러면 상속받는 클래스들은 전부 다 알아서 수정이 되겠지!!\n",
    "  + 나아가 기능별, 역할별로 각자 다른 객체들을 만들어둔다면, 특정 부분을 유지보수할 때 모든 코드를 훑는 것이 아니라 해당 객체만 훑으면 되겠지.\n",
    "  + 그렇기에 대형 프로젝트를 진행하는 데 있어 유지보수 및 협업이 용이할 것이다!!\n",
    "  + \n",
    "\n"
   ]
  },
  {
   "attachments": {},
   "cell_type": "markdown",
   "metadata": {},
   "source": [
    "## 3.객체 조금 더 깊게 알아보기\n",
    "\n",
    "+ 한때 우세했던 절차지향형 프로그래밍이라는 패러다임을 깨부순만큼, 객체는 굉장히 어렵고 철학적인 개념이다~~라고 필자는 생각한다. 사실 나두 아직 잘 몰?루~~\n",
    "+ 그러나 날로 먹을 수는 없으니, 여기서 객체의 기본 구조를 간략히만 짚고 넘어가보자.\n",
    "\n",
    "<br>\n",
    "\n",
    "+ 객체는 크게 세 가지로 요소로 이뤄진다.\n",
    "  + `1)값`. 말 그래도 객체가 가지고 있는 값이다.\n",
    "  + `2)속성(attribute)과 기능(혹은 동작, 연산 등등...영어로는 *method*)`. 객체가 품고있는 속성과 기능들을 의미한다.\n",
    "    + 앞서 살펴본 dir() 함수를 통해서 뜯어 확인한 것들이 바로 이거다!\n",
    "  + `3)주소(ID`). 객체가 메모리상에서 어디에 있는지를 나타낸다. \n",
    "\n"
   ]
  },
  {
   "cell_type": "code",
   "execution_count": 16,
   "metadata": {},
   "outputs": [],
   "source": [
    "## 1) 값\n",
    "\n",
    "s = '123'   ## 문자열 123이라는 **값**을 지닌 문자열 객체를 만들었다.\n",
    "            ## 그리고 동시에 변수 s를 선언하고, 그 공간에 문자열 123이라는 값을 지닌 문자열 객체를 할당한 것이다."
   ]
  },
  {
   "cell_type": "code",
   "execution_count": 17,
   "metadata": {},
   "outputs": [
    {
     "name": "stdout",
     "output_type": "stream",
     "text": [
      "['__add__', '__class__', '__contains__', '__delattr__', '__dir__', '__doc__', '__eq__', '__format__', '__ge__', '__getattribute__', '__getitem__', '__getnewargs__', '__gt__', '__hash__', '__init__', '__init_subclass__', '__iter__', '__le__', '__len__', '__lt__', '__mod__', '__mul__', '__ne__', '__new__', '__reduce__', '__reduce_ex__', '__repr__', '__rmod__', '__rmul__', '__setattr__', '__sizeof__', '__str__', '__subclasshook__', 'capitalize', 'casefold', 'center', 'count', 'encode', 'endswith', 'expandtabs', 'find', 'format', 'format_map', 'index', 'isalnum', 'isalpha', 'isascii', 'isdecimal', 'isdigit', 'isidentifier', 'islower', 'isnumeric', 'isprintable', 'isspace', 'istitle', 'isupper', 'join', 'ljust', 'lower', 'lstrip', 'maketrans', 'partition', 'removeprefix', 'removesuffix', 'replace', 'rfind', 'rindex', 'rjust', 'rpartition', 'rsplit', 'rstrip', 'split', 'splitlines', 'startswith', 'strip', 'swapcase', 'title', 'translate', 'upper', 'zfill']\n"
     ]
    }
   ],
   "source": [
    "## 2) 속성과 기능\n",
    "\n",
    "print(dir(s))\n",
    "## 이렇게 하면 s에 할당된 객체가 품고있는 속성과 기능들을 보여준다!\n",
    "\n",
    "## ✅ 지난번 함수/메소드들 많이 배울 때, 그래서 어떤 데이터타입에 어떤 함수를 쓸 수 있는지 매번 확인해야하냐고 물었다!\n",
    "## 이제 그 질문에 대한 답을 얻었다!\n",
    "## 매번 일일이 오류띄우면서 확인할 필요없이, dir()함수를 써서 직접 그 데이터타입을 뜯어보면 된다!\n",
    "## 물론 기본적인 것들은 외우셔야합니다..."
   ]
  },
  {
   "cell_type": "code",
   "execution_count": 18,
   "metadata": {},
   "outputs": [
    {
     "name": "stdout",
     "output_type": "stream",
     "text": [
      "<built-in method isalnum of str object at 0x0000026A0B6FF070>\n",
      "True\n"
     ]
    }
   ],
   "source": [
    "## ❓ 왜 속성과 기능을 동시에 설명하면서도 다른 용어를 사용하지??\n",
    "#### 우리 그냥 함수를 **호출**하는 거랑 함수를 **실행**하는 거 차이 기억하지?\n",
    "#### 같은 맥락이다. \n",
    "###### 그냥 속성을 호출만 하면 그건 아직 일개 속성에 불과하지만,\n",
    "###### 그 뒤에 ()를 붙여 실행하면 그때는 특정 기능을 수행한다고 할 수 있겠찌!\n",
    "\n",
    "print(s.isalnum)    ## 단순히 **속성**을 호출한 것...\n",
    "                    ## ✅ 출력값을 잘 보자!!! str obejct at 0x00~~~\n",
    "print(s.isalnum())  ## 특정 **기능**을 수행한 것!!!"
   ]
  },
  {
   "cell_type": "code",
   "execution_count": 19,
   "metadata": {},
   "outputs": [
    {
     "name": "stdout",
     "output_type": "stream",
     "text": [
      "2654481674352\n"
     ]
    }
   ],
   "source": [
    "## 3) 주소값(address, ID)\n",
    "\n",
    "print(id(s))\n",
    "## id() 함수를 사용하면, 해당 객체가 저장되어있는 메모리상의 위치를, 고유한 번호로 변환한 값을 돌려준다.\n",
    "## 앞서 str object at 0x00~했던거 있지? 0x00~이게 바로 id값이다!!!"
   ]
  },
  {
   "cell_type": "code",
   "execution_count": 20,
   "metadata": {},
   "outputs": [
    {
     "name": "stdout",
     "output_type": "stream",
     "text": [
      "0x26a0b6ff070\n"
     ]
    }
   ],
   "source": [
    "## ❓ 어 근데 id(s)가 출력하는 값과는 0x00~이 아닌디용?\n",
    "#### 고거슨요 id(s)는 우리가 흔히쓰는 10진수구요, 0x00~은 16진수라서 그래요.\n",
    "\n",
    "print(hex(id(s)))\n",
    "#### 이렇게 하면 똑같쥬?"
   ]
  },
  {
   "attachments": {},
   "cell_type": "markdown",
   "metadata": {},
   "source": [
    "### 객체의 주소값이 중요한 이유"
   ]
  },
  {
   "cell_type": "code",
   "execution_count": 21,
   "metadata": {},
   "outputs": [
    {
     "name": "stdout",
     "output_type": "stream",
     "text": [
      "True\n"
     ]
    }
   ],
   "source": [
    "## 객체의 주소값이 왜 중요하냐면...\n",
    "a = 'I love you always'\n",
    "b = 'I love you always'\n",
    "\n",
    "print(a == b)\n",
    "## a와 b는 같은 **값**을 가진다.\n",
    "## ✅ == 연산자는 사실 **값**만을 비교한다!!!\n",
    "## ❓ 그럼 같은 객체인가?"
   ]
  },
  {
   "cell_type": "code",
   "execution_count": 22,
   "metadata": {},
   "outputs": [
    {
     "name": "stdout",
     "output_type": "stream",
     "text": [
      "2654506079440 2654486548272\n",
      "False\n"
     ]
    }
   ],
   "source": [
    "print(id(a), id(b))\n",
    "## 노노 주소값이 다르다!!\n",
    "\n",
    "print(a is b)\n",
    "## ✅ is 연산자는 값과 id값도 비교한다!!!"
   ]
  },
  {
   "attachments": {},
   "cell_type": "markdown",
   "metadata": {},
   "source": [
    "## 4.객체의 관점에서 다시 돌아본 immutable/mutable\n",
    "\n",
    "+ 지난번, 문자열과 튜플은 immutable하고, 그 외 모든 객체들은 mutable하다고 말한 적 있다.\n",
    "+ 이러한 mutable과 immutable은 단순히 함수/메소드를 적용할 때, 객체 자체를 변화시키는가 or 새로운 객체를 반환하는가하는 문제 외에도,\n",
    "+ 객체의 관점에서 더욱 중요한 문제를 가져오는데..."
   ]
  },
  {
   "cell_type": "code",
   "execution_count": 23,
   "metadata": {},
   "outputs": [
    {
     "name": "stdout",
     "output_type": "stream",
     "text": [
      "[1, 2, 3] [1, 2, 3] [1, 2, 3]\n"
     ]
    }
   ],
   "source": [
    "l = [1,2,3]\n",
    "\n",
    "l1 = l\n",
    "l2 = l\n",
    "\n",
    "print(l, l1, l2)"
   ]
  },
  {
   "cell_type": "code",
   "execution_count": 24,
   "metadata": {},
   "outputs": [
    {
     "name": "stdout",
     "output_type": "stream",
     "text": [
      "[1, 2, 3, 1000] [1, 2, 3, 1000] [1, 2, 3, 1000]\n"
     ]
    },
    {
     "data": {
      "text/plain": [
       "True"
      ]
     },
     "execution_count": 24,
     "metadata": {},
     "output_type": "execute_result"
    }
   ],
   "source": [
    "l.append(1000)      ## 분명 l에만 append를 했는데\n",
    "print(l, l1, l2)    ## l1, l2의 값도 변했다!!!!!\n",
    "\n",
    "id(l) == id(l1) == id(l2)"
   ]
  },
  {
   "cell_type": "code",
   "execution_count": 25,
   "metadata": {},
   "outputs": [
    {
     "name": "stdout",
     "output_type": "stream",
     "text": [
      "{1, 2, 3} {1, 2, 3} {1, 2, 3}\n",
      "True\n"
     ]
    }
   ],
   "source": [
    "s = {1,2,3}\n",
    "s1 = s\n",
    "s2 = s\n",
    "\n",
    "print(s, s1, s2)\n",
    "\n",
    "print(s == s1 == s2)"
   ]
  },
  {
   "cell_type": "code",
   "execution_count": 26,
   "metadata": {},
   "outputs": [
    {
     "name": "stdout",
     "output_type": "stream",
     "text": [
      "{1, 2, 3, 100} {1, 2, 3, 100} {1, 2, 3, 100}\n",
      "True\n"
     ]
    }
   ],
   "source": [
    "s1.update({100})\n",
    "\n",
    "print(s, s1, s2)\n",
    "\n",
    "print(s == s1 == s2)"
   ]
  },
  {
   "attachments": {},
   "cell_type": "markdown",
   "metadata": {},
   "source": [
    "### 이러한 `얕은 복사`의 문제를 어떻게 해결하지?\n",
    "\n",
    "+ 첫째, `immutable`한 객체로 바꾼 뒤 다시 `mutable`한 객체로 변환하거나,\n",
    "+ 둘째, 아니면 아예 `깊은 복사`를 하거나!"
   ]
  },
  {
   "cell_type": "code",
   "execution_count": 27,
   "metadata": {},
   "outputs": [
    {
     "name": "stdout",
     "output_type": "stream",
     "text": [
      "[1, 2, 3, 100] [1, 2, 3]\n",
      "False\n"
     ]
    }
   ],
   "source": [
    "## 첫째, immutable로 한번 바꿨다가 다시 mutable로 바꾸거나,\n",
    "\n",
    "l = [1,2,3]\n",
    "\n",
    "nl = tuple(l)\n",
    "nl = list(nl)\n",
    "\n",
    "l.append(100)\n",
    "\n",
    "print(l, nl)\n",
    "\n",
    "print(l == nl)"
   ]
  },
  {
   "cell_type": "code",
   "execution_count": 28,
   "metadata": {},
   "outputs": [
    {
     "name": "stdout",
     "output_type": "stream",
     "text": [
      "[1, 2, 3, 100] [1, 2, 3]\n",
      "False\n"
     ]
    }
   ],
   "source": [
    "## 둘째, 깊은 복사를 하거나!\n",
    "\n",
    "import copy     ## import가 뭔지는 다음 시간에 배워요~\n",
    "\n",
    "l = [1,2,3]\n",
    "\n",
    "nl = copy.deepcopy(l)\n",
    "\n",
    "l.append(100)\n",
    "\n",
    "print(l, nl)\n",
    "\n",
    "print(l == nl)"
   ]
  },
  {
   "attachments": {},
   "cell_type": "markdown",
   "metadata": {},
   "source": [
    "+ (참고) 왜 이렇게 동작하는가에 대한 깊은 이해를 하고싶다면?\n",
    "    + https://blockdmask.tistory.com/570\n",
    "    + https://blockdmask.tistory.com/576"
   ]
  },
  {
   "attachments": {},
   "cell_type": "markdown",
   "metadata": {},
   "source": [
    "# II. 클래스는 객체를 만드는 틀이다.\n",
    "\n",
    "+ 많은 분들이 어려워하는 클래스.\n",
    "  + 클래스는 객체를 만드는 틀입니다!!!"
   ]
  },
  {
   "attachments": {},
   "cell_type": "markdown",
   "metadata": {},
   "source": [
    "## 1.클래스 기본1\n",
    "+ 클래스 만들어보기\n",
    "+ __init__함수\n",
    "+ 속성 설정하기"
   ]
  },
  {
   "cell_type": "code",
   "execution_count": 23,
   "metadata": {},
   "outputs": [],
   "source": [
    "class Human:                    ## ✅ 클래스의 변수명은 관례적으로 첫글자를 대문자로 씁니다!\n",
    "    def __init__(self):         ## ✅ __init__ 함수는 클래스가 생성될 떄(initialize) 바로 수행되는 함수입니다.\n",
    "        self.species = 'mammal' #### ✅ 따라서 기본값 같은 것들을 설정할 때 좋겠죠?\n",
    "        \n",
    "## ❓ self는 뭔가요?\n",
    "#### ✅ 말 그대로 self, 자기 자신입니다.\n",
    "#### ✅ 즉 클래스를 통해 만들어진 객체, 그 자체를 가리키는 매개변수입니다!!\n",
    "#### ✅✅ 자기 자신을 가리키니까, 당연히 해당 클래스 내에서는 **전역 변수**취급합니다!!"
   ]
  },
  {
   "cell_type": "code",
   "execution_count": 24,
   "metadata": {},
   "outputs": [
    {
     "name": "stdout",
     "output_type": "stream",
     "text": [
      "<__main__.Human object at 0x0000027AD08E79D0>\n",
      "<class '__main__.Human'>\n"
     ]
    }
   ],
   "source": [
    "jongbin = Human()\n",
    "\n",
    "print(jongbin)\n",
    "\n",
    "print(type(jongbin))\n",
    "## 타입이 Human이라고 뜨죠?\n",
    "## 우리가 Human 클래스를 통해 새로 만든 객체라는 말입니다!\n",
    "\n",
    "\n",
    "## ❓ __main__은 뭔가? \n",
    "## 보통 프로그램에서 가장 먼저 실행되는, main 프로그램을 뜻하는데...\n",
    "## 어려우니 나중에 기회가 되면 알려줄게요!\n",
    "## 참고: https://hyoje420.tistory.com/45"
   ]
  },
  {
   "cell_type": "code",
   "execution_count": 25,
   "metadata": {},
   "outputs": [
    {
     "name": "stdout",
     "output_type": "stream",
     "text": [
      "mammal\n"
     ]
    }
   ],
   "source": [
    "print(jongbin.species)\n",
    "## 이러면 클래스의 __init__ 함수에서 정의했던 속성이 뜨는겁니다."
   ]
  },
  {
   "cell_type": "code",
   "execution_count": 28,
   "metadata": {},
   "outputs": [
    {
     "ename": "TypeError",
     "evalue": "'str' object is not callable",
     "output_type": "error",
     "traceback": [
      "\u001b[1;31m---------------------------------------------------------------------------\u001b[0m",
      "\u001b[1;31mTypeError\u001b[0m                                 Traceback (most recent call last)",
      "Cell \u001b[1;32mIn [28], line 1\u001b[0m\n\u001b[1;32m----> 1\u001b[0m jongbin\u001b[39m.\u001b[39;49mspecies()   \u001b[39m## ✅ species는 속성이지 기능(메소드)가 아닙니다! 따라서 ()를 하면 안되겠죠.\u001b[39;00m\n",
      "\u001b[1;31mTypeError\u001b[0m: 'str' object is not callable"
     ]
    }
   ],
   "source": [
    "jongbin.species()   ## ✅ species는 속성이지 기능(메소드)가 아닙니다! 따라서 ()를 하면 안되겠죠."
   ]
  },
  {
   "cell_type": "code",
   "execution_count": 29,
   "metadata": {},
   "outputs": [],
   "source": [
    "## Human 클래스를 다시 정의해봅시다.\n",
    "\n",
    "class Human():  ## 괄호는 클래스를 상속받을 떄 사용합니다. 따라서 상속할 클래스가 없으면 써도 되고, 안써도 됩니다.\n",
    "    def __init__(self, age=0):  ## age=0 이거 뭐하는거였지? 기본값이었지!!!\n",
    "        self.species = 'mammal'\n",
    "        self.age = int(age)"
   ]
  },
  {
   "cell_type": "code",
   "execution_count": 30,
   "metadata": {},
   "outputs": [
    {
     "name": "stdout",
     "output_type": "stream",
     "text": [
      "mammal 0\n"
     ]
    }
   ],
   "source": [
    "ahra = Human()\n",
    "\n",
    "print(\n",
    "    ahra.species,\n",
    "    ahra.age\n",
    ")"
   ]
  },
  {
   "cell_type": "code",
   "execution_count": 31,
   "metadata": {},
   "outputs": [
    {
     "name": "stdout",
     "output_type": "stream",
     "text": [
      "mammal\n",
      "99\n",
      "<class '__main__.Human'>\n"
     ]
    }
   ],
   "source": [
    "oldman = Human(99)  ## 이렇게 인자를 넣으면, age의 값이 설정되겠죠.\n",
    "\n",
    "print(\n",
    "    oldman.species,\n",
    "    oldman.age,\n",
    "    type(oldman),\n",
    "    sep = '\\n'\n",
    ")"
   ]
  },
  {
   "attachments": {},
   "cell_type": "markdown",
   "metadata": {},
   "source": [
    "## 2.클래스 기본2\n",
    "+ 클래스 내에 함수 만들기\n",
    "  + 전역변수, 지역변수의 개념\n",
    "+ 클래스간의 상속"
   ]
  },
  {
   "attachments": {},
   "cell_type": "markdown",
   "metadata": {},
   "source": [
    "### 2-1.클래스 내에 함수 만들기"
   ]
  },
  {
   "cell_type": "code",
   "execution_count": 32,
   "metadata": {},
   "outputs": [],
   "source": [
    "class Human():                      ## 이전에 만들었던 클래스를 재활용합시다.\n",
    "    def __init__(self, age=0):\n",
    "        self.species = 'mammal'\n",
    "        self.age = int(age)\n",
    "        \n",
    "    def eat(self, food):\n",
    "        print(\"Eating \" + food + '......')\n",
    "        return (\"I ate \" + food + \"!!\")"
   ]
  },
  {
   "cell_type": "code",
   "execution_count": 33,
   "metadata": {},
   "outputs": [
    {
     "name": "stdout",
     "output_type": "stream",
     "text": [
      "10\n"
     ]
    },
    {
     "ename": "TypeError",
     "evalue": "'int' object is not callable",
     "output_type": "error",
     "traceback": [
      "\u001b[1;31m---------------------------------------------------------------------------\u001b[0m",
      "\u001b[1;31mTypeError\u001b[0m                                 Traceback (most recent call last)",
      "Cell \u001b[1;32mIn [33], line 4\u001b[0m\n\u001b[0;32m      1\u001b[0m boy \u001b[39m=\u001b[39m Human(age \u001b[39m=\u001b[39m \u001b[39m10\u001b[39m)\n\u001b[0;32m      3\u001b[0m \u001b[39mprint\u001b[39m(boy\u001b[39m.\u001b[39mage)\n\u001b[1;32m----> 4\u001b[0m \u001b[39mprint\u001b[39m(boy\u001b[39m.\u001b[39;49mage())    \u001b[39m## 이건 오류가 떴지만...\u001b[39;00m\n",
      "\u001b[1;31mTypeError\u001b[0m: 'int' object is not callable"
     ]
    }
   ],
   "source": [
    "boy = Human(age = 10)\n",
    "\n",
    "print(boy.age)\n",
    "print(boy.age())    ## 이건 오류가 떴지만..."
   ]
  },
  {
   "cell_type": "code",
   "execution_count": 34,
   "metadata": {},
   "outputs": [
    {
     "name": "stdout",
     "output_type": "stream",
     "text": [
      "Eating kimchi......\n",
      "I ate kimchi!!\n"
     ]
    }
   ],
   "source": [
    "print(boy.eat('kimchi'))    ## 이건 오류가 뜨지 않는다!!\n",
    "\n",
    "## ❓ 출력결과가 어떻게 될지 예측해보자!!"
   ]
  },
  {
   "cell_type": "code",
   "execution_count": 35,
   "metadata": {},
   "outputs": [
    {
     "name": "stdout",
     "output_type": "stream",
     "text": [
      "10\n"
     ]
    },
    {
     "ename": "AttributeError",
     "evalue": "'Human' object has no attribute 'food'",
     "output_type": "error",
     "traceback": [
      "\u001b[1;31m---------------------------------------------------------------------------\u001b[0m",
      "\u001b[1;31mAttributeError\u001b[0m                            Traceback (most recent call last)",
      "Cell \u001b[1;32mIn [35], line 4\u001b[0m\n\u001b[0;32m      1\u001b[0m \u001b[39mprint\u001b[39m(boy\u001b[39m.\u001b[39mage)\n\u001b[0;32m      2\u001b[0m \u001b[39m## 이건 되지만...\u001b[39;00m\n\u001b[1;32m----> 4\u001b[0m \u001b[39mprint\u001b[39m(boy\u001b[39m.\u001b[39;49mfood)\n\u001b[0;32m      5\u001b[0m \u001b[39m## 이건 안된다???\u001b[39;00m\n",
      "\u001b[1;31mAttributeError\u001b[0m: 'Human' object has no attribute 'food'"
     ]
    }
   ],
   "source": [
    "print(boy.age)\n",
    "## 이건 되지만...\n",
    "\n",
    "print(boy.food)\n",
    "## 이건 안된다???"
   ]
  },
  {
   "cell_type": "code",
   "execution_count": 36,
   "metadata": {},
   "outputs": [],
   "source": [
    "class Human():                      ## 이전에 만들었던 클래스를 재활용합시다.\n",
    "    def __init__(self, age=0):\n",
    "        self.species = 'mammal'\n",
    "        self.age = int(age)\n",
    "        \n",
    "    def eat(self, food):\n",
    "\n",
    "        eaten_food = food       ## 이렇게 변수를 추가하면 되지 않을까요?\n",
    "        \n",
    "        print(\"Eating \" + food + '......')\n",
    "        return (\"I ate \" + food + \"!!\")"
   ]
  },
  {
   "cell_type": "code",
   "execution_count": 37,
   "metadata": {},
   "outputs": [
    {
     "name": "stdout",
     "output_type": "stream",
     "text": [
      "Eating ramen......\n"
     ]
    },
    {
     "data": {
      "text/plain": [
       "'I ate ramen!!'"
      ]
     },
     "execution_count": 37,
     "metadata": {},
     "output_type": "execute_result"
    }
   ],
   "source": [
    "boy = Human(10)\n",
    "\n",
    "boy.eat('ramen')"
   ]
  },
  {
   "cell_type": "code",
   "execution_count": 38,
   "metadata": {},
   "outputs": [
    {
     "ename": "AttributeError",
     "evalue": "'Human' object has no attribute 'eaten_food'",
     "output_type": "error",
     "traceback": [
      "\u001b[1;31m---------------------------------------------------------------------------\u001b[0m",
      "\u001b[1;31mAttributeError\u001b[0m                            Traceback (most recent call last)",
      "Cell \u001b[1;32mIn [38], line 1\u001b[0m\n\u001b[1;32m----> 1\u001b[0m \u001b[39mprint\u001b[39m(boy\u001b[39m.\u001b[39;49meaten_food)\n\u001b[0;32m      2\u001b[0m \u001b[39m## ❓ 이건 작동할까?? 안한다면 왜 작동하지 않을까??\u001b[39;00m\n\u001b[0;32m      3\u001b[0m \u001b[39m## ✅ 함수 내에서 선언된 변수는 **지역변수**다. 따라서 함수 밖에서는 사용할 수 없다!!!\u001b[39;00m\n",
      "\u001b[1;31mAttributeError\u001b[0m: 'Human' object has no attribute 'eaten_food'"
     ]
    }
   ],
   "source": [
    "print(boy.eaten_food)\n",
    "## ❓ 이건 작동할까?? 안한다면 왜 작동하지 않을까??\n",
    "## ✅ 함수 내에서 선언된 변수는 **지역변수**다. 따라서 함수 밖에서는 사용할 수 없다!!!"
   ]
  },
  {
   "cell_type": "code",
   "execution_count": 39,
   "metadata": {},
   "outputs": [],
   "source": [
    "## 이상의 지역변수 문제를 해결하려면...\n",
    "\n",
    "class Human():                      ## 이전에 만들었던 클래스를 재활용합시다.\n",
    "    def __init__(self, age=0):\n",
    "        self.species = 'mammal'\n",
    "        self.age = int(age)\n",
    "        \n",
    "    def eat(self, food):\n",
    "\n",
    "        self.eaten_food = food       ## ✅ 앞에 self. 을 붙여주면 됩니다! \n",
    "                                     ## ✅ 그럼 얘는 객체 내에서 전역으로 사용할 수 있는 변수가 되는거에요!\n",
    "        \n",
    "        print(\"Eating \" + food + '......')\n",
    "        return (\"I ate \" + food + \"!!\")"
   ]
  },
  {
   "cell_type": "code",
   "execution_count": 40,
   "metadata": {},
   "outputs": [
    {
     "name": "stdout",
     "output_type": "stream",
     "text": [
      "Eating pizza......\n"
     ]
    },
    {
     "data": {
      "text/plain": [
       "'I ate pizza!!'"
      ]
     },
     "execution_count": 40,
     "metadata": {},
     "output_type": "execute_result"
    }
   ],
   "source": [
    "girl = Human(13)\n",
    "\n",
    "girl.eat('pizza')       ## ❓ 출력값은???"
   ]
  },
  {
   "cell_type": "code",
   "execution_count": 41,
   "metadata": {},
   "outputs": [
    {
     "name": "stdout",
     "output_type": "stream",
     "text": [
      "pizza\n"
     ]
    }
   ],
   "source": [
    "print(girl.eaten_food)"
   ]
  },
  {
   "attachments": {},
   "cell_type": "markdown",
   "metadata": {},
   "source": [
    "### 2-2.클래스의 상속\n",
    "+ 클래스를 쓰는 두 번째 이유\n",
    "  + 바로 클래스간의 상속을 통해 효율적으로 프로그래밍할 수 있다는 것이다.\n",
    "    + 이것에 대해서 실제 코드를 통해 알아보자!"
   ]
  },
  {
   "attachments": {},
   "cell_type": "markdown",
   "metadata": {},
   "source": [
    "#### 1)함수를 재정의하지 않은 경우"
   ]
  },
  {
   "cell_type": "code",
   "execution_count": 42,
   "metadata": {},
   "outputs": [],
   "source": [
    "class NewHuman(Human):      ## 일케 하면 Human이라는 클래스를 그대로 **복붙(상속)**하고, 거기에 또 다른 속성/함수들을 추가할 수 있는 NewHuman이라는 클래스를 만든 것이다.\n",
    "    \n",
    "    def vomit(self):        ## ✅ 클래스 내부의 함수는 보통 self를 기본 인자로 넣어줍니다!!\n",
    "        print(\"I vomitted \" + self.eaten_food + '...🤮')"
   ]
  },
  {
   "cell_type": "code",
   "execution_count": 43,
   "metadata": {},
   "outputs": [
    {
     "name": "stdout",
     "output_type": "stream",
     "text": [
      "<__main__.NewHuman object at 0x0000027AD0804A50>\n",
      "<class '__main__.NewHuman'>\n"
     ]
    }
   ],
   "source": [
    "son = NewHuman('87')\n",
    "\n",
    "print(son)\n",
    "print(type(son))"
   ]
  },
  {
   "cell_type": "code",
   "execution_count": 44,
   "metadata": {},
   "outputs": [
    {
     "name": "stdout",
     "output_type": "stream",
     "text": [
      "Eating ham......\n",
      "I ate ham!!\n"
     ]
    },
    {
     "data": {
      "text/plain": [
       "'ham'"
      ]
     },
     "execution_count": 44,
     "metadata": {},
     "output_type": "execute_result"
    }
   ],
   "source": [
    "print(son.eat('ham'))\n",
    "\n",
    "son.eaten_food"
   ]
  },
  {
   "cell_type": "code",
   "execution_count": 45,
   "metadata": {},
   "outputs": [
    {
     "name": "stdout",
     "output_type": "stream",
     "text": [
      "I vomitted ham...🤮\n"
     ]
    }
   ],
   "source": [
    "son.vomit()"
   ]
  },
  {
   "attachments": {},
   "cell_type": "markdown",
   "metadata": {},
   "source": [
    "#### 2)함수를 재정의한 경우"
   ]
  },
  {
   "cell_type": "code",
   "execution_count": 65,
   "metadata": {},
   "outputs": [],
   "source": [
    "class NewHuman(Human):\n",
    "    def __init__(self, height='150cm'):     ## Human 클래스에도 __init__함수가 있었죠?? \n",
    "        self.height = height                ## 근데 여기서 __init__함수를 재정의해봅시다.\n",
    "    \n",
    "    def vomit(self):\n",
    "        print(\"I vomitted \" + self.eaten_food + '...🤮')\n",
    "    \n"
   ]
  },
  {
   "cell_type": "code",
   "execution_count": 66,
   "metadata": {},
   "outputs": [
    {
     "name": "stdout",
     "output_type": "stream",
     "text": [
      "<__main__.NewHuman object at 0x0000027AD0284510>\n",
      "2726501565712\n",
      "0x27ad0284510\n"
     ]
    }
   ],
   "source": [
    "son = NewHuman('230cm')\n",
    "\n",
    "print(son)\n",
    "print(id(son))\n",
    "print(hex(id(son)))"
   ]
  },
  {
   "cell_type": "code",
   "execution_count": 67,
   "metadata": {},
   "outputs": [
    {
     "name": "stdout",
     "output_type": "stream",
     "text": [
      "230cm\n",
      "<class 'str'>\n"
     ]
    }
   ],
   "source": [
    "print(son.height)\n",
    "print(type(son.height))"
   ]
  },
  {
   "cell_type": "code",
   "execution_count": 68,
   "metadata": {},
   "outputs": [
    {
     "name": "stdout",
     "output_type": "stream",
     "text": [
      "180cm\n",
      "230cm\n"
     ]
    }
   ],
   "source": [
    "print(son.height.replace('23', '18'))   ## 이러면 son 객체의 height 속성은 값이 어떻게 될까?\n",
    "\n",
    "print(son.height)"
   ]
  },
  {
   "cell_type": "code",
   "execution_count": 69,
   "metadata": {},
   "outputs": [
    {
     "ename": "AttributeError",
     "evalue": "'NewHuman' object has no attribute 'age'",
     "output_type": "error",
     "traceback": [
      "\u001b[1;31m---------------------------------------------------------------------------\u001b[0m",
      "\u001b[1;31mAttributeError\u001b[0m                            Traceback (most recent call last)",
      "Cell \u001b[1;32mIn [69], line 1\u001b[0m\n\u001b[1;32m----> 1\u001b[0m \u001b[39mprint\u001b[39m(son\u001b[39m.\u001b[39;49mage)  \u001b[39m## ❓ 여기서 출력될 손오공의 나이는? \u001b[39;00m\n",
      "\u001b[1;31mAttributeError\u001b[0m: 'NewHuman' object has no attribute 'age'"
     ]
    }
   ],
   "source": [
    "print(son.age)  ## ❓ 여기서 출력될 손오공의 나이는? "
   ]
  },
  {
   "cell_type": "code",
   "execution_count": 70,
   "metadata": {},
   "outputs": [
    {
     "name": "stdout",
     "output_type": "stream",
     "text": [
      "9999\n"
     ]
    }
   ],
   "source": [
    "son.age = 9999\n",
    "\n",
    "print(son.age)\n",
    "## 이제서야 정상적으로 출력이 되네...\n",
    "## ✅ 상속받은 클래스의 함수(여기서는 Human 클래스의 __init__)는 자동실행되지 않는구나!!\n",
    "## ✅ 이런걸 메소드 오버라이딩(method overridig)이라고 한다. \n",
    "## ✅ 곧, 먼저 정의된 메소드는 나중에 정의된 동명의 메소드에 의해 그 기능이 덮어씌워진다!!!!"
   ]
  },
  {
   "attachments": {},
   "cell_type": "markdown",
   "metadata": {},
   "source": [
    "### 2-3.클래스 총 복습"
   ]
  },
  {
   "cell_type": "code",
   "execution_count": 126,
   "metadata": {},
   "outputs": [],
   "source": [
    "## 마지막으로 클래스 내에 함수 하나만 더 만들어봅시다!!\n",
    "\n",
    "class Human:                                        ## ✅ 상속받을 클래스가 없는 경우에는 클래스명 옆에 ()를 안써도 된다고 했지?\n",
    "                                                \n",
    "    def __init__(self, age=0):\n",
    "        self.age = int(age)\n",
    "        isDead = False              ## ✅ 요 친구는 함수 안에 들어있지 않으므로, 기본적으로 클래스 전역변수입니다. 곧, self.isDead와 같습니다!!  \n",
    "        \n",
    "    def eat(self, food):\n",
    "        \n",
    "        self.eaten_food = food      ## ✅ self.eaten_food 속성은 eat 메소드를 실행한 후에야 생기는거 유의하자!!!!       \n",
    "        \n",
    "        print(\"Eating \" + food + '......')\n",
    "        return (\"I ate \" + food + \"!!\")\n",
    "    \n",
    "    def vomit(self):                                         ## vomit 메소드는 인간도 할 수 있으므로 Human 클래스로 옮겼습니다.\n",
    "        print(\"I vomitted \" + self.eaten_food + '...🤮')    ## 그러나 당연히 나중에 클래스 상속을 통해 다른 객체에서도 써먹을 수 있겠죠?\n",
    "\n",
    "\n",
    "\n",
    "\n",
    "\n",
    "class NewHuman(Human):\n",
    "    \n",
    "    def __init__(self):   \n",
    "        self.energy_list = []       ## 신인류만의 새로운 속성을 추가합니다. 신인류는 에너지를 저장해두고, 나중에 순차적으로 에네르기파를 사용할 수 있습니다.  \n",
    "                                      \n",
    "        self.age = 999              ## ✅ 앞서 말했듯 overriding의 문제가 발생하기에, 기존의 속성들도 여기서 재정의해줍니다.\n",
    "        isDead = False\n",
    "        \n",
    " \n",
    "    \n",
    "    def save_energy(self, energy):\n",
    "        self.energy_list.append(energy)     ## 에너지 리스트에 에너지를 저장해두고...\n",
    "        \n",
    "        print(\"I saved \" + energy +'...')\n",
    "        print(\"Now I have \" + str(len(self.energy_list)) + \" energies in my body.\")\n",
    "    \n",
    "    def energy_par(self):\n",
    "        if self.isDead == True:\n",
    "            return \"RIP. It is already DEAD\"\n",
    "        \n",
    "        if self.energy_list == []:\n",
    "            self.isDead = True\n",
    "            return \"I am DEAD because I have no ENERGY...\"\n",
    "        else:\n",
    "            latest_energy = self.energy_list.pop()\n",
    "            return ('I used 에네르기파 with my ' + latest_energy + ' energy!!!')"
   ]
  },
  {
   "attachments": {},
   "cell_type": "markdown",
   "metadata": {},
   "source": [
    "#### 일단 사람부터 해보자"
   ]
  },
  {
   "cell_type": "code",
   "execution_count": 144,
   "metadata": {},
   "outputs": [
    {
     "name": "stdout",
     "output_type": "stream",
     "text": [
      "12 150cm\n"
     ]
    },
    {
     "ename": "AttributeError",
     "evalue": "'Human' object has no attribute 'eaten_food'",
     "output_type": "error",
     "traceback": [
      "\u001b[1;31m---------------------------------------------------------------------------\u001b[0m",
      "\u001b[1;31mAttributeError\u001b[0m                            Traceback (most recent call last)",
      "Cell \u001b[1;32mIn [144], line 5\u001b[0m\n\u001b[0;32m      1\u001b[0m man \u001b[39m=\u001b[39m Human(\u001b[39m12\u001b[39m)\n\u001b[0;32m      3\u001b[0m \u001b[39mprint\u001b[39m(man\u001b[39m.\u001b[39mage, man\u001b[39m.\u001b[39mheight)\n\u001b[1;32m----> 5\u001b[0m \u001b[39mprint\u001b[39m(man\u001b[39m.\u001b[39;49meaten_food)   \u001b[39m## ❓ 왜 얘는 오류???\u001b[39;00m\n",
      "\u001b[1;31mAttributeError\u001b[0m: 'Human' object has no attribute 'eaten_food'"
     ]
    }
   ],
   "source": [
    "man = Human(12)\n",
    "\n",
    "print(man.age, man.height)\n",
    "\n",
    "print(man.eaten_food)   ## ❓ 왜 얘는 오류???"
   ]
  },
  {
   "cell_type": "code",
   "execution_count": 145,
   "metadata": {},
   "outputs": [
    {
     "name": "stdout",
     "output_type": "stream",
     "text": [
      "Eating BURGER......\n",
      "Eating CHICKEN......\n",
      "I ate CHICKEN!!\n",
      "CHICKEN\n"
     ]
    }
   ],
   "source": [
    "man.eat('BURGER')\n",
    "\n",
    "print(man.eat('CHICKEN'))\n",
    "\n",
    "print(man.eaten_food)"
   ]
  },
  {
   "cell_type": "code",
   "execution_count": 146,
   "metadata": {},
   "outputs": [
    {
     "name": "stdout",
     "output_type": "stream",
     "text": [
      "I vomitted CHICKEN...🤮\n"
     ]
    }
   ],
   "source": [
    "man.vomit()"
   ]
  },
  {
   "attachments": {},
   "cell_type": "markdown",
   "metadata": {},
   "source": [
    "#### 좀 더 나아가서 신인류까지 해보자"
   ]
  },
  {
   "cell_type": "code",
   "execution_count": 165,
   "metadata": {},
   "outputs": [
    {
     "name": "stdout",
     "output_type": "stream",
     "text": [
      "<__main__.NewHuman object at 0x0000027AD0A6FB10> <class '__main__.NewHuman'>\n"
     ]
    }
   ],
   "source": [
    "vzt = NewHuman()\n",
    "\n",
    "print(vzt, type(vzt))"
   ]
  },
  {
   "cell_type": "code",
   "execution_count": 166,
   "metadata": {},
   "outputs": [
    {
     "name": "stdout",
     "output_type": "stream",
     "text": [
      "False\n",
      "[]\n"
     ]
    }
   ],
   "source": [
    "print(\n",
    "    vzt.isDead,     ## 역시 클래스 자체적으로 설정한 기본값!\n",
    "    vzt.energy_list,\n",
    "    sep = '\\n'\n",
    ")"
   ]
  },
  {
   "cell_type": "code",
   "execution_count": 167,
   "metadata": {},
   "outputs": [
    {
     "name": "stdout",
     "output_type": "stream",
     "text": [
      "I saved WATER...\n",
      "Now I have 1 energies in my body.\n",
      "I saved FIRE...\n",
      "Now I have 2 energies in my body.\n"
     ]
    }
   ],
   "source": [
    "vzt.save_energy(\"WATER\")\n",
    "vzt.save_energy(\"FIRE\")"
   ]
  },
  {
   "cell_type": "code",
   "execution_count": 168,
   "metadata": {},
   "outputs": [
    {
     "data": {
      "text/plain": [
       "['WATER', 'FIRE']"
      ]
     },
     "execution_count": 168,
     "metadata": {},
     "output_type": "execute_result"
    }
   ],
   "source": [
    "vzt.energy_list"
   ]
  },
  {
   "cell_type": "code",
   "execution_count": 169,
   "metadata": {},
   "outputs": [
    {
     "name": "stdout",
     "output_type": "stream",
     "text": [
      "I used 에네르기파 with my FIRE energy!!!\n",
      "I used 에네르기파 with my WATER energy!!!\n",
      "I am DEAD because I have no ENERGY...\n",
      "RIP. It is already DEAD\n"
     ]
    }
   ],
   "source": [
    "print(vzt.energy_par())     \n",
    "\n",
    "print(vzt.energy_par())\n",
    "\n",
    "print(vzt.energy_par())\n",
    "\n",
    "print(vzt.energy_par())\n",
    "\n",
    "print(vzt.energy_par())\n"
   ]
  },
  {
   "cell_type": "code",
   "execution_count": 170,
   "metadata": {},
   "outputs": [
    {
     "name": "stdout",
     "output_type": "stream",
     "text": [
      "I saved DRAGON...\n",
      "Now I have 1 energies in my body.\n",
      "I used 에네르기파 with my DRAGON energy!!!\n"
     ]
    }
   ],
   "source": [
    "## 이미 죽어버린 베지터가 에네르기파를 쏘려면???\n",
    "\n",
    "vzt.isDead = False           ## 강제로 다시 살린 뒤에...\n",
    "vzt.save_energy(\"DRAGON\")\n",
    "print(vzt.energy_par())      ## 에네르기파를 쏘도록 하면 된다!!!"
   ]
  }
 ],
 "metadata": {
  "kernelspec": {
   "display_name": "Python 3",
   "language": "python",
   "name": "python3"
  },
  "language_info": {
   "codemirror_mode": {
    "name": "ipython",
    "version": 3
   },
   "file_extension": ".py",
   "mimetype": "text/x-python",
   "name": "python",
   "nbconvert_exporter": "python",
   "pygments_lexer": "ipython3",
   "version": "3.11.0 (main, Oct 24 2022, 18:26:48) [MSC v.1933 64 bit (AMD64)]"
  },
  "orig_nbformat": 4,
  "vscode": {
   "interpreter": {
    "hash": "7cba0d1a42559d80c1785ea75de96ff2e6fe2ecdb092afa9b1831b12c16563fe"
   }
  }
 },
 "nbformat": 4,
 "nbformat_minor": 2
}
