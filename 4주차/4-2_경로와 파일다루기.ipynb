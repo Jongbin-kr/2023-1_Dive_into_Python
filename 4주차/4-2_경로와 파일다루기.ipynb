{
 "cells": [
  {
   "attachments": {},
   "cell_type": "markdown",
   "metadata": {},
   "source": [
    "# I.경로 다루기\n",
    "\n",
    "+ 주요 함수들\n",
    "    + os.getcwd()\n",
    "    + os.chdir()\n",
    "    + os.listdir()\n",
    "\n",
    "<br>\n",
    "+ 상대경로 vs. 절대경로\n",
    "\n"
   ]
  },
  {
   "cell_type": "code",
   "execution_count": null,
   "metadata": {},
   "outputs": [],
   "source": [
    "## 들어가기 전, 먼저 세팅부터 하자!\n",
    "## 먼저, 4주차 폴더를 열고, 거기서 우클릭 - Code(으)로 열기 버튼을 누르세요\n",
    "## 아래 코드를 실행시켰을 때 아웃풋셀에 ['korea', 'text1.txt', 'text2.txt']이렇게 뜨면 사전 설정 끗~\n",
    "\n",
    "import os               ## import는 **모듈**을 불러오는 것. 모듈이 뭔지는 다음 시간에 좀 더 자세히 배울게요\n",
    "\n",
    "os.chdir('./music/')    ## 현재 작업폴더(4주차)아래에 있는 music 폴더로 경로를 바꾸고,\n",
    "os.listdir()            ## music 폴더안에 어떤 친구들이 있나 리스트로 뽑아줘!"
   ]
  },
  {
   "attachments": {},
   "cell_type": "markdown",
   "metadata": {},
   "source": [
    "## 1.`os.getcwd()`: 현재 작업중인 디렉토리/경로 확인하기\n",
    "\n",
    "+ 이때, 현재 작업중이라는 말은 **컴퓨터의 관점에서 현재 작업중인 폴더**를 뜻합니다!!!!\n",
    "  + 예를 들어, 폴더 1과 폴더 2가 있는데,\n",
    "  + 내가 현재 폴더1 안에서 코드를 짜고 있더라도,\n",
    "  + 컴퓨터에게 현재 작업중인 디렉토리를 폴더2라고 지정해주었다면?\n",
    "    + os.getcwd()의 출력 결과물은 폴더2일 것입니다!!!"
   ]
  },
  {
   "cell_type": "code",
   "execution_count": null,
   "metadata": {},
   "outputs": [],
   "source": [
    "import os\n",
    "\n",
    "print(os.getcwd())      ## ✅ get current working directory.\n",
    "                        ## ✅ 디렉토리는 폴더입니다!\n",
    "                \n",
    "## 현재 작업 중인 폴더(디렉토리)의 경로를 문자열로 반환합니다.\n",
    "print(type(os.getcwd()))"
   ]
  },
  {
   "attachments": {},
   "cell_type": "markdown",
   "metadata": {},
   "source": [
    "## 2.`os.listidr()`: 경로에 있는 모든 파일들 확인하기"
   ]
  },
  {
   "cell_type": "code",
   "execution_count": null,
   "metadata": {},
   "outputs": [],
   "source": [
    "# import os\n",
    "## 한번 임포트하면, 재시작하기 전까지는 다시 임포트 안해도 괜찮아요.\n",
    "\n",
    "print(os.listdir())         ## ✅ 해당 경로상에 존재하는 모든 폴더/파일들을 담은 리스트 형태로 돌려줍니다.\n",
    "                            ## ✅ 인자를 넣지 않았을 때 기본값은 현재경로(== os.getcwd())\n",
    "print(type(os.listdir()))\n",
    "## ✅ 리스트에서 .txt같은 확장자가 안붙은 친구들은 폴더, 즉 디렉토리입니다."
   ]
  },
  {
   "cell_type": "code",
   "execution_count": null,
   "metadata": {},
   "outputs": [],
   "source": [
    "print(os.listdir(os.getcwd()))\n",
    "print(os.listdir('.'))              ## ✅✅ .은 현재 경로를 뜻합니다. (상대경로)"
   ]
  },
  {
   "cell_type": "code",
   "execution_count": null,
   "metadata": {},
   "outputs": [],
   "source": [
    "print(os.listdir(os.getcwd()))\n",
    "\n",
    "print(os.listdir('./korea'))                ## 이렇게 현재 작업경로가 아닌 폴더도 열어볼 수 있다.\n",
    "print(os.listdir(os.getcwd() + '/korea'))   ## 윗 줄은 상대경로, 해당 줄은 절대경로!"
   ]
  },
  {
   "attachments": {},
   "cell_type": "markdown",
   "metadata": {},
   "source": [
    "## 3.`os.chdir()`: 경로 바꾸기"
   ]
  },
  {
   "cell_type": "code",
   "execution_count": null,
   "metadata": {},
   "outputs": [],
   "source": [
    "os.getcwd()     ## 현재 경로(작업중인 디렉토리)는?"
   ]
  },
  {
   "cell_type": "code",
   "execution_count": null,
   "metadata": {},
   "outputs": [],
   "source": [
    "os.chdir('./korea')   ## ✅ 인자로 받은 경로를 향해 경로를 바꿉니다!\n",
    "                    \n",
    "                    ## 코드를 한번 더 실행하면 오류가 발생할걸요?\n",
    "                    #### ❓ 왜 그럴까????"
   ]
  },
  {
   "cell_type": "code",
   "execution_count": null,
   "metadata": {},
   "outputs": [],
   "source": [
    "os.getcwd()     ## 현재 작업중인 디렉토리가 바뀌었네?\n",
    "\n",
    "## !! 주의 !!\n",
    "## 보통 작업할 때는 메인 디렉토리까지만 경로를 변경하고, 이후에는 작업경로를 변경하지 않은 채 코딩합니다.\n",
    "## 왜냐면 자꾸 작업경로를 바꾸면 내 작업경로가 어딘지 자꾸 헷갈리거든..."
   ]
  },
  {
   "cell_type": "code",
   "execution_count": null,
   "metadata": {},
   "outputs": [],
   "source": [
    "os.chdir('..')      ## ✅ ..는 상위 디렉토리를 뜻한다. korea 입장에서는 music!"
   ]
  },
  {
   "cell_type": "code",
   "execution_count": null,
   "metadata": {},
   "outputs": [],
   "source": [
    "print(os.getcwd())"
   ]
  },
  {
   "cell_type": "code",
   "execution_count": null,
   "metadata": {},
   "outputs": [],
   "source": [
    "os.chdir('korea')"
   ]
  },
  {
   "cell_type": "code",
   "execution_count": null,
   "metadata": {},
   "outputs": [],
   "source": [
    "os.getcwd()"
   ]
  },
  {
   "attachments": {},
   "cell_type": "markdown",
   "metadata": {},
   "source": [
    "# II.파일 다루기\n",
    "\n",
    "+ 파일을 열고 읽기\n",
    "+ 파일을 쓰기\n",
    "+ 파일을 수정하기"
   ]
  },
  {
   "cell_type": "code",
   "execution_count": null,
   "metadata": {},
   "outputs": [],
   "source": [
    "## 역시 들어가기 전, 먼저 세팅부터 다시 하고...\n",
    "## 이번에도 아래 코드를 실행시켰을 때 아웃풋셀에 ['korea', 'text1.txt', 'text2.txt']이렇게 뜨면 됩니다.\n",
    "\n",
    "import os               \n",
    "os.chdir('..')\n",
    "os.listdir()            "
   ]
  },
  {
   "attachments": {},
   "cell_type": "markdown",
   "metadata": {},
   "source": [
    "## 1.`open().read()`: 파일을 열고 읽기"
   ]
  },
  {
   "cell_type": "code",
   "execution_count": null,
   "metadata": {},
   "outputs": [],
   "source": [
    "open('oasis1.txt')   ## ❓ 뭘 한거지?\n",
    "                    ## ✅ 파일 객체를 생성하고, 호출한거지!!!"
   ]
  },
  {
   "cell_type": "code",
   "execution_count": null,
   "metadata": {},
   "outputs": [],
   "source": [
    "open('oasis1.txt', 'r').read()   ## ✅ .read()는 파일 객체의 메소드로서, 파일의 내용을 읽는다!\n",
    "                                ## ✅ 두번째 인자 'r'은 읽기전용모드"
   ]
  },
  {
   "cell_type": "code",
   "execution_count": null,
   "metadata": {},
   "outputs": [],
   "source": [
    "raw = open('./oasis1.txt').read()\n",
    "raw                                 \n",
    "## 일케 저장해두면 나중에 불러와서 쓸 수 있겠지~\n",
    "## ❓ raw의 데이터 타입은 뭐지?"
   ]
  },
  {
   "attachments": {},
   "cell_type": "markdown",
   "metadata": {},
   "source": [
    "## 2.`.write()`: 파일을 만들고 쓰기"
   ]
  },
  {
   "cell_type": "code",
   "execution_count": null,
   "metadata": {},
   "outputs": [],
   "source": [
    "os.getcwd()"
   ]
  },
  {
   "cell_type": "code",
   "execution_count": null,
   "metadata": {},
   "outputs": [],
   "source": [
    "open('new.txt', 'w').write('whatever.')\n",
    "\n",
    "## 이 함수는 어떤 동작을 하지?\n",
    "## 값을 반환하나???"
   ]
  },
  {
   "cell_type": "code",
   "execution_count": null,
   "metadata": {},
   "outputs": [],
   "source": [
    "new = open('new.txt').read()\n",
    "new\n",
    "\n",
    "## 만든 파일을 바로 다시 읽어올 수도 있고~"
   ]
  },
  {
   "cell_type": "code",
   "execution_count": null,
   "metadata": {},
   "outputs": [],
   "source": [
    "open('new.txt', 'w').write('champagne supernova!')\n",
    "\n",
    "new = open('new.txt').read()\n",
    "new\n",
    "\n",
    "## 어? 새로운 내용으로 덮어씌워지는구나!\n",
    "## 만약 기존 내용을 유지하고 싶다면?"
   ]
  },
  {
   "attachments": {},
   "cell_type": "markdown",
   "metadata": {},
   "source": [
    "### 2-1.파일을 수정하기"
   ]
  },
  {
   "cell_type": "code",
   "execution_count": null,
   "metadata": {},
   "outputs": [],
   "source": [
    "open('new.txt').read()"
   ]
  },
  {
   "cell_type": "code",
   "execution_count": null,
   "metadata": {},
   "outputs": [],
   "source": [
    "open('new.txt', 'a').write(\"\\nSomeday you'll find me\")\n",
    "## ✅ 두번째 인자로 a를 주면 write를 해도 원본 내용은 안날라가~\n",
    "\n",
    "print(open('new.txt').read())"
   ]
  },
  {
   "attachments": {},
   "cell_type": "markdown",
   "metadata": {},
   "source": [
    "# III.활용"
   ]
  },
  {
   "cell_type": "code",
   "execution_count": null,
   "metadata": {},
   "outputs": [],
   "source": [
    "os.getcwd()     ## 역시 현재경로를 music으로 맞추고..."
   ]
  },
  {
   "cell_type": "code",
   "execution_count": null,
   "metadata": {},
   "outputs": [],
   "source": [
    "import os \n",
    "\n",
    "sents = []\n",
    "for file in os.listdir():\n",
    "    if not file.endswith('.txt'):\n",
    "        continue\n",
    "    raw = open(file).read()\n",
    "    for sent in raw.split('\\n'):\n",
    "        sents.append(sent)\n",
    "        \n",
    "        \n",
    "print(sents)"
   ]
  }
 ],
 "metadata": {
  "kernelspec": {
   "display_name": "Python 3",
   "language": "python",
   "name": "python3"
  },
  "language_info": {
   "codemirror_mode": {
    "name": "ipython",
    "version": 3
   },
   "file_extension": ".py",
   "mimetype": "text/x-python",
   "name": "python",
   "nbconvert_exporter": "python",
   "pygments_lexer": "ipython3",
   "version": "3.11.1 (tags/v3.11.1:a7a450f, Dec  6 2022, 19:58:39) [MSC v.1934 64 bit (AMD64)]"
  },
  "orig_nbformat": 4,
  "vscode": {
   "interpreter": {
    "hash": "7cba0d1a42559d80c1785ea75de96ff2e6fe2ecdb092afa9b1831b12c16563fe"
   }
  }
 },
 "nbformat": 4,
 "nbformat_minor": 2
}
